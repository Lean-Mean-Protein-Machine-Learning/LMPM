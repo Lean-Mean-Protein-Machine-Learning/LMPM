{
 "cells": [
  {
   "cell_type": "markdown",
   "id": "foreign-county",
   "metadata": {},
   "source": [
    "# `lmpm` module demo\n",
    "\n",
    "This notebook exemplifies the usage of the `lmpm` module to predict protein localization."
   ]
  },
  {
   "cell_type": "markdown",
   "id": "strange-imagination",
   "metadata": {},
   "source": [
    "## 1. Installation"
   ]
  },
  {
   "cell_type": "markdown",
   "id": "exclusive-utilization",
   "metadata": {},
   "source": [
    "The module requires `python 3` and depends on `numpy`, `pandas`, `sklearn`, `matplotlib` and `seaborn`. The specific versions of this libraries used for its development are:\n",
    "\n",
    "```\n",
    "  - python=3.8.8\n",
    "  - numpy=1.20.1\n",
    "  - pandas=1.2.3\n",
    "  - matplotlib=3.3.4\n",
    "  - seaborn=0.11.1\n",
    "  - scikit-learn=0.23.2\n",
    "```\n",
    "\n",
    "An easy way to recreate the environment is installing it with conda from the specification file in the [lmpm github repository](https://github.com/Lean-Mean-Protein-Machine-Learning/LMPM) with conda by running:\n",
    "\n",
    "```\n",
    "# install miniconda\n",
    "wget https://repo.anaconda.com/miniconda/Miniconda3-latest-Linux-x86_64.sh\n",
    "bash Miniconda3-latest-Linux-x86_64.sh\n",
    "\n",
    "# download environment specification file\n",
    "wget https://raw.githubusercontent.com/Lean-Mean-Protein-Machine-Learning/LMPM/main/environment.yml\n",
    "\n",
    "# create \"lmpmenv\" environment from this file\n",
    "conda env create -f environment.yml\n",
    "\n",
    "# activate environment\n",
    "conda activate lmpmenv\n",
    "```\n",
    "\n",
    "With an environment that fulfills the requisites, proceed to installation of the module by running:\n",
    "\n",
    "```\n",
    "python3 -m pip install git+https://github.com/Lean-Mean-Protein-Machine-Learning/LMPM\n",
    "```\n",
    "\n",
    "This will install the `lmpm` module in your environment and all functions will be available through imports.\n",
    "\n",
    "*Note:* If you want to reproduce the code of this notebook with that environment, you will also need to run `conda install notebook` to install and use Jupyter Notebooks. We did not include it in the invironment as it is not essential for the module."
   ]
  },
  {
   "cell_type": "markdown",
   "id": "subtle-korea",
   "metadata": {},
   "source": [
    "## 2. Import the module"
   ]
  },
  {
   "cell_type": "markdown",
   "id": "vocational-military",
   "metadata": {},
   "source": [
    "The module has many functions that can be useful for multiple purposes. One option is importing the module and use its functions as relative paths to its location."
   ]
  },
  {
   "cell_type": "code",
   "execution_count": 1,
   "id": "nonprofit-baltimore",
   "metadata": {},
   "outputs": [
    {
     "name": "stderr",
     "output_type": "stream",
     "text": [
      "/home/mexposit/miniconda3/envs/lmpmdev/lib/python3.8/site-packages/sklearn/base.py:310: UserWarning: Trying to unpickle estimator DecisionTreeClassifier from version 0.23.2 when using version 0.24.1. This might lead to breaking code or invalid results. Use at your own risk.\n",
      "  warnings.warn(\n",
      "/home/mexposit/miniconda3/envs/lmpmdev/lib/python3.8/site-packages/sklearn/base.py:310: UserWarning: Trying to unpickle estimator RandomForestClassifier from version 0.23.2 when using version 0.24.1. This might lead to breaking code or invalid results. Use at your own risk.\n",
      "  warnings.warn(\n"
     ]
    }
   ],
   "source": [
    "import lmpm "
   ]
  },
  {
   "cell_type": "markdown",
   "id": "front-disposition",
   "metadata": {},
   "source": [
    "An alternative is importing the 6 main functions of the module individually to use them directly. The function of these will be discussed in detail below."
   ]
  },
  {
   "cell_type": "code",
   "execution_count": 2,
   "id": "found-trinidad",
   "metadata": {},
   "outputs": [],
   "source": [
    "from lmpm import predict_loc_simple\n",
    "from lmpm import predict_location\n",
    "from lmpm import optimize_sequence\n",
    "from lmpm import plot_optimization\n",
    "from lmpm import top_mutations"
   ]
  },
  {
   "cell_type": "markdown",
   "id": "unavailable-arabic",
   "metadata": {},
   "source": [
    "## 3. Predict protein localization"
   ]
  },
  {
   "cell_type": "markdown",
   "id": "recognized-liabilities",
   "metadata": {},
   "source": [
    "Throughout this example we will be using the sequence of the human heat shock protein beta-1 (HSPB-1, UniProt KB id: A0A6Q8PHA6). This protein is known to be localized in the cell nucleus."
   ]
  },
  {
   "cell_type": "code",
   "execution_count": 3,
   "id": "constant-blackjack",
   "metadata": {},
   "outputs": [],
   "source": [
    "seq = 'MTERRVPFSLLRGPSWDPFRDWYPHSRLFDQAFGLPRLPEEWSQWLGGSSWPGYVRPLPPAAIESPAVAAPAYSRALSRQLSSGVSEIRHTADRWRVSLDVNHFAPDELTVKTKDGVVEITARGAAGRAWLHLPVLHAEIHAAPRCGPHPSFLLPVP'"
   ]
  },
  {
   "cell_type": "markdown",
   "id": "dried-belle",
   "metadata": {},
   "source": [
    "Two functions can be used to predict the localization of the protein: `predict_loc_simple` and `predict_location`.\n",
    "\n",
    "The first one, `predict_loc_simple` requires specifying:\n",
    "\n",
    "- Input protein sequence: string with the protein sequence of interest. Can either be in one- or three- letter format (e.g. MTE or MetTrpGlu)\n",
    "- Organism of interest: `human` for *Homo sapiens*, `yeast` for *Saccharomyces cerevisiae*, or `ecoli` for *Escherichia coli*\n",
    "- Localization of interest: `cytoplasm`, `membrane` or `secreted`\n",
    "\n",
    "The function returns the probability that the input sequence is localized in the target location in this specific organism. Here, the model correctly predicts that this protein is localized in the cytoplasm, as the probability for that localization is larger than 0.5."
   ]
  },
  {
   "cell_type": "code",
   "execution_count": 4,
   "id": "diagnostic-cleaning",
   "metadata": {},
   "outputs": [
    {
     "data": {
      "text/plain": [
       "0.72"
      ]
     },
     "execution_count": 4,
     "metadata": {},
     "output_type": "execute_result"
    }
   ],
   "source": [
    "predict_loc_simple(seq, organism = 'human', target_loc = 'cytoplasm')"
   ]
  },
  {
   "cell_type": "markdown",
   "id": "regular-minister",
   "metadata": {},
   "source": [
    "The fourth argument, `include_dg` defaults to `False` but can be set to `True` to computate $\\Delta G$ from the sequence and include it as an extra feature for the model. Including $\\Delta G$ increases the accuracy of the model slightly and does not increase the computation time significantly. In this case, the predicted probability does not change."
   ]
  },
  {
   "cell_type": "code",
   "execution_count": 5,
   "id": "loose-while",
   "metadata": {},
   "outputs": [
    {
     "data": {
      "text/plain": [
       "0.72"
      ]
     },
     "execution_count": 5,
     "metadata": {},
     "output_type": "execute_result"
    }
   ],
   "source": [
    "predict_loc_simple(seq, organism = 'human', target_loc = 'cytoplasm', include_dg=True)"
   ]
  },
  {
   "cell_type": "markdown",
   "id": "flush-detroit",
   "metadata": {},
   "source": [
    "The second one, `predict_location` is more versatile. In addition to the organisms and localization of interest it includes the option `all` than can be used to obtain multiple results at the same time. The results are returned as a class with multiple attributes."
   ]
  },
  {
   "cell_type": "code",
   "execution_count": 6,
   "id": "mechanical-moisture",
   "metadata": {},
   "outputs": [],
   "source": [
    "preds = predict_location(seq, organism = 'human', target_loc = 'all')"
   ]
  },
  {
   "cell_type": "markdown",
   "id": "conventional-moral",
   "metadata": {},
   "source": [
    "- The `.result` attribute has the same function as calling the class itself and returns a `pd.DataFrame` with the predicted probabilities for the query. In this case, since the location was `all` the results return the probabilities for all locations."
   ]
  },
  {
   "cell_type": "code",
   "execution_count": 7,
   "id": "convenient-transsexual",
   "metadata": {},
   "outputs": [
    {
     "data": {
      "text/html": [
       "<div>\n",
       "<style scoped>\n",
       "    .dataframe tbody tr th:only-of-type {\n",
       "        vertical-align: middle;\n",
       "    }\n",
       "\n",
       "    .dataframe tbody tr th {\n",
       "        vertical-align: top;\n",
       "    }\n",
       "\n",
       "    .dataframe thead th {\n",
       "        text-align: right;\n",
       "    }\n",
       "</style>\n",
       "<table border=\"1\" class=\"dataframe\">\n",
       "  <thead>\n",
       "    <tr style=\"text-align: right;\">\n",
       "      <th></th>\n",
       "      <th>human</th>\n",
       "    </tr>\n",
       "  </thead>\n",
       "  <tbody>\n",
       "    <tr>\n",
       "      <th>cytoplasm</th>\n",
       "      <td>0.72</td>\n",
       "    </tr>\n",
       "    <tr>\n",
       "      <th>membrane</th>\n",
       "      <td>0.16</td>\n",
       "    </tr>\n",
       "    <tr>\n",
       "      <th>secreted</th>\n",
       "      <td>0.12</td>\n",
       "    </tr>\n",
       "  </tbody>\n",
       "</table>\n",
       "</div>"
      ],
      "text/plain": [
       "           human\n",
       "cytoplasm   0.72\n",
       "membrane    0.16\n",
       "secreted    0.12"
      ]
     },
     "execution_count": 7,
     "metadata": {},
     "output_type": "execute_result"
    }
   ],
   "source": [
    "preds.result"
   ]
  },
  {
   "cell_type": "code",
   "execution_count": 8,
   "id": "departmental-still",
   "metadata": {},
   "outputs": [
    {
     "data": {
      "text/html": [
       "<div>\n",
       "<style scoped>\n",
       "    .dataframe tbody tr th:only-of-type {\n",
       "        vertical-align: middle;\n",
       "    }\n",
       "\n",
       "    .dataframe tbody tr th {\n",
       "        vertical-align: top;\n",
       "    }\n",
       "\n",
       "    .dataframe thead th {\n",
       "        text-align: right;\n",
       "    }\n",
       "</style>\n",
       "<table border=\"1\" class=\"dataframe\">\n",
       "  <thead>\n",
       "    <tr style=\"text-align: right;\">\n",
       "      <th></th>\n",
       "      <th>human</th>\n",
       "    </tr>\n",
       "  </thead>\n",
       "  <tbody>\n",
       "    <tr>\n",
       "      <th>cytoplasm</th>\n",
       "      <td>0.72</td>\n",
       "    </tr>\n",
       "    <tr>\n",
       "      <th>membrane</th>\n",
       "      <td>0.16</td>\n",
       "    </tr>\n",
       "    <tr>\n",
       "      <th>secreted</th>\n",
       "      <td>0.12</td>\n",
       "    </tr>\n",
       "  </tbody>\n",
       "</table>\n",
       "</div>"
      ],
      "text/plain": [
       "           human\n",
       "cytoplasm   0.72\n",
       "membrane    0.16\n",
       "secreted    0.12"
      ]
     },
     "execution_count": 8,
     "metadata": {},
     "output_type": "execute_result"
    }
   ],
   "source": [
    "# gives the same as .result\n",
    "preds()"
   ]
  },
  {
   "cell_type": "markdown",
   "id": "single-stack",
   "metadata": {},
   "source": [
    "- The `.predicted_loc` attribute returns the most probable localization, which is where the model predicts the protein will be localized. The `predicted_prob` attribute returns the probability the protein is localized at this most favorable localization."
   ]
  },
  {
   "cell_type": "code",
   "execution_count": 9,
   "id": "speaking-glory",
   "metadata": {},
   "outputs": [
    {
     "name": "stdout",
     "output_type": "stream",
     "text": [
      "cytoplasm\n",
      "0.72\n"
     ]
    }
   ],
   "source": [
    "print(preds.predicted_loc)\n",
    "print(preds.predicted_prob)"
   ]
  },
  {
   "cell_type": "markdown",
   "id": "classified-algebra",
   "metadata": {},
   "source": [
    "- The `.query` attribute returns a dictionary with the values used as inputs to the function."
   ]
  },
  {
   "cell_type": "code",
   "execution_count": 10,
   "id": "expanded-sleeping",
   "metadata": {},
   "outputs": [
    {
     "data": {
      "text/plain": [
       "{'sequence': 'MTERRVPFSLLRGPSWDPFRDWYPHSRLFDQAFGLPRLPEEWSQWLGGSSWPGYVRPLPPAAIESPAVAAPAYSRALSRQLSSGVSEIRHTADRWRVSLDVNHFAPDELTVKTKDGVVEITARGAAGRAWLHLPVLHAEIHAAPRCGPHPSFLLPVP',\n",
       " 'organism': 'human',\n",
       " 'location': 'all',\n",
       " 'include_dg': False}"
      ]
     },
     "execution_count": 10,
     "metadata": {},
     "output_type": "execute_result"
    }
   ],
   "source": [
    "preds.query"
   ]
  },
  {
   "cell_type": "markdown",
   "id": "better-discrimination",
   "metadata": {},
   "source": [
    "The results are similar when using `all` for localization, but the three models are used internally to predict the localization probabilities for each organism. Note that the displayed probabilities do not sum to one because each probability is computed with respect to the other localization probabilities **within** a organism, not across them. In this case, the results show that this protein would be localized in the cytoplasm for all organisms because all probabilities are higher than 0.5."
   ]
  },
  {
   "cell_type": "code",
   "execution_count": 11,
   "id": "raised-closing",
   "metadata": {},
   "outputs": [
    {
     "data": {
      "text/plain": [
       "human    0.72\n",
       "yeast    0.93\n",
       "ecoli    0.82\n",
       "Name: cytoplasm, dtype: float64"
      ]
     },
     "execution_count": 11,
     "metadata": {},
     "output_type": "execute_result"
    }
   ],
   "source": [
    "preds = predict_location(seq, organism = 'all', target_loc = 'cytoplasm')\n",
    "preds.result"
   ]
  },
  {
   "cell_type": "markdown",
   "id": "requested-score",
   "metadata": {},
   "source": [
    "Combining `all` for both organism and location, the function returns all results."
   ]
  },
  {
   "cell_type": "code",
   "execution_count": 12,
   "id": "peaceful-dublin",
   "metadata": {},
   "outputs": [
    {
     "data": {
      "text/html": [
       "<div>\n",
       "<style scoped>\n",
       "    .dataframe tbody tr th:only-of-type {\n",
       "        vertical-align: middle;\n",
       "    }\n",
       "\n",
       "    .dataframe tbody tr th {\n",
       "        vertical-align: top;\n",
       "    }\n",
       "\n",
       "    .dataframe thead th {\n",
       "        text-align: right;\n",
       "    }\n",
       "</style>\n",
       "<table border=\"1\" class=\"dataframe\">\n",
       "  <thead>\n",
       "    <tr style=\"text-align: right;\">\n",
       "      <th></th>\n",
       "      <th>human</th>\n",
       "      <th>yeast</th>\n",
       "      <th>ecoli</th>\n",
       "    </tr>\n",
       "  </thead>\n",
       "  <tbody>\n",
       "    <tr>\n",
       "      <th>cytoplasm</th>\n",
       "      <td>0.72</td>\n",
       "      <td>0.93</td>\n",
       "      <td>0.82</td>\n",
       "    </tr>\n",
       "    <tr>\n",
       "      <th>membrane</th>\n",
       "      <td>0.16</td>\n",
       "      <td>0.06</td>\n",
       "      <td>0.16</td>\n",
       "    </tr>\n",
       "    <tr>\n",
       "      <th>secreted</th>\n",
       "      <td>0.12</td>\n",
       "      <td>0.01</td>\n",
       "      <td>0.02</td>\n",
       "    </tr>\n",
       "  </tbody>\n",
       "</table>\n",
       "</div>"
      ],
      "text/plain": [
       "           human  yeast  ecoli\n",
       "cytoplasm   0.72   0.93   0.82\n",
       "membrane    0.16   0.06   0.16\n",
       "secreted    0.12   0.01   0.02"
      ]
     },
     "execution_count": 12,
     "metadata": {},
     "output_type": "execute_result"
    }
   ],
   "source": [
    "preds = predict_location(seq, organism = 'all', target_loc = 'all')\n",
    "preds.result"
   ]
  },
  {
   "cell_type": "markdown",
   "id": "eastern-sunset",
   "metadata": {},
   "source": [
    "Note that when `all` is used for organisms, the `.predicted_loc` and `.predicted_prob` attributes indicating the most probable localization are calculated for *Homo sapiens*, ignoring the predictions for the other organisms."
   ]
  },
  {
   "cell_type": "code",
   "execution_count": 13,
   "id": "metric-adelaide",
   "metadata": {},
   "outputs": [
    {
     "name": "stdout",
     "output_type": "stream",
     "text": [
      "cytoplasm\n",
      "0.72\n"
     ]
    }
   ],
   "source": [
    "print(preds.predicted_loc)\n",
    "print(preds.predicted_prob)"
   ]
  },
  {
   "cell_type": "markdown",
   "id": "chronic-wayne",
   "metadata": {},
   "source": [
    "The function can also be used as a substitute to `predict_loc_simple` by specifying only one species and localization. It can also be used including, or not, the $\\Delta G$ calculation as shown below."
   ]
  },
  {
   "cell_type": "code",
   "execution_count": 14,
   "id": "german-bread",
   "metadata": {},
   "outputs": [
    {
     "data": {
      "text/plain": [
       "human    0.72\n",
       "Name: cytoplasm, dtype: float64"
      ]
     },
     "execution_count": 14,
     "metadata": {},
     "output_type": "execute_result"
    }
   ],
   "source": [
    "predict_location(seq, organism = 'human', target_loc = 'cytoplasm', include_dg=True).result"
   ]
  },
  {
   "cell_type": "markdown",
   "id": "eleven-tulsa",
   "metadata": {},
   "source": [
    "The function `predict_location` includes an additional parameter, `pred_all` that is set to `False` by default but can be set to `True` to compute all probabilities in addition to the ones defined explicity as shown above. Here, for instance, we define organism and location explicitly but include `pred_all=True` so that we can access all the probabilities with the `.all_predictions` attribute (which is not populated if `pred_all=False`. Note that the rest of attributes display only the results according to the specified organism and location, just as shown above."
   ]
  },
  {
   "cell_type": "code",
   "execution_count": 15,
   "id": "piano-twelve",
   "metadata": {},
   "outputs": [
    {
     "data": {
      "text/plain": [
       "human    0.72\n",
       "yeast    0.91\n",
       "ecoli    0.87\n",
       "Name: cytoplasm, dtype: float64"
      ]
     },
     "execution_count": 15,
     "metadata": {},
     "output_type": "execute_result"
    }
   ],
   "source": [
    "preds = predict_location(seq, organism = 'all', target_loc = 'cytoplasm', include_dg=True, pred_all=True)\n",
    "preds.result"
   ]
  },
  {
   "cell_type": "code",
   "execution_count": 16,
   "id": "private-warren",
   "metadata": {},
   "outputs": [
    {
     "name": "stdout",
     "output_type": "stream",
     "text": [
      "cytoplasm\n",
      "0.72\n"
     ]
    }
   ],
   "source": [
    "print(preds.predicted_loc)\n",
    "print(preds.predicted_prob)"
   ]
  },
  {
   "cell_type": "code",
   "execution_count": 17,
   "id": "upper-narrative",
   "metadata": {},
   "outputs": [
    {
     "data": {
      "text/plain": [
       "{'sequence': 'MTERRVPFSLLRGPSWDPFRDWYPHSRLFDQAFGLPRLPEEWSQWLGGSSWPGYVRPLPPAAIESPAVAAPAYSRALSRQLSSGVSEIRHTADRWRVSLDVNHFAPDELTVKTKDGVVEITARGAAGRAWLHLPVLHAEIHAAPRCGPHPSFLLPVP',\n",
       " 'organism': 'all',\n",
       " 'location': 'cytoplasm',\n",
       " 'include_dg': True}"
      ]
     },
     "execution_count": 17,
     "metadata": {},
     "output_type": "execute_result"
    }
   ],
   "source": [
    "preds.query"
   ]
  },
  {
   "cell_type": "code",
   "execution_count": 18,
   "id": "political-thumb",
   "metadata": {},
   "outputs": [
    {
     "data": {
      "text/html": [
       "<div>\n",
       "<style scoped>\n",
       "    .dataframe tbody tr th:only-of-type {\n",
       "        vertical-align: middle;\n",
       "    }\n",
       "\n",
       "    .dataframe tbody tr th {\n",
       "        vertical-align: top;\n",
       "    }\n",
       "\n",
       "    .dataframe thead th {\n",
       "        text-align: right;\n",
       "    }\n",
       "</style>\n",
       "<table border=\"1\" class=\"dataframe\">\n",
       "  <thead>\n",
       "    <tr style=\"text-align: right;\">\n",
       "      <th></th>\n",
       "      <th>human</th>\n",
       "      <th>yeast</th>\n",
       "      <th>ecoli</th>\n",
       "    </tr>\n",
       "  </thead>\n",
       "  <tbody>\n",
       "    <tr>\n",
       "      <th>cytoplasm</th>\n",
       "      <td>0.72</td>\n",
       "      <td>0.91</td>\n",
       "      <td>0.87</td>\n",
       "    </tr>\n",
       "    <tr>\n",
       "      <th>membrane</th>\n",
       "      <td>0.16</td>\n",
       "      <td>0.08</td>\n",
       "      <td>0.11</td>\n",
       "    </tr>\n",
       "    <tr>\n",
       "      <th>secreted</th>\n",
       "      <td>0.12</td>\n",
       "      <td>0.01</td>\n",
       "      <td>0.02</td>\n",
       "    </tr>\n",
       "  </tbody>\n",
       "</table>\n",
       "</div>"
      ],
      "text/plain": [
       "           human  yeast  ecoli\n",
       "cytoplasm   0.72   0.91   0.87\n",
       "membrane    0.16   0.08   0.11\n",
       "secreted    0.12   0.01   0.02"
      ]
     },
     "execution_count": 18,
     "metadata": {},
     "output_type": "execute_result"
    }
   ],
   "source": [
    "preds.all_predictions"
   ]
  },
  {
   "cell_type": "markdown",
   "id": "popular-negotiation",
   "metadata": {},
   "source": [
    "## 4. Mutate the sequence to improve localization"
   ]
  },
  {
   "cell_type": "markdown",
   "id": "prescription-whole",
   "metadata": {},
   "source": [
    "The `lmpm` module has also implementations for functions that investigate the effect of point mutations on the localization of a protein.\n",
    "\n",
    "Three functions act in coordination for this task: `optimize_sequence`, `plot_optimization` and `top_mutations`.\n",
    "\n",
    "The first one, `optimize_sequence`, takes as arguments an input sequence, organism, location and whether to include $\\Delta G$ in the model or not, just as before. However, in addition it has the `positions` argument to specify a list of positions to mutate. The format of this list should be a string with integers or ranges defined strictly with `-` indicating the residue positions to mutate. Note that the residue position is defined starting at 1 for consistency with the PDB format. \n",
    "\n",
    "For instance, to mutate the first 3 residues of the target protein, the 5th residue, and the residues from 9-12, the position would be: `'1-3,5,9-12'`. \n",
    "\n",
    "If `position` is not defined, it defaults to mutate all residues in the protein. However, mutating more than 10 residues in the protein is currently not supported and raises an error because it would take too much time.\n",
    "\n",
    "This function returns a tuple where the first element is a `pd.DataFrame` containing the predicted scores for the sequence at the target location and organism across all different mutations (row) for each position (column). The second element in the tuple corresponds to the probability of the initial sequence without mutations. In this example, the initial probability of being in the `cytoplasm` is of 0.72, and as it can be seen on the `pd.DataFrame` this could be improved to 0.77 by mutating residue at position 4 (which is a R) for S."
   ]
  },
  {
   "cell_type": "code",
   "execution_count": 19,
   "id": "legendary-slave",
   "metadata": {},
   "outputs": [],
   "source": [
    "mutated_scores, initial_score = optimize_sequence(seq, 'human', 'cytoplasm', include_dg=False, positions='4,9')"
   ]
  },
  {
   "cell_type": "code",
   "execution_count": 20,
   "id": "opposed-health",
   "metadata": {},
   "outputs": [
    {
     "data": {
      "text/plain": [
       "0.72"
      ]
     },
     "execution_count": 20,
     "metadata": {},
     "output_type": "execute_result"
    }
   ],
   "source": [
    "initial_score"
   ]
  },
  {
   "cell_type": "code",
   "execution_count": 21,
   "id": "sonic-optimization",
   "metadata": {},
   "outputs": [
    {
     "data": {
      "text/html": [
       "<div>\n",
       "<style scoped>\n",
       "    .dataframe tbody tr th:only-of-type {\n",
       "        vertical-align: middle;\n",
       "    }\n",
       "\n",
       "    .dataframe tbody tr th {\n",
       "        vertical-align: top;\n",
       "    }\n",
       "\n",
       "    .dataframe thead th {\n",
       "        text-align: right;\n",
       "    }\n",
       "</style>\n",
       "<table border=\"1\" class=\"dataframe\">\n",
       "  <thead>\n",
       "    <tr style=\"text-align: right;\">\n",
       "      <th></th>\n",
       "      <th>R_4</th>\n",
       "      <th>S_9</th>\n",
       "    </tr>\n",
       "  </thead>\n",
       "  <tbody>\n",
       "    <tr>\n",
       "      <th>G</th>\n",
       "      <td>0.71</td>\n",
       "      <td>0.70</td>\n",
       "    </tr>\n",
       "    <tr>\n",
       "      <th>A</th>\n",
       "      <td>0.75</td>\n",
       "      <td>0.71</td>\n",
       "    </tr>\n",
       "    <tr>\n",
       "      <th>L</th>\n",
       "      <td>0.75</td>\n",
       "      <td>0.70</td>\n",
       "    </tr>\n",
       "    <tr>\n",
       "      <th>M</th>\n",
       "      <td>0.75</td>\n",
       "      <td>0.73</td>\n",
       "    </tr>\n",
       "    <tr>\n",
       "      <th>F</th>\n",
       "      <td>0.73</td>\n",
       "      <td>0.75</td>\n",
       "    </tr>\n",
       "    <tr>\n",
       "      <th>W</th>\n",
       "      <td>0.72</td>\n",
       "      <td>0.69</td>\n",
       "    </tr>\n",
       "    <tr>\n",
       "      <th>K</th>\n",
       "      <td>0.74</td>\n",
       "      <td>0.70</td>\n",
       "    </tr>\n",
       "    <tr>\n",
       "      <th>Q</th>\n",
       "      <td>0.75</td>\n",
       "      <td>0.71</td>\n",
       "    </tr>\n",
       "    <tr>\n",
       "      <th>E</th>\n",
       "      <td>0.76</td>\n",
       "      <td>0.72</td>\n",
       "    </tr>\n",
       "    <tr>\n",
       "      <th>S</th>\n",
       "      <td>0.77</td>\n",
       "      <td>0.72</td>\n",
       "    </tr>\n",
       "    <tr>\n",
       "      <th>P</th>\n",
       "      <td>0.73</td>\n",
       "      <td>0.72</td>\n",
       "    </tr>\n",
       "    <tr>\n",
       "      <th>V</th>\n",
       "      <td>0.74</td>\n",
       "      <td>0.75</td>\n",
       "    </tr>\n",
       "    <tr>\n",
       "      <th>I</th>\n",
       "      <td>0.75</td>\n",
       "      <td>0.75</td>\n",
       "    </tr>\n",
       "    <tr>\n",
       "      <th>C</th>\n",
       "      <td>0.74</td>\n",
       "      <td>0.72</td>\n",
       "    </tr>\n",
       "    <tr>\n",
       "      <th>Y</th>\n",
       "      <td>0.73</td>\n",
       "      <td>0.73</td>\n",
       "    </tr>\n",
       "    <tr>\n",
       "      <th>H</th>\n",
       "      <td>0.71</td>\n",
       "      <td>0.73</td>\n",
       "    </tr>\n",
       "    <tr>\n",
       "      <th>R</th>\n",
       "      <td>0.72</td>\n",
       "      <td>0.71</td>\n",
       "    </tr>\n",
       "    <tr>\n",
       "      <th>N</th>\n",
       "      <td>0.72</td>\n",
       "      <td>0.72</td>\n",
       "    </tr>\n",
       "    <tr>\n",
       "      <th>D</th>\n",
       "      <td>0.72</td>\n",
       "      <td>0.70</td>\n",
       "    </tr>\n",
       "    <tr>\n",
       "      <th>T</th>\n",
       "      <td>0.71</td>\n",
       "      <td>0.73</td>\n",
       "    </tr>\n",
       "  </tbody>\n",
       "</table>\n",
       "</div>"
      ],
      "text/plain": [
       "    R_4   S_9\n",
       "G  0.71  0.70\n",
       "A  0.75  0.71\n",
       "L  0.75  0.70\n",
       "M  0.75  0.73\n",
       "F  0.73  0.75\n",
       "W  0.72  0.69\n",
       "K  0.74  0.70\n",
       "Q  0.75  0.71\n",
       "E  0.76  0.72\n",
       "S  0.77  0.72\n",
       "P  0.73  0.72\n",
       "V  0.74  0.75\n",
       "I  0.75  0.75\n",
       "C  0.74  0.72\n",
       "Y  0.73  0.73\n",
       "H  0.71  0.73\n",
       "R  0.72  0.71\n",
       "N  0.72  0.72\n",
       "D  0.72  0.70\n",
       "T  0.71  0.73"
      ]
     },
     "execution_count": 21,
     "metadata": {},
     "output_type": "execute_result"
    }
   ],
   "source": [
    "mutated_scores"
   ]
  },
  {
   "cell_type": "markdown",
   "id": "proper-celebration",
   "metadata": {},
   "source": [
    "The outputs of this function can be represented with the `plot_optimization` function. This function takes as arguments the results returned by the `optimized_sequence` function. In addition, it has the `plot_inplace` and `dpi` arguments to control if the plot should be drawn (default behavior, works well with jupyter notebooks) or returned from the function (useful for the web app and other applications) and the resolution in dots per inch of the figure (defaults to 100, but can be changed to 300 for better results).\n",
    "\n",
    "The resulting plot shows the effect of each mutation (vertical axis) on each position (horizontal axis) in the change in probability for the target class (in this case, cytoplasm, as defined by the function above). The mutations with more intense red are those that increase more the probability (in this case up to 0.04), and those with intense blue are those that decrease the probability."
   ]
  },
  {
   "cell_type": "code",
   "execution_count": 22,
   "id": "assigned-growth",
   "metadata": {},
   "outputs": [
    {
     "name": "stderr",
     "output_type": "stream",
     "text": [
      "/home/mexposit/miniconda3/envs/lmpmdev/lib/python3.8/site-packages/lmpm/improve_sec.py:155: UserWarning: FixedFormatter should only be used together with FixedLocator\n",
      "  ax.set_xticklabels(mutated_scores.columns, rotation=90)\n"
     ]
    },
    {
     "data": {
      "image/png": "[encoded data removed]",
      "text/plain": [
       "<Figure size 800x600 with 2 Axes>"
      ]
     },
     "metadata": {
      "needs_background": "light"
     },
     "output_type": "display_data"
    }
   ],
   "source": [
    "plot_optimization(mutated_scores, initial_score, plot_inplace=True, dpi=100)"
   ]
  },
  {
   "cell_type": "markdown",
   "id": "impressive-field",
   "metadata": {},
   "source": [
    "Finally, the function `top_mutations` can be used to show the mutations that could improve the localization of the protein at the target location. It takes as arguments the results from `optimize_sequence` and the argument `top_results` expects an integer with the number of `n` best mutations to show to increase the localization. If `top_results` is larger than the number of mutations that increase the probability then only those mutations increasing the probability are returned.\n",
    "\n",
    "In this example, the top 10 mutations that could improve the probability are returned. The top mutation (R4S) increases the probability of being of the cytoplasm class by 0.05, up to 0.77 from the initial 0.72."
   ]
  },
  {
   "cell_type": "code",
   "execution_count": 23,
   "id": "portuguese-oasis",
   "metadata": {},
   "outputs": [
    {
     "data": {
      "text/html": [
       "<div>\n",
       "<style scoped>\n",
       "    .dataframe tbody tr th:only-of-type {\n",
       "        vertical-align: middle;\n",
       "    }\n",
       "\n",
       "    .dataframe tbody tr th {\n",
       "        vertical-align: top;\n",
       "    }\n",
       "\n",
       "    .dataframe thead th {\n",
       "        text-align: right;\n",
       "    }\n",
       "</style>\n",
       "<table border=\"1\" class=\"dataframe\">\n",
       "  <thead>\n",
       "    <tr style=\"text-align: right;\">\n",
       "      <th></th>\n",
       "      <th>Position</th>\n",
       "      <th>Mutation</th>\n",
       "      <th>Prob_increase</th>\n",
       "      <th>Target_probability</th>\n",
       "    </tr>\n",
       "  </thead>\n",
       "  <tbody>\n",
       "    <tr>\n",
       "      <th>0</th>\n",
       "      <td>R_4</td>\n",
       "      <td>S</td>\n",
       "      <td>0.05</td>\n",
       "      <td>0.77</td>\n",
       "    </tr>\n",
       "    <tr>\n",
       "      <th>1</th>\n",
       "      <td>R_4</td>\n",
       "      <td>E</td>\n",
       "      <td>0.04</td>\n",
       "      <td>0.76</td>\n",
       "    </tr>\n",
       "    <tr>\n",
       "      <th>2</th>\n",
       "      <td>R_4</td>\n",
       "      <td>A</td>\n",
       "      <td>0.03</td>\n",
       "      <td>0.75</td>\n",
       "    </tr>\n",
       "    <tr>\n",
       "      <th>3</th>\n",
       "      <td>R_4</td>\n",
       "      <td>L</td>\n",
       "      <td>0.03</td>\n",
       "      <td>0.75</td>\n",
       "    </tr>\n",
       "    <tr>\n",
       "      <th>4</th>\n",
       "      <td>R_4</td>\n",
       "      <td>M</td>\n",
       "      <td>0.03</td>\n",
       "      <td>0.75</td>\n",
       "    </tr>\n",
       "    <tr>\n",
       "      <th>5</th>\n",
       "      <td>R_4</td>\n",
       "      <td>Q</td>\n",
       "      <td>0.03</td>\n",
       "      <td>0.75</td>\n",
       "    </tr>\n",
       "    <tr>\n",
       "      <th>6</th>\n",
       "      <td>R_4</td>\n",
       "      <td>I</td>\n",
       "      <td>0.03</td>\n",
       "      <td>0.75</td>\n",
       "    </tr>\n",
       "    <tr>\n",
       "      <th>7</th>\n",
       "      <td>S_9</td>\n",
       "      <td>F</td>\n",
       "      <td>0.03</td>\n",
       "      <td>0.75</td>\n",
       "    </tr>\n",
       "    <tr>\n",
       "      <th>8</th>\n",
       "      <td>S_9</td>\n",
       "      <td>V</td>\n",
       "      <td>0.03</td>\n",
       "      <td>0.75</td>\n",
       "    </tr>\n",
       "    <tr>\n",
       "      <th>9</th>\n",
       "      <td>S_9</td>\n",
       "      <td>I</td>\n",
       "      <td>0.03</td>\n",
       "      <td>0.75</td>\n",
       "    </tr>\n",
       "  </tbody>\n",
       "</table>\n",
       "</div>"
      ],
      "text/plain": [
       "  Position Mutation  Prob_increase  Target_probability\n",
       "0      R_4        S           0.05                0.77\n",
       "1      R_4        E           0.04                0.76\n",
       "2      R_4        A           0.03                0.75\n",
       "3      R_4        L           0.03                0.75\n",
       "4      R_4        M           0.03                0.75\n",
       "5      R_4        Q           0.03                0.75\n",
       "6      R_4        I           0.03                0.75\n",
       "7      S_9        F           0.03                0.75\n",
       "8      S_9        V           0.03                0.75\n",
       "9      S_9        I           0.03                0.75"
      ]
     },
     "execution_count": 23,
     "metadata": {},
     "output_type": "execute_result"
    }
   ],
   "source": [
    "top_mutations(mutated_scores, initial_score, top_results=10)"
   ]
  },
  {
   "cell_type": "markdown",
   "id": "informative-klein",
   "metadata": {},
   "source": [
    "## 5. Get unirep representations"
   ]
  },
  {
   "cell_type": "markdown",
   "id": "guided-broad",
   "metadata": {},
   "source": [
    "Additionally, the module contains many functions that are useful for the main functions. However, this functions may also be useful in other cases. For instance, the functions inside `check_inputs.py` can be useful to convert amino acid sequence inputs to a unified single-letter code and check for incorrect symbols. This functions can be accessed specifying the file name that contains them. For instance:"
   ]
  },
  {
   "cell_type": "code",
   "execution_count": 24,
   "id": "loose-complement",
   "metadata": {},
   "outputs": [
    {
     "data": {
      "text/plain": [
       "'RPLWRPMLWLPR'"
      ]
     },
     "execution_count": 24,
     "metadata": {},
     "output_type": "execute_result"
    }
   ],
   "source": [
    "lmpm.check_inputs.check_input('ArgProLeuTrpArgProMetLeuTrpLeuProArg')"
   ]
  },
  {
   "cell_type": "code",
   "execution_count": 25,
   "id": "systematic-basketball",
   "metadata": {},
   "outputs": [
    {
     "data": {
      "text/plain": [
       "'RPLWRPMLWLPR'"
      ]
     },
     "execution_count": 25,
     "metadata": {},
     "output_type": "execute_result"
    }
   ],
   "source": [
    "lmpm.check_inputs.check_input('rplwrpmlwlpr')"
   ]
  },
  {
   "cell_type": "markdown",
   "id": "white-institution",
   "metadata": {},
   "source": [
    "Similarly, the functions in the `unirep` submodule could be helpful to train other machine learning models based on protein sequences. The `get_UniReps` function in that submodule converts a given protein sequence to 1900 features."
   ]
  },
  {
   "cell_type": "code",
   "execution_count": 26,
   "id": "behavioral-peter",
   "metadata": {},
   "outputs": [
    {
     "data": {
      "text/plain": [
       "array([[ 0.047403  ,  0.00459768, -0.0337927 , ...,  0.0806197 ,\n",
       "         0.12195722, -0.00391885]])"
      ]
     },
     "execution_count": 26,
     "metadata": {},
     "output_type": "execute_result"
    }
   ],
   "source": [
    "unirep_rep = lmpm.unirep.get_UniReps('RPLWRPMLWLPR')\n",
    "unirep_rep"
   ]
  },
  {
   "cell_type": "code",
   "execution_count": 27,
   "id": "gothic-boards",
   "metadata": {},
   "outputs": [
    {
     "data": {
      "text/plain": [
       "(1, 1900)"
      ]
     },
     "execution_count": 27,
     "metadata": {},
     "output_type": "execute_result"
    }
   ],
   "source": [
    "unirep_rep.shape"
   ]
  }
 ],
 "metadata": {
  "kernelspec": {
   "display_name": "Python 3",
   "language": "python",
   "name": "python3"
  },
  "language_info": {
   "codemirror_mode": {
    "name": "ipython",
    "version": 3
   },
   "file_extension": ".py",
   "mimetype": "text/x-python",
   "name": "python",
   "nbconvert_exporter": "python",
   "pygments_lexer": "ipython3",
   "version": "3.8.8"
  }
 },
 "nbformat": 4,
 "nbformat_minor": 5
}
