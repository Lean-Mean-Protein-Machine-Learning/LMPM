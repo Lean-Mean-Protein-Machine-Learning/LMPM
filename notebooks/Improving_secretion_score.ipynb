{
 "cells": [
  {
   "cell_type": "markdown",
   "id": "removable-issue",
   "metadata": {},
   "source": [
    "## Improving the secretion score of a protein"
   ]
  },
  {
   "cell_type": "code",
   "execution_count": 9,
   "id": "exciting-location",
   "metadata": {},
   "outputs": [],
   "source": [
    "import os, sys"
   ]
  },
  {
   "cell_type": "code",
   "execution_count": 10,
   "id": "broadband-junction",
   "metadata": {},
   "outputs": [],
   "source": [
    "import lmpm"
   ]
  },
  {
   "cell_type": "code",
   "execution_count": null,
   "id": "driven-upper",
   "metadata": {},
   "outputs": [],
   "source": []
  },
  {
   "cell_type": "code",
   "execution_count": null,
   "id": "cutting-frederick",
   "metadata": {},
   "outputs": [],
   "source": []
  },
  {
   "cell_type": "code",
   "execution_count": null,
   "id": "infrared-agreement",
   "metadata": {},
   "outputs": [],
   "source": []
  },
  {
   "cell_type": "code",
   "execution_count": 20,
   "id": "right-discipline",
   "metadata": {},
   "outputs": [],
   "source": [
    "import matplotlib.pyplot as plt\n",
    "import numpy as np\n",
    "import pandas as pd\n",
    "import seaborn as sns\n",
    "\n",
    "#to remove\n",
    "import pickle\n",
    "import os\n",
    "current_wd = '/home/mexposit/LMPM/lmpm'\n",
    "from lmpm.unirep import get_UniReps\n",
    "\n",
    "\n",
    "from lmpm import secretion_score\n",
    "\n",
    "\n",
    "# in the module, use:\n",
    "# from .predict import secretion_score"
   ]
  },
  {
   "cell_type": "code",
   "execution_count": 12,
   "id": "exotic-writer",
   "metadata": {},
   "outputs": [],
   "source": [
    "amino_acids = ['G', 'A', 'L', 'M', 'F',\n",
    "               'W', 'K', 'Q', 'E', 'S',\n",
    "               'P', 'V', 'I', 'C', 'Y',\n",
    "               'H', 'R', 'N', 'D', 'T']"
   ]
  },
  {
   "cell_type": "code",
   "execution_count": 13,
   "id": "anticipated-warrant",
   "metadata": {},
   "outputs": [],
   "source": [
    "seq = 'GALRNDTGALMFWK'\n",
    "org = 'ecoli'\n",
    "target = 'membrane'"
   ]
  },
  {
   "cell_type": "markdown",
   "id": "heated-organizer",
   "metadata": {},
   "source": [
    "1. get the predicted class and probability at which the sequence belongs to -> Do I really need to do it if we already did that?\n",
    "2. define a target class you want to optimize for\n",
    "3. take in a list of positions to mutate if desired"
   ]
  },
  {
   "cell_type": "code",
   "execution_count": 14,
   "id": "extended-thousand",
   "metadata": {},
   "outputs": [
    {
     "data": {
      "text/plain": [
       "'GALANDTGALMFWK'"
      ]
     },
     "execution_count": 14,
     "metadata": {},
     "output_type": "execute_result"
    }
   ],
   "source": [
    "seq[:3]+str('A')+seq[3+1:]"
   ]
  },
  {
   "cell_type": "code",
   "execution_count": 15,
   "id": "bulgarian-people",
   "metadata": {},
   "outputs": [],
   "source": [
    "positions = ['1-3','4','7-9']"
   ]
  },
  {
   "cell_type": "code",
   "execution_count": 16,
   "id": "reserved-gilbert",
   "metadata": {},
   "outputs": [],
   "source": [
    "def get_residue_positions(positions):\n",
    "    \"\"\"Converts a list of integers or range of residues to individual residue numbers.\n",
    "    \n",
    "    Args:\n",
    "        positions: list of protein residues as integers or ranges.\n",
    "            Example: [1,3-5,8]\n",
    "            \n",
    "    Returns:\n",
    "        res_posit: list of individual residues.\n",
    "            Example: [1,3,4,5,8]\n",
    "    \"\"\"\n",
    "    \n",
    "    # initialize list\n",
    "    res_posit = np.array([])\n",
    "    \n",
    "    for item in positions:\n",
    "        # split if contains a \"-\"\n",
    "        item = np.array(item.split('-'), dtype='int')\n",
    "        # if it contains a \"-\" the length will be 2\n",
    "        if len(item) == 2:\n",
    "            # create a range of integers from lower to higher value\n",
    "            res_posit = np.append(res_posit, list(range(item[0], item[1]+1)))\n",
    "        elif len(item) == 1:\n",
    "            res_posit = np.append(res_posit, item)\n",
    "        else:\n",
    "            raise ValueError('The position should be a list of integers or ranges defined as: \"integer-integer\"')\n",
    "    \n",
    "    res_posit = np.array(np.unique(np.sort(res_posit)), dtype='int')\n",
    "    \n",
    "    return res_posit"
   ]
  },
  {
   "cell_type": "code",
   "execution_count": null,
   "id": "seasonal-isaac",
   "metadata": {},
   "outputs": [],
   "source": []
  },
  {
   "cell_type": "code",
   "execution_count": null,
   "id": "veterinary-edmonton",
   "metadata": {},
   "outputs": [],
   "source": []
  },
  {
   "cell_type": "code",
   "execution_count": null,
   "id": "existing-consortium",
   "metadata": {},
   "outputs": [],
   "source": []
  },
  {
   "cell_type": "code",
   "execution_count": 17,
   "id": "attended-sentence",
   "metadata": {},
   "outputs": [],
   "source": [
    "# wrapper function\n",
    "def optimize_sequence(sequence, organism, target_class, include_dg=False, positions=None):\n",
    "    \"\"\"\n",
    "    \n",
    "    \"\"\"\n",
    "    # First, find the initial class and initial secretion score for that class\n",
    "    initial_class, initial_score = secretion_score(sequence, organism, target_class, include_dg)\n",
    "    # Also find the probability of being from the target_class\n",
    "#     print('The initial sequence is:', sequence)\n",
    "#     print('The initial localization clas is:', initial_class)\n",
    "#     print('The initial probability of being in the secreted class is:', \n",
    "#         initial_score)\n",
    "    \n",
    "    \n",
    "    # if no position was specified mutate all\n",
    "    if positions == None:\n",
    "        res_poses = np.array(list(range(0,len(sequence))))\n",
    "    else:\n",
    "        # create test to check if position is a list\n",
    "        res_poses = get_residue_positions(positions)\n",
    "        # inform user that positions are 1 based so that they can usually work on that from a pdb file\n",
    "        # convert positions to 0 based positions\n",
    "        res_poses = res_poses - 1\n",
    "        \n",
    "        # check if largest position is within the protein length\n",
    "        if np.max(res_poses)+1 > len(sequence):\n",
    "            raise ValueError('You passed residue position '+str(np.max(res_poses)+1)+', which is larger than the protein length of '+str(len(sequence))+' residues.')\n",
    "        else:\n",
    "            pass\n",
    "\n",
    "    mutated_scores = pd.DataFrame()\n",
    "    \n",
    "    for resid in res_poses:\n",
    "#         print(\"running position\", resid, \"of\", str(np.max(res_poses)))\n",
    "        \n",
    "        mut_score_pos = []\n",
    "        \n",
    "        for mutation in amino_acids:\n",
    "            mutated_seq = sequence[:resid] + str(mutation) + sequence[resid+1:]\n",
    "#             pred_score = 3\n",
    "            pred_class, pred_score = secretion_score(mutated_seq, organism, target_class, include_dg)\n",
    "            mut_score_pos.append(pred_score)\n",
    "        \n",
    "        mut_score_pos = pd.Series(mut_score_pos, index = amino_acids)\n",
    "        \n",
    "        original_name = str(sequence[resid]) + '_' + str(resid)\n",
    "        \n",
    "        mutated_scores[original_name] = mut_score_pos\n",
    "\n",
    "    \n",
    "    \n",
    "    return mutated_scores"
   ]
  },
  {
   "cell_type": "code",
   "execution_count": null,
   "id": "voluntary-remove",
   "metadata": {},
   "outputs": [],
   "source": []
  },
  {
   "cell_type": "code",
   "execution_count": 21,
   "id": "silent-sampling",
   "metadata": {},
   "outputs": [],
   "source": [
    "dats = optimize_sequence(seq, org, target, positions=['1','3'])"
   ]
  },
  {
   "cell_type": "code",
   "execution_count": null,
   "id": "virgin-match",
   "metadata": {},
   "outputs": [],
   "source": []
  },
  {
   "cell_type": "code",
   "execution_count": 28,
   "id": "israeli-norway",
   "metadata": {},
   "outputs": [
    {
     "name": "stdout",
     "output_type": "stream",
     "text": [
      "The initial localization clas is: cytoplasm\n",
      "The initial probability of being in the secreted class is: 0.00020046830765140626\n"
     ]
    }
   ],
   "source": [
    "initial_class, initial_score = secretion_score(seq, org, target)\n",
    "#     print('The initial sequence is:', sequence)\n",
    "print('The initial localization clas is:', initial_class)\n",
    "print('The initial probability of being in the secreted class is:', \n",
    "        initial_score)"
   ]
  },
  {
   "cell_type": "code",
   "execution_count": 30,
   "id": "charitable-sheffield",
   "metadata": {},
   "outputs": [
    {
     "data": {
      "text/html": [
       "<div>\n",
       "<style scoped>\n",
       "    .dataframe tbody tr th:only-of-type {\n",
       "        vertical-align: middle;\n",
       "    }\n",
       "\n",
       "    .dataframe tbody tr th {\n",
       "        vertical-align: top;\n",
       "    }\n",
       "\n",
       "    .dataframe thead th {\n",
       "        text-align: right;\n",
       "    }\n",
       "</style>\n",
       "<table border=\"1\" class=\"dataframe\">\n",
       "  <thead>\n",
       "    <tr style=\"text-align: right;\">\n",
       "      <th></th>\n",
       "      <th>G_0</th>\n",
       "      <th>L_2</th>\n",
       "    </tr>\n",
       "  </thead>\n",
       "  <tbody>\n",
       "    <tr>\n",
       "      <th>G</th>\n",
       "      <td>0.000000</td>\n",
       "      <td>-0.000177</td>\n",
       "    </tr>\n",
       "    <tr>\n",
       "      <th>A</th>\n",
       "      <td>0.003747</td>\n",
       "      <td>-0.000174</td>\n",
       "    </tr>\n",
       "    <tr>\n",
       "      <th>L</th>\n",
       "      <td>0.007354</td>\n",
       "      <td>0.000000</td>\n",
       "    </tr>\n",
       "    <tr>\n",
       "      <th>M</th>\n",
       "      <td>-0.000061</td>\n",
       "      <td>-0.000161</td>\n",
       "    </tr>\n",
       "    <tr>\n",
       "      <th>F</th>\n",
       "      <td>0.000776</td>\n",
       "      <td>-0.000155</td>\n",
       "    </tr>\n",
       "    <tr>\n",
       "      <th>W</th>\n",
       "      <td>0.001325</td>\n",
       "      <td>-0.000192</td>\n",
       "    </tr>\n",
       "    <tr>\n",
       "      <th>K</th>\n",
       "      <td>0.002434</td>\n",
       "      <td>-0.000192</td>\n",
       "    </tr>\n",
       "    <tr>\n",
       "      <th>Q</th>\n",
       "      <td>0.000752</td>\n",
       "      <td>-0.000192</td>\n",
       "    </tr>\n",
       "    <tr>\n",
       "      <th>E</th>\n",
       "      <td>0.000238</td>\n",
       "      <td>-0.000193</td>\n",
       "    </tr>\n",
       "    <tr>\n",
       "      <th>S</th>\n",
       "      <td>0.009598</td>\n",
       "      <td>-0.000178</td>\n",
       "    </tr>\n",
       "    <tr>\n",
       "      <th>P</th>\n",
       "      <td>0.000284</td>\n",
       "      <td>-0.000179</td>\n",
       "    </tr>\n",
       "    <tr>\n",
       "      <th>V</th>\n",
       "      <td>0.006729</td>\n",
       "      <td>-0.000095</td>\n",
       "    </tr>\n",
       "    <tr>\n",
       "      <th>I</th>\n",
       "      <td>0.003394</td>\n",
       "      <td>-0.000061</td>\n",
       "    </tr>\n",
       "    <tr>\n",
       "      <th>C</th>\n",
       "      <td>0.010647</td>\n",
       "      <td>0.006009</td>\n",
       "    </tr>\n",
       "    <tr>\n",
       "      <th>Y</th>\n",
       "      <td>0.019334</td>\n",
       "      <td>-0.000179</td>\n",
       "    </tr>\n",
       "    <tr>\n",
       "      <th>H</th>\n",
       "      <td>0.002122</td>\n",
       "      <td>-0.000192</td>\n",
       "    </tr>\n",
       "    <tr>\n",
       "      <th>R</th>\n",
       "      <td>-0.000038</td>\n",
       "      <td>-0.000191</td>\n",
       "    </tr>\n",
       "    <tr>\n",
       "      <th>N</th>\n",
       "      <td>0.000579</td>\n",
       "      <td>-0.000182</td>\n",
       "    </tr>\n",
       "    <tr>\n",
       "      <th>D</th>\n",
       "      <td>-0.000132</td>\n",
       "      <td>-0.000192</td>\n",
       "    </tr>\n",
       "    <tr>\n",
       "      <th>T</th>\n",
       "      <td>0.069875</td>\n",
       "      <td>-0.000084</td>\n",
       "    </tr>\n",
       "  </tbody>\n",
       "</table>\n",
       "</div>"
      ],
      "text/plain": [
       "        G_0       L_2\n",
       "G  0.000000 -0.000177\n",
       "A  0.003747 -0.000174\n",
       "L  0.007354  0.000000\n",
       "M -0.000061 -0.000161\n",
       "F  0.000776 -0.000155\n",
       "W  0.001325 -0.000192\n",
       "K  0.002434 -0.000192\n",
       "Q  0.000752 -0.000192\n",
       "E  0.000238 -0.000193\n",
       "S  0.009598 -0.000178\n",
       "P  0.000284 -0.000179\n",
       "V  0.006729 -0.000095\n",
       "I  0.003394 -0.000061\n",
       "C  0.010647  0.006009\n",
       "Y  0.019334 -0.000179\n",
       "H  0.002122 -0.000192\n",
       "R -0.000038 -0.000191\n",
       "N  0.000579 -0.000182\n",
       "D -0.000132 -0.000192\n",
       "T  0.069875 -0.000084"
      ]
     },
     "execution_count": 30,
     "metadata": {},
     "output_type": "execute_result"
    }
   ],
   "source": [
    "dats-initial_score"
   ]
  },
  {
   "cell_type": "code",
   "execution_count": null,
   "id": "comparative-sweden",
   "metadata": {},
   "outputs": [],
   "source": []
  },
  {
   "cell_type": "code",
   "execution_count": 31,
   "id": "asian-complex",
   "metadata": {},
   "outputs": [
    {
     "data": {
      "image/png": "[encoded data removed]",
      "text/plain": [
       "<Figure size 432x288 with 2 Axes>"
      ]
     },
     "metadata": {
      "needs_background": "light"
     },
     "output_type": "display_data"
    }
   ],
   "source": [
    "sns.heatmap(dats-initial_score, annot=True)\n",
    "plt.show()"
   ]
  },
  {
   "cell_type": "code",
   "execution_count": 32,
   "id": "perceived-lover",
   "metadata": {},
   "outputs": [],
   "source": [
    "data2 = dats"
   ]
  },
  {
   "cell_type": "code",
   "execution_count": 33,
   "id": "distributed-calculator",
   "metadata": {},
   "outputs": [],
   "source": [
    "for i in range(0,20):\n",
    "    data2[str(i)+'a'] = dats['G_0']\n",
    "    data2[str(i)+'b'] = dats['L_2']"
   ]
  },
  {
   "cell_type": "code",
   "execution_count": 38,
   "id": "photographic-chart",
   "metadata": {},
   "outputs": [
    {
     "data": {
      "text/plain": [
       "array([[2.00468308e-04, 2.36294600e-05, 2.00468308e-04, 2.36294600e-05,\n",
       "        2.00468308e-04, 2.36294600e-05, 2.00468308e-04, 2.36294600e-05,\n",
       "        2.00468308e-04, 2.36294600e-05, 2.00468308e-04, 2.36294600e-05,\n",
       "        2.00468308e-04, 2.36294600e-05, 2.00468308e-04, 2.36294600e-05,\n",
       "        2.00468308e-04, 2.36294600e-05, 2.00468308e-04, 2.36294600e-05,\n",
       "        2.00468308e-04, 2.36294600e-05, 2.00468308e-04, 2.36294600e-05,\n",
       "        2.00468308e-04, 2.36294600e-05, 2.00468308e-04, 2.36294600e-05,\n",
       "        2.00468308e-04, 2.36294600e-05, 2.00468308e-04, 2.36294600e-05,\n",
       "        2.00468308e-04, 2.36294600e-05, 2.00468308e-04, 2.36294600e-05,\n",
       "        2.00468308e-04, 2.36294600e-05, 2.00468308e-04, 2.36294600e-05,\n",
       "        2.00468308e-04, 2.36294600e-05],\n",
       "       [3.94775243e-03, 2.65336135e-05, 3.94775243e-03, 2.65336135e-05,\n",
       "        3.94775243e-03, 2.65336135e-05, 3.94775243e-03, 2.65336135e-05,\n",
       "        3.94775243e-03, 2.65336135e-05, 3.94775243e-03, 2.65336135e-05,\n",
       "        3.94775243e-03, 2.65336135e-05, 3.94775243e-03, 2.65336135e-05,\n",
       "        3.94775243e-03, 2.65336135e-05, 3.94775243e-03, 2.65336135e-05,\n",
       "        3.94775243e-03, 2.65336135e-05, 3.94775243e-03, 2.65336135e-05,\n",
       "        3.94775243e-03, 2.65336135e-05, 3.94775243e-03, 2.65336135e-05,\n",
       "        3.94775243e-03, 2.65336135e-05, 3.94775243e-03, 2.65336135e-05,\n",
       "        3.94775243e-03, 2.65336135e-05, 3.94775243e-03, 2.65336135e-05,\n",
       "        3.94775243e-03, 2.65336135e-05, 3.94775243e-03, 2.65336135e-05,\n",
       "        3.94775243e-03, 2.65336135e-05],\n",
       "       [7.55430085e-03, 2.00468308e-04, 7.55430085e-03, 2.00468308e-04,\n",
       "        7.55430085e-03, 2.00468308e-04, 7.55430085e-03, 2.00468308e-04,\n",
       "        7.55430085e-03, 2.00468308e-04, 7.55430085e-03, 2.00468308e-04,\n",
       "        7.55430085e-03, 2.00468308e-04, 7.55430085e-03, 2.00468308e-04,\n",
       "        7.55430085e-03, 2.00468308e-04, 7.55430085e-03, 2.00468308e-04,\n",
       "        7.55430085e-03, 2.00468308e-04, 7.55430085e-03, 2.00468308e-04,\n",
       "        7.55430085e-03, 2.00468308e-04, 7.55430085e-03, 2.00468308e-04,\n",
       "        7.55430085e-03, 2.00468308e-04, 7.55430085e-03, 2.00468308e-04,\n",
       "        7.55430085e-03, 2.00468308e-04, 7.55430085e-03, 2.00468308e-04,\n",
       "        7.55430085e-03, 2.00468308e-04, 7.55430085e-03, 2.00468308e-04,\n",
       "        7.55430085e-03, 2.00468308e-04],\n",
       "       [1.39114780e-04, 3.99354653e-05, 1.39114780e-04, 3.99354653e-05,\n",
       "        1.39114780e-04, 3.99354653e-05, 1.39114780e-04, 3.99354653e-05,\n",
       "        1.39114780e-04, 3.99354653e-05, 1.39114780e-04, 3.99354653e-05,\n",
       "        1.39114780e-04, 3.99354653e-05, 1.39114780e-04, 3.99354653e-05,\n",
       "        1.39114780e-04, 3.99354653e-05, 1.39114780e-04, 3.99354653e-05,\n",
       "        1.39114780e-04, 3.99354653e-05, 1.39114780e-04, 3.99354653e-05,\n",
       "        1.39114780e-04, 3.99354653e-05, 1.39114780e-04, 3.99354653e-05,\n",
       "        1.39114780e-04, 3.99354653e-05, 1.39114780e-04, 3.99354653e-05,\n",
       "        1.39114780e-04, 3.99354653e-05, 1.39114780e-04, 3.99354653e-05,\n",
       "        1.39114780e-04, 3.99354653e-05, 1.39114780e-04, 3.99354653e-05,\n",
       "        1.39114780e-04, 3.99354653e-05],\n",
       "       [9.76809254e-04, 4.57095490e-05, 9.76809254e-04, 4.57095490e-05,\n",
       "        9.76809254e-04, 4.57095490e-05, 9.76809254e-04, 4.57095490e-05,\n",
       "        9.76809254e-04, 4.57095490e-05, 9.76809254e-04, 4.57095490e-05,\n",
       "        9.76809254e-04, 4.57095490e-05, 9.76809254e-04, 4.57095490e-05,\n",
       "        9.76809254e-04, 4.57095490e-05, 9.76809254e-04, 4.57095490e-05,\n",
       "        9.76809254e-04, 4.57095490e-05, 9.76809254e-04, 4.57095490e-05,\n",
       "        9.76809254e-04, 4.57095490e-05, 9.76809254e-04, 4.57095490e-05,\n",
       "        9.76809254e-04, 4.57095490e-05, 9.76809254e-04, 4.57095490e-05,\n",
       "        9.76809254e-04, 4.57095490e-05, 9.76809254e-04, 4.57095490e-05,\n",
       "        9.76809254e-04, 4.57095490e-05, 9.76809254e-04, 4.57095490e-05,\n",
       "        9.76809254e-04, 4.57095490e-05],\n",
       "       [1.52594381e-03, 8.53973798e-06, 1.52594381e-03, 8.53973798e-06,\n",
       "        1.52594381e-03, 8.53973798e-06, 1.52594381e-03, 8.53973798e-06,\n",
       "        1.52594381e-03, 8.53973798e-06, 1.52594381e-03, 8.53973798e-06,\n",
       "        1.52594381e-03, 8.53973798e-06, 1.52594381e-03, 8.53973798e-06,\n",
       "        1.52594381e-03, 8.53973798e-06, 1.52594381e-03, 8.53973798e-06,\n",
       "        1.52594381e-03, 8.53973798e-06, 1.52594381e-03, 8.53973798e-06,\n",
       "        1.52594381e-03, 8.53973798e-06, 1.52594381e-03, 8.53973798e-06,\n",
       "        1.52594381e-03, 8.53973798e-06, 1.52594381e-03, 8.53973798e-06,\n",
       "        1.52594381e-03, 8.53973798e-06, 1.52594381e-03, 8.53973798e-06,\n",
       "        1.52594381e-03, 8.53973798e-06, 1.52594381e-03, 8.53973798e-06,\n",
       "        1.52594381e-03, 8.53973798e-06],\n",
       "       [2.63447472e-03, 8.77042893e-06, 2.63447472e-03, 8.77042893e-06,\n",
       "        2.63447472e-03, 8.77042893e-06, 2.63447472e-03, 8.77042893e-06,\n",
       "        2.63447472e-03, 8.77042893e-06, 2.63447472e-03, 8.77042893e-06,\n",
       "        2.63447472e-03, 8.77042893e-06, 2.63447472e-03, 8.77042893e-06,\n",
       "        2.63447472e-03, 8.77042893e-06, 2.63447472e-03, 8.77042893e-06,\n",
       "        2.63447472e-03, 8.77042893e-06, 2.63447472e-03, 8.77042893e-06,\n",
       "        2.63447472e-03, 8.77042893e-06, 2.63447472e-03, 8.77042893e-06,\n",
       "        2.63447472e-03, 8.77042893e-06, 2.63447472e-03, 8.77042893e-06,\n",
       "        2.63447472e-03, 8.77042893e-06, 2.63447472e-03, 8.77042893e-06,\n",
       "        2.63447472e-03, 8.77042893e-06, 2.63447472e-03, 8.77042893e-06,\n",
       "        2.63447472e-03, 8.77042893e-06],\n",
       "       [9.52714501e-04, 8.13963715e-06, 9.52714501e-04, 8.13963715e-06,\n",
       "        9.52714501e-04, 8.13963715e-06, 9.52714501e-04, 8.13963715e-06,\n",
       "        9.52714501e-04, 8.13963715e-06, 9.52714501e-04, 8.13963715e-06,\n",
       "        9.52714501e-04, 8.13963715e-06, 9.52714501e-04, 8.13963715e-06,\n",
       "        9.52714501e-04, 8.13963715e-06, 9.52714501e-04, 8.13963715e-06,\n",
       "        9.52714501e-04, 8.13963715e-06, 9.52714501e-04, 8.13963715e-06,\n",
       "        9.52714501e-04, 8.13963715e-06, 9.52714501e-04, 8.13963715e-06,\n",
       "        9.52714501e-04, 8.13963715e-06, 9.52714501e-04, 8.13963715e-06,\n",
       "        9.52714501e-04, 8.13963715e-06, 9.52714501e-04, 8.13963715e-06,\n",
       "        9.52714501e-04, 8.13963715e-06, 9.52714501e-04, 8.13963715e-06,\n",
       "        9.52714501e-04, 8.13963715e-06],\n",
       "       [4.38618257e-04, 7.57897634e-06, 4.38618257e-04, 7.57897634e-06,\n",
       "        4.38618257e-04, 7.57897634e-06, 4.38618257e-04, 7.57897634e-06,\n",
       "        4.38618257e-04, 7.57897634e-06, 4.38618257e-04, 7.57897634e-06,\n",
       "        4.38618257e-04, 7.57897634e-06, 4.38618257e-04, 7.57897634e-06,\n",
       "        4.38618257e-04, 7.57897634e-06, 4.38618257e-04, 7.57897634e-06,\n",
       "        4.38618257e-04, 7.57897634e-06, 4.38618257e-04, 7.57897634e-06,\n",
       "        4.38618257e-04, 7.57897634e-06, 4.38618257e-04, 7.57897634e-06,\n",
       "        4.38618257e-04, 7.57897634e-06, 4.38618257e-04, 7.57897634e-06,\n",
       "        4.38618257e-04, 7.57897634e-06, 4.38618257e-04, 7.57897634e-06,\n",
       "        4.38618257e-04, 7.57897634e-06, 4.38618257e-04, 7.57897634e-06,\n",
       "        4.38618257e-04, 7.57897634e-06],\n",
       "       [9.79832564e-03, 2.22781351e-05, 9.79832564e-03, 2.22781351e-05,\n",
       "        9.79832564e-03, 2.22781351e-05, 9.79832564e-03, 2.22781351e-05,\n",
       "        9.79832564e-03, 2.22781351e-05, 9.79832564e-03, 2.22781351e-05,\n",
       "        9.79832564e-03, 2.22781351e-05, 9.79832564e-03, 2.22781351e-05,\n",
       "        9.79832564e-03, 2.22781351e-05, 9.79832564e-03, 2.22781351e-05,\n",
       "        9.79832564e-03, 2.22781351e-05, 9.79832564e-03, 2.22781351e-05,\n",
       "        9.79832564e-03, 2.22781351e-05, 9.79832564e-03, 2.22781351e-05,\n",
       "        9.79832564e-03, 2.22781351e-05, 9.79832564e-03, 2.22781351e-05,\n",
       "        9.79832564e-03, 2.22781351e-05, 9.79832564e-03, 2.22781351e-05,\n",
       "        9.79832564e-03, 2.22781351e-05, 9.79832564e-03, 2.22781351e-05,\n",
       "        9.79832564e-03, 2.22781351e-05],\n",
       "       [4.84273735e-04, 2.11274800e-05, 4.84273735e-04, 2.11274800e-05,\n",
       "        4.84273735e-04, 2.11274800e-05, 4.84273735e-04, 2.11274800e-05,\n",
       "        4.84273735e-04, 2.11274800e-05, 4.84273735e-04, 2.11274800e-05,\n",
       "        4.84273735e-04, 2.11274800e-05, 4.84273735e-04, 2.11274800e-05,\n",
       "        4.84273735e-04, 2.11274800e-05, 4.84273735e-04, 2.11274800e-05,\n",
       "        4.84273735e-04, 2.11274800e-05, 4.84273735e-04, 2.11274800e-05,\n",
       "        4.84273735e-04, 2.11274800e-05, 4.84273735e-04, 2.11274800e-05,\n",
       "        4.84273735e-04, 2.11274800e-05, 4.84273735e-04, 2.11274800e-05,\n",
       "        4.84273735e-04, 2.11274800e-05, 4.84273735e-04, 2.11274800e-05,\n",
       "        4.84273735e-04, 2.11274800e-05, 4.84273735e-04, 2.11274800e-05,\n",
       "        4.84273735e-04, 2.11274800e-05],\n",
       "       [6.92931252e-03, 1.05121355e-04, 6.92931252e-03, 1.05121355e-04,\n",
       "        6.92931252e-03, 1.05121355e-04, 6.92931252e-03, 1.05121355e-04,\n",
       "        6.92931252e-03, 1.05121355e-04, 6.92931252e-03, 1.05121355e-04,\n",
       "        6.92931252e-03, 1.05121355e-04, 6.92931252e-03, 1.05121355e-04,\n",
       "        6.92931252e-03, 1.05121355e-04, 6.92931252e-03, 1.05121355e-04,\n",
       "        6.92931252e-03, 1.05121355e-04, 6.92931252e-03, 1.05121355e-04,\n",
       "        6.92931252e-03, 1.05121355e-04, 6.92931252e-03, 1.05121355e-04,\n",
       "        6.92931252e-03, 1.05121355e-04, 6.92931252e-03, 1.05121355e-04,\n",
       "        6.92931252e-03, 1.05121355e-04, 6.92931252e-03, 1.05121355e-04,\n",
       "        6.92931252e-03, 1.05121355e-04, 6.92931252e-03, 1.05121355e-04,\n",
       "        6.92931252e-03, 1.05121355e-04],\n",
       "       [3.59460816e-03, 1.39207237e-04, 3.59460816e-03, 1.39207237e-04,\n",
       "        3.59460816e-03, 1.39207237e-04, 3.59460816e-03, 1.39207237e-04,\n",
       "        3.59460816e-03, 1.39207237e-04, 3.59460816e-03, 1.39207237e-04,\n",
       "        3.59460816e-03, 1.39207237e-04, 3.59460816e-03, 1.39207237e-04,\n",
       "        3.59460816e-03, 1.39207237e-04, 3.59460816e-03, 1.39207237e-04,\n",
       "        3.59460816e-03, 1.39207237e-04, 3.59460816e-03, 1.39207237e-04,\n",
       "        3.59460816e-03, 1.39207237e-04, 3.59460816e-03, 1.39207237e-04,\n",
       "        3.59460816e-03, 1.39207237e-04, 3.59460816e-03, 1.39207237e-04,\n",
       "        3.59460816e-03, 1.39207237e-04, 3.59460816e-03, 1.39207237e-04,\n",
       "        3.59460816e-03, 1.39207237e-04, 3.59460816e-03, 1.39207237e-04,\n",
       "        3.59460816e-03, 1.39207237e-04],\n",
       "       [1.08475186e-02, 6.20896860e-03, 1.08475186e-02, 6.20896860e-03,\n",
       "        1.08475186e-02, 6.20896860e-03, 1.08475186e-02, 6.20896860e-03,\n",
       "        1.08475186e-02, 6.20896860e-03, 1.08475186e-02, 6.20896860e-03,\n",
       "        1.08475186e-02, 6.20896860e-03, 1.08475186e-02, 6.20896860e-03,\n",
       "        1.08475186e-02, 6.20896860e-03, 1.08475186e-02, 6.20896860e-03,\n",
       "        1.08475186e-02, 6.20896860e-03, 1.08475186e-02, 6.20896860e-03,\n",
       "        1.08475186e-02, 6.20896860e-03, 1.08475186e-02, 6.20896860e-03,\n",
       "        1.08475186e-02, 6.20896860e-03, 1.08475186e-02, 6.20896860e-03,\n",
       "        1.08475186e-02, 6.20896860e-03, 1.08475186e-02, 6.20896860e-03,\n",
       "        1.08475186e-02, 6.20896860e-03, 1.08475186e-02, 6.20896860e-03,\n",
       "        1.08475186e-02, 6.20896860e-03],\n",
       "       [1.95343338e-02, 2.17919902e-05, 1.95343338e-02, 2.17919902e-05,\n",
       "        1.95343338e-02, 2.17919902e-05, 1.95343338e-02, 2.17919902e-05,\n",
       "        1.95343338e-02, 2.17919902e-05, 1.95343338e-02, 2.17919902e-05,\n",
       "        1.95343338e-02, 2.17919902e-05, 1.95343338e-02, 2.17919902e-05,\n",
       "        1.95343338e-02, 2.17919902e-05, 1.95343338e-02, 2.17919902e-05,\n",
       "        1.95343338e-02, 2.17919902e-05, 1.95343338e-02, 2.17919902e-05,\n",
       "        1.95343338e-02, 2.17919902e-05, 1.95343338e-02, 2.17919902e-05,\n",
       "        1.95343338e-02, 2.17919902e-05, 1.95343338e-02, 2.17919902e-05,\n",
       "        1.95343338e-02, 2.17919902e-05, 1.95343338e-02, 2.17919902e-05,\n",
       "        1.95343338e-02, 2.17919902e-05, 1.95343338e-02, 2.17919902e-05,\n",
       "        1.95343338e-02, 2.17919902e-05],\n",
       "       [2.32266514e-03, 8.46788450e-06, 2.32266514e-03, 8.46788450e-06,\n",
       "        2.32266514e-03, 8.46788450e-06, 2.32266514e-03, 8.46788450e-06,\n",
       "        2.32266514e-03, 8.46788450e-06, 2.32266514e-03, 8.46788450e-06,\n",
       "        2.32266514e-03, 8.46788450e-06, 2.32266514e-03, 8.46788450e-06,\n",
       "        2.32266514e-03, 8.46788450e-06, 2.32266514e-03, 8.46788450e-06,\n",
       "        2.32266514e-03, 8.46788450e-06, 2.32266514e-03, 8.46788450e-06,\n",
       "        2.32266514e-03, 8.46788450e-06, 2.32266514e-03, 8.46788450e-06,\n",
       "        2.32266514e-03, 8.46788450e-06, 2.32266514e-03, 8.46788450e-06,\n",
       "        2.32266514e-03, 8.46788450e-06, 2.32266514e-03, 8.46788450e-06,\n",
       "        2.32266514e-03, 8.46788450e-06, 2.32266514e-03, 8.46788450e-06,\n",
       "        2.32266514e-03, 8.46788450e-06],\n",
       "       [1.62641531e-04, 9.29170658e-06, 1.62641531e-04, 9.29170658e-06,\n",
       "        1.62641531e-04, 9.29170658e-06, 1.62641531e-04, 9.29170658e-06,\n",
       "        1.62641531e-04, 9.29170658e-06, 1.62641531e-04, 9.29170658e-06,\n",
       "        1.62641531e-04, 9.29170658e-06, 1.62641531e-04, 9.29170658e-06,\n",
       "        1.62641531e-04, 9.29170658e-06, 1.62641531e-04, 9.29170658e-06,\n",
       "        1.62641531e-04, 9.29170658e-06, 1.62641531e-04, 9.29170658e-06,\n",
       "        1.62641531e-04, 9.29170658e-06, 1.62641531e-04, 9.29170658e-06,\n",
       "        1.62641531e-04, 9.29170658e-06, 1.62641531e-04, 9.29170658e-06,\n",
       "        1.62641531e-04, 9.29170658e-06, 1.62641531e-04, 9.29170658e-06,\n",
       "        1.62641531e-04, 9.29170658e-06, 1.62641531e-04, 9.29170658e-06,\n",
       "        1.62641531e-04, 9.29170658e-06],\n",
       "       [7.79098416e-04, 1.84585433e-05, 7.79098416e-04, 1.84585433e-05,\n",
       "        7.79098416e-04, 1.84585433e-05, 7.79098416e-04, 1.84585433e-05,\n",
       "        7.79098416e-04, 1.84585433e-05, 7.79098416e-04, 1.84585433e-05,\n",
       "        7.79098416e-04, 1.84585433e-05, 7.79098416e-04, 1.84585433e-05,\n",
       "        7.79098416e-04, 1.84585433e-05, 7.79098416e-04, 1.84585433e-05,\n",
       "        7.79098416e-04, 1.84585433e-05, 7.79098416e-04, 1.84585433e-05,\n",
       "        7.79098416e-04, 1.84585433e-05, 7.79098416e-04, 1.84585433e-05,\n",
       "        7.79098416e-04, 1.84585433e-05, 7.79098416e-04, 1.84585433e-05,\n",
       "        7.79098416e-04, 1.84585433e-05, 7.79098416e-04, 1.84585433e-05,\n",
       "        7.79098416e-04, 1.84585433e-05, 7.79098416e-04, 1.84585433e-05,\n",
       "        7.79098416e-04, 1.84585433e-05],\n",
       "       [6.84331038e-05, 8.76126828e-06, 6.84331038e-05, 8.76126828e-06,\n",
       "        6.84331038e-05, 8.76126828e-06, 6.84331038e-05, 8.76126828e-06,\n",
       "        6.84331038e-05, 8.76126828e-06, 6.84331038e-05, 8.76126828e-06,\n",
       "        6.84331038e-05, 8.76126828e-06, 6.84331038e-05, 8.76126828e-06,\n",
       "        6.84331038e-05, 8.76126828e-06, 6.84331038e-05, 8.76126828e-06,\n",
       "        6.84331038e-05, 8.76126828e-06, 6.84331038e-05, 8.76126828e-06,\n",
       "        6.84331038e-05, 8.76126828e-06, 6.84331038e-05, 8.76126828e-06,\n",
       "        6.84331038e-05, 8.76126828e-06, 6.84331038e-05, 8.76126828e-06,\n",
       "        6.84331038e-05, 8.76126828e-06, 6.84331038e-05, 8.76126828e-06,\n",
       "        6.84331038e-05, 8.76126828e-06, 6.84331038e-05, 8.76126828e-06,\n",
       "        6.84331038e-05, 8.76126828e-06],\n",
       "       [7.00753093e-02, 1.16637475e-04, 7.00753093e-02, 1.16637475e-04,\n",
       "        7.00753093e-02, 1.16637475e-04, 7.00753093e-02, 1.16637475e-04,\n",
       "        7.00753093e-02, 1.16637475e-04, 7.00753093e-02, 1.16637475e-04,\n",
       "        7.00753093e-02, 1.16637475e-04, 7.00753093e-02, 1.16637475e-04,\n",
       "        7.00753093e-02, 1.16637475e-04, 7.00753093e-02, 1.16637475e-04,\n",
       "        7.00753093e-02, 1.16637475e-04, 7.00753093e-02, 1.16637475e-04,\n",
       "        7.00753093e-02, 1.16637475e-04, 7.00753093e-02, 1.16637475e-04,\n",
       "        7.00753093e-02, 1.16637475e-04, 7.00753093e-02, 1.16637475e-04,\n",
       "        7.00753093e-02, 1.16637475e-04, 7.00753093e-02, 1.16637475e-04,\n",
       "        7.00753093e-02, 1.16637475e-04, 7.00753093e-02, 1.16637475e-04,\n",
       "        7.00753093e-02, 1.16637475e-04]])"
      ]
     },
     "execution_count": 38,
     "metadata": {},
     "output_type": "execute_result"
    }
   ],
   "source": [
    "data2.values"
   ]
  },
  {
   "cell_type": "code",
   "execution_count": 35,
   "id": "welsh-section",
   "metadata": {},
   "outputs": [
    {
     "data": {
      "image/png": "[encoded data removed]",
      "text/plain": [
       "<Figure size 432x288 with 2 Axes>"
      ]
     },
     "metadata": {
      "needs_background": "light"
     },
     "output_type": "display_data"
    }
   ],
   "source": [
    "sns.heatmap(data2-initial_score, annot=False)\n",
    "plt.show()"
   ]
  },
  {
   "cell_type": "code",
   "execution_count": 41,
   "id": "independent-australia",
   "metadata": {},
   "outputs": [],
   "source": [
    "import matplotlib.colors as colors"
   ]
  },
  {
   "cell_type": "code",
   "execution_count": 49,
   "id": "certified-polls",
   "metadata": {},
   "outputs": [
    {
     "name": "stderr",
     "output_type": "stream",
     "text": [
      "<ipython-input-49-76f69fe7b04d>:3: MatplotlibDeprecationWarning: shading='flat' when X and Y have the same dimensions as C is deprecated since 3.3.  Either specify the corners of the quadrilaterals with X and Y, or pass shading='auto', 'nearest' or 'gouraud', or set rcParams['pcolor.shading'].  This will become an error two minor releases later.\n",
      "  pcm = ax.pcolormesh(data2.columns, data2.index, data2.values,\n"
     ]
    },
    {
     "data": {
      "image/png": "[encoded data removed]",
      "text/plain": [
       "<Figure size 432x288 with 2 Axes>"
      ]
     },
     "metadata": {
      "needs_background": "light"
     },
     "output_type": "display_data"
    }
   ],
   "source": [
    "fig, ax = plt.subplots(1, 1)\n",
    "\n",
    "pcm = ax.pcolormesh(data2.columns, data2.index, data2.values,\n",
    "                       norm=colors.SymLogNorm(linthresh=0.03, linscale=0.03,\n",
    "                                              vmin=-np.max(data2.values), vmax=np.max(data2.values), base=10),\n",
    "                       cmap='RdBu_r')\n",
    "fig.colorbar(pcm, ax=ax, extend='both')\n",
    "\n",
    "plt.show()"
   ]
  },
  {
   "cell_type": "code",
   "execution_count": 45,
   "id": "french-asbestos",
   "metadata": {},
   "outputs": [
    {
     "name": "stderr",
     "output_type": "stream",
     "text": [
      "<ipython-input-45-de7e5f6b2dc8>:3: MatplotlibDeprecationWarning: shading='flat' when X and Y have the same dimensions as C is deprecated since 3.3.  Either specify the corners of the quadrilaterals with X and Y, or pass shading='auto', 'nearest' or 'gouraud', or set rcParams['pcolor.shading'].  This will become an error two minor releases later.\n",
      "  pcm = ax[0].pcolormesh(data2.columns, data2.index, data2.values,\n",
      "<ipython-input-45-de7e5f6b2dc8>:9: MatplotlibDeprecationWarning: shading='flat' when X and Y have the same dimensions as C is deprecated since 3.3.  Either specify the corners of the quadrilaterals with X and Y, or pass shading='auto', 'nearest' or 'gouraud', or set rcParams['pcolor.shading'].  This will become an error two minor releases later.\n",
      "  pcm = ax[1].pcolormesh(data2.columns, data2.index, data2.values, cmap='RdBu_r', vmin=-np.max(data2.values))\n"
     ]
    },
    {
     "data": {
      "image/png": "[encoded data removed]",
      "text/plain": [
       "<Figure size 432x288 with 4 Axes>"
      ]
     },
     "metadata": {
      "needs_background": "light"
     },
     "output_type": "display_data"
    }
   ],
   "source": [
    "fig, ax = plt.subplots(2, 1)\n",
    "\n",
    "pcm = ax[0].pcolormesh(data2.columns, data2.index, data2.values,\n",
    "                       norm=colors.SymLogNorm(linthresh=0.03, linscale=0.03,\n",
    "                                              vmin=-1.0, vmax=1.0, base=10),\n",
    "                       cmap='RdBu_r')\n",
    "fig.colorbar(pcm, ax=ax[0], extend='both')\n",
    "\n",
    "pcm = ax[1].pcolormesh(data2.columns, data2.index, data2.values, cmap='RdBu_r', vmin=-np.max(data2.values))\n",
    "fig.colorbar(pcm, ax=ax[1], extend='both')\n",
    "plt.show()"
   ]
  },
  {
   "cell_type": "code",
   "execution_count": null,
   "id": "thrown-testimony",
   "metadata": {},
   "outputs": [],
   "source": []
  },
  {
   "cell_type": "code",
   "execution_count": null,
   "id": "objective-policy",
   "metadata": {},
   "outputs": [],
   "source": []
  },
  {
   "cell_type": "code",
   "execution_count": null,
   "id": "reduced-snake",
   "metadata": {},
   "outputs": [],
   "source": []
  },
  {
   "cell_type": "code",
   "execution_count": null,
   "id": "brilliant-words",
   "metadata": {},
   "outputs": [],
   "source": []
  },
  {
   "cell_type": "code",
   "execution_count": null,
   "id": "binding-ballet",
   "metadata": {},
   "outputs": [],
   "source": []
  },
  {
   "cell_type": "code",
   "execution_count": null,
   "id": "professional-principle",
   "metadata": {},
   "outputs": [],
   "source": []
  },
  {
   "cell_type": "code",
   "execution_count": null,
   "id": "arabic-algorithm",
   "metadata": {},
   "outputs": [],
   "source": []
  },
  {
   "cell_type": "code",
   "execution_count": null,
   "id": "surgical-flavor",
   "metadata": {},
   "outputs": [],
   "source": [
    "# loading the model does not cost. Unirep is the slowest part."
   ]
  },
  {
   "cell_type": "code",
   "execution_count": 236,
   "id": "combined-indonesia",
   "metadata": {},
   "outputs": [],
   "source": [
    "def optimize_sequence_2(sequence, organism, target_class, include_dg=False, positions=None):\n",
    "    \"\"\"\n",
    "    \n",
    "    \"\"\"\n",
    "    # First, find the initial class and initial secretion score for that class\n",
    "    initial_class, initial_score = secretion_score(sequence, organism, target_class, include_dg)\n",
    "    # Also find the probability of being from the target_class\n",
    "#     print('The initial sequence is:', sequence)\n",
    "#     print('The initial localization clas is:', initial_class)\n",
    "#     print('The initial probability of being in the secreted class is:', \n",
    "#         initial_score)\n",
    "    \n",
    "    model_human = pickle.load(open(os.path.join(current_wd,\"models\",\"human.pkl\"), 'rb'))\n",
    "    model_yeast = pickle.load(open(os.path.join(current_wd,\"models\",\"yeast.pkl\"), 'rb'))\n",
    "    model_ecoli = pickle.load(open(os.path.join(current_wd,\"models\",\"ecoli.pkl\"), 'rb'))\n",
    "    \n",
    "    if include_dg:\n",
    "        model_dict = {\n",
    "            'human': model_human,\n",
    "            'yeast': model_yeast,\n",
    "            'ecoli': model_ecoli\n",
    "        }\n",
    "    else: \n",
    "        model_dict = {\n",
    "            'human': model_human,\n",
    "            'yeast': model_yeast,\n",
    "            'ecoli': model_ecoli\n",
    "        }\n",
    "\n",
    "    # Access the specific organism model\n",
    "    model = model_dict[organism]\n",
    "    \n",
    "    \n",
    "    # if no position was specified mutate all\n",
    "    if positions == None:\n",
    "        res_poses = np.array(list(range(0,len(sequence))))\n",
    "    else:\n",
    "        # create test to check if position is a list\n",
    "        res_poses = get_residue_positions(positions)\n",
    "        # inform user that positions are 1 based so that they can usually work on that from a pdb file\n",
    "        # convert positions to 0 based positions\n",
    "        res_poses = res_poses - 1\n",
    "        \n",
    "        # check if largest position is within the protein length\n",
    "        if np.max(res_poses)+1 > len(sequence):\n",
    "            raise ValueError('You passed residue position '+str(np.max(res_poses)+1)+', which is larger than the protein length of '+str(len(sequence))+' residues.')\n",
    "        else:\n",
    "            pass\n",
    "\n",
    "    mutated_scores = pd.DataFrame()\n",
    "    \n",
    "    classes = list(model.classes_)\n",
    "    for resid in res_poses:\n",
    "#         print(\"running position\", resid, \"of\", str(np.max(res_poses)))\n",
    "        \n",
    "        mut_score_pos = []\n",
    "        \n",
    "        for mutation in amino_acids:\n",
    "            mutated_seq = sequence[:resid] + str(mutation) + sequence[resid+1:]\n",
    "#             pred_score = 3\n",
    "\n",
    "            values = get_UniReps(sequence)[0] # do we need this [0]?\n",
    "            if include_dg:\n",
    "                dg = calculate_transmembrane_dg(sequence)\n",
    "                values.append(dg)\n",
    "            values = values.reshape(1, -1)\n",
    "\n",
    "                \n",
    "                # Grab the probabilities from the model\n",
    "            prediction_probabilities = list(model.predict_proba(values)[0])\n",
    "                # Returns probability of being secreted class\n",
    "            pred_score = prediction_probabilities[classes.index(target_class)]\n",
    "    \n",
    "    \n",
    "#             pred_class, pred_score = secretion_score(mutated_seq, organism, target_class, include_dg)\n",
    "            mut_score_pos.append(pred_score)\n",
    "        \n",
    "        mut_score_pos = pd.Series(mut_score_pos, index = amino_acids)\n",
    "        \n",
    "        original_name = str(sequence[resid]) + '_' + str(resid)\n",
    "        \n",
    "        mutated_scores[original_name] = mut_score_pos\n",
    "\n",
    "    return mutated_scores"
   ]
  },
  {
   "cell_type": "code",
   "execution_count": null,
   "id": "opposed-leone",
   "metadata": {},
   "outputs": [],
   "source": []
  },
  {
   "cell_type": "code",
   "execution_count": 237,
   "id": "metropolitan-deficit",
   "metadata": {},
   "outputs": [
    {
     "name": "stdout",
     "output_type": "stream",
     "text": [
      "47.2 s ± 12.1 s per loop (mean ± std. dev. of 7 runs, 1 loop each)\n"
     ]
    }
   ],
   "source": [
    "%timeit optimize_sequence_2(seq, org, target, positions=['1','3'])"
   ]
  },
  {
   "cell_type": "code",
   "execution_count": 238,
   "id": "prompt-radius",
   "metadata": {},
   "outputs": [
    {
     "name": "stdout",
     "output_type": "stream",
     "text": [
      "43.4 s ± 2.06 s per loop (mean ± std. dev. of 7 runs, 1 loop each)\n"
     ]
    }
   ],
   "source": [
    "%timeit optimize_sequence(seq, org, target, positions=['1','3'])"
   ]
  },
  {
   "cell_type": "code",
   "execution_count": null,
   "id": "integrated-payday",
   "metadata": {},
   "outputs": [],
   "source": []
  },
  {
   "cell_type": "code",
   "execution_count": null,
   "id": "worse-sixth",
   "metadata": {},
   "outputs": [],
   "source": []
  },
  {
   "cell_type": "code",
   "execution_count": null,
   "id": "variable-flour",
   "metadata": {},
   "outputs": [],
   "source": []
  },
  {
   "cell_type": "code",
   "execution_count": 240,
   "id": "dated-visibility",
   "metadata": {},
   "outputs": [
    {
     "name": "stdout",
     "output_type": "stream",
     "text": [
      "993 ms ± 85.2 ms per loop (mean ± std. dev. of 7 runs, 1 loop each)\n"
     ]
    }
   ],
   "source": [
    "%timeit get_UniReps(sequence)[0]"
   ]
  },
  {
   "cell_type": "code",
   "execution_count": null,
   "id": "minus-printer",
   "metadata": {},
   "outputs": [],
   "source": []
  },
  {
   "cell_type": "code",
   "execution_count": null,
   "id": "moving-opportunity",
   "metadata": {},
   "outputs": [],
   "source": []
  },
  {
   "cell_type": "code",
   "execution_count": null,
   "id": "concerned-silver",
   "metadata": {
    "collapsed": true
   },
   "outputs": [],
   "source": [
    "# wrapper function\n",
    "def optimize_sequence(seq, target_class, organism, include_dg=False, position=None):\n",
    "    \"\"\"\n",
    "    \n",
    "    \"\"\"\n",
    "    # First, find the initial class and initial secretion score for that class\n",
    "    initial_class, initial_score = secretion_score(seq, organism, target_class, include_dg)\n",
    "    # Also find the probability of being from the target_class\n",
    "    print('The initial sequence is:', sequence)\n",
    "    print('The initial localization clas is:', initial_class)\n",
    "    print('The initial probability of being in the secreted class is:', \n",
    "        initial_score)\n"
   ]
  },
  {
   "cell_type": "code",
   "execution_count": null,
   "id": "regular-regular",
   "metadata": {},
   "outputs": [],
   "source": []
  },
  {
   "cell_type": "code",
   "execution_count": null,
   "id": "identical-malawi",
   "metadata": {},
   "outputs": [],
   "source": []
  },
  {
   "cell_type": "code",
   "execution_count": null,
   "id": "prostate-campbell",
   "metadata": {},
   "outputs": [],
   "source": []
  },
  {
   "cell_type": "code",
   "execution_count": 196,
   "id": "early-bangladesh",
   "metadata": {},
   "outputs": [],
   "source": [
    "def secretion_optimization(sequence, organism, position, include_dg=False):\n",
    "    \"\"\"\n",
    "    Introduces amino acid point mutation at given position to improve\n",
    "    probability of given sequence to be part of the secreted class\n",
    "\n",
    "    Args:\n",
    "        sequence (str): amino acid sequence in single-letter format\n",
    "        organism (str): specific organism of sequence type \n",
    "                        (all, human, yeast, ecoli)\n",
    "        position (int): given position where point mutations can occur\n",
    "                        (where first residue is position 0)\n",
    "        include_dg (Boolean): specify inclusion of additional features\n",
    "                                (default=False)\n",
    "\n",
    "    Returns:\n",
    "        sequence (str): mutated amino acid sequence\n",
    "        point_mutation_dict (dict): dictionary of point mutation amino acid\n",
    "                                    and secretion score\n",
    "    \"\"\"\n",
    "    # First, find the initial class and initial secretion score\n",
    "    initial_class, initial_score = secretion_score(sequence, organism, include_dg)\n",
    "    print('The initial sequence is:', sequence)\n",
    "    print('The initial localization clas is:', initial_class)\n",
    "    print('The initial probability of being in the secreted class is:', \n",
    "        initial_score)\n",
    "\n",
    "    # Set up point mutations\n",
    "    mutated_scores_list = []\n",
    "    for residue in amino_acids:\n",
    "        sequence_list = list(sequence)\n",
    "        sequence_list[position] = residue\n",
    "        mutated_sequence = \"\".join(sequence_list)\n",
    "        mutated_class, mutated_score = secretion_score(\n",
    "            sequence, organism, include_dg)\n",
    "        mutated_scores_list.append(mutated_score)\n",
    "        # Replace initial sequence if mutated secretion score is better\n",
    "        if mutated_score > initial_score:\n",
    "            sequence = mutated_sequence\n",
    "            initial_score = mutated_score\n",
    "            initial_class = mutated_class\n",
    "\n",
    "    print('The mutated sequence is:', sequence)\n",
    "    print('The mutated class is:', initial_class)\n",
    "    print('The mutated probability of being in the secreted class is:',\n",
    "        mutated_score)\n",
    "\n",
    "    # Plot point mutations and scores\n",
    "    plt.plot(amino_acids, mutated_scores_list)\n",
    "    plt.xlabel('Amino Acid Point Mutation at Position %d' % position)\n",
    "    plt.ylabel('Probability of Secretion Class')\n",
    "\n",
    "    # Create dictionary of point mutations and scores\n",
    "    point_mutation_dict = {amino_acids[i]: mutated_scores_list[i]\n",
    "        for i in range(len(amino_acids))}\n",
    "\n",
    "    return sequence, point_mutation_dict\n"
   ]
  },
  {
   "cell_type": "code",
   "execution_count": null,
   "id": "judicial-green",
   "metadata": {},
   "outputs": [],
   "source": [
    "def secretion_optimization_all_positions(sequence, organism):\n",
    "    \"\"\"\n",
    "    create ssm like representation\n",
    "    \"\"\"\n",
    "\n",
    "\n",
    "def optimize_secretion(sequence, organism, position):\n",
    "    \"\"\"\n",
    "    Wrapper function.\n",
    "\n",
    "    It would be great if we added a parameter position that can take in a list of positions\n",
    "    so the user is free to mutate only one position or a few positions of the sequence. \n",
    "    If nothing is passed, we mutate all sequence.\n",
    "\n",
    "    \"\"\"\n",
    "\n"
   ]
  }
 ],
 "metadata": {
  "kernelspec": {
   "display_name": "Python 3",
   "language": "python",
   "name": "python3"
  },
  "language_info": {
   "codemirror_mode": {
    "name": "ipython",
    "version": 3
   },
   "file_extension": ".py",
   "mimetype": "text/x-python",
   "name": "python",
   "nbconvert_exporter": "python",
   "pygments_lexer": "ipython3",
   "version": "3.8.8"
  }
 },
 "nbformat": 4,
 "nbformat_minor": 5
}
