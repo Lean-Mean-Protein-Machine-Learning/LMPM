{
 "cells": [
  {
   "cell_type": "markdown",
   "id": "removable-issue",
   "metadata": {},
   "source": [
    "## Improving the secretion score of a protein"
   ]
  },
  {
   "cell_type": "code",
   "execution_count": 10,
   "id": "exciting-location",
   "metadata": {},
   "outputs": [],
   "source": [
    "import os, sys"
   ]
  },
  {
   "cell_type": "code",
   "execution_count": 11,
   "id": "broadband-junction",
   "metadata": {},
   "outputs": [],
   "source": [
    "import lmpm"
   ]
  },
  {
   "cell_type": "code",
   "execution_count": 12,
   "id": "right-discipline",
   "metadata": {},
   "outputs": [],
   "source": [
    "import matplotlib.pyplot as plt\n",
    "import matplotlib.colors as colors\n",
    "import numpy as np\n",
    "import pandas as pd\n",
    "import seaborn as sns\n",
    "\n",
    "#to remove\n",
    "import pickle\n",
    "import os\n",
    "current_wd = '/home/mexposit/LMPM/lmpm'\n",
    "from lmpm.unirep import get_UniReps\n",
    "from lmpm import localization_score\n",
    "\n",
    "\n",
    "# in the module, use:\n",
    "# from .predict import localization_score"
   ]
  },
  {
   "cell_type": "code",
   "execution_count": 13,
   "id": "exotic-writer",
   "metadata": {},
   "outputs": [],
   "source": [
    "amino_acids = ['G', 'A', 'L', 'M', 'F',\n",
    "               'W', 'K', 'Q', 'E', 'S',\n",
    "               'P', 'V', 'I', 'C', 'Y',\n",
    "               'H', 'R', 'N', 'D', 'T']"
   ]
  },
  {
   "cell_type": "code",
   "execution_count": 14,
   "id": "anticipated-warrant",
   "metadata": {},
   "outputs": [],
   "source": [
    "seq = 'GALRNDTGALMFWK'\n",
    "org = 'ecoli'\n",
    "target = 'membrane'"
   ]
  },
  {
   "cell_type": "markdown",
   "id": "heated-organizer",
   "metadata": {},
   "source": [
    "1. get the predicted class and probability at which the sequence belongs to -> Do I really need to do it if we already did that?\n",
    "2. define a target class you want to optimize for\n",
    "3. take in a list of positions to mutate if desired"
   ]
  },
  {
   "cell_type": "code",
   "execution_count": 15,
   "id": "extended-thousand",
   "metadata": {},
   "outputs": [
    {
     "data": {
      "text/plain": [
       "'GALANDTGALMFWK'"
      ]
     },
     "execution_count": 15,
     "metadata": {},
     "output_type": "execute_result"
    }
   ],
   "source": [
    "seq[:3]+str('A')+seq[3+1:]"
   ]
  },
  {
   "cell_type": "code",
   "execution_count": 16,
   "id": "bulgarian-people",
   "metadata": {},
   "outputs": [],
   "source": [
    "positions = ['1-3','4','7-9']"
   ]
  },
  {
   "cell_type": "code",
   "execution_count": 17,
   "id": "electric-playing",
   "metadata": {},
   "outputs": [],
   "source": [
    "positions = \"1-3,4,7-9\""
   ]
  },
  {
   "cell_type": "code",
   "execution_count": 18,
   "id": "piano-heating",
   "metadata": {},
   "outputs": [
    {
     "data": {
      "text/plain": [
       "array([1, 2, 3, 4, 7, 8, 9])"
      ]
     },
     "execution_count": 18,
     "metadata": {},
     "output_type": "execute_result"
    }
   ],
   "source": [
    "get_residue_positions(positions)"
   ]
  },
  {
   "cell_type": "code",
   "execution_count": 19,
   "id": "reserved-gilbert",
   "metadata": {},
   "outputs": [],
   "source": [
    "def get_residue_positions(positions):\n",
    "    \"\"\"Converts a list of integers or range of residues to individual residue numbers.\n",
    "    \n",
    "    Args:\n",
    "        positions: list of protein residues as integers or ranges.\n",
    "            Example: [1,3-5,8]\n",
    "            \n",
    "    Returns:\n",
    "        res_posit: list of individual residues.\n",
    "            Example: [1,3,4,5,8]\n",
    "    \"\"\"\n",
    "    \n",
    "    # initialize list\n",
    "    res_posit = np.array([])\n",
    "    \n",
    "    # preprocess array to get as list\n",
    "    positions = positions.split(',')\n",
    "    \n",
    "    for item in positions:\n",
    "        # raise eerror if it is not a string or it will return an error!\n",
    "        # split if contains a \"-\"\n",
    "        item = np.array(item.split('-'), dtype='int')\n",
    "        # if it contains a \"-\" the length will be 2\n",
    "        if len(item) == 2:\n",
    "            # create a range of integers from lower to higher value\n",
    "            res_posit = np.append(res_posit, list(range(item[0], item[1]+1)))\n",
    "        elif len(item) == 1:\n",
    "            res_posit = np.append(res_posit, item)\n",
    "        else:\n",
    "            raise ValueError('The position should be a list of integers or ranges defined as: \"integer-integer\"')\n",
    "    \n",
    "    res_posit = np.array(np.unique(np.sort(res_posit)), dtype='int')\n",
    "    \n",
    "    return res_posit"
   ]
  },
  {
   "cell_type": "code",
   "execution_count": null,
   "id": "seasonal-isaac",
   "metadata": {},
   "outputs": [],
   "source": []
  },
  {
   "cell_type": "code",
   "execution_count": null,
   "id": "veterinary-edmonton",
   "metadata": {},
   "outputs": [],
   "source": []
  },
  {
   "cell_type": "code",
   "execution_count": null,
   "id": "existing-consortium",
   "metadata": {},
   "outputs": [],
   "source": []
  },
  {
   "cell_type": "code",
   "execution_count": 20,
   "id": "attended-sentence",
   "metadata": {},
   "outputs": [],
   "source": [
    "# wrapper function\n",
    "def optimize_sequence(sequence, organism, target_class, include_dg=False, positions=None):\n",
    "    \"\"\"\n",
    "    \n",
    "    \"\"\"\n",
    "    # First, find the initial class and initial secretion score for that class\n",
    "    initial_class, initial_score = localization_score(sequence, organism, target_class, include_dg)\n",
    "    # Also find the probability of being from the target_class\n",
    "#     print('The initial sequence is:', sequence)\n",
    "#     print('The initial localization clas is:', initial_class)\n",
    "#     print('The initial probability of being in the secreted class is:', \n",
    "#         initial_score)\n",
    "    \n",
    "    # set a maximum of positions with time and plot maximum considerations\n",
    "    \n",
    "    \n",
    "    # if no position was specified mutate all\n",
    "    if positions == None:\n",
    "        res_poses = np.array(list(range(0,len(sequence))))\n",
    "    else:\n",
    "        # create test to check if position is a list\n",
    "        res_poses = get_residue_positions(positions)\n",
    "        # inform user that positions are 1 based so that they can usually work on that from a pdb file\n",
    "        # convert positions to 0 based positions\n",
    "        res_poses = res_poses - 1\n",
    "        \n",
    "        # check if largest position is within the protein length\n",
    "        if np.max(res_poses)+1 > len(sequence):\n",
    "            raise ValueError('You passed residue position '+str(np.max(res_poses)+1)+', which is larger than the protein length of '+str(len(sequence))+' residues.')\n",
    "        else:\n",
    "            pass\n",
    "\n",
    "    mutated_scores = pd.DataFrame()\n",
    "    \n",
    "    for resid in res_poses:\n",
    "#         print(\"running position\", resid, \"of\", str(np.max(res_poses)))\n",
    "        \n",
    "        mut_score_pos = []\n",
    "        \n",
    "        for mutation in amino_acids:\n",
    "            mutated_seq = sequence[:resid] + str(mutation) + sequence[resid+1:]\n",
    "#             pred_score = 3\n",
    "            pred_class, pred_score = localization_score(mutated_seq, organism, target_class, include_dg)\n",
    "            mut_score_pos.append(pred_score)\n",
    "        \n",
    "        mut_score_pos = pd.Series(mut_score_pos, index = amino_acids)\n",
    "        \n",
    "        original_name = str(sequence[resid]) + '_' + str(resid)\n",
    "        \n",
    "        mutated_scores[original_name] = mut_score_pos\n",
    "\n",
    "    \n",
    "    \n",
    "    return mutated_scores, initial_score"
   ]
  },
  {
   "cell_type": "code",
   "execution_count": 24,
   "id": "silent-sampling",
   "metadata": {},
   "outputs": [],
   "source": [
    "dats = optimize_sequence(seq, org, target, positions='1,3')"
   ]
  },
  {
   "cell_type": "code",
   "execution_count": 29,
   "id": "imposed-riding",
   "metadata": {},
   "outputs": [],
   "source": [
    "dats = dats[0]"
   ]
  },
  {
   "cell_type": "code",
   "execution_count": 30,
   "id": "israeli-norway",
   "metadata": {},
   "outputs": [
    {
     "name": "stdout",
     "output_type": "stream",
     "text": [
      "The initial localization clas is: cytoplasm\n",
      "The initial probability of being in the secreted class is: 0.4\n"
     ]
    }
   ],
   "source": [
    "initial_class, initial_score = localization_score(seq, org, target)\n",
    "#     print('The initial sequence is:', sequence)\n",
    "print('The initial localization clas is:', initial_class)\n",
    "print('The initial probability of being in the secreted class is:', \n",
    "        initial_score)"
   ]
  },
  {
   "cell_type": "code",
   "execution_count": 31,
   "id": "charitable-sheffield",
   "metadata": {},
   "outputs": [
    {
     "data": {
      "text/html": [
       "<div>\n",
       "<style scoped>\n",
       "    .dataframe tbody tr th:only-of-type {\n",
       "        vertical-align: middle;\n",
       "    }\n",
       "\n",
       "    .dataframe tbody tr th {\n",
       "        vertical-align: top;\n",
       "    }\n",
       "\n",
       "    .dataframe thead th {\n",
       "        text-align: right;\n",
       "    }\n",
       "</style>\n",
       "<table border=\"1\" class=\"dataframe\">\n",
       "  <thead>\n",
       "    <tr style=\"text-align: right;\">\n",
       "      <th></th>\n",
       "      <th>G_0</th>\n",
       "      <th>L_2</th>\n",
       "    </tr>\n",
       "  </thead>\n",
       "  <tbody>\n",
       "    <tr>\n",
       "      <th>G</th>\n",
       "      <td>0.00</td>\n",
       "      <td>-0.03</td>\n",
       "    </tr>\n",
       "    <tr>\n",
       "      <th>A</th>\n",
       "      <td>-0.03</td>\n",
       "      <td>0.00</td>\n",
       "    </tr>\n",
       "    <tr>\n",
       "      <th>L</th>\n",
       "      <td>-0.07</td>\n",
       "      <td>0.00</td>\n",
       "    </tr>\n",
       "    <tr>\n",
       "      <th>M</th>\n",
       "      <td>-0.05</td>\n",
       "      <td>-0.04</td>\n",
       "    </tr>\n",
       "    <tr>\n",
       "      <th>F</th>\n",
       "      <td>-0.06</td>\n",
       "      <td>0.00</td>\n",
       "    </tr>\n",
       "    <tr>\n",
       "      <th>W</th>\n",
       "      <td>0.01</td>\n",
       "      <td>-0.04</td>\n",
       "    </tr>\n",
       "    <tr>\n",
       "      <th>K</th>\n",
       "      <td>0.03</td>\n",
       "      <td>-0.04</td>\n",
       "    </tr>\n",
       "    <tr>\n",
       "      <th>Q</th>\n",
       "      <td>0.01</td>\n",
       "      <td>0.00</td>\n",
       "    </tr>\n",
       "    <tr>\n",
       "      <th>E</th>\n",
       "      <td>0.03</td>\n",
       "      <td>-0.01</td>\n",
       "    </tr>\n",
       "    <tr>\n",
       "      <th>S</th>\n",
       "      <td>0.02</td>\n",
       "      <td>0.05</td>\n",
       "    </tr>\n",
       "    <tr>\n",
       "      <th>P</th>\n",
       "      <td>0.03</td>\n",
       "      <td>-0.02</td>\n",
       "    </tr>\n",
       "    <tr>\n",
       "      <th>V</th>\n",
       "      <td>-0.02</td>\n",
       "      <td>-0.01</td>\n",
       "    </tr>\n",
       "    <tr>\n",
       "      <th>I</th>\n",
       "      <td>-0.01</td>\n",
       "      <td>0.00</td>\n",
       "    </tr>\n",
       "    <tr>\n",
       "      <th>C</th>\n",
       "      <td>0.03</td>\n",
       "      <td>0.00</td>\n",
       "    </tr>\n",
       "    <tr>\n",
       "      <th>Y</th>\n",
       "      <td>-0.02</td>\n",
       "      <td>-0.01</td>\n",
       "    </tr>\n",
       "    <tr>\n",
       "      <th>H</th>\n",
       "      <td>0.02</td>\n",
       "      <td>0.03</td>\n",
       "    </tr>\n",
       "    <tr>\n",
       "      <th>R</th>\n",
       "      <td>-0.01</td>\n",
       "      <td>-0.02</td>\n",
       "    </tr>\n",
       "    <tr>\n",
       "      <th>N</th>\n",
       "      <td>-0.01</td>\n",
       "      <td>0.03</td>\n",
       "    </tr>\n",
       "    <tr>\n",
       "      <th>D</th>\n",
       "      <td>-0.02</td>\n",
       "      <td>0.03</td>\n",
       "    </tr>\n",
       "    <tr>\n",
       "      <th>T</th>\n",
       "      <td>0.01</td>\n",
       "      <td>0.03</td>\n",
       "    </tr>\n",
       "  </tbody>\n",
       "</table>\n",
       "</div>"
      ],
      "text/plain": [
       "    G_0   L_2\n",
       "G  0.00 -0.03\n",
       "A -0.03  0.00\n",
       "L -0.07  0.00\n",
       "M -0.05 -0.04\n",
       "F -0.06  0.00\n",
       "W  0.01 -0.04\n",
       "K  0.03 -0.04\n",
       "Q  0.01  0.00\n",
       "E  0.03 -0.01\n",
       "S  0.02  0.05\n",
       "P  0.03 -0.02\n",
       "V -0.02 -0.01\n",
       "I -0.01  0.00\n",
       "C  0.03  0.00\n",
       "Y -0.02 -0.01\n",
       "H  0.02  0.03\n",
       "R -0.01 -0.02\n",
       "N -0.01  0.03\n",
       "D -0.02  0.03\n",
       "T  0.01  0.03"
      ]
     },
     "execution_count": 31,
     "metadata": {},
     "output_type": "execute_result"
    }
   ],
   "source": [
    "dats-initial_score"
   ]
  },
  {
   "cell_type": "code",
   "execution_count": 32,
   "id": "hundred-velvet",
   "metadata": {},
   "outputs": [],
   "source": [
    "data2 = dats.copy()\n",
    "for i in range(0,20):\n",
    "    data2[str(i)+'a'] = dats['G_0']\n",
    "    data2[str(i)+'b'] = dats['L_2']"
   ]
  },
  {
   "cell_type": "code",
   "execution_count": 33,
   "id": "differential-conflict",
   "metadata": {},
   "outputs": [],
   "source": [
    "import matplotlib.ticker as mticker"
   ]
  },
  {
   "cell_type": "code",
   "execution_count": 115,
   "id": "aggregate-nerve",
   "metadata": {},
   "outputs": [],
   "source": [
    "# this one is functional!!\n",
    "def plot_optimization(mutated_scores, initial_score):\n",
    "    \n",
    "    relative_sc = mutated_scores - initial_score\n",
    "    max_sc = np.max(np.abs(relative_sc.values))\n",
    "    \n",
    "    fig, ax = plt.subplots(1, 1, figsize=(8*relative_sc.shape[1]/28,6))\n",
    "\n",
    "    pcm = ax.pcolormesh(mutated_scores.columns, mutated_scores.index,\n",
    "                        relative_sc.values, shading='nearest',\n",
    "                        norm=colors.Normalize(vmin=-max_sc, vmax=max_sc),\n",
    "                        cmap='bwr')\n",
    "    cb = fig.colorbar(pcm, ax=ax, extend='both')\n",
    "    cb.set_label('Change in probability for target class',  fontsize=12)\n",
    "    # ax.set_xticklabels(labels, rotation=45, ha='right')\n",
    "    # ax.set_xticklabels(ax.get_xticks(), rotation=90)\n",
    "    ax.set_xticklabels(mutated_scores.columns, rotation=90)\n",
    "    \n",
    "    # to try to remove warning\n",
    "#     ticks_loc = mutated_scores.columns.tolist()\n",
    "#     ax.xaxis.set_major_locator(mticker.FixedLocator(ticks_loc))\n",
    "#     ax.set_xticklabels([x for x in ticks_loc])\n",
    "\n",
    "\n",
    "    plt.show()\n",
    "    return None"
   ]
  },
  {
   "cell_type": "code",
   "execution_count": 116,
   "id": "described-homework",
   "metadata": {},
   "outputs": [
    {
     "name": "stderr",
     "output_type": "stream",
     "text": [
      "<ipython-input-115-527c774db907>:17: UserWarning: FixedFormatter should only be used together with FixedLocator\n",
      "  ax.set_xticklabels(mutated_scores.columns, rotation=90)\n"
     ]
    },
    {
     "data": {
      "image/png": "[encoded data removed]",
      "text/plain": [
       "<Figure size 864x432 with 2 Axes>"
      ]
     },
     "metadata": {
      "needs_background": "light"
     },
     "output_type": "display_data"
    }
   ],
   "source": [
    "plot_optimization(data2, initial_score)"
   ]
  },
  {
   "cell_type": "code",
   "execution_count": 36,
   "id": "chubby-penguin",
   "metadata": {},
   "outputs": [],
   "source": [
    "# better shape hopefully\n",
    "def plot_optimization(mutated_scores, initial_score):\n",
    "    \n",
    "    relative_sc = mutated_scores - initial_score\n",
    "    # set width between 8 and 18 depending on number of positions\n",
    "    # if the maximum is passed, the x axis labels will overlap\n",
    "    width = np.minimum(np.maximum(int(8*mutated_scores.shape[1]/28),8),18)\n",
    "    # to have 0 centered color bar get maximum value in dataset\n",
    "    max_sc = np.max(np.abs(relative_sc.values))\n",
    "    \n",
    "    fig, ax = plt.subplots(1, 1, figsize=(width,6))\n",
    "\n",
    "    pcm = ax.pcolormesh(mutated_scores.columns, mutated_scores.index,\n",
    "                        relative_sc.values, shading='nearest',\n",
    "                        norm=colors.Normalize(vmin=-max_sc, vmax=max_sc),\n",
    "                        cmap='bwr')\n",
    "    fig.colorbar(pcm, ax=ax, extend='both')\n",
    "    # ax.set_xticklabels(labels, rotation=45, ha='right')\n",
    "    # ax.set_xticklabels(ax.get_xticks(), rotation=90)\n",
    "    ax.set_xticklabels(mutated_scores.columns, rotation=90)\n",
    "    \n",
    "    # to try to remove warning\n",
    "#     ticks_loc = mutated_scores.columns.tolist()\n",
    "#     ax.xaxis.set_major_locator(mticker.FixedLocator(ticks_loc))\n",
    "#     ax.set_xticklabels([x for x in ticks_loc])\n",
    "    ax.set_xlabel('Position and original amino acid')\n",
    "    ax.set_ylabel('Mutation')\n",
    "\n",
    "    plt.show()\n",
    "    return None"
   ]
  },
  {
   "cell_type": "markdown",
   "id": "tired-manufacturer",
   "metadata": {},
   "source": [
    "### How would the heatmap look like with more data?"
   ]
  },
  {
   "cell_type": "code",
   "execution_count": null,
   "id": "nominated-mortgage",
   "metadata": {
    "scrolled": true
   },
   "outputs": [],
   "source": [
    "plot_optimization(dats, initial_score)"
   ]
  },
  {
   "cell_type": "code",
   "execution_count": 118,
   "id": "wooden-notification",
   "metadata": {},
   "outputs": [],
   "source": [
    "data3 = dats.copy()\n",
    "for i in range(0,10):\n",
    "    data3[str(i)+'a'] = dats['G_0']\n",
    "    data3[str(i)+'b'] = dats['L_2']"
   ]
  },
  {
   "cell_type": "code",
   "execution_count": 119,
   "id": "precise-fabric",
   "metadata": {},
   "outputs": [],
   "source": [
    "data4 = dats.copy()\n",
    "for i in range(0,30):\n",
    "    data4[str(i)+'a'] = dats['G_0']\n",
    "    data4[str(i)+'b'] = dats['L_2']"
   ]
  },
  {
   "cell_type": "code",
   "execution_count": 120,
   "id": "danish-eligibility",
   "metadata": {},
   "outputs": [],
   "source": [
    "data5 = dats.copy()\n",
    "for i in range(0,8):\n",
    "    data5[str(i)+'a'] = dats['G_0']\n",
    "    data5[str(i)+'b'] = dats['L_2']"
   ]
  },
  {
   "cell_type": "code",
   "execution_count": 121,
   "id": "russian-template",
   "metadata": {},
   "outputs": [],
   "source": [
    "data6 = dats.copy()\n",
    "for i in range(0,40):\n",
    "    data6[str(i)+'a'] = dats['G_0']\n",
    "    data6[str(i)+'b'] = dats['L_2']"
   ]
  },
  {
   "cell_type": "code",
   "execution_count": 122,
   "id": "accessory-poster",
   "metadata": {},
   "outputs": [
    {
     "name": "stderr",
     "output_type": "stream",
     "text": [
      "<ipython-input-115-527c774db907>:17: UserWarning: FixedFormatter should only be used together with FixedLocator\n",
      "  ax.set_xticklabels(mutated_scores.columns, rotation=90)\n"
     ]
    },
    {
     "data": {
      "image/png": "[encoded data removed]",
      "text/plain": [
       "<Figure size 452.571x432 with 2 Axes>"
      ]
     },
     "metadata": {
      "needs_background": "light"
     },
     "output_type": "display_data"
    }
   ],
   "source": [
    "plot_optimization(data3, initial_score)"
   ]
  },
  {
   "cell_type": "code",
   "execution_count": 195,
   "id": "interested-boards",
   "metadata": {},
   "outputs": [
    {
     "name": "stderr",
     "output_type": "stream",
     "text": [
      "<ipython-input-189-94aaf25db387>:19: UserWarning: FixedFormatter should only be used together with FixedLocator\n",
      "  ax.set_xticklabels(mutated_scores.columns, rotation=90)\n"
     ]
    },
    {
     "data": {
      "image/png": "[encoded data removed]",
      "text/plain": [
       "<Figure size 1224x432 with 2 Axes>"
      ]
     },
     "metadata": {
      "needs_background": "light"
     },
     "output_type": "display_data"
    }
   ],
   "source": [
    "plot_optimization(data4, initial_score)"
   ]
  },
  {
   "cell_type": "code",
   "execution_count": 196,
   "id": "broken-savings",
   "metadata": {},
   "outputs": [
    {
     "name": "stderr",
     "output_type": "stream",
     "text": [
      "<ipython-input-189-94aaf25db387>:19: UserWarning: FixedFormatter should only be used together with FixedLocator\n",
      "  ax.set_xticklabels(mutated_scores.columns, rotation=90)\n"
     ]
    },
    {
     "data": {
      "image/png": "[encoded data removed]",
      "text/plain": [
       "<Figure size 576x432 with 2 Axes>"
      ]
     },
     "metadata": {
      "needs_background": "light"
     },
     "output_type": "display_data"
    }
   ],
   "source": [
    "plot_optimization(data5, initial_score)"
   ]
  },
  {
   "cell_type": "code",
   "execution_count": 199,
   "id": "determined-drawing",
   "metadata": {},
   "outputs": [
    {
     "name": "stderr",
     "output_type": "stream",
     "text": [
      "<ipython-input-197-8f71d4323030>:20: UserWarning: FixedFormatter should only be used together with FixedLocator\n",
      "  ax.set_xticklabels(mutated_scores.columns, rotation=90)\n"
     ]
    },
    {
     "data": {
      "image/png": "[encoded data removed]",
      "text/plain": [
       "<Figure size 1296x432 with 2 Axes>"
      ]
     },
     "metadata": {
      "needs_background": "light"
     },
     "output_type": "display_data"
    }
   ],
   "source": [
    "# maximum width but still without overlap\n",
    "plot_optimization(data6, initial_score)"
   ]
  },
  {
   "cell_type": "code",
   "execution_count": null,
   "id": "incomplete-adobe",
   "metadata": {},
   "outputs": [],
   "source": []
  },
  {
   "cell_type": "code",
   "execution_count": 37,
   "id": "legendary-primary",
   "metadata": {},
   "outputs": [],
   "source": [
    "def plot_optimization(mutated_scores, initial_score, plot_inplace=True, dpi=100):\n",
    "    \"\"\"\n",
    "\n",
    "    \"\"\"\n",
    "    if not isinstance(mutated_scores, pd.DataFrame):\n",
    "        raise TypeError('The mutate_scores variable should be a pd.DataFrame object but received a '+str(type(mutated_scores)))\n",
    "    else:\n",
    "        pass\n",
    "\n",
    "    try:\n",
    "        relative_sc = mutated_scores - initial_score\n",
    "    except Exception as e:\n",
    "        raise TypeError('The values of the mutated scores dataframe and initial_score variable should be numeric. But got error: '+str(e))\n",
    "    \n",
    "    try:\n",
    "        dpi = int(dpi)\n",
    "    except Exception as e:\n",
    "        raise TypeError('The value of dpi should be an integer, but got '+str(dpi)+' instead')\n",
    "\n",
    "    # set width between 8 and 18 depending on number of positions\n",
    "    # if the maximum is passed, the x axis labels will overlap\n",
    "    width = np.minimum(np.maximum(int(8*mutated_scores.shape[1]/28),8),18)\n",
    "    # to have 0 centered color bar get maximum value in dataset\n",
    "    max_sc = np.max(np.abs(relative_sc.values))\n",
    "    \n",
    "    fig, ax = plt.subplots(1, 1, figsize=(width,6), dpi=dpi)\n",
    "\n",
    "    pcm = ax.pcolormesh(mutated_scores.columns, mutated_scores.index,\n",
    "                        relative_sc.values, shading='nearest',\n",
    "                        norm=colors.Normalize(vmin=-max_sc, vmax=max_sc),\n",
    "                        cmap='bwr')\n",
    "    fig.colorbar(pcm, ax=ax, extend='both')\n",
    "    # ax.set_xticklabels(labels, rotation=45, ha='right')\n",
    "    # ax.set_xticklabels(ax.get_xticks(), rotation=90)\n",
    "    ax.set_xticklabels(mutated_scores.columns, rotation=90)\n",
    "    \n",
    "    # to try to remove warning\n",
    "#     ticks_loc = mutated_scores.columns.tolist()\n",
    "#     ax.xaxis.set_major_locator(mticker.FixedLocator(ticks_loc))\n",
    "#     ax.set_xticklabels([x for x in ticks_loc])\n",
    "    ax.set_xlabel('Position and original amino acid')\n",
    "    ax.set_ylabel('Mutation')\n",
    "\n",
    "    # if on a notebook, plot and return nothing or it would be plot twice \n",
    "    if plot_inplace:\n",
    "        plt.show()\n",
    "        return None\n",
    "    # for other applications select plot_inplace=False and return the figure\n",
    "    else:\n",
    "        return fig"
   ]
  },
  {
   "cell_type": "code",
   "execution_count": 38,
   "id": "plain-singapore",
   "metadata": {},
   "outputs": [
    {
     "name": "stderr",
     "output_type": "stream",
     "text": [
      "<ipython-input-37-fa827ba5b8f3>:35: UserWarning: FixedFormatter should only be used together with FixedLocator\n",
      "  ax.set_xticklabels(mutated_scores.columns, rotation=90)\n"
     ]
    },
    {
     "data": {
      "image/png": "[encoded data removed]",
      "text/plain": [
       "<Figure size 800x600 with 2 Axes>"
      ]
     },
     "metadata": {
      "needs_background": "light"
     },
     "output_type": "display_data"
    }
   ],
   "source": [
    "figure = plot_optimization(dats, initial_score, False)"
   ]
  },
  {
   "cell_type": "code",
   "execution_count": 57,
   "id": "cardiovascular-trance",
   "metadata": {},
   "outputs": [
    {
     "data": {
      "text/html": [
       "<div>\n",
       "<style scoped>\n",
       "    .dataframe tbody tr th:only-of-type {\n",
       "        vertical-align: middle;\n",
       "    }\n",
       "\n",
       "    .dataframe tbody tr th {\n",
       "        vertical-align: top;\n",
       "    }\n",
       "\n",
       "    .dataframe thead th {\n",
       "        text-align: right;\n",
       "    }\n",
       "</style>\n",
       "<table border=\"1\" class=\"dataframe\">\n",
       "  <thead>\n",
       "    <tr style=\"text-align: right;\">\n",
       "      <th></th>\n",
       "      <th>G_0</th>\n",
       "      <th>L_2</th>\n",
       "    </tr>\n",
       "  </thead>\n",
       "  <tbody>\n",
       "    <tr>\n",
       "      <th>G</th>\n",
       "      <td>0.40</td>\n",
       "      <td>0.37</td>\n",
       "    </tr>\n",
       "    <tr>\n",
       "      <th>A</th>\n",
       "      <td>0.37</td>\n",
       "      <td>0.40</td>\n",
       "    </tr>\n",
       "    <tr>\n",
       "      <th>L</th>\n",
       "      <td>0.33</td>\n",
       "      <td>0.40</td>\n",
       "    </tr>\n",
       "    <tr>\n",
       "      <th>M</th>\n",
       "      <td>0.35</td>\n",
       "      <td>0.36</td>\n",
       "    </tr>\n",
       "    <tr>\n",
       "      <th>F</th>\n",
       "      <td>0.34</td>\n",
       "      <td>0.40</td>\n",
       "    </tr>\n",
       "    <tr>\n",
       "      <th>W</th>\n",
       "      <td>0.41</td>\n",
       "      <td>0.36</td>\n",
       "    </tr>\n",
       "    <tr>\n",
       "      <th>K</th>\n",
       "      <td>0.43</td>\n",
       "      <td>0.36</td>\n",
       "    </tr>\n",
       "    <tr>\n",
       "      <th>Q</th>\n",
       "      <td>0.41</td>\n",
       "      <td>0.40</td>\n",
       "    </tr>\n",
       "    <tr>\n",
       "      <th>E</th>\n",
       "      <td>0.43</td>\n",
       "      <td>0.39</td>\n",
       "    </tr>\n",
       "    <tr>\n",
       "      <th>S</th>\n",
       "      <td>0.42</td>\n",
       "      <td>0.45</td>\n",
       "    </tr>\n",
       "    <tr>\n",
       "      <th>P</th>\n",
       "      <td>0.43</td>\n",
       "      <td>0.38</td>\n",
       "    </tr>\n",
       "    <tr>\n",
       "      <th>V</th>\n",
       "      <td>0.38</td>\n",
       "      <td>0.39</td>\n",
       "    </tr>\n",
       "    <tr>\n",
       "      <th>I</th>\n",
       "      <td>0.39</td>\n",
       "      <td>0.40</td>\n",
       "    </tr>\n",
       "    <tr>\n",
       "      <th>C</th>\n",
       "      <td>0.43</td>\n",
       "      <td>0.40</td>\n",
       "    </tr>\n",
       "    <tr>\n",
       "      <th>Y</th>\n",
       "      <td>0.38</td>\n",
       "      <td>0.39</td>\n",
       "    </tr>\n",
       "    <tr>\n",
       "      <th>H</th>\n",
       "      <td>0.42</td>\n",
       "      <td>0.43</td>\n",
       "    </tr>\n",
       "    <tr>\n",
       "      <th>R</th>\n",
       "      <td>0.39</td>\n",
       "      <td>0.38</td>\n",
       "    </tr>\n",
       "    <tr>\n",
       "      <th>N</th>\n",
       "      <td>0.39</td>\n",
       "      <td>0.43</td>\n",
       "    </tr>\n",
       "    <tr>\n",
       "      <th>D</th>\n",
       "      <td>0.38</td>\n",
       "      <td>0.43</td>\n",
       "    </tr>\n",
       "    <tr>\n",
       "      <th>T</th>\n",
       "      <td>0.41</td>\n",
       "      <td>0.43</td>\n",
       "    </tr>\n",
       "  </tbody>\n",
       "</table>\n",
       "</div>"
      ],
      "text/plain": [
       "    G_0   L_2\n",
       "G  0.40  0.37\n",
       "A  0.37  0.40\n",
       "L  0.33  0.40\n",
       "M  0.35  0.36\n",
       "F  0.34  0.40\n",
       "W  0.41  0.36\n",
       "K  0.43  0.36\n",
       "Q  0.41  0.40\n",
       "E  0.43  0.39\n",
       "S  0.42  0.45\n",
       "P  0.43  0.38\n",
       "V  0.38  0.39\n",
       "I  0.39  0.40\n",
       "C  0.43  0.40\n",
       "Y  0.38  0.39\n",
       "H  0.42  0.43\n",
       "R  0.39  0.38\n",
       "N  0.39  0.43\n",
       "D  0.38  0.43\n",
       "T  0.41  0.43"
      ]
     },
     "execution_count": 57,
     "metadata": {},
     "output_type": "execute_result"
    }
   ],
   "source": [
    "dats"
   ]
  },
  {
   "cell_type": "code",
   "execution_count": 54,
   "id": "continuing-victoria",
   "metadata": {},
   "outputs": [],
   "source": [
    "difs = dats - initial_score"
   ]
  },
  {
   "cell_type": "code",
   "execution_count": 68,
   "id": "outer-lunch",
   "metadata": {},
   "outputs": [
    {
     "data": {
      "text/html": [
       "<div>\n",
       "<style scoped>\n",
       "    .dataframe tbody tr th:only-of-type {\n",
       "        vertical-align: middle;\n",
       "    }\n",
       "\n",
       "    .dataframe tbody tr th {\n",
       "        vertical-align: top;\n",
       "    }\n",
       "\n",
       "    .dataframe thead th {\n",
       "        text-align: right;\n",
       "    }\n",
       "</style>\n",
       "<table border=\"1\" class=\"dataframe\">\n",
       "  <thead>\n",
       "    <tr style=\"text-align: right;\">\n",
       "      <th></th>\n",
       "      <th>G_0</th>\n",
       "      <th>L_2</th>\n",
       "    </tr>\n",
       "  </thead>\n",
       "  <tbody>\n",
       "    <tr>\n",
       "      <th>G</th>\n",
       "      <td>0.00</td>\n",
       "      <td>-0.03</td>\n",
       "    </tr>\n",
       "    <tr>\n",
       "      <th>A</th>\n",
       "      <td>-0.03</td>\n",
       "      <td>0.00</td>\n",
       "    </tr>\n",
       "    <tr>\n",
       "      <th>L</th>\n",
       "      <td>-0.07</td>\n",
       "      <td>0.00</td>\n",
       "    </tr>\n",
       "    <tr>\n",
       "      <th>M</th>\n",
       "      <td>-0.05</td>\n",
       "      <td>-0.04</td>\n",
       "    </tr>\n",
       "    <tr>\n",
       "      <th>F</th>\n",
       "      <td>-0.06</td>\n",
       "      <td>0.00</td>\n",
       "    </tr>\n",
       "    <tr>\n",
       "      <th>W</th>\n",
       "      <td>0.01</td>\n",
       "      <td>-0.04</td>\n",
       "    </tr>\n",
       "    <tr>\n",
       "      <th>K</th>\n",
       "      <td>0.03</td>\n",
       "      <td>-0.04</td>\n",
       "    </tr>\n",
       "    <tr>\n",
       "      <th>Q</th>\n",
       "      <td>0.01</td>\n",
       "      <td>0.00</td>\n",
       "    </tr>\n",
       "    <tr>\n",
       "      <th>E</th>\n",
       "      <td>0.03</td>\n",
       "      <td>-0.01</td>\n",
       "    </tr>\n",
       "    <tr>\n",
       "      <th>S</th>\n",
       "      <td>0.02</td>\n",
       "      <td>0.05</td>\n",
       "    </tr>\n",
       "    <tr>\n",
       "      <th>P</th>\n",
       "      <td>0.03</td>\n",
       "      <td>-0.02</td>\n",
       "    </tr>\n",
       "    <tr>\n",
       "      <th>V</th>\n",
       "      <td>-0.02</td>\n",
       "      <td>-0.01</td>\n",
       "    </tr>\n",
       "    <tr>\n",
       "      <th>I</th>\n",
       "      <td>-0.01</td>\n",
       "      <td>0.00</td>\n",
       "    </tr>\n",
       "    <tr>\n",
       "      <th>C</th>\n",
       "      <td>0.03</td>\n",
       "      <td>0.00</td>\n",
       "    </tr>\n",
       "    <tr>\n",
       "      <th>Y</th>\n",
       "      <td>-0.02</td>\n",
       "      <td>-0.01</td>\n",
       "    </tr>\n",
       "    <tr>\n",
       "      <th>H</th>\n",
       "      <td>0.02</td>\n",
       "      <td>0.03</td>\n",
       "    </tr>\n",
       "    <tr>\n",
       "      <th>R</th>\n",
       "      <td>-0.01</td>\n",
       "      <td>-0.02</td>\n",
       "    </tr>\n",
       "    <tr>\n",
       "      <th>N</th>\n",
       "      <td>-0.01</td>\n",
       "      <td>0.03</td>\n",
       "    </tr>\n",
       "    <tr>\n",
       "      <th>D</th>\n",
       "      <td>-0.02</td>\n",
       "      <td>0.03</td>\n",
       "    </tr>\n",
       "    <tr>\n",
       "      <th>T</th>\n",
       "      <td>0.01</td>\n",
       "      <td>0.03</td>\n",
       "    </tr>\n",
       "  </tbody>\n",
       "</table>\n",
       "</div>"
      ],
      "text/plain": [
       "    G_0   L_2\n",
       "G  0.00 -0.03\n",
       "A -0.03  0.00\n",
       "L -0.07  0.00\n",
       "M -0.05 -0.04\n",
       "F -0.06  0.00\n",
       "W  0.01 -0.04\n",
       "K  0.03 -0.04\n",
       "Q  0.01  0.00\n",
       "E  0.03 -0.01\n",
       "S  0.02  0.05\n",
       "P  0.03 -0.02\n",
       "V -0.02 -0.01\n",
       "I -0.01  0.00\n",
       "C  0.03  0.00\n",
       "Y -0.02 -0.01\n",
       "H  0.02  0.03\n",
       "R -0.01 -0.02\n",
       "N -0.01  0.03\n",
       "D -0.02  0.03\n",
       "T  0.01  0.03"
      ]
     },
     "execution_count": 68,
     "metadata": {},
     "output_type": "execute_result"
    }
   ],
   "source": [
    "difs"
   ]
  },
  {
   "cell_type": "code",
   "execution_count": 59,
   "id": "thrown-capitol",
   "metadata": {},
   "outputs": [
    {
     "data": {
      "text/plain": [
       "G_0    0.03\n",
       "L_2    0.05\n",
       "dtype: float64"
      ]
     },
     "execution_count": 59,
     "metadata": {},
     "output_type": "execute_result"
    }
   ],
   "source": [
    "difs.max()"
   ]
  },
  {
   "cell_type": "code",
   "execution_count": 60,
   "id": "tutorial-seattle",
   "metadata": {},
   "outputs": [],
   "source": [
    "top10 = pd.DataFrame(columns=[\"Position\",\"Mutation\",\"Prediction_Change\",\"Target_Probability\"])"
   ]
  },
  {
   "cell_type": "code",
   "execution_count": 63,
   "id": "focused-cleaner",
   "metadata": {},
   "outputs": [],
   "source": [
    "difs_copy = difs.copy()"
   ]
  },
  {
   "cell_type": "code",
   "execution_count": 65,
   "id": "intermediate-processing",
   "metadata": {},
   "outputs": [],
   "source": [
    "max_vals = difs_copy.max()"
   ]
  },
  {
   "cell_type": "code",
   "execution_count": 93,
   "id": "neither-upgrade",
   "metadata": {
    "scrolled": true
   },
   "outputs": [
    {
     "name": "stdout",
     "output_type": "stream",
     "text": [
      "  Position Mutation  Prob_increase  Target_probability\n",
      "0      L_2        S           0.05                0.45\n",
      "1      G_0        K           0.03                0.43\n",
      "2      G_0        E           0.03                0.43\n",
      "3      G_0        P           0.03                0.43\n",
      "4      G_0        C           0.03                0.43\n",
      "5      L_2        H           0.03                0.43\n",
      "6      L_2        N           0.03                0.43\n",
      "7      L_2        D           0.03                0.43\n",
      "8      L_2        T           0.03                0.43\n",
      "9      G_0        S           0.02                0.42\n"
     ]
    }
   ],
   "source": [
    "prob_change = dats - initial_score\n",
    "top10 = pd.DataFrame(columns=[\"Position\",\"Mutation\",\"Prob_increase\",\"Target_probability\"])\n",
    "\n",
    "i = 0\n",
    "\n",
    "while i < 10 and pred_increase > 0:\n",
    "    # get column with maximum value\n",
    "    position_mut = prob_change.max().idxmax()\n",
    "    mutation = prob_change.idxmax()[position_mut]\n",
    "    pred_increase = prob_change.loc[mutation, position_mut]\n",
    "    prob_value = dats.loc[mutation, position_mut]\n",
    "    prob_change.loc[mutation, position_mut] = np.nan\n",
    "    mut_series = pd.Series({\"Position\": position_mut, \"Mutation\": mutation,\n",
    "                            \"Prob_increase\": pred_increase, \"Target_probability\": prob_value})\n",
    "    top10 = top10.append(mut_series, ignore_index=True)\n",
    "    i += 1\n",
    "\n",
    "print(top10)"
   ]
  },
  {
   "cell_type": "code",
   "execution_count": 96,
   "id": "harmful-symphony",
   "metadata": {},
   "outputs": [],
   "source": [
    "def top_mutations(mutated_scores, initial_score, top_results):\n",
    "\n",
    "    if type(top_results) != int:\n",
    "        raise TypeError('top results should be an integer')\n",
    "    else:\n",
    "        pass\n",
    "    \n",
    "    prob_change = mutated_scores - initial_score\n",
    "\n",
    "    top_res = pd.DataFrame(columns=[\"Position\",\"Mutation\",\"Prob_increase\",\"Target_probability\"])\n",
    "\n",
    "    i = 0\n",
    "\n",
    "    while i < top_results and pred_increase > 0:\n",
    "        # get column with maximum value\n",
    "        position_mut = prob_change.max().idxmax()\n",
    "        # get row with maximum value\n",
    "        mutation = prob_change.idxmax()[position_mut]\n",
    "        pred_increase = prob_change.loc[mutation, position_mut]\n",
    "        prob_value = dats.loc[mutation, position_mut]\n",
    "        # change it for nan so that we can look for next result\n",
    "        prob_change.loc[mutation, position_mut] = np.nan\n",
    "        mut_series = pd.Series({\"Position\": position_mut, \"Mutation\": mutation,\n",
    "                                \"Prob_increase\": pred_increase, \"Target_probability\": prob_value})\n",
    "        top_res = top10.append(mut_series, ignore_index=True)\n",
    "        i += 1\n",
    "\n",
    "    return top_res"
   ]
  },
  {
   "cell_type": "code",
   "execution_count": 105,
   "id": "worst-fabric",
   "metadata": {},
   "outputs": [],
   "source": [
    "\n",
    "def test_top_mutations():\n",
    "    sequence = 'ALIENSRCMING'\n",
    "    organism = 'human'\n",
    "    target_loc = 'membrane'\n",
    "    position = '1,3'\n",
    "\n",
    "    mutated_scores, initial_score =  optimize_sequence(sequence, organism, target_loc, False, position)\n",
    "    try:\n",
    "        top_mutations(mutated_scores, initial_score, \"aaat\")\n",
    "    except Exception as exep:\n",
    "        assert isinstance(exep, TypeError), \"Passing a non-integer as top_results did not return a type error\"\n",
    "\n",
    "    result = top_mutations(mutated_scores, initial_score, 10)\n",
    "    assert type(result) == pd.DataFrame, \"The result of top_mutations is not a DataFrame\""
   ]
  },
  {
   "cell_type": "code",
   "execution_count": 106,
   "id": "precise-sacrifice",
   "metadata": {},
   "outputs": [
    {
     "ename": "UnboundLocalError",
     "evalue": "local variable 'pred_increase' referenced before assignment",
     "output_type": "error",
     "traceback": [
      "\u001b[0;31m---------------------------------------------------------------------------\u001b[0m",
      "\u001b[0;31mUnboundLocalError\u001b[0m                         Traceback (most recent call last)",
      "\u001b[0;32m<ipython-input-106-d581a0629201>\u001b[0m in \u001b[0;36m<module>\u001b[0;34m\u001b[0m\n\u001b[0;32m----> 1\u001b[0;31m \u001b[0mtest_top_mutations\u001b[0m\u001b[0;34m(\u001b[0m\u001b[0;34m)\u001b[0m\u001b[0;34m\u001b[0m\u001b[0;34m\u001b[0m\u001b[0m\n\u001b[0m",
      "\u001b[0;32m<ipython-input-105-6e0fb5e60771>\u001b[0m in \u001b[0;36mtest_top_mutations\u001b[0;34m()\u001b[0m\n\u001b[1;32m     11\u001b[0m         \u001b[0;32massert\u001b[0m \u001b[0misinstance\u001b[0m\u001b[0;34m(\u001b[0m\u001b[0mexep\u001b[0m\u001b[0;34m,\u001b[0m \u001b[0mTypeError\u001b[0m\u001b[0;34m)\u001b[0m\u001b[0;34m,\u001b[0m \u001b[0;34m\"Passing a non-integer as top_results did not return a type error\"\u001b[0m\u001b[0;34m\u001b[0m\u001b[0;34m\u001b[0m\u001b[0m\n\u001b[1;32m     12\u001b[0m \u001b[0;34m\u001b[0m\u001b[0m\n\u001b[0;32m---> 13\u001b[0;31m     \u001b[0mresult\u001b[0m \u001b[0;34m=\u001b[0m \u001b[0mtop_mutations\u001b[0m\u001b[0;34m(\u001b[0m\u001b[0mmutated_scores\u001b[0m\u001b[0;34m,\u001b[0m \u001b[0minitial_score\u001b[0m\u001b[0;34m,\u001b[0m \u001b[0;36m10\u001b[0m\u001b[0;34m)\u001b[0m\u001b[0;34m\u001b[0m\u001b[0;34m\u001b[0m\u001b[0m\n\u001b[0m\u001b[1;32m     14\u001b[0m     \u001b[0;32massert\u001b[0m \u001b[0mtype\u001b[0m\u001b[0;34m(\u001b[0m\u001b[0mresult\u001b[0m\u001b[0;34m)\u001b[0m \u001b[0;34m==\u001b[0m \u001b[0mpd\u001b[0m\u001b[0;34m.\u001b[0m\u001b[0mDataFrame\u001b[0m\u001b[0;34m,\u001b[0m \u001b[0;34m\"The result of top_mutations is not a DataFrame\"\u001b[0m\u001b[0;34m\u001b[0m\u001b[0;34m\u001b[0m\u001b[0m\n",
      "\u001b[0;32m<ipython-input-96-0e1c4f6c28bb>\u001b[0m in \u001b[0;36mtop_mutations\u001b[0;34m(mutated_scores, initial_score, top_results)\u001b[0m\n\u001b[1;32m     12\u001b[0m     \u001b[0mi\u001b[0m \u001b[0;34m=\u001b[0m \u001b[0;36m0\u001b[0m\u001b[0;34m\u001b[0m\u001b[0;34m\u001b[0m\u001b[0m\n\u001b[1;32m     13\u001b[0m \u001b[0;34m\u001b[0m\u001b[0m\n\u001b[0;32m---> 14\u001b[0;31m     \u001b[0;32mwhile\u001b[0m \u001b[0mi\u001b[0m \u001b[0;34m<\u001b[0m \u001b[0mtop_results\u001b[0m \u001b[0;32mand\u001b[0m \u001b[0mpred_increase\u001b[0m \u001b[0;34m>\u001b[0m \u001b[0;36m0\u001b[0m\u001b[0;34m:\u001b[0m\u001b[0;34m\u001b[0m\u001b[0;34m\u001b[0m\u001b[0m\n\u001b[0m\u001b[1;32m     15\u001b[0m         \u001b[0;31m# get column with maximum value\u001b[0m\u001b[0;34m\u001b[0m\u001b[0;34m\u001b[0m\u001b[0;34m\u001b[0m\u001b[0m\n\u001b[1;32m     16\u001b[0m         \u001b[0mposition_mut\u001b[0m \u001b[0;34m=\u001b[0m \u001b[0mprob_change\u001b[0m\u001b[0;34m.\u001b[0m\u001b[0mmax\u001b[0m\u001b[0;34m(\u001b[0m\u001b[0;34m)\u001b[0m\u001b[0;34m.\u001b[0m\u001b[0midxmax\u001b[0m\u001b[0;34m(\u001b[0m\u001b[0;34m)\u001b[0m\u001b[0;34m\u001b[0m\u001b[0;34m\u001b[0m\u001b[0m\n",
      "\u001b[0;31mUnboundLocalError\u001b[0m: local variable 'pred_increase' referenced before assignment"
     ]
    }
   ],
   "source": [
    "test_top_mutations()"
   ]
  },
  {
   "cell_type": "code",
   "execution_count": null,
   "id": "endless-cement",
   "metadata": {},
   "outputs": [],
   "source": []
  },
  {
   "cell_type": "code",
   "execution_count": null,
   "id": "congressional-railway",
   "metadata": {},
   "outputs": [],
   "source": []
  },
  {
   "cell_type": "code",
   "execution_count": null,
   "id": "considered-anderson",
   "metadata": {},
   "outputs": [],
   "source": []
  },
  {
   "cell_type": "code",
   "execution_count": null,
   "id": "classical-isolation",
   "metadata": {},
   "outputs": [],
   "source": []
  },
  {
   "cell_type": "code",
   "execution_count": null,
   "id": "fossil-plain",
   "metadata": {},
   "outputs": [],
   "source": []
  },
  {
   "cell_type": "markdown",
   "id": "induced-savannah",
   "metadata": {},
   "source": [
    "## other options"
   ]
  },
  {
   "cell_type": "code",
   "execution_count": 30,
   "id": "comparative-sweden",
   "metadata": {
    "scrolled": true
   },
   "outputs": [
    {
     "data": {
      "image/png": "[encoded data removed]",
      "text/plain": [
       "<Figure size 432x288 with 2 Axes>"
      ]
     },
     "metadata": {
      "needs_background": "light"
     },
     "output_type": "display_data"
    }
   ],
   "source": [
    "sns.heatmap(dats-initial_score, annot=False, cmap='bwr')\n",
    "plt.show()"
   ]
  },
  {
   "cell_type": "code",
   "execution_count": 15,
   "id": "asian-complex",
   "metadata": {},
   "outputs": [
    {
     "data": {
      "image/png": "[encoded data removed]",
      "text/plain": [
       "<Figure size 432x288 with 2 Axes>"
      ]
     },
     "metadata": {
      "needs_background": "light"
     },
     "output_type": "display_data"
    }
   ],
   "source": [
    "sns.heatmap(dats-initial_score, annot=True)\n",
    "plt.show()"
   ]
  },
  {
   "cell_type": "code",
   "execution_count": 16,
   "id": "perceived-lover",
   "metadata": {},
   "outputs": [],
   "source": [
    "data2 = dats"
   ]
  },
  {
   "cell_type": "code",
   "execution_count": 17,
   "id": "distributed-calculator",
   "metadata": {},
   "outputs": [],
   "source": [
    "for i in range(0,20):\n",
    "    data2[str(i)+'a'] = dats['G_0']\n",
    "    data2[str(i)+'b'] = dats['L_2']"
   ]
  },
  {
   "cell_type": "code",
   "execution_count": 18,
   "id": "welsh-section",
   "metadata": {},
   "outputs": [
    {
     "data": {
      "image/png": "[encoded data removed]",
      "text/plain": [
       "<Figure size 432x288 with 2 Axes>"
      ]
     },
     "metadata": {
      "needs_background": "light"
     },
     "output_type": "display_data"
    }
   ],
   "source": [
    "sns.heatmap(data2-initial_score, annot=False)\n",
    "plt.show()"
   ]
  },
  {
   "cell_type": "markdown",
   "id": "alleged-keyboard",
   "metadata": {},
   "source": [
    "Other heatmaps:\n",
    "\n",
    "- https://stackoverflow.com/questions/23994020/colorplot-that-distinguishes-between-positive-and-negative-values\n",
    "- https://matplotlib.org/2.0.2/examples/pylab_examples/custom_cmap.html"
   ]
  },
  {
   "cell_type": "code",
   "execution_count": null,
   "id": "northern-battery",
   "metadata": {},
   "outputs": [],
   "source": []
  },
  {
   "cell_type": "code",
   "execution_count": 19,
   "id": "independent-australia",
   "metadata": {},
   "outputs": [],
   "source": [
    "import matplotlib.colors as colors"
   ]
  },
  {
   "cell_type": "code",
   "execution_count": 31,
   "id": "ambient-spare",
   "metadata": {},
   "outputs": [
    {
     "name": "stderr",
     "output_type": "stream",
     "text": [
      "<ipython-input-31-2ad4584c424d>:3: MatplotlibDeprecationWarning: shading='flat' when X and Y have the same dimensions as C is deprecated since 3.3.  Either specify the corners of the quadrilaterals with X and Y, or pass shading='auto', 'nearest' or 'gouraud', or set rcParams['pcolor.shading'].  This will become an error two minor releases later.\n",
      "  pcm = ax.pcolormesh(data2.columns, data2.index, data2.values-initial_score,\n"
     ]
    },
    {
     "data": {
      "image/png": "[encoded data removed]",
      "text/plain": [
       "<Figure size 432x288 with 2 Axes>"
      ]
     },
     "metadata": {
      "needs_background": "light"
     },
     "output_type": "display_data"
    }
   ],
   "source": [
    "fig, ax = plt.subplots(1, 1)\n",
    "\n",
    "pcm = ax.pcolormesh(data2.columns, data2.index, data2.values-initial_score,\n",
    "                       cmap='bwr')\n",
    "fig.colorbar(pcm, ax=ax, extend='both')\n",
    "\n",
    "plt.show()"
   ]
  },
  {
   "cell_type": "code",
   "execution_count": 43,
   "id": "protective-opportunity",
   "metadata": {},
   "outputs": [
    {
     "data": {
      "text/plain": [
       "0.45"
      ]
     },
     "execution_count": 43,
     "metadata": {},
     "output_type": "execute_result"
    }
   ],
   "source": [
    "np.max(np.abs(data2.values))"
   ]
  },
  {
   "cell_type": "markdown",
   "id": "pressed-ukraine",
   "metadata": {},
   "source": [
    "### Best cMap"
   ]
  },
  {
   "cell_type": "code",
   "execution_count": 49,
   "id": "central-affairs",
   "metadata": {},
   "outputs": [
    {
     "name": "stderr",
     "output_type": "stream",
     "text": [
      "<ipython-input-49-3fc1b06c1af4>:11: UserWarning: FixedFormatter should only be used together with FixedLocator\n",
      "  ax.set_xticklabels(data2.columns, rotation=90)\n"
     ]
    },
    {
     "data": {
      "image/png": "[encoded data removed]",
      "text/plain": [
       "<Figure size 432x288 with 2 Axes>"
      ]
     },
     "metadata": {
      "needs_background": "light"
     },
     "output_type": "display_data"
    }
   ],
   "source": [
    "fig, ax = plt.subplots(1, 1)\n",
    "\n",
    "# take the max o min, whichever is larger\n",
    "\n",
    "pcm = ax.pcolormesh(data2.columns, data2.index, data2.values-initial_score,shading='nearest',\n",
    "                       norm=colors.Normalize(vmin=-np.max(np.abs(data2.values-initial_score)), vmax=np.max(np.abs(data2.values-initial_score))),\n",
    "                       cmap='bwr')\n",
    "fig.colorbar(pcm, ax=ax, extend='both')\n",
    "# ax.set_xticklabels(labels, rotation=45, ha='right')\n",
    "# ax.set_xticklabels(ax.get_xticks(), rotation=90)\n",
    "ax.set_xticklabels(data2.columns, rotation=90)\n",
    "\n",
    "plt.show()"
   ]
  },
  {
   "cell_type": "code",
   "execution_count": 32,
   "id": "certified-polls",
   "metadata": {},
   "outputs": [
    {
     "name": "stderr",
     "output_type": "stream",
     "text": [
      "<ipython-input-32-4e055d8072b7>:3: MatplotlibDeprecationWarning: shading='flat' when X and Y have the same dimensions as C is deprecated since 3.3.  Either specify the corners of the quadrilaterals with X and Y, or pass shading='auto', 'nearest' or 'gouraud', or set rcParams['pcolor.shading'].  This will become an error two minor releases later.\n",
      "  pcm = ax.pcolormesh(data2.columns, data2.index, data2.values-initial_score,\n"
     ]
    },
    {
     "data": {
      "image/png": "[encoded data removed]",
      "text/plain": [
       "<Figure size 432x288 with 2 Axes>"
      ]
     },
     "metadata": {
      "needs_background": "light"
     },
     "output_type": "display_data"
    }
   ],
   "source": [
    "fig, ax = plt.subplots(1, 1)\n",
    "\n",
    "pcm = ax.pcolormesh(data2.columns, data2.index, data2.values-initial_score,\n",
    "                       norm=colors.SymLogNorm(linthresh=0.03, linscale=0.03,\n",
    "                                              vmin=-np.max(data2.values), vmax=np.max(data2.values), base=10),\n",
    "                       cmap='bwr')\n",
    "fig.colorbar(pcm, ax=ax, extend='both')\n",
    "\n",
    "plt.show()"
   ]
  },
  {
   "cell_type": "code",
   "execution_count": 21,
   "id": "french-asbestos",
   "metadata": {},
   "outputs": [
    {
     "name": "stderr",
     "output_type": "stream",
     "text": [
      "<ipython-input-21-de7e5f6b2dc8>:3: MatplotlibDeprecationWarning: shading='flat' when X and Y have the same dimensions as C is deprecated since 3.3.  Either specify the corners of the quadrilaterals with X and Y, or pass shading='auto', 'nearest' or 'gouraud', or set rcParams['pcolor.shading'].  This will become an error two minor releases later.\n",
      "  pcm = ax[0].pcolormesh(data2.columns, data2.index, data2.values,\n",
      "<ipython-input-21-de7e5f6b2dc8>:9: MatplotlibDeprecationWarning: shading='flat' when X and Y have the same dimensions as C is deprecated since 3.3.  Either specify the corners of the quadrilaterals with X and Y, or pass shading='auto', 'nearest' or 'gouraud', or set rcParams['pcolor.shading'].  This will become an error two minor releases later.\n",
      "  pcm = ax[1].pcolormesh(data2.columns, data2.index, data2.values, cmap='RdBu_r', vmin=-np.max(data2.values))\n"
     ]
    },
    {
     "data": {
      "image/png": "[encoded data removed]",
      "text/plain": [
       "<Figure size 432x288 with 4 Axes>"
      ]
     },
     "metadata": {
      "needs_background": "light"
     },
     "output_type": "display_data"
    }
   ],
   "source": [
    "fig, ax = plt.subplots(2, 1)\n",
    "\n",
    "pcm = ax[0].pcolormesh(data2.columns, data2.index, data2.values,\n",
    "                       norm=colors.SymLogNorm(linthresh=0.03, linscale=0.03,\n",
    "                                              vmin=-1.0, vmax=1.0, base=10),\n",
    "                       cmap='RdBu_r')\n",
    "fig.colorbar(pcm, ax=ax[0], extend='both')\n",
    "\n",
    "pcm = ax[1].pcolormesh(data2.columns, data2.index, data2.values, cmap='RdBu_r', vmin=-np.max(data2.values))\n",
    "fig.colorbar(pcm, ax=ax[1], extend='both')\n",
    "plt.show()"
   ]
  },
  {
   "cell_type": "code",
   "execution_count": null,
   "id": "thrown-testimony",
   "metadata": {},
   "outputs": [],
   "source": []
  },
  {
   "cell_type": "code",
   "execution_count": null,
   "id": "objective-policy",
   "metadata": {},
   "outputs": [],
   "source": []
  },
  {
   "cell_type": "code",
   "execution_count": null,
   "id": "reduced-snake",
   "metadata": {},
   "outputs": [],
   "source": []
  },
  {
   "cell_type": "code",
   "execution_count": null,
   "id": "brilliant-words",
   "metadata": {},
   "outputs": [],
   "source": []
  },
  {
   "cell_type": "code",
   "execution_count": null,
   "id": "binding-ballet",
   "metadata": {},
   "outputs": [],
   "source": []
  },
  {
   "cell_type": "code",
   "execution_count": null,
   "id": "professional-principle",
   "metadata": {},
   "outputs": [],
   "source": []
  },
  {
   "cell_type": "code",
   "execution_count": null,
   "id": "arabic-algorithm",
   "metadata": {},
   "outputs": [],
   "source": []
  },
  {
   "cell_type": "code",
   "execution_count": null,
   "id": "surgical-flavor",
   "metadata": {},
   "outputs": [],
   "source": [
    "# loading the model does not cost. Unirep is the slowest part."
   ]
  },
  {
   "cell_type": "code",
   "execution_count": null,
   "id": "combined-indonesia",
   "metadata": {},
   "outputs": [],
   "source": [
    "def optimize_sequence_2(sequence, organism, target_class, include_dg=False, positions=None):\n",
    "    \"\"\"\n",
    "    \n",
    "    \"\"\"\n",
    "    # First, find the initial class and initial secretion score for that class\n",
    "    initial_class, initial_score = secretion_score(sequence, organism, target_class, include_dg)\n",
    "    # Also find the probability of being from the target_class\n",
    "#     print('The initial sequence is:', sequence)\n",
    "#     print('The initial localization clas is:', initial_class)\n",
    "#     print('The initial probability of being in the secreted class is:', \n",
    "#         initial_score)\n",
    "    \n",
    "    model_human = pickle.load(open(os.path.join(current_wd,\"models\",\"human.pkl\"), 'rb'))\n",
    "    model_yeast = pickle.load(open(os.path.join(current_wd,\"models\",\"yeast.pkl\"), 'rb'))\n",
    "    model_ecoli = pickle.load(open(os.path.join(current_wd,\"models\",\"ecoli.pkl\"), 'rb'))\n",
    "    \n",
    "    if include_dg:\n",
    "        model_dict = {\n",
    "            'human': model_human,\n",
    "            'yeast': model_yeast,\n",
    "            'ecoli': model_ecoli\n",
    "        }\n",
    "    else: \n",
    "        model_dict = {\n",
    "            'human': model_human,\n",
    "            'yeast': model_yeast,\n",
    "            'ecoli': model_ecoli\n",
    "        }\n",
    "\n",
    "    # Access the specific organism model\n",
    "    model = model_dict[organism]\n",
    "    \n",
    "    \n",
    "    # if no position was specified mutate all\n",
    "    if positions == None:\n",
    "        res_poses = np.array(list(range(0,len(sequence))))\n",
    "    else:\n",
    "        # create test to check if position is a list\n",
    "        res_poses = get_residue_positions(positions)\n",
    "        # inform user that positions are 1 based so that they can usually work on that from a pdb file\n",
    "        # convert positions to 0 based positions\n",
    "        res_poses = res_poses - 1\n",
    "        \n",
    "        # check if largest position is within the protein length\n",
    "        if np.max(res_poses)+1 > len(sequence):\n",
    "            raise ValueError('You passed residue position '+str(np.max(res_poses)+1)+', which is larger than the protein length of '+str(len(sequence))+' residues.')\n",
    "        else:\n",
    "            pass\n",
    "\n",
    "    mutated_scores = pd.DataFrame()\n",
    "    \n",
    "    classes = list(model.classes_)\n",
    "    for resid in res_poses:\n",
    "#         print(\"running position\", resid, \"of\", str(np.max(res_poses)))\n",
    "        \n",
    "        mut_score_pos = []\n",
    "        \n",
    "        for mutation in amino_acids:\n",
    "            mutated_seq = sequence[:resid] + str(mutation) + sequence[resid+1:]\n",
    "#             pred_score = 3\n",
    "\n",
    "            values = get_UniReps(sequence)[0] # do we need this [0]?\n",
    "            if include_dg:\n",
    "                dg = calculate_transmembrane_dg(sequence)\n",
    "                values.append(dg)\n",
    "            values = values.reshape(1, -1)\n",
    "\n",
    "                \n",
    "                # Grab the probabilities from the model\n",
    "            prediction_probabilities = list(model.predict_proba(values)[0])\n",
    "                # Returns probability of being secreted class\n",
    "            pred_score = prediction_probabilities[classes.index(target_class)]\n",
    "    \n",
    "    \n",
    "#             pred_class, pred_score = secretion_score(mutated_seq, organism, target_class, include_dg)\n",
    "            mut_score_pos.append(pred_score)\n",
    "        \n",
    "        mut_score_pos = pd.Series(mut_score_pos, index = amino_acids)\n",
    "        \n",
    "        original_name = str(sequence[resid]) + '_' + str(resid)\n",
    "        \n",
    "        mutated_scores[original_name] = mut_score_pos\n",
    "\n",
    "    return mutated_scores"
   ]
  },
  {
   "cell_type": "code",
   "execution_count": null,
   "id": "opposed-leone",
   "metadata": {},
   "outputs": [],
   "source": []
  },
  {
   "cell_type": "code",
   "execution_count": null,
   "id": "metropolitan-deficit",
   "metadata": {},
   "outputs": [],
   "source": [
    "%timeit optimize_sequence_2(seq, org, target, positions=['1','3'])"
   ]
  },
  {
   "cell_type": "code",
   "execution_count": null,
   "id": "prompt-radius",
   "metadata": {},
   "outputs": [],
   "source": [
    "%timeit optimize_sequence(seq, org, target, positions=['1','3'])"
   ]
  },
  {
   "cell_type": "code",
   "execution_count": null,
   "id": "integrated-payday",
   "metadata": {},
   "outputs": [],
   "source": []
  },
  {
   "cell_type": "code",
   "execution_count": null,
   "id": "worse-sixth",
   "metadata": {},
   "outputs": [],
   "source": []
  },
  {
   "cell_type": "code",
   "execution_count": null,
   "id": "variable-flour",
   "metadata": {},
   "outputs": [],
   "source": []
  },
  {
   "cell_type": "code",
   "execution_count": null,
   "id": "dated-visibility",
   "metadata": {},
   "outputs": [],
   "source": [
    "%timeit get_UniReps(sequence)[0]"
   ]
  },
  {
   "cell_type": "code",
   "execution_count": null,
   "id": "minus-printer",
   "metadata": {},
   "outputs": [],
   "source": []
  },
  {
   "cell_type": "code",
   "execution_count": null,
   "id": "moving-opportunity",
   "metadata": {},
   "outputs": [],
   "source": []
  },
  {
   "cell_type": "code",
   "execution_count": null,
   "id": "concerned-silver",
   "metadata": {},
   "outputs": [],
   "source": [
    "# wrapper function\n",
    "def optimize_sequence(seq, target_class, organism, include_dg=False, position=None):\n",
    "    \"\"\"\n",
    "    \n",
    "    \"\"\"\n",
    "    # First, find the initial class and initial secretion score for that class\n",
    "    initial_class, initial_score = secretion_score(seq, organism, target_class, include_dg)\n",
    "    # Also find the probability of being from the target_class\n",
    "    print('The initial sequence is:', sequence)\n",
    "    print('The initial localization clas is:', initial_class)\n",
    "    print('The initial probability of being in the secreted class is:', \n",
    "        initial_score)\n"
   ]
  },
  {
   "cell_type": "code",
   "execution_count": null,
   "id": "regular-regular",
   "metadata": {},
   "outputs": [],
   "source": []
  },
  {
   "cell_type": "code",
   "execution_count": null,
   "id": "identical-malawi",
   "metadata": {},
   "outputs": [],
   "source": []
  },
  {
   "cell_type": "code",
   "execution_count": null,
   "id": "prostate-campbell",
   "metadata": {},
   "outputs": [],
   "source": []
  },
  {
   "cell_type": "code",
   "execution_count": null,
   "id": "early-bangladesh",
   "metadata": {},
   "outputs": [],
   "source": [
    "def secretion_optimization(sequence, organism, position, include_dg=False):\n",
    "    \"\"\"\n",
    "    Introduces amino acid point mutation at given position to improve\n",
    "    probability of given sequence to be part of the secreted class\n",
    "\n",
    "    Args:\n",
    "        sequence (str): amino acid sequence in single-letter format\n",
    "        organism (str): specific organism of sequence type \n",
    "                        (all, human, yeast, ecoli)\n",
    "        position (int): given position where point mutations can occur\n",
    "                        (where first residue is position 0)\n",
    "        include_dg (Boolean): specify inclusion of additional features\n",
    "                                (default=False)\n",
    "\n",
    "    Returns:\n",
    "        sequence (str): mutated amino acid sequence\n",
    "        point_mutation_dict (dict): dictionary of point mutation amino acid\n",
    "                                    and secretion score\n",
    "    \"\"\"\n",
    "    # First, find the initial class and initial secretion score\n",
    "    initial_class, initial_score = secretion_score(sequence, organism, include_dg)\n",
    "    print('The initial sequence is:', sequence)\n",
    "    print('The initial localization clas is:', initial_class)\n",
    "    print('The initial probability of being in the secreted class is:', \n",
    "        initial_score)\n",
    "\n",
    "    # Set up point mutations\n",
    "    mutated_scores_list = []\n",
    "    for residue in amino_acids:\n",
    "        sequence_list = list(sequence)\n",
    "        sequence_list[position] = residue\n",
    "        mutated_sequence = \"\".join(sequence_list)\n",
    "        mutated_class, mutated_score = secretion_score(\n",
    "            sequence, organism, include_dg)\n",
    "        mutated_scores_list.append(mutated_score)\n",
    "        # Replace initial sequence if mutated secretion score is better\n",
    "        if mutated_score > initial_score:\n",
    "            sequence = mutated_sequence\n",
    "            initial_score = mutated_score\n",
    "            initial_class = mutated_class\n",
    "\n",
    "    print('The mutated sequence is:', sequence)\n",
    "    print('The mutated class is:', initial_class)\n",
    "    print('The mutated probability of being in the secreted class is:',\n",
    "        mutated_score)\n",
    "\n",
    "    # Plot point mutations and scores\n",
    "    plt.plot(amino_acids, mutated_scores_list)\n",
    "    plt.xlabel('Amino Acid Point Mutation at Position %d' % position)\n",
    "    plt.ylabel('Probability of Secretion Class')\n",
    "\n",
    "    # Create dictionary of point mutations and scores\n",
    "    point_mutation_dict = {amino_acids[i]: mutated_scores_list[i]\n",
    "        for i in range(len(amino_acids))}\n",
    "\n",
    "    return sequence, point_mutation_dict\n"
   ]
  },
  {
   "cell_type": "code",
   "execution_count": null,
   "id": "judicial-green",
   "metadata": {},
   "outputs": [],
   "source": [
    "def secretion_optimization_all_positions(sequence, organism):\n",
    "    \"\"\"\n",
    "    create ssm like representation\n",
    "    \"\"\"\n",
    "\n",
    "\n",
    "def optimize_secretion(sequence, organism, position):\n",
    "    \"\"\"\n",
    "    Wrapper function.\n",
    "\n",
    "    It would be great if we added a parameter position that can take in a list of positions\n",
    "    so the user is free to mutate only one position or a few positions of the sequence. \n",
    "    If nothing is passed, we mutate all sequence.\n",
    "\n",
    "    \"\"\"\n",
    "\n"
   ]
  },
  {
   "cell_type": "code",
   "execution_count": null,
   "id": "paperback-aruba",
   "metadata": {},
   "outputs": [],
   "source": []
  },
  {
   "cell_type": "code",
   "execution_count": null,
   "id": "absolute-sweden",
   "metadata": {},
   "outputs": [],
   "source": []
  }
 ],
 "metadata": {
  "kernelspec": {
   "display_name": "Python 3",
   "language": "python",
   "name": "python3"
  },
  "language_info": {
   "codemirror_mode": {
    "name": "ipython",
    "version": 3
   },
   "file_extension": ".py",
   "mimetype": "text/x-python",
   "name": "python",
   "nbconvert_exporter": "python",
   "pygments_lexer": "ipython3",
   "version": "3.8.8"
  }
 },
 "nbformat": 4,
 "nbformat_minor": 5
}
