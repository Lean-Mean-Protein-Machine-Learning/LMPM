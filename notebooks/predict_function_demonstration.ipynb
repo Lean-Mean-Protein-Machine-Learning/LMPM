{
 "cells": [
  {
   "cell_type": "code",
   "execution_count": 7,
   "id": "sensitive-pendant",
   "metadata": {},
   "outputs": [],
   "source": [
    "import os, sys\n",
    "from collections import defaultdict\n",
    "\n",
    "import numpy as np\n",
    "import pandas as pd\n",
    "import pickle\n",
    "\n",
    "current_wd = '/home/mexposit/LMPM/lmpm'\n",
    "\n",
    "from lmpm.unirep import get_UniReps\n",
    "from lmpm.check_inputs import check_input"
   ]
  },
  {
   "cell_type": "code",
   "execution_count": 9,
   "id": "animal-check",
   "metadata": {},
   "outputs": [
    {
     "name": "stderr",
     "output_type": "stream",
     "text": [
      "/home/mexposit/miniconda3/envs/lmpmdev/lib/python3.8/site-packages/sklearn/base.py:310: UserWarning: Trying to unpickle estimator DecisionTreeClassifier from version 0.23.2 when using version 0.24.1. This might lead to breaking code or invalid results. Use at your own risk.\n",
      "  warnings.warn(\n",
      "/home/mexposit/miniconda3/envs/lmpmdev/lib/python3.8/site-packages/sklearn/base.py:310: UserWarning: Trying to unpickle estimator RandomForestClassifier from version 0.23.2 when using version 0.24.1. This might lead to breaking code or invalid results. Use at your own risk.\n",
      "  warnings.warn(\n"
     ]
    }
   ],
   "source": [
    "\n",
    "# get current path to load files as relative paths later\n",
    "# using os.path.join to avoid issues across OS using different backslash symbols\n",
    "# Importing dG parameters to params_dict\n",
    "params = pd.read_csv(os.path.join(current_wd,\"models\",\"Params.csv\"), header=None)\n",
    "lst = params[0].values\n",
    "params.set_index(lst, inplace=True)\n",
    "del params[0]\n",
    "params_dict = defaultdict(list)\n",
    "for i, row in params.iterrows():\n",
    "    for position in range(1, len(row) + 1):\n",
    "        params_dict[i].append(float(row.loc[position]))\n",
    "\n",
    "# Load trained models\n",
    "model_human = pickle.load(open(os.path.join(current_wd,\"models\",\"human.pkl\"), 'rb'))\n",
    "model_yeast = pickle.load(open(os.path.join(current_wd,\"models\",\"yeast.pkl\"), 'rb'))\n",
    "model_ecoli = pickle.load(open(os.path.join(current_wd,\"models\",\"ecoli.pkl\"), 'rb'))\n",
    "\n",
    "\n",
    "\n",
    "\n",
    "def model_organism_selection(organism, include_dg):\n",
    "    \"\"\"\n",
    "    Imports trained model of secretion scores based on organism data set\n",
    "\n",
    "    Args:\n",
    "        organism (str): specific organism of sequence type \n",
    "                        (all, human, yeast, ecoli)\n",
    "        include_dg (Boolean): specify inclusion of additional features\n",
    "                                (default=False)\n",
    "\n",
    "    Returns:\n",
    "        model: trained model of secretion probabilities for organism\n",
    "    \"\"\"\n",
    "    # Create dictionary of loaded, trained models\n",
    "    # Check specification of additional features\n",
    "    if include_dg:\n",
    "        model_dict = {\n",
    "            'human': model_human,\n",
    "            'yeast': model_yeast,\n",
    "            'ecoli': model_ecoli\n",
    "        }\n",
    "    else: \n",
    "        model_dict = {\n",
    "            'human': model_human,\n",
    "            'yeast': model_yeast,\n",
    "            'ecoli': model_ecoli\n",
    "        }\n",
    "\n",
    "    # Access the specific organism model\n",
    "    model = model_dict[organism]\n",
    "\n",
    "    return model\n",
    "\n",
    "def calculate_transmembrane_dg(seq):\n",
    "    \"\"\"\n",
    "    Calculates the free energy of transmembrane insertion of the sequence\n",
    "\n",
    "    Args:\n",
    "        sequence (str): amino acid sequence in single-letter format\n",
    "\n",
    "    Returns:\n",
    "        transmembrane_dG (float): free energy calculation\n",
    "    \"\"\"\n",
    "    # First, make sure the sequence is longer than 19 residues\n",
    "    if len(seq) < 19:\n",
    "        raise ValueError('dG cannot be computed on sequences \\\n",
    "                            less than 19 residues')\n",
    "\n",
    "    # Next, check if there are any ambiguous amino acids\n",
    "    # also convert to appropiate format if it was provided in 3 letter code\n",
    "    sequence = check_input(seq)\n",
    "\n",
    "    # Starts dG calculations\n",
    "    dg_values = []\n",
    "\n",
    "    # Scans the sequence for every 19-residue frame\n",
    "    for j in range(len(sequence)-18):\n",
    "        running_total = 0\n",
    "        segment = sequence[j:j+19]\n",
    "        for k, amino_acid in enumerate(segment):\n",
    "            running_total += params_dict[amino_acid][k]\n",
    "        dg_values.append(running_total)\n",
    "\n",
    "    # Finds the minimum dG value\n",
    "    transmembrane_dG = min(dg_values)\n",
    "\n",
    "    return transmembrane_dG"
   ]
  },
  {
   "cell_type": "code",
   "execution_count": 195,
   "id": "referenced-chance",
   "metadata": {},
   "outputs": [],
   "source": [
    "def predict_loc_simple(input_seq, organism, target_loc, include_dg=False):\n",
    "    \n",
    "    ## Tests to check inputs\n",
    "    # target class should be one of the classes of the model\n",
    "    if target_loc not in ['secreted', 'membrane', 'cytoplasm']:\n",
    "        raise ValueError('The selected probability was: \"'+str(target_loc)+'\", but should be either secreted, membrane or cytoplasm')\n",
    "    else:\n",
    "        pass\n",
    "    \n",
    "    # Obtain unirep representation of sequence\n",
    "    sequence = check_input(input_seq)\n",
    "    values = get_UniReps(sequence)[0] # do we need this [0]?\n",
    "    if include_dg:\n",
    "        dg = calculate_transmembrane_dg(sequence)\n",
    "        dg_standardized = (dg - 2.053619) / (2.300432 ** 2)\n",
    "        values = np.append(values, dg_standardized)\n",
    "    values = values.reshape(1, -1)\n",
    "    \n",
    "    # Select the model based on the organism\n",
    "    model = model_organism_selection(organism, include_dg)\n",
    "    # Grab the probabilities from the model\n",
    "    classes = list(model.classes_)\n",
    "    prediction_probabilities = list(model.predict_proba(values)[0])\n",
    "    \n",
    "    pred = prediction_probabilities[classes.index(target_loc)]\n",
    "\n",
    "    return pred"
   ]
  },
  {
   "cell_type": "code",
   "execution_count": 198,
   "id": "together-mechanism",
   "metadata": {},
   "outputs": [],
   "source": [
    "def predict_location(input_seq, organism=None, target_loc=None, include_dg=False, pred_all=False):\n",
    "    \"\"\"\n",
    "    Finds the probability of being the target class given the\n",
    "    sequence based on model and UniRep representation only\n",
    "\n",
    "    Args:\n",
    "        input_seq (str): sequence entered by the user\n",
    "        organism (str):  specific organism of sequence type \n",
    "                         (all, human, yeast, ecoli)\n",
    "        target_loc (str): class to predict the probability\n",
    "                            (secreted (default), cytoplasm, or membrane)\n",
    "        include_dg (Boolean): specify inclusion of additional features\n",
    "                                (default=False)\n",
    "\n",
    "    Returns:\n",
    "        predicted_loc (str): predicted localization of the protein\n",
    "                        (cytoplasm, membrane, secreted)\n",
    "        target_score (float): probability of sequence being \n",
    "                            in target class\n",
    "    \"\"\"\n",
    "    \n",
    "    ## Tests to check inputs\n",
    "    # target class should be one of the classes of the model\n",
    "    if target_loc not in ['secreted', 'membrane', 'cytoplasm','all']:\n",
    "        raise ValueError('The selected probability was: \"'+str(target_loc)+'\", but should be either secreted, membrane, cytoplasm or all(default)')\n",
    "    else:\n",
    "        pass\n",
    "    \n",
    "    # Keep query\n",
    "    query = {'sequence': input_seq,\n",
    "             'organism': organism,\n",
    "             'location': target_loc,\n",
    "             'include_dg': include_dg\n",
    "    }\n",
    "    \n",
    "    \n",
    "    # Obtain unirep representation of sequence\n",
    "    sequence = check_input(input_seq)\n",
    "    values = get_UniReps(sequence)[0] # do we need this [0]?\n",
    "    if include_dg:\n",
    "        dg = calculate_transmembrane_dg(sequence)\n",
    "        dg_standardized = (dg - 2.053619) / (2.300432 ** 2)\n",
    "        values= np.append(values, dg_standardized)\n",
    "    values = values.reshape(1, -1)\n",
    "    \n",
    "    # process query\n",
    "    # if user decided to predict for all organisms, get them\n",
    "    if organism == 'all' or pred_all:\n",
    "        pred_org = ['human', 'yeast', 'ecoli']\n",
    "    else:\n",
    "        pred_org = [organism]\n",
    "\n",
    "    pred_results = pd.DataFrame()\n",
    "    \n",
    "    # make predictions for each organism\n",
    "    for org in pred_org:\n",
    "        # Select the model based on the organism\n",
    "        model = model_organism_selection(org, include_dg)\n",
    "        # Grab the probabilities from the model\n",
    "        classes = list(model.classes_)\n",
    "        prediction_probabilities = list(model.predict_proba(values)[0])\n",
    "        pred_results[org] = pd.Series(prediction_probabilities, index=classes)\n",
    "    \n",
    "    # if user decided to predict all but return results for only one\n",
    "    if pred_all and organism != 'all':\n",
    "        filt_results = pred_results.loc[:,organism]\n",
    "    else:\n",
    "        filt_results = pred_results\n",
    "    \n",
    "    # filter results accordingly\n",
    "    if target_loc == 'all':\n",
    "        filt_results = filt_results\n",
    "    else:\n",
    "        filt_results = filt_results.loc[target_loc]\n",
    "    \n",
    "    # get the best prediction\n",
    "    if organism == 'all':\n",
    "        org_for_pred = 'human'\n",
    "    else:\n",
    "        org_for_pred = organism\n",
    "    \n",
    "    predicted_loc = pred_results.index[np.argmax(pred_results.loc[:,org_for_pred])]\n",
    "    predicted_prob = np.max(pred_results.loc[:,org_for_pred])\n",
    "    \n",
    "    if pred_all:\n",
    "        all_predictions = pred_results\n",
    "    else:\n",
    "        all_predictions = 'not computed'\n",
    "    \n",
    "    class PredLocalization(object):\n",
    "        def __init__(self):\n",
    "            self.query = query\n",
    "            self.result = filt_results\n",
    "            self.predicted_loc = predicted_loc\n",
    "            self.predicted_prob = predicted_prob\n",
    "            self.all_predictions = all_predictions\n",
    "            \n",
    "        def __call__(self):\n",
    "            return filt_results\n",
    "\n",
    "    return PredLocalization()\n"
   ]
  },
  {
   "cell_type": "code",
   "execution_count": 210,
   "id": "valuable-collar",
   "metadata": {},
   "outputs": [],
   "source": [
    "preds = predict_location('AWYAWYAWYLAWYLAWYLAWYL','all','secreted')"
   ]
  },
  {
   "cell_type": "code",
   "execution_count": 213,
   "id": "chemical-glossary",
   "metadata": {},
   "outputs": [
    {
     "data": {
      "text/plain": [
       "human    0.17\n",
       "yeast    0.07\n",
       "ecoli    0.05\n",
       "Name: secreted, dtype: float64"
      ]
     },
     "execution_count": 213,
     "metadata": {},
     "output_type": "execute_result"
    }
   ],
   "source": [
    "preds()"
   ]
  },
  {
   "cell_type": "code",
   "execution_count": 214,
   "id": "relative-crest",
   "metadata": {},
   "outputs": [
    {
     "data": {
      "text/plain": [
       "human    0.17\n",
       "yeast    0.07\n",
       "ecoli    0.05\n",
       "Name: secreted, dtype: float64"
      ]
     },
     "execution_count": 214,
     "metadata": {},
     "output_type": "execute_result"
    }
   ],
   "source": [
    "# same as preds()\n",
    "preds.result"
   ]
  },
  {
   "cell_type": "code",
   "execution_count": 215,
   "id": "completed-narrative",
   "metadata": {},
   "outputs": [
    {
     "data": {
      "text/plain": [
       "'membrane'"
      ]
     },
     "execution_count": 215,
     "metadata": {},
     "output_type": "execute_result"
    }
   ],
   "source": [
    "# when organism = all, equals to the human prediction\n",
    "preds.predicted_loc"
   ]
  },
  {
   "cell_type": "code",
   "execution_count": 216,
   "id": "difficult-rachel",
   "metadata": {},
   "outputs": [
    {
     "data": {
      "text/plain": [
       "0.58"
      ]
     },
     "execution_count": 216,
     "metadata": {},
     "output_type": "execute_result"
    }
   ],
   "source": [
    "preds.predicted_prob"
   ]
  },
  {
   "cell_type": "code",
   "execution_count": 217,
   "id": "fourth-correspondence",
   "metadata": {
    "scrolled": true
   },
   "outputs": [
    {
     "data": {
      "text/plain": [
       "{'sequence': 'AWYAWYAWYLAWYLAWYLAWYL',\n",
       " 'organism': 'all',\n",
       " 'location': 'secreted',\n",
       " 'include_dg': False}"
      ]
     },
     "execution_count": 217,
     "metadata": {},
     "output_type": "execute_result"
    }
   ],
   "source": [
    "preds.query"
   ]
  },
  {
   "cell_type": "code",
   "execution_count": 218,
   "id": "generic-migration",
   "metadata": {},
   "outputs": [
    {
     "data": {
      "text/plain": [
       "'not computed'"
      ]
     },
     "execution_count": 218,
     "metadata": {},
     "output_type": "execute_result"
    }
   ],
   "source": [
    "preds.all_predictions"
   ]
  },
  {
   "cell_type": "code",
   "execution_count": 219,
   "id": "constitutional-placement",
   "metadata": {
    "scrolled": true
   },
   "outputs": [
    {
     "data": {
      "text/plain": [
       "'membrane'"
      ]
     },
     "execution_count": 219,
     "metadata": {},
     "output_type": "execute_result"
    }
   ],
   "source": [
    "preds.predicted_loc"
   ]
  },
  {
   "cell_type": "code",
   "execution_count": 220,
   "id": "advanced-variance",
   "metadata": {},
   "outputs": [
    {
     "data": {
      "text/plain": [
       "0.25"
      ]
     },
     "execution_count": 220,
     "metadata": {},
     "output_type": "execute_result"
    }
   ],
   "source": [
    "predict_loc_simple('AWYAWYAWYLAWYLAWYLAWYL','human','cytoplasm')"
   ]
  },
  {
   "cell_type": "code",
   "execution_count": 221,
   "id": "generic-amount",
   "metadata": {},
   "outputs": [],
   "source": [
    "preds = predict_location('AWYAWYAWYLAWYLAWYLAWYL','all','all')"
   ]
  },
  {
   "cell_type": "code",
   "execution_count": 222,
   "id": "preliminary-competition",
   "metadata": {},
   "outputs": [
    {
     "data": {
      "text/html": [
       "<div>\n",
       "<style scoped>\n",
       "    .dataframe tbody tr th:only-of-type {\n",
       "        vertical-align: middle;\n",
       "    }\n",
       "\n",
       "    .dataframe tbody tr th {\n",
       "        vertical-align: top;\n",
       "    }\n",
       "\n",
       "    .dataframe thead th {\n",
       "        text-align: right;\n",
       "    }\n",
       "</style>\n",
       "<table border=\"1\" class=\"dataframe\">\n",
       "  <thead>\n",
       "    <tr style=\"text-align: right;\">\n",
       "      <th></th>\n",
       "      <th>human</th>\n",
       "      <th>yeast</th>\n",
       "      <th>ecoli</th>\n",
       "    </tr>\n",
       "  </thead>\n",
       "  <tbody>\n",
       "    <tr>\n",
       "      <th>cytoplasm</th>\n",
       "      <td>0.25</td>\n",
       "      <td>0.50</td>\n",
       "      <td>0.30</td>\n",
       "    </tr>\n",
       "    <tr>\n",
       "      <th>membrane</th>\n",
       "      <td>0.58</td>\n",
       "      <td>0.43</td>\n",
       "      <td>0.65</td>\n",
       "    </tr>\n",
       "    <tr>\n",
       "      <th>secreted</th>\n",
       "      <td>0.17</td>\n",
       "      <td>0.07</td>\n",
       "      <td>0.05</td>\n",
       "    </tr>\n",
       "  </tbody>\n",
       "</table>\n",
       "</div>"
      ],
      "text/plain": [
       "           human  yeast  ecoli\n",
       "cytoplasm   0.25   0.50   0.30\n",
       "membrane    0.58   0.43   0.65\n",
       "secreted    0.17   0.07   0.05"
      ]
     },
     "execution_count": 222,
     "metadata": {},
     "output_type": "execute_result"
    }
   ],
   "source": [
    "preds()"
   ]
  },
  {
   "cell_type": "code",
   "execution_count": 223,
   "id": "sublime-presentation",
   "metadata": {},
   "outputs": [],
   "source": [
    "preds = predict_location('AWYAWYAWYLAWYLAWYLAWYL','ecoli','all',False,True)"
   ]
  },
  {
   "cell_type": "code",
   "execution_count": 224,
   "id": "african-friend",
   "metadata": {},
   "outputs": [
    {
     "data": {
      "text/plain": [
       "cytoplasm    0.30\n",
       "membrane     0.65\n",
       "secreted     0.05\n",
       "Name: ecoli, dtype: float64"
      ]
     },
     "execution_count": 224,
     "metadata": {},
     "output_type": "execute_result"
    }
   ],
   "source": [
    "preds()"
   ]
  },
  {
   "cell_type": "code",
   "execution_count": 225,
   "id": "false-cookie",
   "metadata": {},
   "outputs": [
    {
     "data": {
      "text/plain": [
       "'membrane'"
      ]
     },
     "execution_count": 225,
     "metadata": {},
     "output_type": "execute_result"
    }
   ],
   "source": [
    "preds.predicted_loc"
   ]
  },
  {
   "cell_type": "code",
   "execution_count": 226,
   "id": "controversial-smell",
   "metadata": {},
   "outputs": [
    {
     "data": {
      "text/plain": [
       "0.65"
      ]
     },
     "execution_count": 226,
     "metadata": {},
     "output_type": "execute_result"
    }
   ],
   "source": [
    "preds.predicted_prob"
   ]
  },
  {
   "cell_type": "code",
   "execution_count": 227,
   "id": "aquatic-sellers",
   "metadata": {},
   "outputs": [
    {
     "data": {
      "text/html": [
       "<div>\n",
       "<style scoped>\n",
       "    .dataframe tbody tr th:only-of-type {\n",
       "        vertical-align: middle;\n",
       "    }\n",
       "\n",
       "    .dataframe tbody tr th {\n",
       "        vertical-align: top;\n",
       "    }\n",
       "\n",
       "    .dataframe thead th {\n",
       "        text-align: right;\n",
       "    }\n",
       "</style>\n",
       "<table border=\"1\" class=\"dataframe\">\n",
       "  <thead>\n",
       "    <tr style=\"text-align: right;\">\n",
       "      <th></th>\n",
       "      <th>human</th>\n",
       "      <th>yeast</th>\n",
       "      <th>ecoli</th>\n",
       "    </tr>\n",
       "  </thead>\n",
       "  <tbody>\n",
       "    <tr>\n",
       "      <th>cytoplasm</th>\n",
       "      <td>0.25</td>\n",
       "      <td>0.50</td>\n",
       "      <td>0.30</td>\n",
       "    </tr>\n",
       "    <tr>\n",
       "      <th>membrane</th>\n",
       "      <td>0.58</td>\n",
       "      <td>0.43</td>\n",
       "      <td>0.65</td>\n",
       "    </tr>\n",
       "    <tr>\n",
       "      <th>secreted</th>\n",
       "      <td>0.17</td>\n",
       "      <td>0.07</td>\n",
       "      <td>0.05</td>\n",
       "    </tr>\n",
       "  </tbody>\n",
       "</table>\n",
       "</div>"
      ],
      "text/plain": [
       "           human  yeast  ecoli\n",
       "cytoplasm   0.25   0.50   0.30\n",
       "membrane    0.58   0.43   0.65\n",
       "secreted    0.17   0.07   0.05"
      ]
     },
     "execution_count": 227,
     "metadata": {},
     "output_type": "execute_result"
    }
   ],
   "source": [
    "preds.all_predictions"
   ]
  },
  {
   "cell_type": "code",
   "execution_count": 228,
   "id": "still-swift",
   "metadata": {},
   "outputs": [],
   "source": [
    "preds = predict_location('AWYAWYAWYLAWYLAWYLAWYL','ecoli','all',True,True)"
   ]
  },
  {
   "cell_type": "code",
   "execution_count": 229,
   "id": "trained-store",
   "metadata": {},
   "outputs": [
    {
     "data": {
      "text/plain": [
       "cytoplasm    0.30\n",
       "membrane     0.65\n",
       "secreted     0.05\n",
       "Name: ecoli, dtype: float64"
      ]
     },
     "execution_count": 229,
     "metadata": {},
     "output_type": "execute_result"
    }
   ],
   "source": [
    "preds.result"
   ]
  },
  {
   "cell_type": "code",
   "execution_count": 230,
   "id": "preliminary-assessment",
   "metadata": {},
   "outputs": [
    {
     "data": {
      "text/html": [
       "<div>\n",
       "<style scoped>\n",
       "    .dataframe tbody tr th:only-of-type {\n",
       "        vertical-align: middle;\n",
       "    }\n",
       "\n",
       "    .dataframe tbody tr th {\n",
       "        vertical-align: top;\n",
       "    }\n",
       "\n",
       "    .dataframe thead th {\n",
       "        text-align: right;\n",
       "    }\n",
       "</style>\n",
       "<table border=\"1\" class=\"dataframe\">\n",
       "  <thead>\n",
       "    <tr style=\"text-align: right;\">\n",
       "      <th></th>\n",
       "      <th>human</th>\n",
       "      <th>yeast</th>\n",
       "      <th>ecoli</th>\n",
       "    </tr>\n",
       "  </thead>\n",
       "  <tbody>\n",
       "    <tr>\n",
       "      <th>cytoplasm</th>\n",
       "      <td>0.25</td>\n",
       "      <td>0.50</td>\n",
       "      <td>0.30</td>\n",
       "    </tr>\n",
       "    <tr>\n",
       "      <th>membrane</th>\n",
       "      <td>0.58</td>\n",
       "      <td>0.43</td>\n",
       "      <td>0.65</td>\n",
       "    </tr>\n",
       "    <tr>\n",
       "      <th>secreted</th>\n",
       "      <td>0.17</td>\n",
       "      <td>0.07</td>\n",
       "      <td>0.05</td>\n",
       "    </tr>\n",
       "  </tbody>\n",
       "</table>\n",
       "</div>"
      ],
      "text/plain": [
       "           human  yeast  ecoli\n",
       "cytoplasm   0.25   0.50   0.30\n",
       "membrane    0.58   0.43   0.65\n",
       "secreted    0.17   0.07   0.05"
      ]
     },
     "execution_count": 230,
     "metadata": {},
     "output_type": "execute_result"
    }
   ],
   "source": [
    "preds.all_predictions"
   ]
  },
  {
   "cell_type": "code",
   "execution_count": 231,
   "id": "demanding-chaos",
   "metadata": {},
   "outputs": [],
   "source": [
    "preds = predict_location('AYLAYLAYLAYLAYLAYLAYLAYL','ecoli','secreted',True,True)"
   ]
  },
  {
   "cell_type": "code",
   "execution_count": 232,
   "id": "restricted-dylan",
   "metadata": {},
   "outputs": [
    {
     "data": {
      "text/plain": [
       "0.05"
      ]
     },
     "execution_count": 232,
     "metadata": {},
     "output_type": "execute_result"
    }
   ],
   "source": [
    "preds()"
   ]
  },
  {
   "cell_type": "code",
   "execution_count": 233,
   "id": "twenty-adventure",
   "metadata": {},
   "outputs": [
    {
     "data": {
      "text/html": [
       "<div>\n",
       "<style scoped>\n",
       "    .dataframe tbody tr th:only-of-type {\n",
       "        vertical-align: middle;\n",
       "    }\n",
       "\n",
       "    .dataframe tbody tr th {\n",
       "        vertical-align: top;\n",
       "    }\n",
       "\n",
       "    .dataframe thead th {\n",
       "        text-align: right;\n",
       "    }\n",
       "</style>\n",
       "<table border=\"1\" class=\"dataframe\">\n",
       "  <thead>\n",
       "    <tr style=\"text-align: right;\">\n",
       "      <th></th>\n",
       "      <th>human</th>\n",
       "      <th>yeast</th>\n",
       "      <th>ecoli</th>\n",
       "    </tr>\n",
       "  </thead>\n",
       "  <tbody>\n",
       "    <tr>\n",
       "      <th>cytoplasm</th>\n",
       "      <td>0.24</td>\n",
       "      <td>0.39</td>\n",
       "      <td>0.18</td>\n",
       "    </tr>\n",
       "    <tr>\n",
       "      <th>membrane</th>\n",
       "      <td>0.56</td>\n",
       "      <td>0.58</td>\n",
       "      <td>0.77</td>\n",
       "    </tr>\n",
       "    <tr>\n",
       "      <th>secreted</th>\n",
       "      <td>0.20</td>\n",
       "      <td>0.03</td>\n",
       "      <td>0.05</td>\n",
       "    </tr>\n",
       "  </tbody>\n",
       "</table>\n",
       "</div>"
      ],
      "text/plain": [
       "           human  yeast  ecoli\n",
       "cytoplasm   0.24   0.39   0.18\n",
       "membrane    0.56   0.58   0.77\n",
       "secreted    0.20   0.03   0.05"
      ]
     },
     "execution_count": 233,
     "metadata": {},
     "output_type": "execute_result"
    }
   ],
   "source": [
    "preds.all_predictions"
   ]
  },
  {
   "cell_type": "code",
   "execution_count": 234,
   "id": "presidential-mention",
   "metadata": {},
   "outputs": [
    {
     "data": {
      "text/plain": [
       "'secreted'"
      ]
     },
     "execution_count": 234,
     "metadata": {},
     "output_type": "execute_result"
    }
   ],
   "source": [
    "preds.query['location']"
   ]
  },
  {
   "cell_type": "code",
   "execution_count": 235,
   "id": "overhead-documentary",
   "metadata": {},
   "outputs": [
    {
     "data": {
      "text/plain": [
       "{'sequence': 'AYLAYLAYLAYLAYLAYLAYLAYL',\n",
       " 'organism': 'ecoli',\n",
       " 'location': 'secreted',\n",
       " 'include_dg': True}"
      ]
     },
     "execution_count": 235,
     "metadata": {},
     "output_type": "execute_result"
    }
   ],
   "source": [
    "preds.query"
   ]
  },
  {
   "cell_type": "code",
   "execution_count": 236,
   "id": "compliant-spell",
   "metadata": {},
   "outputs": [
    {
     "data": {
      "text/plain": [
       "'membrane'"
      ]
     },
     "execution_count": 236,
     "metadata": {},
     "output_type": "execute_result"
    }
   ],
   "source": [
    "preds.predicted_loc"
   ]
  },
  {
   "cell_type": "code",
   "execution_count": null,
   "id": "significant-grocery",
   "metadata": {},
   "outputs": [],
   "source": []
  }
 ],
 "metadata": {
  "kernelspec": {
   "display_name": "Python 3",
   "language": "python",
   "name": "python3"
  },
  "language_info": {
   "codemirror_mode": {
    "name": "ipython",
    "version": 3
   },
   "file_extension": ".py",
   "mimetype": "text/x-python",
   "name": "python",
   "nbconvert_exporter": "python",
   "pygments_lexer": "ipython3",
   "version": "3.8.8"
  }
 },
 "nbformat": 4,
 "nbformat_minor": 5
}
