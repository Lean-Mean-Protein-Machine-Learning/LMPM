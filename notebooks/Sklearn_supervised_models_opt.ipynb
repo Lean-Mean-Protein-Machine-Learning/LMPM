{
 "cells": [
  {
   "cell_type": "code",
   "execution_count": 1,
   "id": "electric-technical",
   "metadata": {},
   "outputs": [],
   "source": [
    "# import jaxlib\n",
    "# from jax_unirep import get_reps\n",
    "import os\n",
    "from time import time\n",
    "\n",
    "from collections import defaultdict\n",
    "# from UniRep.unirep_utils import get_UniReps\n",
    "\n",
    "import numpy as np\n",
    "import pandas as pd\n",
    "import matplotlib.pyplot as plt\n",
    "import seaborn as sns\n",
    "\n",
    "from sklearn.decomposition import PCA, TruncatedSVD\n",
    "from sklearn.manifold import TSNE\n",
    "from sklearn.model_selection import train_test_split, GridSearchCV\n",
    "from sklearn.neighbors import KNeighborsClassifier\n",
    "from sklearn.linear_model import RidgeClassifier\n",
    "from sklearn.ensemble import RandomForestClassifier\n",
    "from sklearn.discriminant_analysis import QuadraticDiscriminantAnalysis\n",
    "from sklearn.neural_network import MLPClassifier\n",
    "from sklearn import model_selection\n",
    "from sklearn.svm import SVC\n",
    "from sklearn.metrics import make_scorer, accuracy_score, roc_auc_score, roc_curve, auc\n",
    "from sklearn.gaussian_process import GaussianProcessClassifier\n",
    "from sklearn.gaussian_process.kernels import RBF\n",
    "from sklearn.preprocessing import label_binarize\n",
    "\n",
    "from scipy import interp\n",
    "from itertools import cycle\n",
    "\n",
    "from Bio.SeqUtils import molecular_weight\n",
    "from Bio.SeqUtils.IsoelectricPoint import IsoelectricPoint as IP\n",
    "\n",
    "import warnings\n",
    "warnings.filterwarnings('ignore')"
   ]
  },
  {
   "cell_type": "markdown",
   "id": "fancy-weekend",
   "metadata": {},
   "source": [
    "# Importing UniProt Data"
   ]
  },
  {
   "cell_type": "code",
   "execution_count": 2,
   "id": "junior-playing",
   "metadata": {},
   "outputs": [],
   "source": [
    "# Importing the true data sets with unirep features\n",
    "human_unirep_noSP = pd.read_pickle('UniRep_datasets/combined_human_UniRep_dataset_noSP.pkl')\n",
    "human_unirep_withSP = pd.read_pickle('UniRep_datasets/combined_human_UniRep_dataset_withSP.pkl')"
   ]
  },
  {
   "cell_type": "markdown",
   "id": "smart-sound",
   "metadata": {},
   "source": [
    "## New version"
   ]
  },
  {
   "cell_type": "code",
   "execution_count": 21,
   "id": "cloudy-disposition",
   "metadata": {},
   "outputs": [],
   "source": [
    "def train_opt_model(model_class, parameters, X_train, y_train, scoring, refit_sc):\n",
    "    \"\"\"Trains a classifier with 5 fold cross validation.\n",
    "    \n",
    "    Trains a classifier on training data performing 5 fold cross validation and testing multiple parameters.\n",
    "    \n",
    "    \n",
    "    Inputs:\n",
    "        model_class: the sklearn class of the classifier\n",
    "        parameters: a parameter grid dictionary with the parameters and values to test\n",
    "        X_train: features of the training set\n",
    "        y_train: classes of the training set\n",
    "        scoring: a sklearn scoring object with the score metrics to use\n",
    "        refit_sc: the score metric to select the parameters that yield the best classifier\n",
    "        \n",
    "    Outputs:\n",
    "        clf: the trained classifier\n",
    "    \"\"\"\n",
    "    clf = GridSearchCV(model_class, parameters, cv=5, scoring=scoring, refit=refit_sc, verbose=2, n_jobs=-1)\n",
    "    clf.fit(X_train, y_train)\n",
    "    return clf"
   ]
  },
  {
   "cell_type": "code",
   "execution_count": 4,
   "id": "proprietary-istanbul",
   "metadata": {},
   "outputs": [],
   "source": [
    "def plot_param_search_1d(trained_model, parameters):\n",
    "\n",
    "    # convert dictionary to lists for ease of use\n",
    "    param_values = list(parameters.values())\n",
    "    param_names = list(parameters.keys())\n",
    "        \n",
    "    # results\n",
    "    cv_results = pd.DataFrame(trained_model.cv_results_)\n",
    "    \n",
    "    # print results of best classifier\n",
    "    print('For the model optimized by AUC:')\n",
    "    print('\\t the parameter is: {}'.format(cv_results.loc[cv_results['rank_test_AUC']==1,'params'].to_string(index=False)))\n",
    "    print('\\t the AUC is: {}'.format(cv_results.loc[cv_results['rank_test_AUC']==1,'mean_test_Accuracy'].to_string(index=False)))\n",
    "    print('\\t the accuracy is: {}'.format(cv_results.loc[cv_results['rank_test_AUC']==1,'mean_test_AUC'].to_string(index=False)))\n",
    "\n",
    "    print('For the model optimized by Accuracy:')\n",
    "    print('\\t the parameter is: {}'.format(cv_results.loc[cv_results['rank_test_Accuracy']==1,'params'].to_string(index=False)))\n",
    "    print('\\t the AUC is: {}'.format(cv_results.loc[cv_results['rank_test_Accuracy']==1,'mean_test_Accuracy'].to_string(index=False)))\n",
    "    print('\\t the accuracy is: {}'.format(cv_results.loc[cv_results['rank_test_Accuracy']==1,'mean_test_AUC'].to_string(index=False)))\n",
    "    \n",
    "    \n",
    "    print(\"Optimizing by\",refit_sc,\"so best parameters are: {}\".format(trained_model.best_params_))\n",
    "    \n",
    "    # plot results\n",
    "    \n",
    "    acc_eval_scores = np.transpose(np.array(cv_results.mean_test_Accuracy))\n",
    "    \n",
    "    # xaxis\n",
    "    scores_dict = {param_names[0]: parameters[param_names[0]]}   \n",
    "    \n",
    "    param_df = pd.DataFrame(scores_dict)\n",
    "    \n",
    "    sns.lineplot(parameters[param_names[0]], acc_eval_scores)\n",
    "    \n",
    "    plt.ylabel(\"AUC\")\n",
    "    plt.xlabel(param_names[0])\n",
    "    plt.axvline(trained_model.best_params_[param_names[0]], 0,1, linestyle=\"dashed\", color=\"grey\")\n",
    "    plt.tight_layout()\n",
    "    # plt.savefig(\"model.png\", dpi=600)\n",
    "    plt.show()\n",
    "    return None"
   ]
  },
  {
   "cell_type": "code",
   "execution_count": 5,
   "id": "nutritional-oxygen",
   "metadata": {},
   "outputs": [],
   "source": [
    "def plot_param_search(trained_model, parameters):\n",
    "    # assert que parameters son exactament 2, sino no es pot fer\n",
    "    \n",
    "    # convert dictionary to lists for ease of use\n",
    "    param_values = list(parameters.values())\n",
    "    param_names = list(parameters.keys())\n",
    "    \n",
    "    # select the parameter with more values as x axis (reverse if necessary)\n",
    "    if len(param_values[0]) < len(param_values[1]):\n",
    "        param_values.reverse()\n",
    "        param_names.reverse()\n",
    "        \n",
    "    # results\n",
    "    cv_results = pd.DataFrame(trained_model.cv_results_)\n",
    "    \n",
    "    # print results of best classifier\n",
    "    print('For the model optimized by AUC:')\n",
    "    print('\\t the parameters are: {}'.format(cv_results.loc[cv_results['rank_test_AUC']==1,'params'].to_string(index=False)))\n",
    "    print('\\t the AUC is: {}'.format(cv_results.loc[cv_results['rank_test_AUC']==1,'mean_test_Accuracy'].to_string(index=False)))\n",
    "    print('\\t the accuracy is: {}'.format(cv_results.loc[cv_results['rank_test_AUC']==1,'mean_test_AUC'].to_string(index=False)))\n",
    "\n",
    "    print('For the model optimized by Accuracy:')\n",
    "    print('\\t the parameters are: {}'.format(cv_results.loc[cv_results['rank_test_Accuracy']==1,'params'].to_string(index=False)))\n",
    "    print('\\t the AUC is: {}'.format(cv_results.loc[cv_results['rank_test_Accuracy']==1,'mean_test_Accuracy'].to_string(index=False)))\n",
    "    print('\\t the accuracy is: {}'.format(cv_results.loc[cv_results['rank_test_Accuracy']==1,'mean_test_AUC'].to_string(index=False)))\n",
    "    \n",
    "    \n",
    "    print(\"Optimizing by\",refit_sc,\"so best parameters are: {}\".format(trn_clf.best_params_))\n",
    "    \n",
    "    # plot results\n",
    "    \n",
    "    acc_eval_scores = np.transpose(np.array(cv_results.mean_test_AUC).reshape(len(param_values[0]), len(param_values[1])))\n",
    "    \n",
    "    # xaxis\n",
    "    scores_dict = {param_names[0]: parameters[param_names[0]]}\n",
    "    # series\n",
    "    for it, series_vals in enumerate(param_values[1]):\n",
    "        scores_dict[series_vals] = acc_eval_scores[it,]\n",
    "    \n",
    "    \n",
    "    param_df = pd.DataFrame(scores_dict)\n",
    "    \n",
    "    param_plot = pd.melt(param_df, id_vars=param_names[0], value_vars=param_values[1], var_name=param_names[1], value_name=\"AUC\")\n",
    "\n",
    "    sns.lineplot(x=param_names[0], y=\"AUC\", hue=param_names[1], data=param_plot)\n",
    "    \n",
    "    plt.axvline(trained_model.best_params_[param_names[0]], 0,1, linestyle=\"dashed\", color=\"grey\")\n",
    "    plt.tight_layout()\n",
    "    # plt.savefig(\"model.png\", dpi=600)\n",
    "    plt.show()\n",
    "    return None"
   ]
  },
  {
   "cell_type": "code",
   "execution_count": 6,
   "id": "molecular-yield",
   "metadata": {},
   "outputs": [],
   "source": [
    "def plot_roc_curve(trained_classifier, model_name, X_test, y_test, roc_col):\n",
    "    # adapted from https://scikit-learn.org/stable/auto_examples/model_selection/plot_roc.html\n",
    "    # Binarize the output\n",
    "    y_labs = label_binarize(y_test, classes=['cytoplasm', 'membrane','secreted'])\n",
    "    n_classes = y_labs.shape[1]\n",
    "    \n",
    "    pred_probs = trained_classifier.best_estimator_.predict_proba(X_test)\n",
    "    preds = trn_clf.best_estimator_.predict(X_test)\n",
    "    \n",
    "    test_accuracy = accuracy_score(y_test, preds) \n",
    "    \n",
    "    # Compute ROC curve and ROC area for each class\n",
    "    fpr = dict()\n",
    "    tpr = dict()\n",
    "    roc_auc = dict()\n",
    "    for i in range(n_classes):\n",
    "        fpr[i], tpr[i], _ = roc_curve(y_labs[:, i], pred_probs[:, i])\n",
    "        roc_auc[i] = auc(fpr[i], tpr[i])\n",
    "\n",
    "    # First aggregate all false positive rates\n",
    "    all_fpr = np.unique(np.concatenate([fpr[i] for i in range(n_classes)]))\n",
    "\n",
    "    # Then interpolate all ROC curves at this points\n",
    "    mean_tpr = np.zeros_like(all_fpr)\n",
    "    for i in range(n_classes):\n",
    "        mean_tpr += interp(all_fpr, fpr[i], tpr[i])\n",
    "\n",
    "    # Finally average it and compute AUC\n",
    "    mean_tpr /= n_classes\n",
    "\n",
    "    fpr[\"macro\"] = all_fpr\n",
    "    tpr[\"macro\"] = mean_tpr\n",
    "    roc_auc[\"macro\"] = auc(fpr[\"macro\"], tpr[\"macro\"])\n",
    "\n",
    "    plt.plot(fpr[\"macro\"], tpr[\"macro\"],\n",
    "             label=str(model_name)+', AUC: {:.3f}'.format(roc_auc[\"macro\"]),\n",
    "             color=roc_col, linestyle=':', linewidth=1)\n",
    "    \n",
    "    return test_accuracy, roc_auc[\"macro\"]"
   ]
  },
  {
   "cell_type": "code",
   "execution_count": 7,
   "id": "activated-level",
   "metadata": {},
   "outputs": [],
   "source": [
    "# Running the model comparison on human data set WITH signal peptides\n",
    "X = np.stack(human_unirep_withSP[\"UniRep\"].to_numpy())\n",
    "y = np.array(human_unirep_withSP['location'])\n",
    "X_train, X_test, y_train, y_test = train_test_split(X, y, test_size=0.2, random_state=42)"
   ]
  },
  {
   "cell_type": "code",
   "execution_count": 29,
   "id": "answering-lancaster",
   "metadata": {},
   "outputs": [],
   "source": [
    "model_names = [\n",
    "#     'kNN',\n",
    "#                'Ridge',\n",
    "#                'RandomForest',\n",
    "#                'MLP',\n",
    "#                'RBF SVM',\n",
    "               'linear SVM'\n",
    "              ]\n",
    "models = [\n",
    "#     KNeighborsClassifier(),\n",
    "#           RidgeClassifier(normalize=True),\n",
    "#           RandomForestClassifier(),\n",
    "# #           MLPClassifier(max_iter=200),\n",
    "#           SVC(kernel='rbf'),\n",
    "          SVC(kernel='linear')\n",
    "         ]\n",
    "\n",
    "params = [\n",
    "    # for kNN\n",
    "#     {'n_neighbors':[int(np.sqrt(len(y_train))/16),\n",
    "#                        int(np.sqrt(len(y_train))/8),\n",
    "#                        int(np.sqrt(len(y_train))/4),\n",
    "#                        int(np.sqrt(len(y_train))/2),\n",
    "#                        int(np.sqrt(len(y_train))),\n",
    "#                        int(np.sqrt(len(y_train))*2),\n",
    "#                        int(np.sqrt(len(y_train))*4)],\n",
    "#     'weights': ['uniform', 'distance']},\n",
    "    # for Ridge\n",
    "    \n",
    "    # for RandomForest works fine\n",
    "#     {'n_estimators':[1,5,10,20],\n",
    "#      'max_depth':[1,10,30,60,150]},\n",
    "    # for MLP works fine but slow\n",
    "#     {'hidden_layer_sizes':[50,100],\n",
    "# #      'alpha':[1e-4,1e-2,1e-1]},\n",
    "#     {'hidden_layer_sizes':[10],\n",
    "#      'alpha':[1e-4,1e-2]},\n",
    "#     # for RBF SVM\n",
    "#     {'C':[0.01,0.1],\n",
    "#      'gamma':['auto']},\n",
    "#      'gamma':['scale','auto']},\n",
    "    # for linear SVM\n",
    "    {'C':[0.01,0.1]}\n",
    "]\n",
    "\n",
    "\n",
    "\n",
    "#     models.append(('RidgeReg', RidgeClassifierCV(alphas=[1e-3, 1e-2, 1e-1, 1],normalize=True)))\n",
    "#     K_neighbors = int(np.sqrt(len(y_train)))\n",
    "#     models.append(('KNN', KNeighborsClassifier(K_neighbors, weights='uniform')))\n",
    "#     models.append(('NeuralNet', MLPClassifier(max_iter=200)))\n",
    "#     models.append(('RandomForest', RandomForestClassifier()))\n",
    "#     models.append(('RBF SVM', SVC(gamma=0.1, C=1, kernel='linear')))"
   ]
  },
  {
   "cell_type": "code",
   "execution_count": 30,
   "id": "introductory-thread",
   "metadata": {},
   "outputs": [],
   "source": [
    "# ovo: One versus One and averaging macro, not affected by class imbalance (https://scikit-learn.org/stable/modules/generated/sklearn.metrics.roc_auc_score.html#sklearn.metrics.roc_auc_score)\n",
    "scoring = {'Accuracy': make_scorer(accuracy_score),\n",
    "           'AUC':'roc_auc_ovo'}\n",
    "refit_sc = 'AUC'"
   ]
  },
  {
   "cell_type": "code",
   "execution_count": 32,
   "id": "bronze-barcelona",
   "metadata": {},
   "outputs": [
    {
     "name": "stdout",
     "output_type": "stream",
     "text": [
      "Started training model linear SVM\n",
      "Fitting 5 folds for each of 2 candidates, totalling 10 fits\n",
      "Finished training model in 59.78 seconds\n",
      "\n",
      "For the model optimized by AUC:\n"
     ]
    },
    {
     "ename": "KeyError",
     "evalue": "'rank_test_AUC'",
     "output_type": "error",
     "traceback": [
      "\u001b[0;31m---------------------------------------------------------------------------\u001b[0m",
      "\u001b[0;31mKeyError\u001b[0m                                  Traceback (most recent call last)",
      "\u001b[0;32m~/miniconda3/envs/lmpmdev/lib/python3.8/site-packages/pandas/core/indexes/base.py\u001b[0m in \u001b[0;36mget_loc\u001b[0;34m(self, key, method, tolerance)\u001b[0m\n\u001b[1;32m   3079\u001b[0m             \u001b[0;32mtry\u001b[0m\u001b[0;34m:\u001b[0m\u001b[0;34m\u001b[0m\u001b[0;34m\u001b[0m\u001b[0m\n\u001b[0;32m-> 3080\u001b[0;31m                 \u001b[0;32mreturn\u001b[0m \u001b[0mself\u001b[0m\u001b[0;34m.\u001b[0m\u001b[0m_engine\u001b[0m\u001b[0;34m.\u001b[0m\u001b[0mget_loc\u001b[0m\u001b[0;34m(\u001b[0m\u001b[0mcasted_key\u001b[0m\u001b[0;34m)\u001b[0m\u001b[0;34m\u001b[0m\u001b[0;34m\u001b[0m\u001b[0m\n\u001b[0m\u001b[1;32m   3081\u001b[0m             \u001b[0;32mexcept\u001b[0m \u001b[0mKeyError\u001b[0m \u001b[0;32mas\u001b[0m \u001b[0merr\u001b[0m\u001b[0;34m:\u001b[0m\u001b[0;34m\u001b[0m\u001b[0;34m\u001b[0m\u001b[0m\n",
      "\u001b[0;32mpandas/_libs/index.pyx\u001b[0m in \u001b[0;36mpandas._libs.index.IndexEngine.get_loc\u001b[0;34m()\u001b[0m\n",
      "\u001b[0;32mpandas/_libs/index.pyx\u001b[0m in \u001b[0;36mpandas._libs.index.IndexEngine.get_loc\u001b[0;34m()\u001b[0m\n",
      "\u001b[0;32mpandas/_libs/hashtable_class_helper.pxi\u001b[0m in \u001b[0;36mpandas._libs.hashtable.PyObjectHashTable.get_item\u001b[0;34m()\u001b[0m\n",
      "\u001b[0;32mpandas/_libs/hashtable_class_helper.pxi\u001b[0m in \u001b[0;36mpandas._libs.hashtable.PyObjectHashTable.get_item\u001b[0;34m()\u001b[0m\n",
      "\u001b[0;31mKeyError\u001b[0m: 'rank_test_AUC'",
      "\nThe above exception was the direct cause of the following exception:\n",
      "\u001b[0;31mKeyError\u001b[0m                                  Traceback (most recent call last)",
      "\u001b[0;32m<ipython-input-32-7d75a854939d>\u001b[0m in \u001b[0;36m<module>\u001b[0;34m\u001b[0m\n\u001b[1;32m     13\u001b[0m         \u001b[0mplot_param_search\u001b[0m\u001b[0;34m(\u001b[0m\u001b[0mtrn_clf\u001b[0m\u001b[0;34m,\u001b[0m \u001b[0mparameters\u001b[0m\u001b[0;34m)\u001b[0m\u001b[0;34m\u001b[0m\u001b[0;34m\u001b[0m\u001b[0m\n\u001b[1;32m     14\u001b[0m     \u001b[0;32melse\u001b[0m\u001b[0;34m:\u001b[0m\u001b[0;34m\u001b[0m\u001b[0;34m\u001b[0m\u001b[0m\n\u001b[0;32m---> 15\u001b[0;31m         \u001b[0mplot_param_search_1d\u001b[0m\u001b[0;34m(\u001b[0m\u001b[0mtrn_clf\u001b[0m\u001b[0;34m,\u001b[0m \u001b[0mparameters\u001b[0m\u001b[0;34m)\u001b[0m\u001b[0;34m\u001b[0m\u001b[0;34m\u001b[0m\u001b[0m\n\u001b[0m\u001b[1;32m     16\u001b[0m \u001b[0;34m\u001b[0m\u001b[0m\n\u001b[1;32m     17\u001b[0m     \u001b[0mtrained_models\u001b[0m\u001b[0;34m.\u001b[0m\u001b[0mappend\u001b[0m\u001b[0;34m(\u001b[0m\u001b[0mtrn_clf\u001b[0m\u001b[0;34m)\u001b[0m\u001b[0;34m\u001b[0m\u001b[0;34m\u001b[0m\u001b[0m\n",
      "\u001b[0;32m<ipython-input-4-c58ba78e4a8b>\u001b[0m in \u001b[0;36mplot_param_search_1d\u001b[0;34m(trained_model, parameters)\u001b[0m\n\u001b[1;32m     10\u001b[0m     \u001b[0;31m# print results of best classifier\u001b[0m\u001b[0;34m\u001b[0m\u001b[0;34m\u001b[0m\u001b[0;34m\u001b[0m\u001b[0m\n\u001b[1;32m     11\u001b[0m     \u001b[0mprint\u001b[0m\u001b[0;34m(\u001b[0m\u001b[0;34m'For the model optimized by AUC:'\u001b[0m\u001b[0;34m)\u001b[0m\u001b[0;34m\u001b[0m\u001b[0;34m\u001b[0m\u001b[0m\n\u001b[0;32m---> 12\u001b[0;31m     \u001b[0mprint\u001b[0m\u001b[0;34m(\u001b[0m\u001b[0;34m'\\t the parameter is: {}'\u001b[0m\u001b[0;34m.\u001b[0m\u001b[0mformat\u001b[0m\u001b[0;34m(\u001b[0m\u001b[0mcv_results\u001b[0m\u001b[0;34m.\u001b[0m\u001b[0mloc\u001b[0m\u001b[0;34m[\u001b[0m\u001b[0mcv_results\u001b[0m\u001b[0;34m[\u001b[0m\u001b[0;34m'rank_test_AUC'\u001b[0m\u001b[0;34m]\u001b[0m\u001b[0;34m==\u001b[0m\u001b[0;36m1\u001b[0m\u001b[0;34m,\u001b[0m\u001b[0;34m'params'\u001b[0m\u001b[0;34m]\u001b[0m\u001b[0;34m.\u001b[0m\u001b[0mto_string\u001b[0m\u001b[0;34m(\u001b[0m\u001b[0mindex\u001b[0m\u001b[0;34m=\u001b[0m\u001b[0;32mFalse\u001b[0m\u001b[0;34m)\u001b[0m\u001b[0;34m)\u001b[0m\u001b[0;34m)\u001b[0m\u001b[0;34m\u001b[0m\u001b[0;34m\u001b[0m\u001b[0m\n\u001b[0m\u001b[1;32m     13\u001b[0m     \u001b[0mprint\u001b[0m\u001b[0;34m(\u001b[0m\u001b[0;34m'\\t the AUC is: {}'\u001b[0m\u001b[0;34m.\u001b[0m\u001b[0mformat\u001b[0m\u001b[0;34m(\u001b[0m\u001b[0mcv_results\u001b[0m\u001b[0;34m.\u001b[0m\u001b[0mloc\u001b[0m\u001b[0;34m[\u001b[0m\u001b[0mcv_results\u001b[0m\u001b[0;34m[\u001b[0m\u001b[0;34m'rank_test_AUC'\u001b[0m\u001b[0;34m]\u001b[0m\u001b[0;34m==\u001b[0m\u001b[0;36m1\u001b[0m\u001b[0;34m,\u001b[0m\u001b[0;34m'mean_test_Accuracy'\u001b[0m\u001b[0;34m]\u001b[0m\u001b[0;34m.\u001b[0m\u001b[0mto_string\u001b[0m\u001b[0;34m(\u001b[0m\u001b[0mindex\u001b[0m\u001b[0;34m=\u001b[0m\u001b[0;32mFalse\u001b[0m\u001b[0;34m)\u001b[0m\u001b[0;34m)\u001b[0m\u001b[0;34m)\u001b[0m\u001b[0;34m\u001b[0m\u001b[0;34m\u001b[0m\u001b[0m\n\u001b[1;32m     14\u001b[0m     \u001b[0mprint\u001b[0m\u001b[0;34m(\u001b[0m\u001b[0;34m'\\t the accuracy is: {}'\u001b[0m\u001b[0;34m.\u001b[0m\u001b[0mformat\u001b[0m\u001b[0;34m(\u001b[0m\u001b[0mcv_results\u001b[0m\u001b[0;34m.\u001b[0m\u001b[0mloc\u001b[0m\u001b[0;34m[\u001b[0m\u001b[0mcv_results\u001b[0m\u001b[0;34m[\u001b[0m\u001b[0;34m'rank_test_AUC'\u001b[0m\u001b[0;34m]\u001b[0m\u001b[0;34m==\u001b[0m\u001b[0;36m1\u001b[0m\u001b[0;34m,\u001b[0m\u001b[0;34m'mean_test_AUC'\u001b[0m\u001b[0;34m]\u001b[0m\u001b[0;34m.\u001b[0m\u001b[0mto_string\u001b[0m\u001b[0;34m(\u001b[0m\u001b[0mindex\u001b[0m\u001b[0;34m=\u001b[0m\u001b[0;32mFalse\u001b[0m\u001b[0;34m)\u001b[0m\u001b[0;34m)\u001b[0m\u001b[0;34m)\u001b[0m\u001b[0;34m\u001b[0m\u001b[0;34m\u001b[0m\u001b[0m\n",
      "\u001b[0;32m~/miniconda3/envs/lmpmdev/lib/python3.8/site-packages/pandas/core/frame.py\u001b[0m in \u001b[0;36m__getitem__\u001b[0;34m(self, key)\u001b[0m\n\u001b[1;32m   3022\u001b[0m             \u001b[0;32mif\u001b[0m \u001b[0mself\u001b[0m\u001b[0;34m.\u001b[0m\u001b[0mcolumns\u001b[0m\u001b[0;34m.\u001b[0m\u001b[0mnlevels\u001b[0m \u001b[0;34m>\u001b[0m \u001b[0;36m1\u001b[0m\u001b[0;34m:\u001b[0m\u001b[0;34m\u001b[0m\u001b[0;34m\u001b[0m\u001b[0m\n\u001b[1;32m   3023\u001b[0m                 \u001b[0;32mreturn\u001b[0m \u001b[0mself\u001b[0m\u001b[0;34m.\u001b[0m\u001b[0m_getitem_multilevel\u001b[0m\u001b[0;34m(\u001b[0m\u001b[0mkey\u001b[0m\u001b[0;34m)\u001b[0m\u001b[0;34m\u001b[0m\u001b[0;34m\u001b[0m\u001b[0m\n\u001b[0;32m-> 3024\u001b[0;31m             \u001b[0mindexer\u001b[0m \u001b[0;34m=\u001b[0m \u001b[0mself\u001b[0m\u001b[0;34m.\u001b[0m\u001b[0mcolumns\u001b[0m\u001b[0;34m.\u001b[0m\u001b[0mget_loc\u001b[0m\u001b[0;34m(\u001b[0m\u001b[0mkey\u001b[0m\u001b[0;34m)\u001b[0m\u001b[0;34m\u001b[0m\u001b[0;34m\u001b[0m\u001b[0m\n\u001b[0m\u001b[1;32m   3025\u001b[0m             \u001b[0;32mif\u001b[0m \u001b[0mis_integer\u001b[0m\u001b[0;34m(\u001b[0m\u001b[0mindexer\u001b[0m\u001b[0;34m)\u001b[0m\u001b[0;34m:\u001b[0m\u001b[0;34m\u001b[0m\u001b[0;34m\u001b[0m\u001b[0m\n\u001b[1;32m   3026\u001b[0m                 \u001b[0mindexer\u001b[0m \u001b[0;34m=\u001b[0m \u001b[0;34m[\u001b[0m\u001b[0mindexer\u001b[0m\u001b[0;34m]\u001b[0m\u001b[0;34m\u001b[0m\u001b[0;34m\u001b[0m\u001b[0m\n",
      "\u001b[0;32m~/miniconda3/envs/lmpmdev/lib/python3.8/site-packages/pandas/core/indexes/base.py\u001b[0m in \u001b[0;36mget_loc\u001b[0;34m(self, key, method, tolerance)\u001b[0m\n\u001b[1;32m   3080\u001b[0m                 \u001b[0;32mreturn\u001b[0m \u001b[0mself\u001b[0m\u001b[0;34m.\u001b[0m\u001b[0m_engine\u001b[0m\u001b[0;34m.\u001b[0m\u001b[0mget_loc\u001b[0m\u001b[0;34m(\u001b[0m\u001b[0mcasted_key\u001b[0m\u001b[0;34m)\u001b[0m\u001b[0;34m\u001b[0m\u001b[0;34m\u001b[0m\u001b[0m\n\u001b[1;32m   3081\u001b[0m             \u001b[0;32mexcept\u001b[0m \u001b[0mKeyError\u001b[0m \u001b[0;32mas\u001b[0m \u001b[0merr\u001b[0m\u001b[0;34m:\u001b[0m\u001b[0;34m\u001b[0m\u001b[0;34m\u001b[0m\u001b[0m\n\u001b[0;32m-> 3082\u001b[0;31m                 \u001b[0;32mraise\u001b[0m \u001b[0mKeyError\u001b[0m\u001b[0;34m(\u001b[0m\u001b[0mkey\u001b[0m\u001b[0;34m)\u001b[0m \u001b[0;32mfrom\u001b[0m \u001b[0merr\u001b[0m\u001b[0;34m\u001b[0m\u001b[0;34m\u001b[0m\u001b[0m\n\u001b[0m\u001b[1;32m   3083\u001b[0m \u001b[0;34m\u001b[0m\u001b[0m\n\u001b[1;32m   3084\u001b[0m         \u001b[0;32mif\u001b[0m \u001b[0mtolerance\u001b[0m \u001b[0;32mis\u001b[0m \u001b[0;32mnot\u001b[0m \u001b[0;32mNone\u001b[0m\u001b[0;34m:\u001b[0m\u001b[0;34m\u001b[0m\u001b[0;34m\u001b[0m\u001b[0m\n",
      "\u001b[0;31mKeyError\u001b[0m: 'rank_test_AUC'"
     ]
    }
   ],
   "source": [
    "trained_models = []\n",
    "scoring = {'Accuracy': make_scorer(accuracy_score)}\n",
    "#            'AUC':'roc_auc_ovo'}\n",
    "refit_sc = 'Accuracy'\n",
    "\n",
    "for model, parameters, mod_name in zip(models,params, model_names):\n",
    "    print(\"Started training model\", mod_name)\n",
    "    time_0 = time()\n",
    "    trn_clf = train_opt_model(model, parameters, X_train, y_train, scoring, refit_sc)\n",
    "    print(\"Finished training model in\", round(time()-time_0,2),\"seconds\\n\")\n",
    "\n",
    "    if len(parameters) == 2:\n",
    "        plot_param_search(trn_clf, parameters)   \n",
    "    else:\n",
    "        plot_param_search_1d(trn_clf, parameters)\n",
    "    \n",
    "    trained_models.append(trn_clf)\n",
    "    print(\"---------------------------\\n\")"
   ]
  },
  {
   "cell_type": "code",
   "execution_count": 31,
   "id": "affected-search",
   "metadata": {},
   "outputs": [
    {
     "name": "stdout",
     "output_type": "stream",
     "text": [
      "Started training model linear SVM\n",
      "Fitting 5 folds for each of 2 candidates, totalling 10 fits\n",
      "Finished training model in 112.24 seconds\n",
      "\n",
      "For the model optimized by AUC:\n",
      "\t the parameter is: {'C': 0.01}\n",
      "\t the AUC is: NaN\n",
      "\t the accuracy is: NaN\n",
      "For the model optimized by Accuracy:\n",
      "\t the parameter is: {'C': 0.01}\n",
      "\t the AUC is: NaN\n",
      "\t the accuracy is: NaN\n",
      "Optimizing by AUC so best parameters are: {'C': 0.01}\n"
     ]
    },
    {
     "data": {
      "image/png": "[encoded data removed]",
      "text/plain": [
       "<Figure size 432x288 with 1 Axes>"
      ]
     },
     "metadata": {
      "needs_background": "light"
     },
     "output_type": "display_data"
    },
    {
     "name": "stdout",
     "output_type": "stream",
     "text": [
      "---------------------------\n",
      "\n"
     ]
    }
   ],
   "source": [
    "trained_models = []\n",
    "\n",
    "for model, parameters, mod_name in zip(models,params, model_names):\n",
    "    print(\"Started training model\", mod_name)\n",
    "    time_0 = time()\n",
    "    trn_clf = train_opt_model(model, parameters, X_train, y_train, scoring, refit_sc)\n",
    "    print(\"Finished training model in\", round(time()-time_0,2),\"seconds\\n\")\n",
    "\n",
    "    if len(parameters) == 2:\n",
    "        plot_param_search(trn_clf, parameters)   \n",
    "    else:\n",
    "        plot_param_search_1d(trn_clf, parameters)\n",
    "    \n",
    "    trained_models.append(trn_clf)\n",
    "    print(\"---------------------------\\n\")"
   ]
  },
  {
   "cell_type": "code",
   "execution_count": 25,
   "id": "retained-apache",
   "metadata": {},
   "outputs": [
    {
     "name": "stdout",
     "output_type": "stream",
     "text": [
      "finished 1\n"
     ]
    },
    {
     "ename": "AttributeError",
     "evalue": "predict_proba is not available when  probability=False",
     "output_type": "error",
     "traceback": [
      "\u001b[0;31m---------------------------------------------------------------------------\u001b[0m",
      "\u001b[0;31mAttributeError\u001b[0m                            Traceback (most recent call last)",
      "\u001b[0;32m<ipython-input-25-c31abbf9fdb2>\u001b[0m in \u001b[0;36m<module>\u001b[0;34m\u001b[0m\n\u001b[1;32m      4\u001b[0m \u001b[0;34m\u001b[0m\u001b[0m\n\u001b[1;32m      5\u001b[0m \u001b[0;32mfor\u001b[0m \u001b[0mtrn_model\u001b[0m\u001b[0;34m,\u001b[0m \u001b[0mmod_name\u001b[0m\u001b[0;34m,\u001b[0m \u001b[0mroc_col\u001b[0m \u001b[0;32min\u001b[0m \u001b[0mzip\u001b[0m\u001b[0;34m(\u001b[0m\u001b[0mtrained_models\u001b[0m\u001b[0;34m,\u001b[0m \u001b[0mmodel_names\u001b[0m\u001b[0;34m,\u001b[0m \u001b[0mroc_colors\u001b[0m\u001b[0;34m)\u001b[0m\u001b[0;34m:\u001b[0m\u001b[0;34m\u001b[0m\u001b[0;34m\u001b[0m\u001b[0m\n\u001b[0;32m----> 6\u001b[0;31m     \u001b[0mtest_accuracy\u001b[0m\u001b[0;34m,\u001b[0m \u001b[0mtest_auc_val\u001b[0m \u001b[0;34m=\u001b[0m \u001b[0mplot_roc_curve\u001b[0m\u001b[0;34m(\u001b[0m\u001b[0mtrn_model\u001b[0m\u001b[0;34m,\u001b[0m \u001b[0mmod_name\u001b[0m\u001b[0;34m,\u001b[0m \u001b[0mX_test\u001b[0m\u001b[0;34m,\u001b[0m \u001b[0my_test\u001b[0m\u001b[0;34m,\u001b[0m \u001b[0mroc_col\u001b[0m\u001b[0;34m)\u001b[0m\u001b[0;34m\u001b[0m\u001b[0;34m\u001b[0m\u001b[0m\n\u001b[0m\u001b[1;32m      7\u001b[0m     \u001b[0mcompare_auc\u001b[0m\u001b[0;34m.\u001b[0m\u001b[0mappend\u001b[0m\u001b[0;34m(\u001b[0m\u001b[0mtest_auc_val\u001b[0m\u001b[0;34m)\u001b[0m\u001b[0;34m\u001b[0m\u001b[0;34m\u001b[0m\u001b[0m\n\u001b[1;32m      8\u001b[0m     \u001b[0mcompare_accuracy\u001b[0m\u001b[0;34m.\u001b[0m\u001b[0mappend\u001b[0m\u001b[0;34m(\u001b[0m\u001b[0mtest_accuracy\u001b[0m\u001b[0;34m)\u001b[0m\u001b[0;34m\u001b[0m\u001b[0;34m\u001b[0m\u001b[0m\n",
      "\u001b[0;32m<ipython-input-6-6cad0eb5ba14>\u001b[0m in \u001b[0;36mplot_roc_curve\u001b[0;34m(trained_classifier, model_name, X_test, y_test, roc_col)\u001b[0m\n\u001b[1;32m      5\u001b[0m     \u001b[0mn_classes\u001b[0m \u001b[0;34m=\u001b[0m \u001b[0my_labs\u001b[0m\u001b[0;34m.\u001b[0m\u001b[0mshape\u001b[0m\u001b[0;34m[\u001b[0m\u001b[0;36m1\u001b[0m\u001b[0;34m]\u001b[0m\u001b[0;34m\u001b[0m\u001b[0;34m\u001b[0m\u001b[0m\n\u001b[1;32m      6\u001b[0m \u001b[0;34m\u001b[0m\u001b[0m\n\u001b[0;32m----> 7\u001b[0;31m     \u001b[0mpred_probs\u001b[0m \u001b[0;34m=\u001b[0m \u001b[0mtrained_classifier\u001b[0m\u001b[0;34m.\u001b[0m\u001b[0mbest_estimator_\u001b[0m\u001b[0;34m.\u001b[0m\u001b[0mpredict_proba\u001b[0m\u001b[0;34m(\u001b[0m\u001b[0mX_test\u001b[0m\u001b[0;34m)\u001b[0m\u001b[0;34m\u001b[0m\u001b[0;34m\u001b[0m\u001b[0m\n\u001b[0m\u001b[1;32m      8\u001b[0m     \u001b[0mpreds\u001b[0m \u001b[0;34m=\u001b[0m \u001b[0mtrn_clf\u001b[0m\u001b[0;34m.\u001b[0m\u001b[0mbest_estimator_\u001b[0m\u001b[0;34m.\u001b[0m\u001b[0mpredict\u001b[0m\u001b[0;34m(\u001b[0m\u001b[0mX_test\u001b[0m\u001b[0;34m)\u001b[0m\u001b[0;34m\u001b[0m\u001b[0;34m\u001b[0m\u001b[0m\n\u001b[1;32m      9\u001b[0m \u001b[0;34m\u001b[0m\u001b[0m\n",
      "\u001b[0;32m~/miniconda3/envs/lmpmdev/lib/python3.8/site-packages/sklearn/svm/_base.py\u001b[0m in \u001b[0;36mpredict_proba\u001b[0;34m(self)\u001b[0m\n\u001b[1;32m    664\u001b[0m         \u001b[0mdatasets\u001b[0m\u001b[0;34m.\u001b[0m\u001b[0;34m\u001b[0m\u001b[0;34m\u001b[0m\u001b[0m\n\u001b[1;32m    665\u001b[0m         \"\"\"\n\u001b[0;32m--> 666\u001b[0;31m         \u001b[0mself\u001b[0m\u001b[0;34m.\u001b[0m\u001b[0m_check_proba\u001b[0m\u001b[0;34m(\u001b[0m\u001b[0;34m)\u001b[0m\u001b[0;34m\u001b[0m\u001b[0;34m\u001b[0m\u001b[0m\n\u001b[0m\u001b[1;32m    667\u001b[0m         \u001b[0;32mreturn\u001b[0m \u001b[0mself\u001b[0m\u001b[0;34m.\u001b[0m\u001b[0m_predict_proba\u001b[0m\u001b[0;34m\u001b[0m\u001b[0;34m\u001b[0m\u001b[0m\n\u001b[1;32m    668\u001b[0m \u001b[0;34m\u001b[0m\u001b[0m\n",
      "\u001b[0;32m~/miniconda3/envs/lmpmdev/lib/python3.8/site-packages/sklearn/svm/_base.py\u001b[0m in \u001b[0;36m_check_proba\u001b[0;34m(self)\u001b[0m\n\u001b[1;32m    631\u001b[0m     \u001b[0;32mdef\u001b[0m \u001b[0m_check_proba\u001b[0m\u001b[0;34m(\u001b[0m\u001b[0mself\u001b[0m\u001b[0;34m)\u001b[0m\u001b[0;34m:\u001b[0m\u001b[0;34m\u001b[0m\u001b[0;34m\u001b[0m\u001b[0m\n\u001b[1;32m    632\u001b[0m         \u001b[0;32mif\u001b[0m \u001b[0;32mnot\u001b[0m \u001b[0mself\u001b[0m\u001b[0;34m.\u001b[0m\u001b[0mprobability\u001b[0m\u001b[0;34m:\u001b[0m\u001b[0;34m\u001b[0m\u001b[0;34m\u001b[0m\u001b[0m\n\u001b[0;32m--> 633\u001b[0;31m             raise AttributeError(\"predict_proba is not available when \"\n\u001b[0m\u001b[1;32m    634\u001b[0m                                  \" probability=False\")\n\u001b[1;32m    635\u001b[0m         \u001b[0;32mif\u001b[0m \u001b[0mself\u001b[0m\u001b[0;34m.\u001b[0m\u001b[0m_impl\u001b[0m \u001b[0;32mnot\u001b[0m \u001b[0;32min\u001b[0m \u001b[0;34m(\u001b[0m\u001b[0;34m'c_svc'\u001b[0m\u001b[0;34m,\u001b[0m \u001b[0;34m'nu_svc'\u001b[0m\u001b[0;34m)\u001b[0m\u001b[0;34m:\u001b[0m\u001b[0;34m\u001b[0m\u001b[0;34m\u001b[0m\u001b[0m\n",
      "\u001b[0;31mAttributeError\u001b[0m: predict_proba is not available when  probability=False"
     ]
    },
    {
     "data": {
      "image/png": "[encoded data removed]",
      "text/plain": [
       "<Figure size 432x288 with 1 Axes>"
      ]
     },
     "metadata": {
      "needs_background": "light"
     },
     "output_type": "display_data"
    }
   ],
   "source": [
    "compare_auc = []\n",
    "compare_accuracy = []\n",
    "roc_colors = ['navy','orange','green','peru','red','violet']\n",
    "\n",
    "for trn_model, mod_name, roc_col in zip(trained_models, model_names, roc_colors):\n",
    "    test_accuracy, test_auc_val = plot_roc_curve(trn_model, mod_name, X_test, y_test, roc_col)\n",
    "    compare_auc.append(test_auc_val)\n",
    "    compare_accuracy.append(test_accuracy)\n",
    "    \n",
    "plt.show()"
   ]
  },
  {
   "cell_type": "code",
   "execution_count": 17,
   "id": "unsigned-spider",
   "metadata": {
    "scrolled": true
   },
   "outputs": [
    {
     "ename": "ValueError",
     "evalue": "shape mismatch: objects cannot be broadcast to a single shape",
     "output_type": "error",
     "traceback": [
      "\u001b[0;31m---------------------------------------------------------------------------\u001b[0m",
      "\u001b[0;31mValueError\u001b[0m                                Traceback (most recent call last)",
      "\u001b[0;32m<ipython-input-17-916926b98859>\u001b[0m in \u001b[0;36m<module>\u001b[0;34m\u001b[0m\n\u001b[1;32m      1\u001b[0m \u001b[0mfig\u001b[0m\u001b[0;34m,\u001b[0m \u001b[0maxs\u001b[0m \u001b[0;34m=\u001b[0m \u001b[0mplt\u001b[0m\u001b[0;34m.\u001b[0m\u001b[0msubplots\u001b[0m\u001b[0;34m(\u001b[0m\u001b[0;36m1\u001b[0m\u001b[0;34m,\u001b[0m\u001b[0;36m2\u001b[0m\u001b[0;34m,\u001b[0m \u001b[0mfigsize\u001b[0m\u001b[0;34m=\u001b[0m\u001b[0;34m(\u001b[0m\u001b[0;36m15\u001b[0m\u001b[0;34m,\u001b[0m\u001b[0;36m5\u001b[0m\u001b[0;34m)\u001b[0m\u001b[0;34m)\u001b[0m\u001b[0;34m\u001b[0m\u001b[0;34m\u001b[0m\u001b[0m\n\u001b[0;32m----> 2\u001b[0;31m \u001b[0maxs\u001b[0m\u001b[0;34m[\u001b[0m\u001b[0;36m0\u001b[0m\u001b[0;34m]\u001b[0m\u001b[0;34m.\u001b[0m\u001b[0mbar\u001b[0m\u001b[0;34m(\u001b[0m\u001b[0mmodel_names\u001b[0m\u001b[0;34m,\u001b[0m \u001b[0mcompare_auc\u001b[0m\u001b[0;34m)\u001b[0m\u001b[0;34m\u001b[0m\u001b[0;34m\u001b[0m\u001b[0m\n\u001b[0m\u001b[1;32m      3\u001b[0m \u001b[0maxs\u001b[0m\u001b[0;34m[\u001b[0m\u001b[0;36m1\u001b[0m\u001b[0;34m]\u001b[0m\u001b[0;34m.\u001b[0m\u001b[0mbar\u001b[0m\u001b[0;34m(\u001b[0m\u001b[0mmodel_names\u001b[0m\u001b[0;34m,\u001b[0m \u001b[0mcompare_accuracy\u001b[0m\u001b[0;34m)\u001b[0m\u001b[0;34m\u001b[0m\u001b[0;34m\u001b[0m\u001b[0m\n\u001b[1;32m      4\u001b[0m \u001b[0;34m\u001b[0m\u001b[0m\n\u001b[1;32m      5\u001b[0m \u001b[0maxs\u001b[0m\u001b[0;34m[\u001b[0m\u001b[0;36m0\u001b[0m\u001b[0;34m]\u001b[0m\u001b[0;34m.\u001b[0m\u001b[0mset_ylabel\u001b[0m\u001b[0;34m(\u001b[0m\u001b[0;34m'AUC'\u001b[0m\u001b[0;34m)\u001b[0m\u001b[0;34m\u001b[0m\u001b[0;34m\u001b[0m\u001b[0m\n",
      "\u001b[0;32m~/miniconda3/envs/lmpmdev/lib/python3.8/site-packages/matplotlib/__init__.py\u001b[0m in \u001b[0;36minner\u001b[0;34m(ax, data, *args, **kwargs)\u001b[0m\n\u001b[1;32m   1445\u001b[0m     \u001b[0;32mdef\u001b[0m \u001b[0minner\u001b[0m\u001b[0;34m(\u001b[0m\u001b[0max\u001b[0m\u001b[0;34m,\u001b[0m \u001b[0;34m*\u001b[0m\u001b[0margs\u001b[0m\u001b[0;34m,\u001b[0m \u001b[0mdata\u001b[0m\u001b[0;34m=\u001b[0m\u001b[0;32mNone\u001b[0m\u001b[0;34m,\u001b[0m \u001b[0;34m**\u001b[0m\u001b[0mkwargs\u001b[0m\u001b[0;34m)\u001b[0m\u001b[0;34m:\u001b[0m\u001b[0;34m\u001b[0m\u001b[0;34m\u001b[0m\u001b[0m\n\u001b[1;32m   1446\u001b[0m         \u001b[0;32mif\u001b[0m \u001b[0mdata\u001b[0m \u001b[0;32mis\u001b[0m \u001b[0;32mNone\u001b[0m\u001b[0;34m:\u001b[0m\u001b[0;34m\u001b[0m\u001b[0;34m\u001b[0m\u001b[0m\n\u001b[0;32m-> 1447\u001b[0;31m             \u001b[0;32mreturn\u001b[0m \u001b[0mfunc\u001b[0m\u001b[0;34m(\u001b[0m\u001b[0max\u001b[0m\u001b[0;34m,\u001b[0m \u001b[0;34m*\u001b[0m\u001b[0mmap\u001b[0m\u001b[0;34m(\u001b[0m\u001b[0msanitize_sequence\u001b[0m\u001b[0;34m,\u001b[0m \u001b[0margs\u001b[0m\u001b[0;34m)\u001b[0m\u001b[0;34m,\u001b[0m \u001b[0;34m**\u001b[0m\u001b[0mkwargs\u001b[0m\u001b[0;34m)\u001b[0m\u001b[0;34m\u001b[0m\u001b[0;34m\u001b[0m\u001b[0m\n\u001b[0m\u001b[1;32m   1448\u001b[0m \u001b[0;34m\u001b[0m\u001b[0m\n\u001b[1;32m   1449\u001b[0m         \u001b[0mbound\u001b[0m \u001b[0;34m=\u001b[0m \u001b[0mnew_sig\u001b[0m\u001b[0;34m.\u001b[0m\u001b[0mbind\u001b[0m\u001b[0;34m(\u001b[0m\u001b[0max\u001b[0m\u001b[0;34m,\u001b[0m \u001b[0;34m*\u001b[0m\u001b[0margs\u001b[0m\u001b[0;34m,\u001b[0m \u001b[0;34m**\u001b[0m\u001b[0mkwargs\u001b[0m\u001b[0;34m)\u001b[0m\u001b[0;34m\u001b[0m\u001b[0;34m\u001b[0m\u001b[0m\n",
      "\u001b[0;32m~/miniconda3/envs/lmpmdev/lib/python3.8/site-packages/matplotlib/axes/_axes.py\u001b[0m in \u001b[0;36mbar\u001b[0;34m(self, x, height, width, bottom, align, **kwargs)\u001b[0m\n\u001b[1;32m   2428\u001b[0m                 \u001b[0myerr\u001b[0m \u001b[0;34m=\u001b[0m \u001b[0mself\u001b[0m\u001b[0;34m.\u001b[0m\u001b[0m_convert_dx\u001b[0m\u001b[0;34m(\u001b[0m\u001b[0myerr\u001b[0m\u001b[0;34m,\u001b[0m \u001b[0my0\u001b[0m\u001b[0;34m,\u001b[0m \u001b[0my\u001b[0m\u001b[0;34m,\u001b[0m \u001b[0mself\u001b[0m\u001b[0;34m.\u001b[0m\u001b[0mconvert_yunits\u001b[0m\u001b[0;34m)\u001b[0m\u001b[0;34m\u001b[0m\u001b[0;34m\u001b[0m\u001b[0m\n\u001b[1;32m   2429\u001b[0m \u001b[0;34m\u001b[0m\u001b[0m\n\u001b[0;32m-> 2430\u001b[0;31m         x, height, width, y, linewidth = np.broadcast_arrays(\n\u001b[0m\u001b[1;32m   2431\u001b[0m             \u001b[0;31m# Make args iterable too.\u001b[0m\u001b[0;34m\u001b[0m\u001b[0;34m\u001b[0m\u001b[0;34m\u001b[0m\u001b[0m\n\u001b[1;32m   2432\u001b[0m             np.atleast_1d(x), height, width, y, linewidth)\n",
      "\u001b[0;32m<__array_function__ internals>\u001b[0m in \u001b[0;36mbroadcast_arrays\u001b[0;34m(*args, **kwargs)\u001b[0m\n",
      "\u001b[0;32m~/miniconda3/envs/lmpmdev/lib/python3.8/site-packages/numpy/lib/stride_tricks.py\u001b[0m in \u001b[0;36mbroadcast_arrays\u001b[0;34m(subok, *args)\u001b[0m\n\u001b[1;32m    536\u001b[0m     \u001b[0margs\u001b[0m \u001b[0;34m=\u001b[0m \u001b[0;34m[\u001b[0m\u001b[0mnp\u001b[0m\u001b[0;34m.\u001b[0m\u001b[0marray\u001b[0m\u001b[0;34m(\u001b[0m\u001b[0m_m\u001b[0m\u001b[0;34m,\u001b[0m \u001b[0mcopy\u001b[0m\u001b[0;34m=\u001b[0m\u001b[0;32mFalse\u001b[0m\u001b[0;34m,\u001b[0m \u001b[0msubok\u001b[0m\u001b[0;34m=\u001b[0m\u001b[0msubok\u001b[0m\u001b[0;34m)\u001b[0m \u001b[0;32mfor\u001b[0m \u001b[0m_m\u001b[0m \u001b[0;32min\u001b[0m \u001b[0margs\u001b[0m\u001b[0;34m]\u001b[0m\u001b[0;34m\u001b[0m\u001b[0;34m\u001b[0m\u001b[0m\n\u001b[1;32m    537\u001b[0m \u001b[0;34m\u001b[0m\u001b[0m\n\u001b[0;32m--> 538\u001b[0;31m     \u001b[0mshape\u001b[0m \u001b[0;34m=\u001b[0m \u001b[0m_broadcast_shape\u001b[0m\u001b[0;34m(\u001b[0m\u001b[0;34m*\u001b[0m\u001b[0margs\u001b[0m\u001b[0;34m)\u001b[0m\u001b[0;34m\u001b[0m\u001b[0;34m\u001b[0m\u001b[0m\n\u001b[0m\u001b[1;32m    539\u001b[0m \u001b[0;34m\u001b[0m\u001b[0m\n\u001b[1;32m    540\u001b[0m     \u001b[0;32mif\u001b[0m \u001b[0mall\u001b[0m\u001b[0;34m(\u001b[0m\u001b[0marray\u001b[0m\u001b[0;34m.\u001b[0m\u001b[0mshape\u001b[0m \u001b[0;34m==\u001b[0m \u001b[0mshape\u001b[0m \u001b[0;32mfor\u001b[0m \u001b[0marray\u001b[0m \u001b[0;32min\u001b[0m \u001b[0margs\u001b[0m\u001b[0;34m)\u001b[0m\u001b[0;34m:\u001b[0m\u001b[0;34m\u001b[0m\u001b[0;34m\u001b[0m\u001b[0m\n",
      "\u001b[0;32m~/miniconda3/envs/lmpmdev/lib/python3.8/site-packages/numpy/lib/stride_tricks.py\u001b[0m in \u001b[0;36m_broadcast_shape\u001b[0;34m(*args)\u001b[0m\n\u001b[1;32m    418\u001b[0m     \u001b[0;31m# use the old-iterator because np.nditer does not handle size 0 arrays\u001b[0m\u001b[0;34m\u001b[0m\u001b[0;34m\u001b[0m\u001b[0;34m\u001b[0m\u001b[0m\n\u001b[1;32m    419\u001b[0m     \u001b[0;31m# consistently\u001b[0m\u001b[0;34m\u001b[0m\u001b[0;34m\u001b[0m\u001b[0;34m\u001b[0m\u001b[0m\n\u001b[0;32m--> 420\u001b[0;31m     \u001b[0mb\u001b[0m \u001b[0;34m=\u001b[0m \u001b[0mnp\u001b[0m\u001b[0;34m.\u001b[0m\u001b[0mbroadcast\u001b[0m\u001b[0;34m(\u001b[0m\u001b[0;34m*\u001b[0m\u001b[0margs\u001b[0m\u001b[0;34m[\u001b[0m\u001b[0;34m:\u001b[0m\u001b[0;36m32\u001b[0m\u001b[0;34m]\u001b[0m\u001b[0;34m)\u001b[0m\u001b[0;34m\u001b[0m\u001b[0;34m\u001b[0m\u001b[0m\n\u001b[0m\u001b[1;32m    421\u001b[0m     \u001b[0;31m# unfortunately, it cannot handle 32 or more arguments directly\u001b[0m\u001b[0;34m\u001b[0m\u001b[0;34m\u001b[0m\u001b[0;34m\u001b[0m\u001b[0m\n\u001b[1;32m    422\u001b[0m     \u001b[0;32mfor\u001b[0m \u001b[0mpos\u001b[0m \u001b[0;32min\u001b[0m \u001b[0mrange\u001b[0m\u001b[0;34m(\u001b[0m\u001b[0;36m32\u001b[0m\u001b[0;34m,\u001b[0m \u001b[0mlen\u001b[0m\u001b[0;34m(\u001b[0m\u001b[0margs\u001b[0m\u001b[0;34m)\u001b[0m\u001b[0;34m,\u001b[0m \u001b[0;36m31\u001b[0m\u001b[0;34m)\u001b[0m\u001b[0;34m:\u001b[0m\u001b[0;34m\u001b[0m\u001b[0;34m\u001b[0m\u001b[0m\n",
      "\u001b[0;31mValueError\u001b[0m: shape mismatch: objects cannot be broadcast to a single shape"
     ]
    },
    {
     "data": {
      "image/png": "[encoded data removed]",
      "text/plain": [
       "<Figure size 1080x360 with 2 Axes>"
      ]
     },
     "metadata": {
      "needs_background": "light"
     },
     "output_type": "display_data"
    }
   ],
   "source": [
    "fig, axs = plt.subplots(1,2, figsize=(15,5))\n",
    "axs[0].bar(model_names, compare_auc)\n",
    "axs[1].bar(model_names, compare_accuracy)\n",
    "\n",
    "axs[0].set_ylabel('AUC')\n",
    "axs[1].set_ylabel('Accuracy')\n",
    "\n",
    "axs[0].set_ylim(0.7,1.0)\n",
    "axs[1].set_ylim(0.7,1.0)\n",
    "\n",
    "plt.show()"
   ]
  },
  {
   "cell_type": "code",
   "execution_count": null,
   "id": "narrative-fleet",
   "metadata": {},
   "outputs": [],
   "source": []
  },
  {
   "cell_type": "code",
   "execution_count": null,
   "id": "separate-august",
   "metadata": {},
   "outputs": [],
   "source": []
  },
  {
   "cell_type": "code",
   "execution_count": null,
   "id": "minor-pipeline",
   "metadata": {},
   "outputs": [],
   "source": []
  },
  {
   "cell_type": "code",
   "execution_count": null,
   "id": "behavioral-communications",
   "metadata": {},
   "outputs": [],
   "source": []
  },
  {
   "cell_type": "code",
   "execution_count": null,
   "id": "stretch-amplifier",
   "metadata": {},
   "outputs": [],
   "source": []
  },
  {
   "cell_type": "code",
   "execution_count": null,
   "id": "outdoor-tuner",
   "metadata": {},
   "outputs": [],
   "source": []
  },
  {
   "cell_type": "code",
   "execution_count": null,
   "id": "fifteen-selling",
   "metadata": {},
   "outputs": [],
   "source": []
  },
  {
   "cell_type": "code",
   "execution_count": null,
   "id": "dedicated-enclosure",
   "metadata": {},
   "outputs": [],
   "source": []
  },
  {
   "cell_type": "code",
   "execution_count": null,
   "id": "engaged-evening",
   "metadata": {},
   "outputs": [],
   "source": []
  },
  {
   "cell_type": "code",
   "execution_count": null,
   "id": "going-biotechnology",
   "metadata": {},
   "outputs": [],
   "source": []
  },
  {
   "cell_type": "code",
   "execution_count": null,
   "id": "artistic-order",
   "metadata": {},
   "outputs": [],
   "source": []
  },
  {
   "cell_type": "code",
   "execution_count": null,
   "id": "fixed-medium",
   "metadata": {},
   "outputs": [],
   "source": []
  },
  {
   "cell_type": "code",
   "execution_count": null,
   "id": "directed-story",
   "metadata": {},
   "outputs": [],
   "source": []
  },
  {
   "cell_type": "markdown",
   "id": "uniform-kitchen",
   "metadata": {},
   "source": [
    "# Functions"
   ]
  },
  {
   "cell_type": "code",
   "execution_count": 5,
   "id": "younger-genealogy",
   "metadata": {},
   "outputs": [],
   "source": [
    "def data_to_unirep(df):\n",
    "    \"\"\"\n",
    "    Generates a new data frame with the UniProt ID, UniRep 1900 vectors (x-values), and secretion state (y-values)\n",
    "    \n",
    "    Args:\n",
    "        df (DataFrame): original data frame with sequence information and class information (specifying secretion)\n",
    "        \n",
    "    Returns:\n",
    "        unirep_df (DataFrame): new unirep data frame with class information and unirep vectors\n",
    "    \"\"\"\n",
    "    seq_key = 'Sequence'\n",
    "    vec_prefix = 'Vec_{}'\n",
    "    \n",
    "    # Generating new data frame with unirep vectors\n",
    "    vec_column_names = [vec_prefix.format(i) for i in range(1900)]        \n",
    "    unirep_df = pd.DataFrame(columns = ['Class'] + vec_column_names)\n",
    "\n",
    "    for i, row in df.iterrows():\n",
    "        if int(i) % 1 == 0:\n",
    "            print('row {}'.format(i), end='\\r')\n",
    "        sequence = row.loc[seq_key]\n",
    "        unirep_df.loc[i, 'Class'] = row['Class']\n",
    "        vec = get_UniReps(sequence)[0][0]\n",
    "        unirep_df.loc[i, vec_column_names] = vec\n",
    "    \n",
    "    return unirep_df"
   ]
  },
  {
   "cell_type": "code",
   "execution_count": 32,
   "id": "afraid-young",
   "metadata": {},
   "outputs": [],
   "source": [
    "def classifier_comparison(X, y, seed):\n",
    "    \"\"\"\n",
    "    Iterates through sklearn supervised learning classification models.\n",
    "    Performs k-fold cross-validation (k=10).\n",
    "    Comparing each classifier based on model accuracy.\n",
    "    Plots model accuracy on a boxplot.\n",
    "    Taken from https://machinelearningmastery.com/compare-machine-learning-algorithms-python-scikit-learn/\n",
    "    \n",
    "    Args:\n",
    "        X (Array-like): All of the input parameters (including UniRep vectors) for the secretion analysis model\n",
    "        y (Array-like): The ouput parameter, or secretion class, for the secretion analysis model\n",
    "        \n",
    "    Returns:\n",
    "        \n",
    "    \"\"\"\n",
    "    # Preparing models\n",
    "    models = []\n",
    "    models.append(('RidgeReg', RidgeClassifierCV(alphas=[1e-3, 1e-2, 1e-1, 1],normalize=True)))\n",
    "    K_neighbors = int(np.sqrt(len(y_train)))\n",
    "    models.append(('KNN', KNeighborsClassifier(K_neighbors, weights='uniform')))\n",
    "    models.append(('NeuralNet', MLPClassifier(max_iter=200)))\n",
    "    models.append(('RandomForest', RandomForestClassifier()))\n",
    "    models.append(('RBF SVM', SVC(gamma=0.1, C=1)))\n",
    "    \n",
    "    # Evaluating each model using cross-validation\n",
    "    results = []\n",
    "    names = []\n",
    "    scoring = 'accuracy'\n",
    "    for name, model in models:\n",
    "        kfold = model_selection.KFold(n_splits=5, random_state=seed, shuffle=True)\n",
    "        cv_results = model_selection.cross_val_score(model, X, y, cv=kfold, scoring=scoring)\n",
    "        results.append(cv_results)\n",
    "        names.append(name)\n",
    "        msg = \"%s: %f (%f)\" % (name, cv_results.mean(), cv_results.std())\n",
    "        print(msg)\n",
    "        \n",
    "    # Plotting the classifier comparison\n",
    "    fig = plt.figure()\n",
    "    fig.suptitle('Sklearn Model Comparison')\n",
    "    ax = fig.add_subplot(111)\n",
    "    plt.boxplot(results)\n",
    "    ax.set_xticklabels(names)\n",
    "    plt.show()"
   ]
  },
  {
   "cell_type": "code",
   "execution_count": 33,
   "id": "elder-feeding",
   "metadata": {
    "scrolled": true
   },
   "outputs": [
    {
     "data": {
      "text/plain": [
       "GridSearchCV(estimator=KNeighborsClassifier(),\n",
       "             param_grid={'n_neighbors': [9, 19, 39, 79, 158, 316, 632],\n",
       "                         'weights': ['uniform', 'distance']})"
      ]
     },
     "execution_count": 33,
     "metadata": {},
     "output_type": "execute_result"
    }
   ],
   "source": [
    "k_init_aprox = int(np.sqrt(len(y_train)))\n",
    "parameters = {'n_neighbors':[int(k_init_aprox/8),\n",
    "                       int(k_init_aprox/4),\n",
    "                       int(k_init_aprox/2),\n",
    "                       int(k_init_aprox),\n",
    "                       int(k_init_aprox*2),\n",
    "                       int(k_init_aprox*4),\n",
    "                       int(k_init_aprox*8)],\n",
    "             'weights': ['uniform', 'distance']}\n",
    "knn = KNeighborsClassifier()\n",
    "clf = GridSearchCV(knn, parameters)\n",
    "clf.fit(X_train, y_train)"
   ]
  },
  {
   "cell_type": "code",
   "execution_count": null,
   "id": "electoral-grave",
   "metadata": {},
   "outputs": [],
   "source": []
  },
  {
   "cell_type": "code",
   "execution_count": null,
   "id": "toxic-continuity",
   "metadata": {},
   "outputs": [],
   "source": []
  },
  {
   "cell_type": "code",
   "execution_count": null,
   "id": "macro-sodium",
   "metadata": {},
   "outputs": [],
   "source": []
  },
  {
   "cell_type": "code",
   "execution_count": null,
   "id": "eastern-mixer",
   "metadata": {},
   "outputs": [],
   "source": []
  },
  {
   "cell_type": "code",
   "execution_count": null,
   "id": "nominated-convertible",
   "metadata": {},
   "outputs": [],
   "source": []
  },
  {
   "cell_type": "code",
   "execution_count": null,
   "id": "further-tiger",
   "metadata": {},
   "outputs": [],
   "source": []
  },
  {
   "cell_type": "code",
   "execution_count": null,
   "id": "loaded-panel",
   "metadata": {},
   "outputs": [],
   "source": []
  },
  {
   "cell_type": "code",
   "execution_count": null,
   "id": "polished-crown",
   "metadata": {},
   "outputs": [],
   "source": []
  },
  {
   "cell_type": "code",
   "execution_count": null,
   "id": "designed-state",
   "metadata": {},
   "outputs": [],
   "source": []
  },
  {
   "cell_type": "code",
   "execution_count": null,
   "id": "compressed-nylon",
   "metadata": {},
   "outputs": [],
   "source": []
  },
  {
   "cell_type": "code",
   "execution_count": null,
   "id": "rapid-sweet",
   "metadata": {},
   "outputs": [],
   "source": []
  },
  {
   "cell_type": "code",
   "execution_count": null,
   "id": "adequate-journey",
   "metadata": {},
   "outputs": [],
   "source": [
    "def "
   ]
  },
  {
   "cell_type": "code",
   "execution_count": null,
   "id": "strong-sodium",
   "metadata": {},
   "outputs": [],
   "source": []
  },
  {
   "cell_type": "code",
   "execution_count": null,
   "id": "suitable-earth",
   "metadata": {},
   "outputs": [],
   "source": []
  },
  {
   "cell_type": "code",
   "execution_count": null,
   "id": "technical-montana",
   "metadata": {},
   "outputs": [],
   "source": []
  },
  {
   "cell_type": "code",
   "execution_count": null,
   "id": "fuzzy-compilation",
   "metadata": {},
   "outputs": [],
   "source": []
  },
  {
   "cell_type": "code",
   "execution_count": null,
   "id": "biological-cursor",
   "metadata": {},
   "outputs": [],
   "source": []
  },
  {
   "cell_type": "code",
   "execution_count": 8,
   "id": "recorded-outreach",
   "metadata": {},
   "outputs": [],
   "source": [
    "# These parameters are for the `use_additional_features` function\n",
    "# They are from the Hessa et al. paper cited in the function\n",
    "params = pd.read_csv('Params.csv', header=None)\n",
    "lst = params[0].values\n",
    "params.set_index(lst, inplace=True)\n",
    "del params[0]\n",
    "params_dict = defaultdict(list)\n",
    "for i, row in params.iterrows():\n",
    "    for position in range(1, len(row) + 1):\n",
    "        params_dict[i].append(float(row.loc[position]))"
   ]
  },
  {
   "cell_type": "code",
   "execution_count": 9,
   "id": "practical-forth",
   "metadata": {},
   "outputs": [],
   "source": [
    "def use_additional_features(df):\n",
    "    \"\"\"\n",
    "    Uses additional features to help improve the model. \n",
    "    Additional features include:\n",
    "        theoretical isoelectric point, amino acid length, amino acid weight,\n",
    "        free energy of transmembrane insertion\n",
    "        \n",
    "    Check https://biopython.org/docs/1.75/api/Bio.SeqUtils.html\n",
    "    Free energy of transmembrane insertion values from\n",
    "        Hessa, T., Meindl-Beinker, N., Bernsel, A. et al. Molecular code for transmembrane-helix recognition \n",
    "        by the Sec61 translocon. Nature 450, 1026–1030 (2007). https://doi.org/10.1038/nature06387\n",
    "    \n",
    "    Args:\n",
    "        df (DataFrame): data frame including all of the inputs (sequence, unirep vectors, and secretion class)\n",
    "    \n",
    "    Returns:\n",
    "        df_with_add_features (DataFrame): modified data frame with additional features listed above\n",
    "    \"\"\"\n",
    "    # First append new columns for the theoretical isoelectric point,\n",
    "    # amino acid length, and molecular weight\n",
    "    seq_key = 'seq'\n",
    "    df_with_add_features = df.copy(deep=True)\n",
    "    df_with_add_features['PI'] = 0\n",
    "    df_with_add_features['Molecular_Weight'] = 0\n",
    "    df_with_add_features['Sequence_Length'] = 0\n",
    "    for i, row in df_with_add_features.iterrows():\n",
    "        seq = row.loc[seq_key]\n",
    "        seq_obj = IP(seq)\n",
    "        df_with_add_features.loc[i, 'PI'] = seq_obj.pi()\n",
    "        df_with_add_features.loc[i, 'Molecular_Weight'] = round(molecular_weight(seq, seq_type='protein'))\n",
    "        df_with_add_features.loc[i, 'Sequence_Length'] = len(seq)\n",
    "\n",
    "    # Next, add the free energy of membrane insertion values\n",
    "    df_with_add_features['dG'] = 0\n",
    "    for i, row in df.iterrows():\n",
    "        if int(i) % 10 == 0:\n",
    "            print('row {} of {}'.format(i, len(df.index)), end=\"\\r\") # Set a progress check\n",
    "        seq = row.loc[seq_key]\n",
    "        # Skips sequence if the entire sequence length is less than 19\n",
    "        if len(seq) < 19:\n",
    "            continue\n",
    "        dg_values = []\n",
    "        # Scans sequence for every 19-residue frame\n",
    "        for j in range(len(seq)-18):\n",
    "            running_total = 0\n",
    "            new_segment = seq[j:j+19]\n",
    "            for k, aa in enumerate(new_segment):\n",
    "                if aa == 'U':\n",
    "                    pass\n",
    "                else:\n",
    "                    running_total += params_dict[aa][k]\n",
    "            dg_values.append(running_total) \n",
    "        # Finds the minimum dG value\n",
    "        df_with_add_features.loc[i, 'dG'] = min(dg_values)\n",
    "        \n",
    "    # Finally, return the updated data frame with additional features\n",
    "    return df_with_add_features"
   ]
  },
  {
   "cell_type": "code",
   "execution_count": 10,
   "id": "destroyed-malpractice",
   "metadata": {},
   "outputs": [],
   "source": [
    "def secretion_optimization_unirep(seq, pos, model):\n",
    "    \"\"\"\n",
    "    Based on the given model, this function mutates the input sequence at the position provided\n",
    "    Uses only the unirep vectors as input values\n",
    "    \n",
    "    Args:\n",
    "        seq (String): initial amino acid sequence provided with single-letter format\n",
    "        pos (int): position where the mutations can occur in the given sequence\n",
    "        model:\n",
    "    \n",
    "    Returns:\n",
    "        seq (String): final, mutated amino acid sequence with improved secretion score\n",
    "    \"\"\"\n",
    "    # First, obtain the unirep representation of given sequence\n",
    "    unirep_values = get_UniReps(seq)[0]\n",
    "    unirep_values = unirep_values.reshape(1, -1)\n",
    "    \n",
    "    # Next, predict the initial secretion score\n",
    "    print(\"The initial sequence is:\", seq)\n",
    "    initial_class = model.predict(unirep_values)\n",
    "    print(\"The initial class is:\", initial_class)\n",
    "    classes = list(model.classes_)\n",
    "    if type(model) is RidgeClassifierCV:\n",
    "        decision_function_values = model.decision_function(unirep_values)[0]\n",
    "        probs = np.exp(decision_function_values) / np.sum(np.exp(decision_function_values))\n",
    "        initial_score = probs[classes.index('secreted')]\n",
    "    else:\n",
    "        prediction_probability = list(model.predict_proba(unirep_values)[0]) # Grabbing the probability of each class\n",
    "        initial_score = prediction_probability[classes.index('secreted')] # Grabbing the probability of being secreted class\n",
    "    print(\"The initial probability of being the secreted class is:\", initial_score)\n",
    "    \n",
    "    # Set up list of amino acids\n",
    "    amino_acids = ['G', 'A', 'L', 'M', 'F', 'W', 'K', 'Q', 'E', 'S', 'P', 'V', 'I', 'C', 'Y', 'H', 'R', 'N', 'D', 'T']\n",
    "    \n",
    "    # Set up point mutations\n",
    "    mutated_scores_for_all_AA = []\n",
    "    for i in range(len(amino_acids)):\n",
    "        seq_list = list(seq)\n",
    "        seq_list[pos] = amino_acids[i]\n",
    "        new_seq = \"\".join(seq_list) # Creating the point-mutated sequence\n",
    "        mutated_unirep_values = get_UniReps(new_seq)[0] # Grabbing the input parameters (unirep vectors)\n",
    "        mutated_unirep_values = mutated_unirep_values.reshape(1, -1)\n",
    "        mutated_class = model.predict(mutated_unirep_values) # The class of the mutated sequence\n",
    "        classes = list(model.classes_)\n",
    "        if type(model) is RidgeClassifierCV:\n",
    "            decision_function_values = model.decision_function(mutated_unirep_values)[0]\n",
    "            probs = np.exp(decision_function_values) / np.sum(np.exp(decision_function_values))\n",
    "            mutated_score = probs[classes.index('secreted')]\n",
    "        else:\n",
    "            prediction_probability = list(model.predict_proba(mutated_unirep_values)[0]) # Grabbing the probability of each class\n",
    "            mutated_score = prediction_probability[classes.index('secreted')] # Grabbing the probability of being secreted class\n",
    "        mutated_scores_for_all_AA.append(mutated_score)\n",
    "        if mutated_score > initial_score:\n",
    "            seq = new_seq\n",
    "            initial_score = mutated_score\n",
    "            initial_class = mutated_class\n",
    "    print(\"The improved, mutated sequence is:\", seq)\n",
    "    print(\"The mutated class is:\", initial_class)\n",
    "    print(\"The mutated probability of being the secreted class is:\", initial_score)\n",
    "    \n",
    "    plt.plot(amino_acids, mutated_scores_for_all_AA)\n",
    "    plt.xlabel('Amino Acid Point Mutation')\n",
    "    plt.ylabel('Probability of Class: Secreted (%)')\n",
    "    plt.show()\n",
    "            \n",
    "    return seq"
   ]
  },
  {
   "cell_type": "markdown",
   "id": "ongoing-theory",
   "metadata": {},
   "source": [
    "# Refined Code and Analysis for Updated UniRep Datasets"
   ]
  },
  {
   "cell_type": "markdown",
   "id": "fluid-mambo",
   "metadata": {},
   "source": [
    "First, run the sklearn model comparison function for the human data set with and without the signal peptide."
   ]
  },
  {
   "cell_type": "code",
   "execution_count": 10,
   "id": "laughing-client",
   "metadata": {},
   "outputs": [],
   "source": [
    "# Running the model comparison on human data set WITH signal peptides\n",
    "X = np.stack(human_unirep_withSP[\"UniRep\"].to_numpy())\n",
    "y = np.array(human_unirep_withSP['location'])\n",
    "X_train, X_test, y_train, y_test = train_test_split(X, y, test_size=0.2, random_state=42)"
   ]
  },
  {
   "cell_type": "code",
   "execution_count": 12,
   "id": "musical-gothic",
   "metadata": {},
   "outputs": [
    {
     "name": "stdout",
     "output_type": "stream",
     "text": [
      "RidgeReg: 0.972815 (0.003944)\n",
      "KNN: 0.906504 (0.007450)\n"
     ]
    },
    {
     "name": "stderr",
     "output_type": "stream",
     "text": [
      "\n",
      "KeyboardInterrupt\n",
      "\n"
     ]
    }
   ],
   "source": [
    "classifier_comparison(X, y, 42)"
   ]
  },
  {
   "cell_type": "code",
   "execution_count": null,
   "id": "individual-board",
   "metadata": {},
   "outputs": [],
   "source": [
    "# Running the model comparison on human data set WITHOUT signal peptides\n",
    "X2 = np.stack(human_unirep_noSP[\"UniRep\"].to_numpy())\n",
    "y2 = np.array(human_unirep_noSP['location'])\n",
    "X2_train, X2_test, y2_train, y2_test = train_test_split(X2, y2, test_size=0.2, random_state=42)"
   ]
  },
  {
   "cell_type": "code",
   "execution_count": null,
   "id": "vanilla-jacksonville",
   "metadata": {},
   "outputs": [],
   "source": [
    "classifier_comparison(X2, y2, 42)"
   ]
  },
  {
   "cell_type": "markdown",
   "id": "yellow-doctrine",
   "metadata": {},
   "source": [
    "Next, test the secretion optimizer mutation function."
   ]
  },
  {
   "cell_type": "code",
   "execution_count": null,
   "id": "charming-joyce",
   "metadata": {},
   "outputs": [],
   "source": [
    "# Using an example model to test out the secretion_optimization_unirep function\n",
    "# Using human data WITHOUT signal peptides\n",
    "model = ridge_regression_classifier(X2_train, X2_test, y2_train, y2_test) # Define function used\n",
    "seq = 'ACCAMGGSGCGSGSGSACCAMGGS' # Provide initial sequence\n",
    "position = 10 # Provide position for point mutations\n",
    "\n",
    "secretion_optimization_unirep(seq, position, model)"
   ]
  },
  {
   "cell_type": "markdown",
   "id": "answering-southwest",
   "metadata": {},
   "source": [
    "Now, move on to analysis including additional features."
   ]
  },
  {
   "cell_type": "code",
   "execution_count": null,
   "id": "greater-ready",
   "metadata": {
    "scrolled": true
   },
   "outputs": [],
   "source": [
    "# Appending additional features to the human data\n",
    "# First, omit sequences with ambiguous 'X' or 'B'\n",
    "new_human_unirep_noSP = human_unirep_noSP[~human_unirep_noSP['seq'].str.contains(\"X\") &\n",
    "                                         ~human_unirep_noSP['seq'].str.contains(\"B\")]\n",
    "new_human_unirep_withSP = human_unirep_withSP[~human_unirep_withSP['seq'].str.contains(\"X\") &\n",
    "                                             ~human_unirep_noSP['seq'].str.contains(\"B\")]\n",
    "\n",
    "human_unirep_withSP_add = use_additional_features(new_human_unirep_withSP)\n",
    "human_unirep_noSP_add = use_additional_features(new_human_unirep_noSP)\n",
    "human_unirep_noSP_add.head()"
   ]
  },
  {
   "cell_type": "code",
   "execution_count": null,
   "id": "structured-grass",
   "metadata": {},
   "outputs": [],
   "source": [
    "# Perform a rough comparison with initial models\n",
    "# Analysis below WITHOUT signal peptides\n",
    "X3 = np.stack(human_unirep_noSP_add[\"UniRep\"].to_numpy())\n",
    "y3 = np.array(human_unirep_noSP_add['location'])\n",
    "X3_train, X3_test, y3_train, y3_test = train_test_split(X3, y3, test_size=0.2, random_state=42)\n",
    "\n",
    "ridge1 = ridge_regression_classifier(X2_train, X2_test, y2_train, y2_test)\n",
    "ridge2 = ridge_regression_classifier(X3_train, X3_test, y3_train, y3_test)\n",
    "\n",
    "print(\"Initial:\", ridge1.score(X2_test, y2_test), \"With additional features:\", ridge2.score(X3_test, y3_test))"
   ]
  },
  {
   "cell_type": "code",
   "execution_count": null,
   "id": "seasonal-principal",
   "metadata": {},
   "outputs": [],
   "source": [
    "classifier_comparison(X3, y3, 42)"
   ]
  },
  {
   "cell_type": "code",
   "execution_count": null,
   "id": "automatic-capital",
   "metadata": {},
   "outputs": [],
   "source": []
  }
 ],
 "metadata": {
  "kernelspec": {
   "display_name": "Python 3",
   "language": "python",
   "name": "python3"
  },
  "language_info": {
   "codemirror_mode": {
    "name": "ipython",
    "version": 3
   },
   "file_extension": ".py",
   "mimetype": "text/x-python",
   "name": "python",
   "nbconvert_exporter": "python",
   "pygments_lexer": "ipython3",
   "version": "3.8.8"
  }
 },
 "nbformat": 4,
 "nbformat_minor": 5
}
