{
 "cells": [
  {
   "cell_type": "code",
   "execution_count": 1,
   "metadata": {},
   "outputs": [],
   "source": [
    "import numpy as np\n",
    "import pandas as pd\n",
    "import pickle\n",
    "\n",
    "from sklearn.model_selection import train_test_split\n",
    "from sklearn.linear_model import LogisticRegression"
   ]
  },
  {
   "cell_type": "code",
   "execution_count": 2,
   "metadata": {},
   "outputs": [],
   "source": [
    "def make_preds(X, model_coeffs,model_intercepts,model_classes):\n",
    "    \"\"\"\n",
    "    This is the prediction function for a multi-class logistic regression.  \n",
    "    Given a model's coefficients, intercepts, and class labels, it will \n",
    "    return a list of class predictions corresponding to input features, 'X'.\n",
    "    \"\"\"\n",
    "    z = np.matmul(X,model_coeffs.transpose()) + model_intercepts\n",
    "    probs = 1.0/(1.0+np.exp(-z))\n",
    "    return model_classes[probs.argmax(axis=1)]"
   ]
  },
  {
   "cell_type": "markdown",
   "metadata": {},
   "source": [
    "# Define paths for both the datasets and weights (I am testing this locally, but for implementation in our repository, these should be changed accordingly)."
   ]
  },
  {
   "cell_type": "code",
   "execution_count": 3,
   "metadata": {},
   "outputs": [],
   "source": [
    "dataset_path = '/Users/andrew/school_assignments/datascience_project/saved_datasets/'\n",
    "model_weight_path = '/Users/andrew/school_assignments/datascience_project/model_weights/'"
   ]
  },
  {
   "cell_type": "markdown",
   "metadata": {},
   "source": [
    "# Training the model:"
   ]
  },
  {
   "cell_type": "code",
   "execution_count": 4,
   "metadata": {},
   "outputs": [],
   "source": [
    "# Importing the true data sets with unirep features\n",
    "ecoli_data = pd.read_pickle(dataset_path+'ecoli_noSP_data_and_dG.pkl')"
   ]
  },
  {
   "cell_type": "code",
   "execution_count": 5,
   "metadata": {},
   "outputs": [],
   "source": [
    "# Running the model comparison on human data set WITH signal peptides\n",
    "X = np.hstack((np.stack(ecoli_data[\"UniRep\"].to_numpy()),ecoli_data[\"dG\"].to_numpy()[:,np.newaxis]))\n",
    "y = np.array(ecoli_data['location'])\n",
    "X_train, X_test, y_train, y_test = train_test_split(X, y, test_size=0.2, random_state=42)"
   ]
  },
  {
   "cell_type": "markdown",
   "metadata": {},
   "source": [
    "### For example, let's try simple logistic regression:"
   ]
  },
  {
   "cell_type": "code",
   "execution_count": 6,
   "metadata": {},
   "outputs": [],
   "source": [
    "model = LogisticRegression(solver='liblinear')"
   ]
  },
  {
   "cell_type": "code",
   "execution_count": 7,
   "metadata": {},
   "outputs": [
    {
     "name": "stdout",
     "output_type": "stream",
     "text": [
      "0.9829476248477467\n"
     ]
    }
   ],
   "source": [
    "model.fit(X_train, y_train)\n",
    "score = model.score(X_test, y_test)\n",
    "print(score)"
   ]
  },
  {
   "cell_type": "markdown",
   "metadata": {},
   "source": [
    "### Then let's save the trained parameters of the model as a pkl file (because good compression for dictionaries)"
   ]
  },
  {
   "cell_type": "code",
   "execution_count": 8,
   "metadata": {},
   "outputs": [],
   "source": [
    "param_dict = {'classes':model.classes_,'coefficients':model.coef_, 'intercepts':model.intercept_}"
   ]
  },
  {
   "cell_type": "code",
   "execution_count": 9,
   "metadata": {},
   "outputs": [],
   "source": [
    "with open(model_weight_path+'ecoli_LogReg_params.pkl', 'wb') as handle:\n",
    "    pickle.dump(param_dict, handle)"
   ]
  },
  {
   "cell_type": "markdown",
   "metadata": {},
   "source": [
    "# Re-load weights and make predictions:"
   ]
  },
  {
   "cell_type": "code",
   "execution_count": 10,
   "metadata": {},
   "outputs": [],
   "source": [
    "with open(model_weight_path+'ecoli_LogReg_params.pkl', 'rb') as handle:\n",
    "    param_dict = pickle.load(handle)"
   ]
  },
  {
   "cell_type": "code",
   "execution_count": 11,
   "metadata": {},
   "outputs": [],
   "source": [
    "preds = make_preds(X_test, param_dict['coefficients'],param_dict['intercepts'],param_dict['classes'])"
   ]
  },
  {
   "cell_type": "markdown",
   "metadata": {},
   "source": [
    "### Check to see percent consistency between manually predicting, and using the model object."
   ]
  },
  {
   "cell_type": "code",
   "execution_count": 12,
   "metadata": {},
   "outputs": [
    {
     "name": "stdout",
     "output_type": "stream",
     "text": [
      "Percent consistency in prediction methods is: 100.0 %\n",
      "Yayyy, we did it all in numpy!  That was easy!\n"
     ]
    }
   ],
   "source": [
    "print('Percent consistency in prediction methods is: '+str(100*np.sum(preds==model.predict(X_test))/preds.shape[0])+' %')\n",
    "print('Yayyy, we did it all in numpy!  That was easy!')"
   ]
  },
  {
   "cell_type": "code",
   "execution_count": null,
   "metadata": {},
   "outputs": [],
   "source": []
  }
 ],
 "metadata": {
  "kernelspec": {
   "display_name": "Python 3",
   "language": "python",
   "name": "python3"
  },
  "language_info": {
   "codemirror_mode": {
    "name": "ipython",
    "version": 3
   },
   "file_extension": ".py",
   "mimetype": "text/x-python",
   "name": "python",
   "nbconvert_exporter": "python",
   "pygments_lexer": "ipython3",
   "version": "3.8.5"
  }
 },
 "nbformat": 4,
 "nbformat_minor": 5
}
