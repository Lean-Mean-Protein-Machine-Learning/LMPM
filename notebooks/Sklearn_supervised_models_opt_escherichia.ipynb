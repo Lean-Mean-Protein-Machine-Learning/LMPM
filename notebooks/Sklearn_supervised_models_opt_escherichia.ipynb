{
 "cells": [
  {
   "cell_type": "code",
   "execution_count": 46,
   "metadata": {},
   "outputs": [],
   "source": [
    "# import jaxlib\n",
    "# from jax_unirep import get_reps\n",
    "import os\n",
    "from time import time\n",
    "\n",
    "from collections import defaultdict\n",
    "# from UniRep.unirep_utils import get_UniReps\n",
    "\n",
    "import numpy as np\n",
    "import pandas as pd\n",
    "import matplotlib.pyplot as plt\n",
    "import seaborn as sns\n",
    "import pickle\n",
    "\n",
    "from sklearn.decomposition import PCA, TruncatedSVD\n",
    "from sklearn.manifold import TSNE\n",
    "from sklearn.model_selection import train_test_split, GridSearchCV\n",
    "from sklearn.neighbors import KNeighborsClassifier\n",
    "from sklearn.linear_model import RidgeClassifier, LogisticRegression\n",
    "from sklearn.ensemble import RandomForestClassifier, AdaBoostClassifier\n",
    "from sklearn.discriminant_analysis import QuadraticDiscriminantAnalysis\n",
    "from sklearn.neural_network import MLPClassifier\n",
    "from sklearn import model_selection\n",
    "from sklearn.svm import SVC\n",
    "from sklearn.tree import DecisionTreeClassifier\n",
    "from sklearn.metrics import make_scorer, accuracy_score, roc_auc_score, roc_curve, auc, plot_confusion_matrix\n",
    "from sklearn.gaussian_process import GaussianProcessClassifier\n",
    "from sklearn.gaussian_process.kernels import RBF\n",
    "from sklearn.preprocessing import label_binarize\n",
    "\n",
    "from scipy import interp\n",
    "from itertools import cycle\n",
    "\n",
    "# from Bio.SeqUtils import molecular_weight\n",
    "# from Bio.SeqUtils.IsoelectricPoint import IsoelectricPoint as IP\n",
    "\n",
    "import warnings\n",
    "warnings.filterwarnings('ignore')"
   ]
  },
  {
   "cell_type": "code",
   "execution_count": 2,
   "metadata": {},
   "outputs": [],
   "source": [
    "def train_opt_model(model_class, parameters, X_train, y_train, scoring, refit_sc):\n",
    "    \"\"\"Trains a classifier with 5 fold cross validation.\n",
    "    \n",
    "    Trains a classifier on training data performing 5 fold cross validation and testing multiple parameters.\n",
    "    \n",
    "    \n",
    "    Inputs:\n",
    "        model_class: the sklearn class of the classifier\n",
    "        parameters: a parameter grid dictionary with the parameters and values to test\n",
    "        X_train: features of the training set\n",
    "        y_train: classes of the training set\n",
    "        scoring: a sklearn scoring object with the score metrics to use\n",
    "        refit_sc: the score metric to select the parameters that yield the best classifier\n",
    "        \n",
    "    Outputs:\n",
    "        clf: the trained classifier\n",
    "    \"\"\"\n",
    "    clf = GridSearchCV(model_class, parameters, cv=5, scoring=scoring, refit=refit_sc, verbose=3, n_jobs=-1)\n",
    "    clf.fit(X_train, y_train)\n",
    "    return clf"
   ]
  },
  {
   "cell_type": "code",
   "execution_count": 3,
   "metadata": {},
   "outputs": [],
   "source": [
    "def plot_param_search_1d(trained_model, parameters, refit_sc):\n",
    "\n",
    "    # convert dictionary to lists for ease of use\n",
    "    param_values = list(parameters.values())\n",
    "    param_names = list(parameters.keys())\n",
    "        \n",
    "    # results\n",
    "    cv_results = pd.DataFrame(trained_model.cv_results_)\n",
    "    \n",
    "    # print results of best classifier\n",
    "    if 'rank_test_AUC' in cv_results:\n",
    "        print('For the model optimized by AUC:')\n",
    "        print('\\t the parameter is: {}'.format(cv_results.loc[cv_results['rank_test_AUC']==1,'params'].to_string(index=False)))\n",
    "        print('\\t the AUC is: {}'.format(cv_results.loc[cv_results['rank_test_AUC']==1,'mean_test_AUC'].to_string(index=False)))\n",
    "        print('\\t the accuracy is: {}'.format(cv_results.loc[cv_results['rank_test_AUC']==1,'mean_test_Accuracy'].to_string(index=False)))\n",
    "\n",
    "    print('For the model optimized by Accuracy:')\n",
    "    print('\\t the parameter is: {}'.format(cv_results.loc[cv_results['rank_test_Accuracy']==1,'params'].to_string(index=False)))\n",
    "    if 'rank_test_AUC' in cv_results:\n",
    "        print('\\t the AUC is: {}'.format(cv_results.loc[cv_results['rank_test_Accuracy']==1,'mean_test_AUC'].to_string(index=False)))\n",
    "    print('\\t the accuracy is: {}'.format(cv_results.loc[cv_results['rank_test_Accuracy']==1,'mean_test_Accuracy'].to_string(index=False)))\n",
    "    \n",
    "    \n",
    "    print(\"Optimizing by\",refit_sc,\"so best parameters are: {}\".format(trained_model.best_params_))\n",
    "    \n",
    "    # plot results\n",
    "    if 'rank_test_AUC' in cv_results:\n",
    "        acc_eval_scores = np.transpose(np.array(cv_results.mean_test_AUC))\n",
    "    else:\n",
    "        acc_eval_scores = np.transpose(np.array(cv_results.mean_test_Accuracy))\n",
    "    \n",
    "    # xaxis\n",
    "    scores_dict = {param_names[0]: parameters[param_names[0]]}   \n",
    "    \n",
    "    param_df = pd.DataFrame(scores_dict)\n",
    "    \n",
    "    sns.lineplot(parameters[param_names[0]], acc_eval_scores)\n",
    "    \n",
    "    plt.ylabel(refit_sc)\n",
    "    plt.xlabel(param_names[0])\n",
    "    plt.axvline(trained_model.best_params_[param_names[0]], 0,1, linestyle=\"dashed\", color=\"grey\")\n",
    "    plt.tight_layout()\n",
    "    # plt.savefig(\"model.png\", dpi=600)\n",
    "    plt.show()\n",
    "    return None"
   ]
  },
  {
   "cell_type": "code",
   "execution_count": 4,
   "metadata": {},
   "outputs": [],
   "source": [
    "def plot_param_search(trained_model, parameters, refit_sc):\n",
    "    # assert que parameters son exactament 2, sino no es pot fer\n",
    "\n",
    "    # results\n",
    "    cv_results = pd.DataFrame(trained_model.cv_results_)\n",
    "\n",
    "    # print results of best classifier\n",
    "    if 'rank_test_AUC' in cv_results:\n",
    "        print('For the model optimized by AUC:')\n",
    "        print('\\t the parameters are: {}'.format(cv_results.loc[cv_results['rank_test_AUC']==1,'params'].to_string(index=False)))\n",
    "        print('\\t the AUC is: {}'.format(cv_results.loc[cv_results['rank_test_AUC']==1,'mean_test_AUC'].to_string(index=False)))\n",
    "        print('\\t the accuracy is: {}'.format(cv_results.loc[cv_results['rank_test_AUC']==1,'mean_test_Accuracy'].to_string(index=False)))\n",
    "\n",
    "    print('For the model optimized by Accuracy:')\n",
    "    print('\\t the parameters are: {}'.format(cv_results.loc[cv_results['rank_test_Accuracy']==1,'params'].to_string(index=False)))\n",
    "    if 'rank_test_AUC' in cv_results:\n",
    "        print('\\t the AUC is: {}'.format(cv_results.loc[cv_results['rank_test_Accuracy']==1,'mean_test_AUC'].to_string(index=False)))\n",
    "    print('\\t the accuracy is: {}'.format(cv_results.loc[cv_results['rank_test_Accuracy']==1,'mean_test_Accuracy'].to_string(index=False)))\n",
    "    \n",
    "    \n",
    "    print(\"Optimizing by\",refit_sc,\"so best parameters are: {}\".format(trained_model.best_params_))\n",
    "        \n",
    "    # plot results\n",
    "    if 'rank_test_AUC' in cv_results:\n",
    "        rlt = pd.concat([pd.DataFrame(trained_model.cv_results_[\"params\"]),\n",
    "                         pd.DataFrame(trained_model.cv_results_[\"mean_test_AUC\"], columns=[\"AUC\"])],axis=1)\n",
    "    else:\n",
    "        rlt = pd.concat([pd.DataFrame(trained_model.cv_results_[\"params\"]),\n",
    "                         pd.DataFrame(trained_model.cv_results_[\"mean_test_Accuracy\"], columns=[\"Accuracy\"])],axis=1)\n",
    "    \n",
    "    # get parameter with less values to go to x axis    \n",
    "    param_values = list(parameters.values())\n",
    "    param_names = list(parameters.keys())\n",
    "    # select the parameter with more values as x axis (reverse if necessary)\n",
    "    if len(param_values[0]) < len(param_values[1]):\n",
    "        param_values.reverse()\n",
    "        param_names.reverse()\n",
    "    \n",
    "    sns.lineplot(x=param_names[0], y=refit_sc, hue=param_names[1], data=rlt)\n",
    "    plt.axvline(trained_model.best_params_[param_names[0]], 0,1, linestyle=\"dashed\", color=\"grey\")\n",
    "    plt.tight_layout()\n",
    "    # plt.savefig(\"model.png\", dpi=600)\n",
    "    plt.show()\n",
    "    return None"
   ]
  },
  {
   "cell_type": "code",
   "execution_count": 5,
   "metadata": {},
   "outputs": [],
   "source": [
    "def plot_roc_curve(trained_classifier, model_name, X_test, y_test, roc_col):\n",
    "    # adapted from https://scikit-learn.org/stable/auto_examples/model_selection/plot_roc.html\n",
    "    # Binarize the output\n",
    "    y_labs = label_binarize(y_test, classes=['cytoplasm', 'membrane','secreted'])\n",
    "    n_classes = y_labs.shape[1]\n",
    "    \n",
    "    if str(trained_classifier)[:3] == 'SVC':\n",
    "        pred_probs = trained_classifier.predict_proba(X_test)\n",
    "        preds = trained_classifier.predict(X_test)\n",
    "    else:\n",
    "        pred_probs = trained_classifier.best_estimator_.predict_proba(X_test)\n",
    "        preds = trained_classifier.best_estimator_.predict(X_test)\n",
    "    \n",
    "    test_accuracy = accuracy_score(y_test, preds) \n",
    "    \n",
    "    # Compute ROC curve and ROC area for each class\n",
    "    fpr = dict()\n",
    "    tpr = dict()\n",
    "    roc_auc = dict()\n",
    "    for i in range(n_classes):\n",
    "        fpr[i], tpr[i], _ = roc_curve(y_labs[:, i], pred_probs[:, i])\n",
    "        roc_auc[i] = auc(fpr[i], tpr[i])\n",
    "\n",
    "    # First aggregate all false positive rates\n",
    "    all_fpr = np.unique(np.concatenate([fpr[i] for i in range(n_classes)]))\n",
    "\n",
    "    # Then interpolate all ROC curves at this points\n",
    "    mean_tpr = np.zeros_like(all_fpr)\n",
    "    for i in range(n_classes):\n",
    "        mean_tpr += interp(all_fpr, fpr[i], tpr[i])\n",
    "\n",
    "    # Finally average it and compute AUC\n",
    "    mean_tpr /= n_classes\n",
    "\n",
    "    fpr[\"macro\"] = all_fpr\n",
    "    tpr[\"macro\"] = mean_tpr\n",
    "    roc_auc[\"macro\"] = auc(fpr[\"macro\"], tpr[\"macro\"])\n",
    "\n",
    "    plt.plot(fpr[\"macro\"], tpr[\"macro\"],\n",
    "             label=str(model_name)+', AUC: {:.3f}'.format(roc_auc[\"macro\"]),\n",
    "             color=roc_col, linestyle='-', linewidth=1)\n",
    "    \n",
    "    return test_accuracy, roc_auc[\"macro\"]"
   ]
  },
  {
   "cell_type": "code",
   "execution_count": 6,
   "metadata": {},
   "outputs": [],
   "source": [
    "# Importing the true data sets with unirep features\n",
    "human_unirep_all = pd.read_pickle('UniRep_datasets/combined_escherichia_UniRep_dataset_noSP.pkl')"
   ]
  },
  {
   "cell_type": "code",
   "execution_count": 7,
   "metadata": {},
   "outputs": [],
   "source": [
    "# Running the model comparison on human data set WITH signal peptides\n",
    "X = np.stack(human_unirep_all[\"UniRep\"].to_numpy())\n",
    "y = np.array(human_unirep_all['location'])\n",
    "X_train, X_test, y_train, y_test = train_test_split(X, y, test_size=0.2, random_state=42)"
   ]
  },
  {
   "cell_type": "code",
   "execution_count": 25,
   "metadata": {},
   "outputs": [
    {
     "data": {
      "text/plain": [
       "cytoplasm    7238\n",
       "membrane     5025\n",
       "secreted       51\n",
       "dtype: int64"
      ]
     },
     "execution_count": 25,
     "metadata": {},
     "output_type": "execute_result"
    }
   ],
   "source": [
    "# the dataset is unbalanced\n",
    "pd.Series(y).value_counts()"
   ]
  },
  {
   "cell_type": "code",
   "execution_count": 8,
   "metadata": {},
   "outputs": [],
   "source": [
    "model_names = [\n",
    "    'kNN',\n",
    "    'LogReg',\n",
    "    'RF',\n",
    "    'MLP',\n",
    "    'AdaBoost',\n",
    "    'RBF SVM',\n",
    "    'lin SVM'\n",
    "]\n",
    "\n",
    "models = [\n",
    "    KNeighborsClassifier(),\n",
    "    LogisticRegression(solver='liblinear'),\n",
    "    RandomForestClassifier(),\n",
    "    MLPClassifier(max_iter=200),\n",
    "    AdaBoostClassifier(DecisionTreeClassifier(max_depth=1)),\n",
    "    SVC(kernel='rbf'),\n",
    "    SVC(kernel='linear')\n",
    "]\n",
    "\n",
    "params = [\n",
    "    # for kNN\n",
    "    {'n_neighbors':[int(np.sqrt(len(y_train))/16),\n",
    "                       int(np.sqrt(len(y_train))/8),\n",
    "                       int(np.sqrt(len(y_train))/4),\n",
    "                       int(np.sqrt(len(y_train))/2),\n",
    "                       int(np.sqrt(len(y_train))),\n",
    "                       int(np.sqrt(len(y_train))*2),\n",
    "                       int(np.sqrt(len(y_train))*4)],\n",
    "    'weights': ['uniform', 'distance']},\n",
    "    # for LogisticRegression\n",
    "    {'C'             : [1e-3,1e-1,1,10],\n",
    "    'penalty'       : [\"l1\",\"l2\"]},\n",
    "    # for RandomForest\n",
    "    {'n_estimators':[1,5,10,20],\n",
    "     'max_depth':[1,30,150]},\n",
    "    # for MLP works fine but slow\n",
    "    {'hidden_layer_sizes':[50,100],\n",
    "     'alpha':[1e-4,1e-2,1e-1]},\n",
    "    # for AdaBoost\n",
    "    {'n_estimators':[10,50,100],\n",
    "     'learning_rate':[0.1,1]},\n",
    "    # for RBF SVM\n",
    "    {'C':[1e-4, 1e-2, 1],\n",
    "     'gamma':['scale','auto']},\n",
    "    # for linear SVM\n",
    "    {'C':[1e-4, 1e-2, 1]}\n",
    "]"
   ]
  },
  {
   "cell_type": "code",
   "execution_count": 9,
   "metadata": {},
   "outputs": [],
   "source": [
    "# ovo: One versus One and averaging macro, not affected by class imbalance (https://scikit-learn.org/stable/modules/generated/sklearn.metrics.roc_auc_score.html#sklearn.metrics.roc_auc_score)\n",
    "scoring = {'Accuracy': make_scorer(accuracy_score),\n",
    "           'AUC':'roc_auc_ovo'}\n",
    "refit_sc = 'AUC'"
   ]
  },
  {
   "cell_type": "code",
   "execution_count": 10,
   "metadata": {},
   "outputs": [
    {
     "name": "stdout",
     "output_type": "stream",
     "text": [
      "Started training model kNN\n",
      "Fitting 5 folds for each of 14 candidates, totalling 70 fits\n",
      "Finished training model in 93.59 seconds\n",
      "\n",
      "For the model optimized by AUC:\n",
      "\t the parameters are: {'n_neighbors': 24, 'weights': 'distance'}\n",
      "\t the AUC is: 0.98495\n",
      "\t the accuracy is: 0.980815\n",
      "For the model optimized by Accuracy:\n",
      "\t the parameters are: {'n_neighbors': 6, 'weights': 'distance'}\n",
      "\t the AUC is: 0.962944\n",
      "\t the accuracy is: 0.984672\n",
      "Optimizing by AUC so best parameters are: {'n_neighbors': 24, 'weights': 'distance'}\n"
     ]
    },
    {
     "data": {
      "image/png": "[encoded data removed]",
      "text/plain": [
       "<Figure size 432x288 with 1 Axes>"
      ]
     },
     "metadata": {
      "needs_background": "light"
     },
     "output_type": "display_data"
    },
    {
     "name": "stdout",
     "output_type": "stream",
     "text": [
      "---------------------------\n",
      "\n",
      "Started training model LogReg\n",
      "Fitting 5 folds for each of 8 candidates, totalling 40 fits\n",
      "Finished training model in 139.54 seconds\n",
      "\n",
      "For the model optimized by AUC:\n",
      "\t the parameters are: {'C': 1, 'penalty': 'l2'}\n",
      "\t the AUC is: 0.98779\n",
      "\t the accuracy is: 0.980915\n",
      "For the model optimized by Accuracy:\n",
      "\t the parameters are: {'C': 10, 'penalty': 'l2'}\n",
      "\t the AUC is: 0.986478\n",
      "\t the accuracy is: 0.987514\n",
      "Optimizing by AUC so best parameters are: {'C': 1, 'penalty': 'l2'}\n"
     ]
    },
    {
     "data": {
      "image/png": "[encoded data removed]",
      "text/plain": [
       "<Figure size 432x288 with 1 Axes>"
      ]
     },
     "metadata": {
      "needs_background": "light"
     },
     "output_type": "display_data"
    },
    {
     "name": "stdout",
     "output_type": "stream",
     "text": [
      "---------------------------\n",
      "\n",
      "Started training model RF\n",
      "Fitting 5 folds for each of 12 candidates, totalling 60 fits\n",
      "Finished training model in 49.41 seconds\n",
      "\n",
      "For the model optimized by AUC:\n",
      "\t the parameters are: {'max_depth': 30, 'n_estimators': 20}\n",
      "\t the AUC is: 0.988002\n",
      "\t the accuracy is: 0.987209\n",
      "For the model optimized by Accuracy:\n",
      "\t the parameters are: {'max_depth': 150, 'n_estimators': 20}\n",
      "\t the AUC is: 0.986822\n",
      "\t the accuracy is: 0.988326\n",
      "Optimizing by AUC so best parameters are: {'max_depth': 30, 'n_estimators': 20}\n"
     ]
    },
    {
     "data": {
      "image/png": "[encoded data removed]",
      "text/plain": [
       "<Figure size 432x288 with 1 Axes>"
      ]
     },
     "metadata": {
      "needs_background": "light"
     },
     "output_type": "display_data"
    },
    {
     "name": "stdout",
     "output_type": "stream",
     "text": [
      "---------------------------\n",
      "\n",
      "Started training model MLP\n",
      "Fitting 5 folds for each of 6 candidates, totalling 30 fits\n",
      "Finished training model in 389.33 seconds\n",
      "\n",
      "For the model optimized by AUC:\n",
      "\t the parameters are: {'alpha': 0.1, 'hidden_layer_sizes': 100}\n",
      "\t the AUC is: 0.99273\n",
      "\t the accuracy is: 0.987413\n",
      "For the model optimized by Accuracy:\n",
      "\t the parameters are: {'alpha': 0.0001, 'hidden_layer_sizes': 100}\n",
      "\t the AUC is: 0.988355\n",
      "\t the accuracy is: 0.988529\n",
      "Optimizing by AUC so best parameters are: {'alpha': 0.1, 'hidden_layer_sizes': 100}\n"
     ]
    },
    {
     "data": {
      "image/png": "[encoded data removed]",
      "text/plain": [
       "<Figure size 432x288 with 1 Axes>"
      ]
     },
     "metadata": {
      "needs_background": "light"
     },
     "output_type": "display_data"
    },
    {
     "name": "stdout",
     "output_type": "stream",
     "text": [
      "---------------------------\n",
      "\n",
      "Started training model AdaBoost\n",
      "Fitting 5 folds for each of 6 candidates, totalling 30 fits\n",
      "Finished training model in 909.08 seconds\n",
      "\n",
      "For the model optimized by AUC:\n",
      "\t the parameters are: {'learning_rate': 0.1, 'n_estimators': 100}\n",
      "\t the AUC is: 0.967657\n",
      "\t the accuracy is: 0.889865\n",
      "For the model optimized by Accuracy:\n",
      "\t the parameters are: {'learning_rate': 0.1, 'n_estimators': 10}\n",
      "\t the AUC is: 0.923324\n",
      "\t the accuracy is: 0.9194\n",
      "Optimizing by AUC so best parameters are: {'learning_rate': 0.1, 'n_estimators': 100}\n"
     ]
    },
    {
     "data": {
      "image/png": "[encoded data removed]",
      "text/plain": [
       "<Figure size 432x288 with 1 Axes>"
      ]
     },
     "metadata": {
      "needs_background": "light"
     },
     "output_type": "display_data"
    },
    {
     "name": "stdout",
     "output_type": "stream",
     "text": [
      "---------------------------\n",
      "\n",
      "Started training model RBF SVM\n",
      "Fitting 5 folds for each of 6 candidates, totalling 30 fits\n",
      "Finished training model in 508.55 seconds\n",
      "\n",
      "For the model optimized by Accuracy:\n",
      "\t the parameters are: {'C': 1, 'gamma': 'scale'}\n",
      "\t the accuracy is: 0.968328\n",
      "Optimizing by Accuracy so best parameters are: {'C': 1, 'gamma': 'scale'}\n"
     ]
    },
    {
     "data": {
      "image/png": "[encoded data removed]",
      "text/plain": [
       "<Figure size 432x288 with 1 Axes>"
      ]
     },
     "metadata": {
      "needs_background": "light"
     },
     "output_type": "display_data"
    },
    {
     "name": "stdout",
     "output_type": "stream",
     "text": [
      "---------------------------\n",
      "\n",
      "Started training model lin SVM\n",
      "Fitting 5 folds for each of 3 candidates, totalling 15 fits\n",
      "Finished training model in 222.49 seconds\n",
      "\n",
      "For the model optimized by Accuracy:\n",
      "\t the parameter is: {'C': 1}\n",
      "\t the accuracy is: 0.986905\n",
      "Optimizing by Accuracy so best parameters are: {'C': 1}\n"
     ]
    },
    {
     "data": {
      "image/png": "[encoded data removed]",
      "text/plain": [
       "<Figure size 432x288 with 1 Axes>"
      ]
     },
     "metadata": {
      "needs_background": "light"
     },
     "output_type": "display_data"
    },
    {
     "name": "stdout",
     "output_type": "stream",
     "text": [
      "---------------------------\n",
      "\n"
     ]
    }
   ],
   "source": [
    "trained_models = []\n",
    "\n",
    "for model, parameters, mod_name in zip(models,params, model_names):\n",
    "    print(\"Started training model\", mod_name)\n",
    "    time_0 = time()\n",
    "    \n",
    "    if str(model)[:3] == 'SVC':\n",
    "        trn_clf = train_opt_model(model, parameters, X_train, y_train,\n",
    "                                  {'Accuracy':make_scorer(accuracy_score)}, 'Accuracy')\n",
    "        print(\"Finished training model in\", round(time()-time_0,2),\"seconds\\n\")\n",
    "        \n",
    "        if len(parameters) == 2:\n",
    "            plot_param_search(trn_clf, parameters, 'Accuracy')\n",
    "        else:\n",
    "            plot_param_search_1d(trn_clf, parameters, 'Accuracy')\n",
    "        \n",
    "        # retrain calculating probabilities\n",
    "        best_parm = trn_clf.best_params_\n",
    "        if len(best_parm) == 2: #for rbf kerlen\n",
    "            trn_clf = SVC(kernel='rbf', C=best_parm['C'], gamma=best_parm['gamma'], probability=True)\n",
    "        else:\n",
    "            trn_clf = SVC(kernel='linear', C=best_parm['C'], probability=True)\n",
    "        \n",
    "        trn_clf.fit(X_train, y_train)\n",
    "        \n",
    "    else:\n",
    "        trn_clf = train_opt_model(model, parameters, X_train, y_train, scoring, refit_sc)\n",
    "        print(\"Finished training model in\", round(time()-time_0,2),\"seconds\\n\")\n",
    "\n",
    "        if len(parameters) == 2:\n",
    "            plot_param_search(trn_clf, parameters, refit_sc)\n",
    "        else:\n",
    "            plot_param_search_1d(trn_clf, parameters, refit_sc)\n",
    "    \n",
    "    trained_models.append(trn_clf)\n",
    "    print(\"---------------------------\\n\")"
   ]
  },
  {
   "cell_type": "code",
   "execution_count": 11,
   "metadata": {},
   "outputs": [
    {
     "data": {
      "image/png": "[encoded data removed]",
      "text/plain": [
       "<Figure size 432x288 with 1 Axes>"
      ]
     },
     "metadata": {
      "needs_background": "light"
     },
     "output_type": "display_data"
    }
   ],
   "source": [
    "compare_auc = []\n",
    "compare_accuracy = []\n",
    "roc_colors = ['navy','orange','green','peru','red','violet','cyan']\n",
    "\n",
    "for trn_model, mod_name, roc_col in zip(trained_models, model_names, roc_colors):\n",
    "    test_accuracy, test_auc_val = plot_roc_curve(trn_model, mod_name, X_test, y_test, roc_col)\n",
    "    compare_auc.append(test_auc_val)\n",
    "    compare_accuracy.append(test_accuracy)\n",
    "    \n",
    "    \n",
    "plt.plot([0, 1], [0, 1], 'k--', lw=1)\n",
    "plt.xlim([-0.05, 1.0])\n",
    "plt.ylim([0.0, 1.05])\n",
    "plt.xlabel('False Positive Rate')\n",
    "plt.ylabel('True Positive Rate')\n",
    "plt.title('Receiver operating characteristic (ROC) curve')\n",
    "plt.legend(loc=\"lower right\")\n",
    "plt.show()"
   ]
  },
  {
   "cell_type": "code",
   "execution_count": 32,
   "metadata": {},
   "outputs": [],
   "source": [
    "%matplotlib inline"
   ]
  },
  {
   "cell_type": "code",
   "execution_count": 37,
   "metadata": {},
   "outputs": [
    {
     "data": {
      "image/png": "[encoded data removed]",
      "text/plain": [
       "<Figure size 1080x360 with 2 Axes>"
      ]
     },
     "metadata": {
      "needs_background": "light"
     },
     "output_type": "display_data"
    }
   ],
   "source": [
    "fig, axs = plt.subplots(1,2, figsize=(15,5))\n",
    "axs[0].bar(model_names, compare_auc)\n",
    "axs[1].bar(model_names, compare_accuracy)\n",
    "\n",
    "axs[0].set_ylabel('AUC')\n",
    "axs[1].set_ylabel('Accuracy')\n",
    "\n",
    "axs[0].set_ylim(0.90,1.0)\n",
    "axs[1].set_ylim(0.90,1.0)\n",
    "plt.show()"
   ]
  },
  {
   "cell_type": "markdown",
   "metadata": {},
   "source": [
    "### Select best model"
   ]
  },
  {
   "cell_type": "code",
   "execution_count": 38,
   "metadata": {},
   "outputs": [],
   "source": [
    "best_model_name = 'LogReg'"
   ]
  },
  {
   "cell_type": "code",
   "execution_count": 39,
   "metadata": {},
   "outputs": [
    {
     "data": {
      "text/plain": [
       "LogisticRegression(solver='liblinear')"
      ]
     },
     "execution_count": 39,
     "metadata": {},
     "output_type": "execute_result"
    }
   ],
   "source": [
    "# just to confirm, the selected model is:\n",
    "trained_models[model_names.index(best_model_name)].estimator"
   ]
  },
  {
   "cell_type": "code",
   "execution_count": 40,
   "metadata": {},
   "outputs": [
    {
     "name": "stdout",
     "output_type": "stream",
     "text": [
      "The best parameters are {'C': 1, 'penalty': 'l2'}\n"
     ]
    }
   ],
   "source": [
    "# get the best model and best parameters\n",
    "print('The best parameters are {}'.format(trained_models[model_names.index(best_model_name)].best_params_))"
   ]
  },
  {
   "cell_type": "code",
   "execution_count": 41,
   "metadata": {},
   "outputs": [],
   "source": [
    "# should now retrain with all data, but here we take the best estimator trained on training dataset\n",
    "best_mod = trained_models[model_names.index(best_model_name)].best_estimator_"
   ]
  },
  {
   "cell_type": "code",
   "execution_count": 43,
   "metadata": {},
   "outputs": [],
   "source": [
    "# get a confusion matrix of the test dataset for that model\n",
    "preds = best_mod.predict(X_test)"
   ]
  },
  {
   "cell_type": "code",
   "execution_count": 44,
   "metadata": {},
   "outputs": [
    {
     "data": {
      "image/png": "[encoded data removed]",
      "text/plain": [
       "<Figure size 432x288 with 2 Axes>"
      ]
     },
     "metadata": {
      "needs_background": "light"
     },
     "output_type": "display_data"
    }
   ],
   "source": [
    "plot_confusion_matrix(best_mod, X_test, y_test,\n",
    "                      display_labels=['cytoplasm', 'membrane','secreted'],\n",
    "                      cmap=plt.cm.Blues)\n",
    "plt.show()"
   ]
  },
  {
   "cell_type": "code",
   "execution_count": 48,
   "metadata": {},
   "outputs": [],
   "source": [
    "pickle.dump(best_mod, open(\"trained_models/escherichia_noSP_opt_logreg.pkl\", 'wb'))"
   ]
  },
  {
   "cell_type": "code",
   "execution_count": 49,
   "metadata": {},
   "outputs": [],
   "source": [
    "loaded_model = pickle.load(open(\"trained_models/escherichia_noSP_opt_logreg.pkl\", 'rb'))"
   ]
  },
  {
   "cell_type": "code",
   "execution_count": 54,
   "metadata": {},
   "outputs": [
    {
     "data": {
      "text/plain": [
       "0"
      ]
     },
     "execution_count": 54,
     "metadata": {},
     "output_type": "execute_result"
    }
   ],
   "source": [
    "# if zero: all predictions match, the model was loaded correctly\n",
    "len(preds) - (loaded_model.predict(X_test) == preds).sum()"
   ]
  },
  {
   "cell_type": "code",
   "execution_count": null,
   "metadata": {},
   "outputs": [],
   "source": []
  },
  {
   "cell_type": "code",
   "execution_count": null,
   "metadata": {},
   "outputs": [],
   "source": []
  },
  {
   "cell_type": "code",
   "execution_count": null,
   "metadata": {},
   "outputs": [],
   "source": []
  },
  {
   "cell_type": "markdown",
   "metadata": {},
   "source": [
    "# Functions"
   ]
  },
  {
   "cell_type": "code",
   "execution_count": null,
   "metadata": {},
   "outputs": [],
   "source": [
    "def data_to_unirep(df):\n",
    "    \"\"\"\n",
    "    Generates a new data frame with the UniProt ID, UniRep 1900 vectors (x-values), and secretion state (y-values)\n",
    "    \n",
    "    Args:\n",
    "        df (DataFrame): original data frame with sequence information and class information (specifying secretion)\n",
    "        \n",
    "    Returns:\n",
    "        unirep_df (DataFrame): new unirep data frame with class information and unirep vectors\n",
    "    \"\"\"\n",
    "    seq_key = 'Sequence'\n",
    "    vec_prefix = 'Vec_{}'\n",
    "    \n",
    "    # Generating new data frame with unirep vectors\n",
    "    vec_column_names = [vec_prefix.format(i) for i in range(1900)]        \n",
    "    unirep_df = pd.DataFrame(columns = ['Class'] + vec_column_names)\n",
    "\n",
    "    for i, row in df.iterrows():\n",
    "        if int(i) % 1 == 0:\n",
    "            print('row {}'.format(i), end='\\r')\n",
    "        sequence = row.loc[seq_key]\n",
    "        unirep_df.loc[i, 'Class'] = row['Class']\n",
    "        vec = get_UniReps(sequence)[0][0]\n",
    "        unirep_df.loc[i, vec_column_names] = vec\n",
    "    \n",
    "    return unirep_df"
   ]
  },
  {
   "cell_type": "code",
   "execution_count": null,
   "metadata": {},
   "outputs": [],
   "source": [
    "def classifier_comparison(X, y, seed):\n",
    "    \"\"\"\n",
    "    Iterates through sklearn supervised learning classification models.\n",
    "    Performs k-fold cross-validation (k=10).\n",
    "    Comparing each classifier based on model accuracy.\n",
    "    Plots model accuracy on a boxplot.\n",
    "    Taken from https://machinelearningmastery.com/compare-machine-learning-algorithms-python-scikit-learn/\n",
    "    \n",
    "    Args:\n",
    "        X (Array-like): All of the input parameters (including UniRep vectors) for the secretion analysis model\n",
    "        y (Array-like): The ouput parameter, or secretion class, for the secretion analysis model\n",
    "        \n",
    "    Returns:\n",
    "        \n",
    "    \"\"\"\n",
    "    # Preparing models\n",
    "    models = []\n",
    "    models.append(('RidgeReg', RidgeClassifierCV(alphas=[1e-3, 1e-2, 1e-1, 1],normalize=True)))\n",
    "    K_neighbors = int(np.sqrt(len(y_train)))\n",
    "    models.append(('KNN', KNeighborsClassifier(K_neighbors, weights='uniform')))\n",
    "    models.append(('NeuralNet', MLPClassifier(max_iter=200)))\n",
    "    models.append(('RandomForest', RandomForestClassifier()))\n",
    "    models.append(('RBF SVM', SVC(gamma=0.1, C=1)))\n",
    "    \n",
    "    # Evaluating each model using cross-validation\n",
    "    results = []\n",
    "    names = []\n",
    "    scoring = 'accuracy'\n",
    "    for name, model in models:\n",
    "        kfold = model_selection.KFold(n_splits=5, random_state=seed, shuffle=True)\n",
    "        cv_results = model_selection.cross_val_score(model, X, y, cv=kfold, scoring=scoring)\n",
    "        results.append(cv_results)\n",
    "        names.append(name)\n",
    "        msg = \"%s: %f (%f)\" % (name, cv_results.mean(), cv_results.std())\n",
    "        print(msg)\n",
    "        \n",
    "    # Plotting the classifier comparison\n",
    "    fig = plt.figure()\n",
    "    fig.suptitle('Sklearn Model Comparison')\n",
    "    ax = fig.add_subplot(111)\n",
    "    plt.boxplot(results)\n",
    "    ax.set_xticklabels(names)\n",
    "    plt.show()"
   ]
  },
  {
   "cell_type": "code",
   "execution_count": null,
   "metadata": {
    "scrolled": true
   },
   "outputs": [],
   "source": [
    "k_init_aprox = int(np.sqrt(len(y_train)))\n",
    "parameters = {'n_neighbors':[int(k_init_aprox/8),\n",
    "                       int(k_init_aprox/4),\n",
    "                       int(k_init_aprox/2),\n",
    "                       int(k_init_aprox),\n",
    "                       int(k_init_aprox*2),\n",
    "                       int(k_init_aprox*4),\n",
    "                       int(k_init_aprox*8)],\n",
    "             'weights': ['uniform', 'distance']}\n",
    "knn = KNeighborsClassifier()\n",
    "clf = GridSearchCV(knn, parameters)\n",
    "clf.fit(X_train, y_train)"
   ]
  },
  {
   "cell_type": "code",
   "execution_count": null,
   "metadata": {},
   "outputs": [],
   "source": []
  },
  {
   "cell_type": "code",
   "execution_count": null,
   "metadata": {},
   "outputs": [],
   "source": []
  },
  {
   "cell_type": "code",
   "execution_count": null,
   "metadata": {},
   "outputs": [],
   "source": []
  },
  {
   "cell_type": "code",
   "execution_count": null,
   "metadata": {},
   "outputs": [],
   "source": []
  },
  {
   "cell_type": "code",
   "execution_count": null,
   "metadata": {},
   "outputs": [],
   "source": []
  },
  {
   "cell_type": "code",
   "execution_count": null,
   "metadata": {},
   "outputs": [],
   "source": []
  },
  {
   "cell_type": "code",
   "execution_count": null,
   "metadata": {},
   "outputs": [],
   "source": []
  },
  {
   "cell_type": "code",
   "execution_count": null,
   "metadata": {},
   "outputs": [],
   "source": []
  },
  {
   "cell_type": "code",
   "execution_count": null,
   "metadata": {},
   "outputs": [],
   "source": []
  },
  {
   "cell_type": "code",
   "execution_count": null,
   "metadata": {},
   "outputs": [],
   "source": []
  },
  {
   "cell_type": "code",
   "execution_count": null,
   "metadata": {},
   "outputs": [],
   "source": []
  },
  {
   "cell_type": "code",
   "execution_count": null,
   "metadata": {},
   "outputs": [],
   "source": []
  },
  {
   "cell_type": "code",
   "execution_count": null,
   "metadata": {},
   "outputs": [],
   "source": []
  },
  {
   "cell_type": "code",
   "execution_count": null,
   "metadata": {},
   "outputs": [],
   "source": []
  },
  {
   "cell_type": "code",
   "execution_count": null,
   "metadata": {},
   "outputs": [],
   "source": []
  },
  {
   "cell_type": "code",
   "execution_count": null,
   "metadata": {},
   "outputs": [],
   "source": []
  },
  {
   "cell_type": "code",
   "execution_count": null,
   "metadata": {},
   "outputs": [],
   "source": [
    "# These parameters are for the `use_additional_features` function\n",
    "# They are from the Hessa et al. paper cited in the function\n",
    "params = pd.read_csv('Params.csv', header=None)\n",
    "lst = params[0].values\n",
    "params.set_index(lst, inplace=True)\n",
    "del params[0]\n",
    "params_dict = defaultdict(list)\n",
    "for i, row in params.iterrows():\n",
    "    for position in range(1, len(row) + 1):\n",
    "        params_dict[i].append(float(row.loc[position]))"
   ]
  },
  {
   "cell_type": "code",
   "execution_count": null,
   "metadata": {},
   "outputs": [],
   "source": [
    "def use_additional_features(df):\n",
    "    \"\"\"\n",
    "    Uses additional features to help improve the model. \n",
    "    Additional features include:\n",
    "        theoretical isoelectric point, amino acid length, amino acid weight,\n",
    "        free energy of transmembrane insertion\n",
    "        \n",
    "    Check https://biopython.org/docs/1.75/api/Bio.SeqUtils.html\n",
    "    Free energy of transmembrane insertion values from\n",
    "        Hessa, T., Meindl-Beinker, N., Bernsel, A. et al. Molecular code for transmembrane-helix recognition \n",
    "        by the Sec61 translocon. Nature 450, 1026–1030 (2007). https://doi.org/10.1038/nature06387\n",
    "    \n",
    "    Args:\n",
    "        df (DataFrame): data frame including all of the inputs (sequence, unirep vectors, and secretion class)\n",
    "    \n",
    "    Returns:\n",
    "        df_with_add_features (DataFrame): modified data frame with additional features listed above\n",
    "    \"\"\"\n",
    "    # First append new columns for the theoretical isoelectric point,\n",
    "    # amino acid length, and molecular weight\n",
    "    seq_key = 'seq'\n",
    "    df_with_add_features = df.copy(deep=True)\n",
    "    df_with_add_features['PI'] = 0\n",
    "    df_with_add_features['Molecular_Weight'] = 0\n",
    "    df_with_add_features['Sequence_Length'] = 0\n",
    "    for i, row in df_with_add_features.iterrows():\n",
    "        seq = row.loc[seq_key]\n",
    "        seq_obj = IP(seq)\n",
    "        df_with_add_features.loc[i, 'PI'] = seq_obj.pi()\n",
    "        df_with_add_features.loc[i, 'Molecular_Weight'] = round(molecular_weight(seq, seq_type='protein'))\n",
    "        df_with_add_features.loc[i, 'Sequence_Length'] = len(seq)\n",
    "\n",
    "    # Next, add the free energy of membrane insertion values\n",
    "    df_with_add_features['dG'] = 0\n",
    "    for i, row in df.iterrows():\n",
    "        if int(i) % 10 == 0:\n",
    "            print('row {} of {}'.format(i, len(df.index)), end=\"\\r\") # Set a progress check\n",
    "        seq = row.loc[seq_key]\n",
    "        # Skips sequence if the entire sequence length is less than 19\n",
    "        if len(seq) < 19:\n",
    "            continue\n",
    "        dg_values = []\n",
    "        # Scans sequence for every 19-residue frame\n",
    "        for j in range(len(seq)-18):\n",
    "            running_total = 0\n",
    "            new_segment = seq[j:j+19]\n",
    "            for k, aa in enumerate(new_segment):\n",
    "                if aa == 'U':\n",
    "                    pass\n",
    "                else:\n",
    "                    running_total += params_dict[aa][k]\n",
    "            dg_values.append(running_total) \n",
    "        # Finds the minimum dG value\n",
    "        df_with_add_features.loc[i, 'dG'] = min(dg_values)\n",
    "        \n",
    "    # Finally, return the updated data frame with additional features\n",
    "    return df_with_add_features"
   ]
  },
  {
   "cell_type": "code",
   "execution_count": null,
   "metadata": {},
   "outputs": [],
   "source": [
    "def secretion_optimization_unirep(seq, pos, model):\n",
    "    \"\"\"\n",
    "    Based on the given model, this function mutates the input sequence at the position provided\n",
    "    Uses only the unirep vectors as input values\n",
    "    \n",
    "    Args:\n",
    "        seq (String): initial amino acid sequence provided with single-letter format\n",
    "        pos (int): position where the mutations can occur in the given sequence\n",
    "        model:\n",
    "    \n",
    "    Returns:\n",
    "        seq (String): final, mutated amino acid sequence with improved secretion score\n",
    "    \"\"\"\n",
    "    # First, obtain the unirep representation of given sequence\n",
    "    unirep_values = get_UniReps(seq)[0]\n",
    "    unirep_values = unirep_values.reshape(1, -1)\n",
    "    \n",
    "    # Next, predict the initial secretion score\n",
    "    print(\"The initial sequence is:\", seq)\n",
    "    initial_class = model.predict(unirep_values)\n",
    "    print(\"The initial class is:\", initial_class)\n",
    "    classes = list(model.classes_)\n",
    "    if type(model) is RidgeClassifierCV:\n",
    "        decision_function_values = model.decision_function(unirep_values)[0]\n",
    "        probs = np.exp(decision_function_values) / np.sum(np.exp(decision_function_values))\n",
    "        initial_score = probs[classes.index('secreted')]\n",
    "    else:\n",
    "        prediction_probability = list(model.predict_proba(unirep_values)[0]) # Grabbing the probability of each class\n",
    "        initial_score = prediction_probability[classes.index('secreted')] # Grabbing the probability of being secreted class\n",
    "    print(\"The initial probability of being the secreted class is:\", initial_score)\n",
    "    \n",
    "    # Set up list of amino acids\n",
    "    amino_acids = ['G', 'A', 'L', 'M', 'F', 'W', 'K', 'Q', 'E', 'S', 'P', 'V', 'I', 'C', 'Y', 'H', 'R', 'N', 'D', 'T']\n",
    "    \n",
    "    # Set up point mutations\n",
    "    mutated_scores_for_all_AA = []\n",
    "    for i in range(len(amino_acids)):\n",
    "        seq_list = list(seq)\n",
    "        seq_list[pos] = amino_acids[i]\n",
    "        new_seq = \"\".join(seq_list) # Creating the point-mutated sequence\n",
    "        mutated_unirep_values = get_UniReps(new_seq)[0] # Grabbing the input parameters (unirep vectors)\n",
    "        mutated_unirep_values = mutated_unirep_values.reshape(1, -1)\n",
    "        mutated_class = model.predict(mutated_unirep_values) # The class of the mutated sequence\n",
    "        classes = list(model.classes_)\n",
    "        if type(model) is RidgeClassifierCV:\n",
    "            decision_function_values = model.decision_function(mutated_unirep_values)[0]\n",
    "            probs = np.exp(decision_function_values) / np.sum(np.exp(decision_function_values))\n",
    "            mutated_score = probs[classes.index('secreted')]\n",
    "        else:\n",
    "            prediction_probability = list(model.predict_proba(mutated_unirep_values)[0]) # Grabbing the probability of each class\n",
    "            mutated_score = prediction_probability[classes.index('secreted')] # Grabbing the probability of being secreted class\n",
    "        mutated_scores_for_all_AA.append(mutated_score)\n",
    "        if mutated_score > initial_score:\n",
    "            seq = new_seq\n",
    "            initial_score = mutated_score\n",
    "            initial_class = mutated_class\n",
    "    print(\"The improved, mutated sequence is:\", seq)\n",
    "    print(\"The mutated class is:\", initial_class)\n",
    "    print(\"The mutated probability of being the secreted class is:\", initial_score)\n",
    "    \n",
    "    plt.plot(amino_acids, mutated_scores_for_all_AA)\n",
    "    plt.xlabel('Amino Acid Point Mutation')\n",
    "    plt.ylabel('Probability of Class: Secreted (%)')\n",
    "    plt.show()\n",
    "            \n",
    "    return seq"
   ]
  },
  {
   "cell_type": "markdown",
   "metadata": {},
   "source": [
    "# Refined Code and Analysis for Updated UniRep Datasets"
   ]
  },
  {
   "cell_type": "markdown",
   "metadata": {},
   "source": [
    "First, run the sklearn model comparison function for the human data set with and without the signal peptide."
   ]
  },
  {
   "cell_type": "code",
   "execution_count": null,
   "metadata": {},
   "outputs": [],
   "source": [
    "# Running the model comparison on human data set WITH signal peptides\n",
    "X = np.stack(human_unirep_withSP[\"UniRep\"].to_numpy())\n",
    "y = np.array(human_unirep_withSP['location'])\n",
    "X_train, X_test, y_train, y_test = train_test_split(X, y, test_size=0.2, random_state=42)"
   ]
  },
  {
   "cell_type": "code",
   "execution_count": null,
   "metadata": {},
   "outputs": [],
   "source": [
    "classifier_comparison(X, y, 42)"
   ]
  },
  {
   "cell_type": "code",
   "execution_count": null,
   "metadata": {},
   "outputs": [],
   "source": [
    "# Running the model comparison on human data set WITHOUT signal peptides\n",
    "X2 = np.stack(human_unirep_noSP[\"UniRep\"].to_numpy())\n",
    "y2 = np.array(human_unirep_noSP['location'])\n",
    "X2_train, X2_test, y2_train, y2_test = train_test_split(X2, y2, test_size=0.2, random_state=42)"
   ]
  },
  {
   "cell_type": "code",
   "execution_count": null,
   "metadata": {},
   "outputs": [],
   "source": [
    "classifier_comparison(X2, y2, 42)"
   ]
  },
  {
   "cell_type": "markdown",
   "metadata": {},
   "source": [
    "Next, test the secretion optimizer mutation function."
   ]
  },
  {
   "cell_type": "code",
   "execution_count": null,
   "metadata": {},
   "outputs": [],
   "source": [
    "# Using an example model to test out the secretion_optimization_unirep function\n",
    "# Using human data WITHOUT signal peptides\n",
    "model = ridge_regression_classifier(X2_train, X2_test, y2_train, y2_test) # Define function used\n",
    "seq = 'ACCAMGGSGCGSGSGSACCAMGGS' # Provide initial sequence\n",
    "position = 10 # Provide position for point mutations\n",
    "\n",
    "secretion_optimization_unirep(seq, position, model)"
   ]
  },
  {
   "cell_type": "markdown",
   "metadata": {},
   "source": [
    "Now, move on to analysis including additional features."
   ]
  },
  {
   "cell_type": "code",
   "execution_count": null,
   "metadata": {
    "scrolled": true
   },
   "outputs": [],
   "source": [
    "# Appending additional features to the human data\n",
    "# First, omit sequences with ambiguous 'X' or 'B'\n",
    "new_human_unirep_noSP = human_unirep_noSP[~human_unirep_noSP['seq'].str.contains(\"X\") &\n",
    "                                         ~human_unirep_noSP['seq'].str.contains(\"B\")]\n",
    "new_human_unirep_withSP = human_unirep_withSP[~human_unirep_withSP['seq'].str.contains(\"X\") &\n",
    "                                             ~human_unirep_noSP['seq'].str.contains(\"B\")]\n",
    "\n",
    "human_unirep_withSP_add = use_additional_features(new_human_unirep_withSP)\n",
    "human_unirep_noSP_add = use_additional_features(new_human_unirep_noSP)\n",
    "human_unirep_noSP_add.head()"
   ]
  },
  {
   "cell_type": "code",
   "execution_count": null,
   "metadata": {},
   "outputs": [],
   "source": [
    "# Perform a rough comparison with initial models\n",
    "# Analysis below WITHOUT signal peptides\n",
    "X3 = np.stack(human_unirep_noSP_add[\"UniRep\"].to_numpy())\n",
    "y3 = np.array(human_unirep_noSP_add['location'])\n",
    "X3_train, X3_test, y3_train, y3_test = train_test_split(X3, y3, test_size=0.2, random_state=42)\n",
    "\n",
    "ridge1 = ridge_regression_classifier(X2_train, X2_test, y2_train, y2_test)\n",
    "ridge2 = ridge_regression_classifier(X3_train, X3_test, y3_train, y3_test)\n",
    "\n",
    "print(\"Initial:\", ridge1.score(X2_test, y2_test), \"With additional features:\", ridge2.score(X3_test, y3_test))"
   ]
  },
  {
   "cell_type": "code",
   "execution_count": null,
   "metadata": {},
   "outputs": [],
   "source": [
    "classifier_comparison(X3, y3, 42)"
   ]
  },
  {
   "cell_type": "code",
   "execution_count": null,
   "metadata": {},
   "outputs": [],
   "source": []
  }
 ],
 "metadata": {
  "kernelspec": {
   "display_name": "lmpmenv",
   "language": "python",
   "name": "lmpmenv"
  },
  "language_info": {
   "codemirror_mode": {
    "name": "ipython",
    "version": 3
   },
   "file_extension": ".py",
   "mimetype": "text/x-python",
   "name": "python",
   "nbconvert_exporter": "python",
   "pygments_lexer": "ipython3",
   "version": "3.8.8"
  }
 },
 "nbformat": 4,
 "nbformat_minor": 5
}
