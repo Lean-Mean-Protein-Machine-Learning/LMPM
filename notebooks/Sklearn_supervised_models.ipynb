{
 "cells": [
  {
   "cell_type": "code",
   "execution_count": 1,
   "id": "direct-alignment",
   "metadata": {
    "scrolled": true
   },
   "outputs": [],
   "source": [
    "import pandas as pd\n",
    "import os\n",
    "import numpy as np\n",
    "\n",
    "from collections import defaultdict\n",
    "\n",
    "from sklearn.decomposition import PCA, TruncatedSVD\n",
    "from sklearn.manifold import TSNE\n",
    "from sklearn.model_selection import train_test_split\n",
    "from sklearn.neighbors import KNeighborsClassifier\n",
    "from sklearn.linear_model import RidgeClassifierCV, LogisticRegression\n",
    "from sklearn.ensemble import RandomForestClassifier, AdaBoostClassifier\n",
    "from sklearn.discriminant_analysis import QuadraticDiscriminantAnalysis\n",
    "from sklearn.neural_network import MLPClassifier\n",
    "from sklearn import model_selection\n",
    "from sklearn.svm import SVC\n",
    "from sklearn.gaussian_process import GaussianProcessClassifier\n",
    "from sklearn.gaussian_process.kernels import RBF\n",
    "from sklearn.tree import DecisionTreeClassifier\n",
    "\n",
    "from Bio.SeqUtils import molecular_weight\n",
    "from Bio.SeqUtils.IsoelectricPoint import IsoelectricPoint as IP\n",
    "\n",
    "import matplotlib.pyplot as plt\n",
    "# import seaborn as sns\n",
    "\n",
    "import sys\n",
    "sys.path.append('../UniRep/')\n",
    "\n",
    "from unirep_utils import get_UniReps\n",
    "\n",
    "import warnings\n",
    "warnings.filterwarnings('ignore')"
   ]
  },
  {
   "cell_type": "markdown",
   "id": "demanding-brooks",
   "metadata": {},
   "source": [
    "# Functions"
   ]
  },
  {
   "cell_type": "code",
   "execution_count": 2,
   "id": "industrial-retreat",
   "metadata": {},
   "outputs": [],
   "source": [
    "def check_dataframe(dataframe):\n",
    "    \"\"\"Input checking function to check for dataframes.\n",
    "    \"\"\"\n",
    "    assert isinstance(dataframe, pd.DataFrame), (\"The input data\"\n",
    "        \"set needs to be a pandas DataFrame.\")\n"
   ]
  },
  {
   "cell_type": "code",
   "execution_count": 3,
   "id": "incorporated-lottery",
   "metadata": {
    "scrolled": true
   },
   "outputs": [],
   "source": [
    "def data_to_unirep(df):\n",
    "    \"\"\"\n",
    "    Generates a new data frame with the UniProt ID, UniRep 1900 vectors (x-values), and secretion state (y-values)\n",
    "    \n",
    "    Args:\n",
    "        df (DataFrame): original data frame with sequence information and class information (specifying secretion)\n",
    "        \n",
    "    Returns:\n",
    "        unirep_df (DataFrame): new unirep data frame with class information and unirep vectors\n",
    "    \"\"\"\n",
    "    check_dataframe(df)\n",
    "    \n",
    "    seq_key = 'Sequence'\n",
    "    vec_prefix = 'Vec_{}'\n",
    "    \n",
    "    # Generating new data frame with unirep vectors\n",
    "    vec_column_names = [vec_prefix.format(i) for i in range(1900)]        \n",
    "    unirep_df = pd.DataFrame(columns = ['Class'] + vec_column_names)\n",
    "\n",
    "    for i, row in df.iterrows():\n",
    "        if int(i) % 1 == 0:\n",
    "            print('row {}'.format(i), end='\\r')\n",
    "        sequence = row.loc[seq_key]\n",
    "        unirep_df.loc[i, 'Class'] = row['Class']\n",
    "        vec = get_UniReps(sequence)[0][0]\n",
    "        unirep_df.loc[i, vec_column_names] = vec\n",
    "    \n",
    "    return unirep_df"
   ]
  },
  {
   "cell_type": "code",
   "execution_count": 4,
   "id": "literary-understanding",
   "metadata": {
    "scrolled": true
   },
   "outputs": [],
   "source": [
    "def remove_ambiguous_aa(df):\n",
    "    \"\"\"\n",
    "    Filters out protein sequences in data frame without ambiguous amino acids (X, B, and U)\n",
    "    \n",
    "    Args:\n",
    "        df (DataFrame): data frame with amino acid sequences and input data\n",
    "        \n",
    "    Returns:\n",
    "        df (DataFrame): filtered data frame without ambiguous amino acid sequences\n",
    "    \"\"\"\n",
    "    check_dataframe(df)\n",
    "    \n",
    "    seq_key = 'seq'\n",
    "    ambiguous_aa = ['X', 'B', 'U']\n",
    "    for aa in ambiguous_aa:\n",
    "        df = df[~df[seq_key].str.contains(aa)]\n",
    "    return df"
   ]
  },
  {
   "cell_type": "code",
   "execution_count": 5,
   "id": "junior-weekend",
   "metadata": {
    "scrolled": true
   },
   "outputs": [],
   "source": [
    "def classifier_comparison(X, y, seed):\n",
    "    \"\"\"\n",
    "    Iterates through sklearn supervised learning classification models.\n",
    "    Performs k-fold cross-validation (k=10).\n",
    "    Comparing each classifier based on model accuracy.\n",
    "    Plots model accuracy on a boxplot.\n",
    "    Taken from https://machinelearningmastery.com/compare-machine-learning-algorithms-python-scikit-learn/\n",
    "    \n",
    "    Args:\n",
    "        X (Array-like): All of the input parameters (including UniRep vectors) for the secretion analysis model\n",
    "        y (Array-like): The ouput parameter, or secretion class, for the secretion analysis model\n",
    "        \n",
    "    Returns:\n",
    "        \n",
    "    \"\"\"\n",
    "    # Preparing models\n",
    "#     models = []\n",
    "#     models.append(('RidgeReg', RidgeClassifierCV(alphas=[1e-3, 1e-2, 1e-1, 1],normalize=True)))\n",
    "#     K_neighbors = int(np.sqrt(len(y_train)))\n",
    "#     models.append(('KNN', KNeighborsClassifier(K_neighbors, weights='uniform')))\n",
    "#     models.append(('NeuralNet', MLPClassifier(max_iter=200)))\n",
    "#     models.append(('RandomForest', RandomForestClassifier()))\n",
    "#     models.append(('RBF SVM', SVC(gamma=0.1, C=1)))\n",
    "\n",
    "\n",
    "    models = [\n",
    "        ('KNN', KNeighborsClassifier()),\n",
    "        ('LogReg', LogisticRegression(solver='liblinear')),\n",
    "        ('RF', RandomForestClassifier()),\n",
    "        ('NeuralNet', MLPClassifier(max_iter=200)),\n",
    "        ('AdaBoost', AdaBoostClassifier(DecisionTreeClassifier(max_depth=1))),\n",
    "        ('RBFSVC', SVC(kernel='rbf')),\n",
    "        ('LinSVC', SVC(kernel='linear'))\n",
    "    ]\n",
    "    \n",
    "    # Evaluating each model using cross-validation\n",
    "    results = []\n",
    "    names = []\n",
    "    scoring = 'accuracy'\n",
    "    for name, model in models:\n",
    "        kfold = model_selection.KFold(n_splits=5, random_state=seed, shuffle=True)\n",
    "        cv_results = model_selection.cross_val_score(model, X, y, cv=kfold, scoring=scoring)\n",
    "        results.append(cv_results)\n",
    "        names.append(name)\n",
    "        msg = \"%s: %f (%f)\" % (name, cv_results.mean(), cv_results.std())\n",
    "        print(msg)\n",
    "        \n",
    "    # Plotting the classifier comparison\n",
    "    fig = plt.figure()\n",
    "    fig.suptitle('Sklearn Model Comparison')\n",
    "    ax = fig.add_subplot(111)\n",
    "    plt.boxplot(results)\n",
    "    ax.set_xticklabels(names)\n",
    "    plt.show()"
   ]
  },
  {
   "cell_type": "code",
   "execution_count": 6,
   "id": "quantitative-shape",
   "metadata": {
    "scrolled": true
   },
   "outputs": [],
   "source": [
    "# Selecting the final models to build\n",
    "def ridge_regression_classifier(X_train, X_test, y_train, y_test):\n",
    "    \"\"\"\n",
    "    Performs ridge regression classification on the given X and y values. Trains the model using X_train and y_train.\n",
    "    \n",
    "    Args:\n",
    "        X_train (Array-like): input parameters (including UniRep vectors) for the training the secretion analysis model\n",
    "        X_test (Array-like): input parameters (including UniRep vectors) for testing the secretion model\n",
    "        y_train (Array-like): secretion class / output associated with the trained secretion data (X_train)\n",
    "        y_test (Array-like): secretion class / output associated with the tested secretion data (X_test)\n",
    "    \n",
    "    Returns:\n",
    "        model: ridge regression classification model\n",
    "    \"\"\"\n",
    "    model = RidgeClassifierCV(alphas=[1e-3, 1e-2, 1e-1, 1],normalize=True)\n",
    "    model.fit(X_train, y_train)\n",
    "    return model\n",
    "\n",
    "\n",
    "def knn_classifier(X_train, X_test, y_train, y_test):\n",
    "    \"\"\"\n",
    "    Performs K-nearest neighbors classification on the given X and y values. Trains the model using X_train and y_train.\n",
    "    \n",
    "    Args:\n",
    "        X_train (Array-like): input parameters (including UniRep vectors) for the training the secretion analysis model\n",
    "        X_test (Array-like): input parameters (including UniRep vectors) for testing the secretion model\n",
    "        y_train (Array-like): secretion class / output associated with the trained secretion data (X_train)\n",
    "        y_test (Array-like): secretion class / output associated with the tested secretion data (X_test)\n",
    "    \n",
    "    Returns:\n",
    "        model: K-nearest neighbors classification model\n",
    "    \"\"\"\n",
    "    K_neighbors = int(np.sqrt(len(y_train))) # set number of neighbors to square root of number of inputs\n",
    "    model = KNeighborsClassifier(K_neighbors, weights='uniform')\n",
    "    model.fit(X_train, y_train)\n",
    "    return model\n",
    "\n",
    "\n",
    "def neural_net_classifier(X_train, X_test, y_train, y_test):\n",
    "    \"\"\"\n",
    "    Performs MLP classification on the given X and y values. Trains the model using X_train and y_train.\n",
    "    \n",
    "    Args:\n",
    "        X_train (Array-like): input parameters (including UniRep vectors) for the training the secretion analysis model\n",
    "        X_test (Array-like): input parameters (including UniRep vectors) for testing the secretion model\n",
    "        y_train (Array-like): secretion class / output associated with the trained secretion data (X_train)\n",
    "        y_test (Array-like): secretion class / output associated with the tested secretion data (X_test)\n",
    "    \n",
    "    Returns:\n",
    "        model: MLP classification model (sklearn neural network)\n",
    "    \"\"\"\n",
    "    model = MLPClassifier(max_iter=200)\n",
    "    model.fit(X_train, y_train)\n",
    "    return model\n",
    "\n",
    "\n",
    "def random_forest_classifier(X_train, X_test, y_train, y_test):\n",
    "    \"\"\"\n",
    "    Uses random forests to classify based on the given X and y values.\n",
    "    \n",
    "    Args:\n",
    "        X_train (Array-like): input parameters (including UniRep vectors) for the training the secretion analysis model\n",
    "        X_test (Array-like): input parameters (including UniRep vectors) for testing the secretion model\n",
    "        y_train (Array-like): secretion class / output associated with the trained secretion data (X_train)\n",
    "        y_test (Array-like): secretion class / output associated with the tested secretion data (X_test)\n",
    "    \n",
    "    Returns:\n",
    "        model: random forest classification model\n",
    "    \"\"\"\n",
    "    model = RandomForestClassifier()\n",
    "    model.fit(X_train, y_train)\n",
    "    return model\n",
    "\n",
    "\n",
    "def rbf_svm_classifier(X_train, X_test, y_train, y_test):\n",
    "    \"\"\"\n",
    "    Uses rbf support vector machines to classify based on the given X and y values.\n",
    "    \n",
    "    Args:\n",
    "        X_train (Array-like): input parameters (including UniRep vectors) for the training the secretion analysis model\n",
    "        X_test (Array-like): input parameters (including UniRep vectors) for testing the secretion model\n",
    "        y_train (Array-like): secretion class / output associated with the trained secretion data (X_train)\n",
    "        y_test (Array-like): secretion class / output associated with the tested secretion data (X_test)\n",
    "    \n",
    "    Returns:\n",
    "        model: rbf svm classficiation model\n",
    "    \"\"\"\n",
    "# Run the following in order to figure out the best C and gamma values!\n",
    "#     C_range = np.logspace(-2, 10, 13)\n",
    "#     gamma_range = np.logspace(-3, 3, 7)\n",
    "#     for i in range(len(C_range)):\n",
    "#     for j in range(len(gamma_range)):\n",
    "#         model=SVC(gamma=gamma_range[j], C=C_range[i]).fit(X_train, y_train)\n",
    "#         print(\"Gamma:\", gamma_range[j], \"C:\", C_range[i], \"Score:\", model.score(X_test, y_test))\n",
    "    model = SVC(gamma=0.1, C=1)\n",
    "    model.fit(X_train, y_train)\n",
    "    return model"
   ]
  },
  {
   "cell_type": "code",
   "execution_count": 7,
   "id": "altered-constraint",
   "metadata": {
    "scrolled": true
   },
   "outputs": [],
   "source": [
    "# These parameters are for the `use_additional_features` function\n",
    "# They are from the Hessa et al. paper cited in the function\n",
    "params = pd.read_csv('Params.csv', header=None)\n",
    "lst = params[0].values\n",
    "params.set_index(lst, inplace=True)\n",
    "del params[0]\n",
    "params_dict = defaultdict(list)\n",
    "for i, row in params.iterrows():\n",
    "    for position in range(1, len(row) + 1):\n",
    "        params_dict[i].append(float(row.loc[position]))"
   ]
  },
  {
   "cell_type": "code",
   "execution_count": 8,
   "id": "billion-championship",
   "metadata": {
    "scrolled": true
   },
   "outputs": [],
   "source": [
    "def use_additional_features(df):\n",
    "    \"\"\"\n",
    "    Uses additional features to help improve the model. \n",
    "    Additional features include:\n",
    "        theoretical isoelectric point, amino acid length, amino acid weight,\n",
    "        free energy of transmembrane insertion\n",
    "        \n",
    "    Check https://biopython.org/docs/1.75/api/Bio.SeqUtils.html\n",
    "    Free energy of transmembrane insertion values from\n",
    "        Hessa, T., Meindl-Beinker, N., Bernsel, A. et al. Molecular code for transmembrane-helix recognition \n",
    "        by the Sec61 translocon. Nature 450, 1026–1030 (2007). https://doi.org/10.1038/nature06387\n",
    "    \n",
    "    Args:\n",
    "        df (DataFrame): data frame including all of the inputs (sequence, unirep vectors, and secretion class)\n",
    "    \n",
    "    Returns:\n",
    "        df_with_add_features (DataFrame): modified data frame with additional features listed above\n",
    "    \"\"\"\n",
    "    check_dataframe(df)\n",
    "    \n",
    "    # First append new columns for the theoretical isoelectric point,\n",
    "    # amino acid length, and molecular weight\n",
    "    seq_key = 'seq'\n",
    "    df_with_add_features = df.copy(deep=True)\n",
    "#     df_with_add_features['PI'] = 0\n",
    "#     df_with_add_features['Molecular_Weight'] = 0\n",
    "#     df_with_add_features['Sequence_Length'] = 0\n",
    "#     for i, row in df_with_add_features.iterrows():\n",
    "#         seq = row.loc[seq_key]\n",
    "#         seq_obj = IP(seq)\n",
    "#         df_with_add_features.loc[i, 'PI'] = seq_obj.pi()\n",
    "#         df_with_add_features.loc[i, 'Molecular_Weight'] = round(molecular_weight(seq, seq_type='protein'))\n",
    "#         df_with_add_features.loc[i, 'Sequence_Length'] = len(seq)\n",
    "\n",
    "    # Next, add the free energy of membrane insertion values\n",
    "    df_with_add_features['dG'] = 0\n",
    "    for i, row in df.iterrows():\n",
    "        if int(i) % 10 == 0:\n",
    "            print('row {} of {}'.format(i, len(df.index)), end=\"\\r\") # Set a progress check\n",
    "        seq = row.loc[seq_key]\n",
    "        # Skips sequence if the entire sequence length is less than 19\n",
    "        if len(seq) < 19:\n",
    "            continue\n",
    "        dg_values = []\n",
    "        # Scans sequence for every 19-residue frame\n",
    "        for j in range(len(seq)-18):\n",
    "            running_total = 0\n",
    "            new_segment = seq[j:j+19]\n",
    "            for k, aa in enumerate(new_segment):\n",
    "                if aa == 'U':\n",
    "                    pass\n",
    "                else:\n",
    "                    running_total += params_dict[aa][k]\n",
    "            dg_values.append(running_total) \n",
    "        # Finds the minimum dG value\n",
    "        df_with_add_features.loc[i, 'dG'] = min(dg_values)\n",
    "        \n",
    "    # Finally, return the updated data frame with additional features\n",
    "    return df_with_add_features"
   ]
  },
  {
   "cell_type": "code",
   "execution_count": 9,
   "id": "constant-bracket",
   "metadata": {
    "scrolled": true
   },
   "outputs": [],
   "source": [
    "def secretion_optimization_unirep(seq, pos, model):\n",
    "    \"\"\"\n",
    "    Based on the given model, this function mutates the input sequence at the position provided\n",
    "    Uses only the unirep vectors as input values\n",
    "    \n",
    "    Args:\n",
    "        seq (String): initial amino acid sequence provided with single-letter format\n",
    "        pos (int): position where the mutations can occur in the given sequence\n",
    "        model:\n",
    "    \n",
    "    Returns:\n",
    "        seq (String): final, mutated amino acid sequence with improved secretion score\n",
    "    \"\"\"\n",
    "    # First, obtain the unirep representation of given sequence\n",
    "    unirep_values = get_UniReps(seq)[0]\n",
    "    unirep_values = unirep_values.reshape(1, -1)\n",
    "    \n",
    "    # Next, predict the initial secretion score\n",
    "    print(\"The initial sequence is:\", seq)\n",
    "    initial_class = model.predict(unirep_values)\n",
    "    print(\"The initial class is:\", initial_class)\n",
    "    classes = list(model.classes_)\n",
    "    if type(model) is RidgeClassifierCV:\n",
    "        decision_function_values = model.decision_function(unirep_values)[0]\n",
    "        probs = np.exp(decision_function_values) / np.sum(np.exp(decision_function_values))\n",
    "        initial_score = probs[classes.index('secreted')]\n",
    "    else:\n",
    "        prediction_probability = list(model.predict_proba(unirep_values)[0]) # Grabbing the probability of each class\n",
    "        initial_score = prediction_probability[classes.index('secreted')] # Grabbing the probability of being secreted class\n",
    "    print(\"The initial probability of being the secreted class is:\", initial_score)\n",
    "    \n",
    "    # Set up list of amino acids\n",
    "    amino_acids = ['G', 'A', 'L', 'M', 'F', 'W', 'K', 'Q', 'E', 'S', 'P', 'V', 'I', 'C', 'Y', 'H', 'R', 'N', 'D', 'T']\n",
    "    \n",
    "    # Set up point mutations\n",
    "    mutated_scores_for_all_AA = []\n",
    "    for i in range(len(amino_acids)):\n",
    "        seq_list = list(seq)\n",
    "        seq_list[pos] = amino_acids[i]\n",
    "        new_seq = \"\".join(seq_list) # Creating the point-mutated sequence\n",
    "        mutated_unirep_values = get_UniReps(new_seq)[0] # Grabbing the input parameters (unirep vectors)\n",
    "        mutated_unirep_values = mutated_unirep_values.reshape(1, -1)\n",
    "        mutated_class = model.predict(mutated_unirep_values) # The class of the mutated sequence\n",
    "        classes = list(model.classes_)\n",
    "        if type(model) is RidgeClassifierCV:\n",
    "            decision_function_values = model.decision_function(mutated_unirep_values)[0]\n",
    "            probs = np.exp(decision_function_values) / np.sum(np.exp(decision_function_values))\n",
    "            mutated_score = probs[classes.index('secreted')]\n",
    "        else:\n",
    "            prediction_probability = list(model.predict_proba(mutated_unirep_values)[0]) # Grabbing the probability of each class\n",
    "            mutated_score = prediction_probability[classes.index('secreted')] # Grabbing the probability of being secreted class\n",
    "        mutated_scores_for_all_AA.append(mutated_score)\n",
    "        if mutated_score > initial_score:\n",
    "            seq = new_seq\n",
    "            initial_score = mutated_score\n",
    "            initial_class = mutated_class\n",
    "    print(\"The improved, mutated sequence is:\", seq)\n",
    "    print(\"The mutated class is:\", initial_class)\n",
    "    print(\"The mutated probability of being the secreted class is:\", initial_score)\n",
    "    \n",
    "    plt.plot(amino_acids, mutated_scores_for_all_AA)\n",
    "    plt.xlabel('Amino Acid Point Mutation')\n",
    "    plt.ylabel('Probability of Class: Secreted (%)')\n",
    "    plt.show()\n",
    "            \n",
    "    return seq"
   ]
  },
  {
   "cell_type": "markdown",
   "id": "spectacular-arrow",
   "metadata": {},
   "source": [
    "# Importing UniProt Data"
   ]
  },
  {
   "cell_type": "code",
   "execution_count": 10,
   "id": "early-corpus",
   "metadata": {
    "scrolled": true
   },
   "outputs": [],
   "source": [
    "# Importing the true data sets with unirep features\n",
    "human_unirep_noSP = pd.read_pickle('UniRep Datasets/combined_human_UniRep_dataset_noSP.pkl')\n",
    "human_unirep_withSP = pd.read_pickle('UniRep Datasets/combined_human_UniRep_dataset_withSP.pkl')\n",
    "\n",
    "yeast_unirep_noSP = pd.read_pickle('UniRep Datasets/combined_yeast_UniRep_dataset.pkl')\n",
    "yeast_unirep_withSP = pd.read_pickle('UniRep Datasets/combined_yeast_UniRep_dataset_noSP.pkl')\n",
    "\n",
    "ecoli_unirep_noSP = pd.read_pickle('UniRep Datasets/combined_escherichia_UniRep_dataset_noSP.pkl')\n",
    "\n",
    "# Next, eliminate ambiguous amino acids\n",
    "human_unirep_noSP = remove_ambiguous_aa(human_unirep_noSP)\n",
    "human_unirep_withSP = remove_ambiguous_aa(human_unirep_withSP)\n",
    "\n",
    "yeast_unirep_noSP = remove_ambiguous_aa(yeast_unirep_noSP)\n",
    "yeast_unirep_withSP = remove_ambiguous_aa(yeast_unirep_withSP)\n",
    "\n",
    "ecoli_unirep_noSP = remove_ambiguous_aa(ecoli_unirep_noSP)"
   ]
  },
  {
   "cell_type": "markdown",
   "id": "pharmaceutical-moral",
   "metadata": {},
   "source": [
    "# Code and Analysis for Human UniRep Datasets"
   ]
  },
  {
   "cell_type": "markdown",
   "id": "champion-triple",
   "metadata": {},
   "source": [
    "First, run the sklearn model comparison function for the human data set with and without the signal peptide."
   ]
  },
  {
   "cell_type": "code",
   "execution_count": 11,
   "id": "universal-highland",
   "metadata": {
    "scrolled": true
   },
   "outputs": [],
   "source": [
    "# Running the model comparison on human data set WITH signal peptides\n",
    "X = np.stack(human_unirep_withSP[\"UniRep\"].to_numpy())\n",
    "y = np.array(human_unirep_withSP['location'])\n",
    "X_train, X_test, y_train, y_test = train_test_split(X, y, test_size=0.2, random_state=42)"
   ]
  },
  {
   "cell_type": "code",
   "execution_count": 12,
   "id": "acceptable-value",
   "metadata": {
    "scrolled": true
   },
   "outputs": [
    {
     "name": "stdout",
     "output_type": "stream",
     "text": [
      "KNN: 0.941544 (0.004919)\n",
      "LogReg: 0.973892 (0.002013)\n",
      "RF: 0.972619 (0.004297)\n",
      "NeuralNet: 0.979241 (0.001482)\n",
      "AdaBoost: 0.959502 (0.006608)\n",
      "RBFSVC: 0.968798 (0.002755)\n",
      "LinSVC: 0.978859 (0.001414)\n"
     ]
    },
    {
     "data": {
      "image/png": "[encoded data removed]",
      "text/plain": [
       "<Figure size 432x288 with 1 Axes>"
      ]
     },
     "metadata": {
      "needs_background": "light"
     },
     "output_type": "display_data"
    }
   ],
   "source": [
    "classifier_comparison(X, y, 42)"
   ]
  },
  {
   "cell_type": "code",
   "execution_count": 13,
   "id": "excess-israeli",
   "metadata": {
    "scrolled": true
   },
   "outputs": [],
   "source": [
    "# Running the model comparison on human data set WITHOUT signal peptides\n",
    "X2 = np.stack(human_unirep_noSP[\"UniRep\"].to_numpy())\n",
    "y2 = np.array(human_unirep_noSP['location'])\n",
    "X2_train, X2_test, y2_train, y2_test = train_test_split(X2, y2, test_size=0.2, random_state=42)"
   ]
  },
  {
   "cell_type": "code",
   "execution_count": 14,
   "id": "proud-render",
   "metadata": {
    "scrolled": true
   },
   "outputs": [
    {
     "name": "stdout",
     "output_type": "stream",
     "text": [
      "KNN: 0.907378 (0.005003)\n",
      "LogReg: 0.918904 (0.004845)\n",
      "RF: 0.925800 (0.001539)\n",
      "NeuralNet: 0.924155 (0.007749)\n",
      "AdaBoost: 0.874859 (0.006898)\n",
      "RBFSVC: 0.909745 (0.004140)\n",
      "LinSVC: 0.927137 (0.002938)\n"
     ]
    },
    {
     "data": {
      "image/png": "[encoded data removed]",
      "text/plain": [
       "<Figure size 432x288 with 1 Axes>"
      ]
     },
     "metadata": {
      "needs_background": "light"
     },
     "output_type": "display_data"
    }
   ],
   "source": [
    "classifier_comparison(X2, y2, 42)"
   ]
  },
  {
   "cell_type": "markdown",
   "id": "eligible-syntax",
   "metadata": {},
   "source": [
    "Next, test the secretion optimizer mutation function."
   ]
  },
  {
   "cell_type": "code",
   "execution_count": 15,
   "id": "completed-display",
   "metadata": {
    "scrolled": true
   },
   "outputs": [
    {
     "name": "stdout",
     "output_type": "stream",
     "text": [
      "The initial sequence is: ACCAMGGSGCGSGSGSACCAMGGS\n",
      "The initial class is: ['cytoplasm']\n",
      "The initial probability of being the secreted class is: 0.1882073742656035\n",
      "The improved, mutated sequence is: ACCAMGGSGCQSGSGSACCAMGGS\n",
      "The mutated class is: ['cytoplasm']\n",
      "The mutated probability of being the secreted class is: 0.2453633063786568\n"
     ]
    },
    {
     "data": {
      "image/png": "[encoded data removed]",
      "text/plain": [
       "<Figure size 432x288 with 1 Axes>"
      ]
     },
     "metadata": {
      "needs_background": "light"
     },
     "output_type": "display_data"
    },
    {
     "data": {
      "text/plain": [
       "'ACCAMGGSGCQSGSGSACCAMGGS'"
      ]
     },
     "execution_count": 15,
     "metadata": {},
     "output_type": "execute_result"
    }
   ],
   "source": [
    "# Using an example model to test out the secretion_optimization_unirep function\n",
    "# Using human data WITHOUT signal peptides\n",
    "model = ridge_regression_classifier(X2_train, X2_test, y2_train, y2_test) # Define function used\n",
    "seq = 'ACCAMGGSGCGSGSGSACCAMGGS' # Provide initial sequence\n",
    "position = 10 # Provide position for point mutations\n",
    "\n",
    "secretion_optimization_unirep(seq, position, model)"
   ]
  },
  {
   "cell_type": "markdown",
   "id": "automatic-liver",
   "metadata": {},
   "source": [
    "Now, move on to analysis including additional features."
   ]
  },
  {
   "cell_type": "code",
   "execution_count": 16,
   "id": "exposed-graham",
   "metadata": {
    "scrolled": true
   },
   "outputs": [
    {
     "name": "stdout",
     "output_type": "stream",
     "text": [
      "row 9760 of 9717\r"
     ]
    },
    {
     "data": {
      "text/html": [
       "<div>\n",
       "<style scoped>\n",
       "    .dataframe tbody tr th:only-of-type {\n",
       "        vertical-align: middle;\n",
       "    }\n",
       "\n",
       "    .dataframe tbody tr th {\n",
       "        vertical-align: top;\n",
       "    }\n",
       "\n",
       "    .dataframe thead th {\n",
       "        text-align: right;\n",
       "    }\n",
       "</style>\n",
       "<table border=\"1\" class=\"dataframe\">\n",
       "  <thead>\n",
       "    <tr style=\"text-align: right;\">\n",
       "      <th></th>\n",
       "      <th>ID</th>\n",
       "      <th>name</th>\n",
       "      <th>organism</th>\n",
       "      <th>location</th>\n",
       "      <th>seq</th>\n",
       "      <th>seq_len</th>\n",
       "      <th>UniRep</th>\n",
       "      <th>dG</th>\n",
       "    </tr>\n",
       "  </thead>\n",
       "  <tbody>\n",
       "    <tr>\n",
       "      <th>0</th>\n",
       "      <td>P03540</td>\n",
       "      <td>GLYC_PIARV</td>\n",
       "      <td>piarv</td>\n",
       "      <td>membrane</td>\n",
       "      <td>MGQIVTLIQSIPEVLQEVFNVALIIVSVLCIVKGFVNLMRCGLFQL...</td>\n",
       "      <td>503</td>\n",
       "      <td>[0.004571974277496338, -0.03903784230351448, 0...</td>\n",
       "      <td>-0.18</td>\n",
       "    </tr>\n",
       "    <tr>\n",
       "      <th>1</th>\n",
       "      <td>Q99928</td>\n",
       "      <td>GBRG3_HUMAN</td>\n",
       "      <td>human</td>\n",
       "      <td>membrane</td>\n",
       "      <td>MAPKLLLLLCLFSGLHARSRKVEEDEYEDSSSNQKWVLAPKSQDTD...</td>\n",
       "      <td>467</td>\n",
       "      <td>[0.010569660924375057, -0.04060269147157669, 0...</td>\n",
       "      <td>-1.27</td>\n",
       "    </tr>\n",
       "    <tr>\n",
       "      <th>2</th>\n",
       "      <td>Q77NP2</td>\n",
       "      <td>GM_VZVO</td>\n",
       "      <td>vzvo</td>\n",
       "      <td>membrane</td>\n",
       "      <td>MGTQKKGPRSEKVSPYDTTTPEVEALDHQMDTLNWRIWIIQVMMFT...</td>\n",
       "      <td>435</td>\n",
       "      <td>[0.0069412547163665295, -0.012156936340034008,...</td>\n",
       "      <td>-2.11</td>\n",
       "    </tr>\n",
       "    <tr>\n",
       "      <th>3</th>\n",
       "      <td>Q04630</td>\n",
       "      <td>GM_HHV6U</td>\n",
       "      <td>hhv6u</td>\n",
       "      <td>membrane</td>\n",
       "      <td>MASSRVDTINLRIWLVSIICAALSFINVTVYLIAINFPNLGFPCAY...</td>\n",
       "      <td>344</td>\n",
       "      <td>[0.0053085871040821075, -0.009203316643834114,...</td>\n",
       "      <td>-3.96</td>\n",
       "    </tr>\n",
       "    <tr>\n",
       "      <th>4</th>\n",
       "      <td>Q68669</td>\n",
       "      <td>GL_HCMV3</td>\n",
       "      <td>hcmv3</td>\n",
       "      <td>membrane</td>\n",
       "      <td>MCRRPDCGFSFSPGPVVLLWCCLLLPIVSSVAVSVAPTAAEKVPAE...</td>\n",
       "      <td>278</td>\n",
       "      <td>[0.004815185442566872, -0.03920815885066986, 0...</td>\n",
       "      <td>-0.23</td>\n",
       "    </tr>\n",
       "  </tbody>\n",
       "</table>\n",
       "</div>"
      ],
      "text/plain": [
       "       ID         name organism  location  \\\n",
       "0  P03540   GLYC_PIARV    piarv  membrane   \n",
       "1  Q99928  GBRG3_HUMAN    human  membrane   \n",
       "2  Q77NP2      GM_VZVO     vzvo  membrane   \n",
       "3  Q04630     GM_HHV6U    hhv6u  membrane   \n",
       "4  Q68669     GL_HCMV3    hcmv3  membrane   \n",
       "\n",
       "                                                 seq  seq_len  \\\n",
       "0  MGQIVTLIQSIPEVLQEVFNVALIIVSVLCIVKGFVNLMRCGLFQL...      503   \n",
       "1  MAPKLLLLLCLFSGLHARSRKVEEDEYEDSSSNQKWVLAPKSQDTD...      467   \n",
       "2  MGTQKKGPRSEKVSPYDTTTPEVEALDHQMDTLNWRIWIIQVMMFT...      435   \n",
       "3  MASSRVDTINLRIWLVSIICAALSFINVTVYLIAINFPNLGFPCAY...      344   \n",
       "4  MCRRPDCGFSFSPGPVVLLWCCLLLPIVSSVAVSVAPTAAEKVPAE...      278   \n",
       "\n",
       "                                              UniRep    dG  \n",
       "0  [0.004571974277496338, -0.03903784230351448, 0... -0.18  \n",
       "1  [0.010569660924375057, -0.04060269147157669, 0... -1.27  \n",
       "2  [0.0069412547163665295, -0.012156936340034008,... -2.11  \n",
       "3  [0.0053085871040821075, -0.009203316643834114,... -3.96  \n",
       "4  [0.004815185442566872, -0.03920815885066986, 0... -0.23  "
      ]
     },
     "execution_count": 16,
     "metadata": {},
     "output_type": "execute_result"
    }
   ],
   "source": [
    "# Appending additional features to the human data\n",
    "human_unirep_withSP_add = use_additional_features(human_unirep_withSP)\n",
    "human_unirep_noSP_add = use_additional_features(human_unirep_noSP)\n",
    "human_unirep_noSP_add.head()"
   ]
  },
  {
   "cell_type": "code",
   "execution_count": 17,
   "id": "sealed-flashing",
   "metadata": {
    "scrolled": true
   },
   "outputs": [
    {
     "name": "stdout",
     "output_type": "stream",
     "text": [
      "Initial: 0.9161522633744856 With additional features: 0.9192386831275721\n"
     ]
    }
   ],
   "source": [
    "# Perform a rough comparison with initial models\n",
    "# Analysis below WITHOUT signal peptides\n",
    "add_X3 = np.array(human_unirep_noSP_add[['dG']])\n",
    "X3 = np.stack(human_unirep_noSP_add[\"UniRep\"].to_numpy())\n",
    "X3 = np.concatenate([X3,add_X3], axis=1)\n",
    "y3 = np.array(human_unirep_noSP_add['location'])\n",
    "X3_train, X3_test, y3_train, y3_test = train_test_split(X3, y3, test_size=0.2, random_state=42)\n",
    "\n",
    "ridge1 = ridge_regression_classifier(X2_train, X2_test, y2_train, y2_test)\n",
    "ridge2 = ridge_regression_classifier(X3_train, X3_test, y3_train, y3_test)\n",
    "\n",
    "print(\"Initial:\", ridge1.score(X2_test, y2_test), \"With additional features:\", ridge2.score(X3_test, y3_test))"
   ]
  },
  {
   "cell_type": "code",
   "execution_count": null,
   "id": "inside-major",
   "metadata": {
    "scrolled": false
   },
   "outputs": [
    {
     "name": "stdout",
     "output_type": "stream",
     "text": [
      "KNN: 0.921374 (0.004143)\n",
      "LogReg: 0.924359 (0.004230)\n"
     ]
    }
   ],
   "source": [
    "classifier_comparison(X3, y3, 42)"
   ]
  },
  {
   "cell_type": "markdown",
   "id": "possible-hungarian",
   "metadata": {},
   "source": [
    "# Running the Analysis for Other Organisms"
   ]
  },
  {
   "cell_type": "code",
   "execution_count": null,
   "id": "loved-istanbul",
   "metadata": {
    "scrolled": true
   },
   "outputs": [],
   "source": [
    "# Running the model comparison on yeast data set WITH signal peptides\n",
    "yeast_X = np.stack(yeast_unirep_withSP[\"UniRep\"].to_numpy())\n",
    "yeast_y = np.array(yeast_unirep_withSP['location'])\n",
    "yeast_X_train, yeast_X_test, yeast_y_train, yeast_y_test = train_test_split(yeast_X, yeast_y, test_size=0.2, random_state=42)"
   ]
  },
  {
   "cell_type": "code",
   "execution_count": null,
   "id": "prepared-madrid",
   "metadata": {
    "scrolled": false
   },
   "outputs": [],
   "source": [
    "classifier_comparison(yeast_X, yeast_y, 42)"
   ]
  },
  {
   "cell_type": "code",
   "execution_count": null,
   "id": "artificial-martial",
   "metadata": {
    "scrolled": true
   },
   "outputs": [],
   "source": [
    "# Running the model comparison on yeast data set WITHOUT signal peptides\n",
    "yeast_X2 = np.stack(yeast_unirep_noSP[\"UniRep\"].to_numpy())\n",
    "yeast_y2 = np.array(yeast_unirep_noSP['location'])\n",
    "yeast_X2_train, yeast_X2_test, yeast_y2_train, yeast_y2_test = train_test_split(yeast_X2, yeast_y2, test_size=0.2, random_state=42)"
   ]
  },
  {
   "cell_type": "code",
   "execution_count": null,
   "id": "czech-execution",
   "metadata": {
    "scrolled": true
   },
   "outputs": [],
   "source": [
    "classifier_comparison(yeast_X2, yeast_y2, 42)"
   ]
  },
  {
   "cell_type": "code",
   "execution_count": null,
   "id": "developing-intellectual",
   "metadata": {
    "scrolled": true
   },
   "outputs": [],
   "source": [
    "# Add additional features\n",
    "yeast_add_withSP = use_additional_features(yeast_unirep_withSP)\n",
    "yeast_add_noSP = use_additional_features(yeast_unirep_noSP)"
   ]
  },
  {
   "cell_type": "code",
   "execution_count": null,
   "id": "through-award",
   "metadata": {
    "scrolled": true
   },
   "outputs": [],
   "source": [
    "# Running model comparison on addiitonal yeast data WITHOUT signal peptides"
   ]
  },
  {
   "cell_type": "code",
   "execution_count": null,
   "id": "brazilian-worthy",
   "metadata": {
    "scrolled": true
   },
   "outputs": [],
   "source": [
    "# Running the model comparison on E. Coli data set WITHOUT signal peptides\n",
    "ecoli_X = np.stack(ecoli_unirep_noSP[\"UniRep\"].to_numpy())\n",
    "ecoli_y = np.array(ecoli_unirep_noSP['location'])"
   ]
  },
  {
   "cell_type": "code",
   "execution_count": null,
   "id": "pointed-student",
   "metadata": {
    "scrolled": true
   },
   "outputs": [],
   "source": [
    "classifier_comparison(ecoli_X, ecoli_y, 42)"
   ]
  },
  {
   "cell_type": "markdown",
   "id": "south-packaging",
   "metadata": {},
   "source": [
    "# Checking Feature Importance"
   ]
  },
  {
   "cell_type": "code",
   "execution_count": null,
   "id": "distant-preparation",
   "metadata": {
    "scrolled": true
   },
   "outputs": [],
   "source": [
    "model = random_forest_classifier(X_train, X_test, y_train, y_test)\n",
    "model.score(X_test, y_test)"
   ]
  },
  {
   "cell_type": "code",
   "execution_count": null,
   "id": "tired-macintosh",
   "metadata": {
    "scrolled": true
   },
   "outputs": [],
   "source": [
    "importances = model.feature_importances_\n",
    "indices = np.argsort(importances)\n",
    "features = np.linspace(0,1899,1900)\n",
    "plt.figure(figsize=(10, 500))\n",
    "plt.barh(range(len(indices)),importances[indices], align='center')\n",
    "plt.yticks(range(len(indices)), [features[i] for i in indices])\n",
    "plt.xlabel('Relative Importance')"
   ]
  },
  {
   "cell_type": "code",
   "execution_count": null,
   "id": "interior-cargo",
   "metadata": {
    "scrolled": false
   },
   "outputs": [],
   "source": [
    "model = random_forest_classifier(X2_train, X2_test, y2_train, y2_test)\n",
    "model.score(X2_test, y2_test)"
   ]
  },
  {
   "cell_type": "code",
   "execution_count": null,
   "id": "pressed-hospital",
   "metadata": {},
   "outputs": [],
   "source": [
    "importances = model.feature_importances_\n",
    "indices = np.argsort(importances)\n",
    "features = np.linspace(0,1899,1900)\n",
    "plt.figure(figsize=(10, 500))\n",
    "plt.barh(range(len(indices)),importances[indices], align='center')\n",
    "plt.yticks(range(len(indices)), [features[i] for i in indices])\n",
    "plt.xlabel('Relative Importance')"
   ]
  },
  {
   "cell_type": "code",
   "execution_count": null,
   "id": "parallel-rescue",
   "metadata": {},
   "outputs": [],
   "source": [
    "model = random_forest_classifier(X3_train, X3_test, y3_train, y3_test)\n",
    "model.score(X3_test, y3_test)"
   ]
  },
  {
   "cell_type": "code",
   "execution_count": null,
   "id": "acknowledged-mainland",
   "metadata": {},
   "outputs": [],
   "source": [
    "importances = model.feature_importances_\n",
    "indices = np.argsort(importances)\n",
    "features = np.linspace(0,1903,1904)\n",
    "plt.figure(figsize=(10, 500))\n",
    "plt.barh(range(len(indices)),importances[indices], align='center')\n",
    "plt.yticks(range(len(indices)), [features[i] for i in indices])\n",
    "plt.xlabel('Relative Importance')"
   ]
  }
 ],
 "metadata": {
  "kernelspec": {
   "display_name": "Python 3",
   "language": "python",
   "name": "python3"
  },
  "language_info": {
   "codemirror_mode": {
    "name": "ipython",
    "version": 3
   },
   "file_extension": ".py",
   "mimetype": "text/x-python",
   "name": "python",
   "nbconvert_exporter": "python",
   "pygments_lexer": "ipython3",
   "version": "3.8.8"
  }
 },
 "nbformat": 4,
 "nbformat_minor": 5
}
