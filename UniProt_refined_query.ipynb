{
 "cells": [
  {
   "cell_type": "markdown",
   "metadata": {},
   "source": [
    "# Searching the UniProt database and saving fastas:\n",
    "\n",
    "This notebook is really just to demonstrate how Andrew finds the sequences for the datasets.  <br>\n",
    "\n",
    "If you do call it from within our github repository, you'll probably want to add the fastas to the `.gitignore` file."
   ]
  },
  {
   "cell_type": "code",
   "execution_count": 1,
   "metadata": {},
   "outputs": [],
   "source": [
    "# Import bioservices module, to run remote UniProt queries\n",
    "# (will probably need to pip install this to use)\n",
    "from bioservices import UniProt\n"
   ]
  },
  {
   "cell_type": "markdown",
   "metadata": {},
   "source": [
    "## Connecting to UniProt using bioservices:\n"
   ]
  },
  {
   "cell_type": "code",
   "execution_count": 2,
   "metadata": {},
   "outputs": [],
   "source": [
    "service = UniProt() \n",
    "fasta_path = 'refined_query_fastas/' #optional file organization param"
   ]
  },
  {
   "cell_type": "markdown",
   "metadata": {},
   "source": [
    "## Query with signal_peptide"
   ]
  },
  {
   "cell_type": "code",
   "execution_count": 3,
   "metadata": {},
   "outputs": [],
   "source": [
    "def data_saving_function_with_SP(organism,save_path=''):\n",
    "    \n",
    "    secreted_query = f'(((organism:{organism} OR host:{organism}) annotation:(\"signal peptide\") keyword:secreted) NOT annotation:(type:transmem)) AND reviewed:yes'\n",
    "    secreted_result = service.search(secreted_query, frmt=\"fasta\")\n",
    "    secreted_outfile = f'{save_path}{organism}_secreted_SP_new.fasta'\n",
    "    with open(secreted_outfile, 'a') as ofh:\n",
    "        ofh.write(secreted_result)\n",
    "        \n",
    "\n",
    "    cytoplasm_query = f'(((organism:{organism} OR host:{organism}) locations:(location:cytoplasm)) NOT (annotation:(type:transmem) OR annotation:(\"signal peptide\"))) AND reviewed:yes'\n",
    "    cytoplasm_result = service.search(cytoplasm_query, frmt=\"fasta\")\n",
    "    cytoplasm_outfile = f'{save_path}{organism}_cytoplasm_SP_new.fasta'\n",
    "    with open(cytoplasm_outfile, 'a') as ofh:\n",
    "        ofh.write(cytoplasm_result)\n",
    "    \n",
    "    membrane_query = f'(((organism:{organism} OR host:{organism}) annotation:(type:transmem)) annotation:(\"signal peptide\")) AND reviewed:yes'\n",
    "    membrane_result = service.search(membrane_query, frmt=\"fasta\")\n",
    "    membrane_outfile = f'{save_path}{organism}_membrane_SP_new.fasta'\n",
    "    with open(membrane_outfile, 'a') as ofh:\n",
    "        ofh.write(membrane_result)\n",
    "    \n",
    "\n",
    "    "
   ]
  },
  {
   "cell_type": "code",
   "execution_count": 4,
   "metadata": {},
   "outputs": [],
   "source": [
    "data_saving_function_with_SP('human',fasta_path)"
   ]
  },
  {
   "cell_type": "code",
   "execution_count": 4,
   "metadata": {},
   "outputs": [],
   "source": [
    "data_saving_function_with_SP('escherichia',fasta_path)"
   ]
  },
  {
   "cell_type": "markdown",
   "metadata": {},
   "source": [
    "## Query without signal_peptide"
   ]
  },
  {
   "cell_type": "code",
   "execution_count": 3,
   "metadata": {},
   "outputs": [],
   "source": [
    "def data_saving_function_without_SP(organism,save_path=''):\n",
    "# maybe new: \n",
    "\n",
    "    secreted_query = f'(((organism:{organism} OR host:{organism}) AND (keyword:secreted OR goa:(\"extracellular region [5576]\"))) NOT (annotation:(type:transmem) OR goa:(\"membrane [16020]\") OR locations:(location:cytoplasm) OR goa:(\"cytoplasm [5737]\") )) AND reviewed:yes'\n",
    "    secreted_result = service.search(secreted_query, frmt=\"fasta\")\n",
    "    secreted_outfile = f'{save_path}{organism}_secreted_noSP_new_new.fasta'\n",
    "    with open(secreted_outfile, 'a') as ofh:\n",
    "        ofh.write(secreted_result)\n",
    "        \n",
    "    cytoplasm_query = f'(((organism:{organism} OR host:{organism}) AND (locations:(location:cytoplasm) OR goa:(\"cytoplasm [5737]\")) ) NOT (annotation:(type:transmem) OR goa:(\"membrane [16020]\") OR keyword:secreted OR goa:(\"extracellular region [5576]\") )) AND reviewed:yes'\n",
    "    cytoplasm_result = service.search(cytoplasm_query, frmt=\"fasta\")\n",
    "    cytoplasm_outfile = f'{save_path}{organism}_cytoplasm_noSP_new_new.fasta'\n",
    "    with open(cytoplasm_outfile, 'a') as ofh:\n",
    "        ofh.write(cytoplasm_result)\n",
    "        \n",
    "\n",
    "    membrane_query= f'(((organism:{organism} OR host:{organism}) AND ( annotation:(type:transmem) OR goa:(\"membrane [16020]\") )) NOT ( keyword:secreted OR goa:(\"extracellular region [5576]\") OR locations:(location:cytoplasm) OR goa:(\"cytoplasm [5737]\") )) AND reviewed:yes'\n",
    "    membrane_result = service.search(membrane_query, frmt=\"fasta\")\n",
    "    membrane_outfile = f'{save_path}{organism}_membrane_noSP_new_new.fasta'\n",
    "    with open(membrane_outfile, 'a') as ofh:\n",
    "        ofh.write(membrane_result)\n",
    "    \n",
    "\n",
    "    "
   ]
  },
  {
   "cell_type": "code",
   "execution_count": 4,
   "metadata": {},
   "outputs": [],
   "source": [
    "data_saving_function_without_SP('human',fasta_path)"
   ]
  },
  {
   "cell_type": "code",
   "execution_count": null,
   "metadata": {},
   "outputs": [],
   "source": [
    "data_saving_function_without_SP('yeast',fasta_path)"
   ]
  },
  {
   "cell_type": "code",
   "execution_count": null,
   "metadata": {},
   "outputs": [],
   "source": [
    "data_saving_function_without_SP('escherichia',fasta_path)"
   ]
  },
  {
   "cell_type": "markdown",
   "metadata": {},
   "source": [
    "## Query ALL SHIT (warning: do not do unless you have lots of free time and computer memory)"
   ]
  },
  {
   "cell_type": "code",
   "execution_count": 3,
   "metadata": {},
   "outputs": [],
   "source": [
    "def data_saving_function_without_SP_full_uniprot(save_path=''):\n",
    "# maybe new: \n",
    "    secreted_query = f'((keyword:secreted OR goa:(\"extracellular region [5576]\")) NOT (annotation:(type:transmem) OR goa:(\"membrane [16020]\") OR locations:(location:cytoplasm) OR goa:(\"cytoplasm [5737]\") )) AND reviewed:yes'\n",
    "    secreted_result = service.search(secreted_query, frmt=\"fasta\")\n",
    "    secreted_outfile = f'{save_path}all_secreted_noSP_new_new.fasta'\n",
    "    with open(secreted_outfile, 'a') as ofh:\n",
    "        ofh.write(secreted_result)\n",
    "        \n",
    "    cytoplasm_query = f'(( locations:(location:cytoplasm) OR goa:(\"cytoplasm [5737]\") ) NOT (annotation:(type:transmem) OR goa:(\"membrane [16020]\") OR keyword:secreted OR goa:(\"extracellular region [5576]\") )) AND reviewed:yes'\n",
    "    cytoplasm_result = service.search(cytoplasm_query, frmt=\"fasta\")\n",
    "    cytoplasm_outfile = f'{save_path}all_cytoplasm_noSP_new_new.fasta'\n",
    "    with open(cytoplasm_outfile, 'a') as ofh:\n",
    "        ofh.write(cytoplasm_result)\n",
    "        \n",
    "    membrane_query= f'(( annotation:(type:transmem) OR goa:(\"membrane [16020]\") ) NOT ( keyword:secreted OR goa:(\"extracellular region [5576]\") OR locations:(location:cytoplasm) OR goa:(\"cytoplasm [5737]\") )) AND reviewed:yes'\n",
    "    membrane_result = service.search(membrane_query, frmt=\"fasta\")\n",
    "    membrane_outfile = f'{save_path}all_membrane_noSP_new_new.fasta'\n",
    "    with open(membrane_outfile, 'a') as ofh:\n",
    "        ofh.write(membrane_result)\n",
    "    \n",
    "\n",
    "    "
   ]
  },
  {
   "cell_type": "code",
   "execution_count": 4,
   "metadata": {},
   "outputs": [],
   "source": [
    "data_saving_function_without_SP_full_uniprot(fasta_path)"
   ]
  }
 ],
 "metadata": {
  "kernelspec": {
   "display_name": "Python 3",
   "language": "python",
   "name": "python3"
  },
  "language_info": {
   "codemirror_mode": {
    "name": "ipython",
    "version": 3
   },
   "file_extension": ".py",
   "mimetype": "text/x-python",
   "name": "python",
   "nbconvert_exporter": "python",
   "pygments_lexer": "ipython3",
   "version": "3.8.5"
  }
 },
 "nbformat": 4,
 "nbformat_minor": 4
}
