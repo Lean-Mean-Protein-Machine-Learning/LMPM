{
 "cells": [
  {
   "cell_type": "code",
   "execution_count": 45,
   "id": "least-marsh",
   "metadata": {},
   "outputs": [
    {
     "ename": "ModuleNotFoundError",
     "evalue": "No module named 'LMPM'",
     "output_type": "error",
     "traceback": [
      "\u001b[0;31m---------------------------------------------------------------------------\u001b[0m",
      "\u001b[0;31mModuleNotFoundError\u001b[0m                       Traceback (most recent call last)",
      "\u001b[0;32m<ipython-input-45-a8339a01d3cb>\u001b[0m in \u001b[0;36m<module>\u001b[0;34m\u001b[0m\n\u001b[1;32m      6\u001b[0m \u001b[0;34m\u001b[0m\u001b[0m\n\u001b[1;32m      7\u001b[0m \u001b[0;32mfrom\u001b[0m \u001b[0mcollections\u001b[0m \u001b[0;32mimport\u001b[0m \u001b[0mdefaultdict\u001b[0m\u001b[0;34m\u001b[0m\u001b[0;34m\u001b[0m\u001b[0m\n\u001b[0;32m----> 8\u001b[0;31m \u001b[0;32mfrom\u001b[0m \u001b[0mLMPM\u001b[0m\u001b[0;34m.\u001b[0m\u001b[0mUniRep\u001b[0m\u001b[0;34m.\u001b[0m\u001b[0munirep\u001b[0m\u001b[0;34m.\u001b[0m\u001b[0mutils\u001b[0m \u001b[0;32mimport\u001b[0m \u001b[0mget_UniReps\u001b[0m\u001b[0;34m\u001b[0m\u001b[0;34m\u001b[0m\u001b[0m\n\u001b[0m\u001b[1;32m      9\u001b[0m \u001b[0;34m\u001b[0m\u001b[0m\n\u001b[1;32m     10\u001b[0m \u001b[0;32mfrom\u001b[0m \u001b[0msklearn\u001b[0m\u001b[0;34m.\u001b[0m\u001b[0mdecomposition\u001b[0m \u001b[0;32mimport\u001b[0m \u001b[0mPCA\u001b[0m\u001b[0;34m,\u001b[0m \u001b[0mTruncatedSVD\u001b[0m\u001b[0;34m\u001b[0m\u001b[0;34m\u001b[0m\u001b[0m\n",
      "\u001b[0;31mModuleNotFoundError\u001b[0m: No module named 'LMPM'"
     ]
    }
   ],
   "source": [
    "# import jaxlib\n",
    "# from jax_unirep import get_reps\n",
    "import pandas as pd\n",
    "import os\n",
    "import numpy as np\n",
    "\n",
    "from collections import defaultdict\n",
    "from LMPM.UniRep.unirep.utils import get_UniReps\n",
    "\n",
    "from sklearn.decomposition import PCA, TruncatedSVD\n",
    "from sklearn.manifold import TSNE\n",
    "from sklearn.model_selection import train_test_split\n",
    "from sklearn.neighbors import KNeighborsClassifier\n",
    "from sklearn.linear_model import RidgeClassifierCV\n",
    "from sklearn.ensemble import RandomForestClassifier\n",
    "from sklearn.discriminant_analysis import QuadraticDiscriminantAnalysis\n",
    "from sklearn.neural_network import MLPClassifier\n",
    "from sklearn import model_selection\n",
    "from sklearn.svm import SVC\n",
    "from sklearn.gaussian_process import GaussianProcessClassifier\n",
    "from sklearn.gaussian_process.kernels import RBF\n",
    "\n",
    "from Bio.SeqUtils import molecular_weight\n",
    "from Bio.SeqUtils.IsoelectricPoint import IsoelectricPoint as IP\n",
    "\n",
    "import matplotlib.pyplot as plt\n",
    "# import seaborn as sns\n",
    "\n",
    "import warnings\n",
    "warnings.filterwarnings('ignore')"
   ]
  },
  {
   "cell_type": "markdown",
   "id": "physical-hundred",
   "metadata": {},
   "source": [
    "# Importing UniProt Data"
   ]
  },
  {
   "cell_type": "code",
   "execution_count": 13,
   "id": "military-device",
   "metadata": {},
   "outputs": [
    {
     "data": {
      "text/html": [
       "<div>\n",
       "<style scoped>\n",
       "    .dataframe tbody tr th:only-of-type {\n",
       "        vertical-align: middle;\n",
       "    }\n",
       "\n",
       "    .dataframe tbody tr th {\n",
       "        vertical-align: top;\n",
       "    }\n",
       "\n",
       "    .dataframe thead th {\n",
       "        text-align: right;\n",
       "    }\n",
       "</style>\n",
       "<table border=\"1\" class=\"dataframe\">\n",
       "  <thead>\n",
       "    <tr style=\"text-align: right;\">\n",
       "      <th></th>\n",
       "      <th>ID</th>\n",
       "      <th>name</th>\n",
       "      <th>organism</th>\n",
       "      <th>location</th>\n",
       "      <th>seq</th>\n",
       "      <th>seq_len</th>\n",
       "      <th>UniRep</th>\n",
       "    </tr>\n",
       "  </thead>\n",
       "  <tbody>\n",
       "    <tr>\n",
       "      <th>0</th>\n",
       "      <td>P03540</td>\n",
       "      <td>GLYC_PIARV</td>\n",
       "      <td>piarv</td>\n",
       "      <td>membrane</td>\n",
       "      <td>MGQIVTLIQSIPEVLQEVFNVALIIVSVLCIVKGFVNLMRCGLFQL...</td>\n",
       "      <td>503</td>\n",
       "      <td>[0.004571974277496338, -0.03903784230351448, 0...</td>\n",
       "    </tr>\n",
       "    <tr>\n",
       "      <th>1</th>\n",
       "      <td>Q99928</td>\n",
       "      <td>GBRG3_HUMAN</td>\n",
       "      <td>human</td>\n",
       "      <td>membrane</td>\n",
       "      <td>MAPKLLLLLCLFSGLHARSRKVEEDEYEDSSSNQKWVLAPKSQDTD...</td>\n",
       "      <td>467</td>\n",
       "      <td>[0.010569660924375057, -0.04060269147157669, 0...</td>\n",
       "    </tr>\n",
       "    <tr>\n",
       "      <th>2</th>\n",
       "      <td>Q77NP2</td>\n",
       "      <td>GM_VZVO</td>\n",
       "      <td>vzvo</td>\n",
       "      <td>membrane</td>\n",
       "      <td>MGTQKKGPRSEKVSPYDTTTPEVEALDHQMDTLNWRIWIIQVMMFT...</td>\n",
       "      <td>435</td>\n",
       "      <td>[0.0069412547163665295, -0.012156936340034008,...</td>\n",
       "    </tr>\n",
       "    <tr>\n",
       "      <th>3</th>\n",
       "      <td>Q04630</td>\n",
       "      <td>GM_HHV6U</td>\n",
       "      <td>hhv6u</td>\n",
       "      <td>membrane</td>\n",
       "      <td>MASSRVDTINLRIWLVSIICAALSFINVTVYLIAINFPNLGFPCAY...</td>\n",
       "      <td>344</td>\n",
       "      <td>[0.0053085871040821075, -0.009203316643834114,...</td>\n",
       "    </tr>\n",
       "    <tr>\n",
       "      <th>4</th>\n",
       "      <td>Q68669</td>\n",
       "      <td>GL_HCMV3</td>\n",
       "      <td>hcmv3</td>\n",
       "      <td>membrane</td>\n",
       "      <td>MCRRPDCGFSFSPGPVVLLWCCLLLPIVSSVAVSVAPTAAEKVPAE...</td>\n",
       "      <td>278</td>\n",
       "      <td>[0.004815185442566872, -0.03920815885066986, 0...</td>\n",
       "    </tr>\n",
       "  </tbody>\n",
       "</table>\n",
       "</div>"
      ],
      "text/plain": [
       "       ID         name organism  location  \\\n",
       "0  P03540   GLYC_PIARV    piarv  membrane   \n",
       "1  Q99928  GBRG3_HUMAN    human  membrane   \n",
       "2  Q77NP2      GM_VZVO     vzvo  membrane   \n",
       "3  Q04630     GM_HHV6U    hhv6u  membrane   \n",
       "4  Q68669     GL_HCMV3    hcmv3  membrane   \n",
       "\n",
       "                                                 seq  seq_len  \\\n",
       "0  MGQIVTLIQSIPEVLQEVFNVALIIVSVLCIVKGFVNLMRCGLFQL...      503   \n",
       "1  MAPKLLLLLCLFSGLHARSRKVEEDEYEDSSSNQKWVLAPKSQDTD...      467   \n",
       "2  MGTQKKGPRSEKVSPYDTTTPEVEALDHQMDTLNWRIWIIQVMMFT...      435   \n",
       "3  MASSRVDTINLRIWLVSIICAALSFINVTVYLIAINFPNLGFPCAY...      344   \n",
       "4  MCRRPDCGFSFSPGPVVLLWCCLLLPIVSSVAVSVAPTAAEKVPAE...      278   \n",
       "\n",
       "                                              UniRep  \n",
       "0  [0.004571974277496338, -0.03903784230351448, 0...  \n",
       "1  [0.010569660924375057, -0.04060269147157669, 0...  \n",
       "2  [0.0069412547163665295, -0.012156936340034008,...  \n",
       "3  [0.0053085871040821075, -0.009203316643834114,...  \n",
       "4  [0.004815185442566872, -0.03920815885066986, 0...  "
      ]
     },
     "execution_count": 13,
     "metadata": {},
     "output_type": "execute_result"
    }
   ],
   "source": [
    "# # Importing secreted, cytoplasmic, and transmembrane proteins for human proteome\n",
    "# secreted = pd.read_csv('human_datasets/secreted.csv')\n",
    "# cytoplasm = pd.read_csv('human_datasets/cytoplasm.csv')\n",
    "# transmembrane = pd.read_csv('human_datasets/transmembrane.csv')\n",
    "\n",
    "# # Adding the class\n",
    "# secreted['Class'] = 'secreted'\n",
    "# cytoplasm['Class'] = 'cytoplasm'\n",
    "# transmembrane['Class'] = 'membrane'\n",
    "\n",
    "# # Concatenate df\n",
    "# human_data = pd.concat([secreted, cytoplasm, transmembrane])\n",
    "\n",
    "# # Importing a partial data set with unirep features\n",
    "# human_unirep_part = pd.read_csv('human_datasets/human_testing_data.csv')\n",
    "# human_unirep_part = human_unirep_part.drop(human_unirep_part.columns[[0]], axis=1)\n",
    "\n",
    "# Importing the true data sets with unirep features\n",
    "human_unirep = pd.read_pickle('UniRep Datasets/combined_human_UniRep_dataset_noSP.pkl')\n",
    "human_unirep.head()"
   ]
  },
  {
   "cell_type": "markdown",
   "id": "exciting-multimedia",
   "metadata": {},
   "source": [
    "# Functions"
   ]
  },
  {
   "cell_type": "code",
   "execution_count": 3,
   "id": "humanitarian-camcorder",
   "metadata": {},
   "outputs": [],
   "source": [
    "def data_to_unirep(df):\n",
    "    \"\"\"\n",
    "    Generates a new data frame with the UniProt ID, UniRep 1900 vectors (x-values), and secretion state (y-values)\n",
    "    \n",
    "    Args:\n",
    "        df (DataFrame): original data frame with sequence information and class information (specifying secretion)\n",
    "        \n",
    "    Returns:\n",
    "        unirep_df (DataFrame): new unirep data frame with class information and unirep vectors\n",
    "    \"\"\"\n",
    "    seq_key = 'Sequence'\n",
    "    vec_prefix = 'Vec_{}'\n",
    "    \n",
    "    # Generating new data frame with unirep vectors\n",
    "    vec_column_names = [vec_prefix.format(i) for i in range(1900)]        \n",
    "    unirep_df = pd.DataFrame(columns = ['Class'] + vec_column_names)\n",
    "\n",
    "    for i, row in df.iterrows():\n",
    "        if int(i) % 1 == 0:\n",
    "            print('row {}'.format(i), end='\\r')\n",
    "        sequence = row.loc[seq_key]\n",
    "        unirep_df.loc[i, 'Class'] = row['Class']\n",
    "        vec = get_reps(sequence)[0][0]\n",
    "        unirep_df.loc[i, vec_column_names] = vec\n",
    "    \n",
    "    return unirep_df"
   ]
  },
  {
   "cell_type": "code",
   "execution_count": 43,
   "id": "numeric-finder",
   "metadata": {},
   "outputs": [],
   "source": [
    "def classifier_comparison(X, y, seed):\n",
    "    \"\"\"\n",
    "    Iterates through sklearn supervised learning classification models.\n",
    "    Performs k-fold cross-validation (k=10).\n",
    "    Comparing each classifier based on model accuracy.\n",
    "    Plots model accuracy on a boxplot.\n",
    "    Taken from https://machinelearningmastery.com/compare-machine-learning-algorithms-python-scikit-learn/\n",
    "    \n",
    "    Args:\n",
    "        X (Array-like): All of the input parameters (including UniRep vectors) for the secretion analysis model\n",
    "        y (Array-like): The ouput parameter, or secretion class, for the secretion analysis model\n",
    "        \n",
    "    Returns:\n",
    "        \n",
    "    \"\"\"\n",
    "    # Preparing models\n",
    "    models = []\n",
    "    models.append(('RidgeReg', RidgeClassifierCV(alphas=[1e-3, 1e-2, 1e-1, 1],normalize=True)))\n",
    "    K_neighbors = int(np.sqrt(len(y_train)))\n",
    "    models.append(('KNN', KNeighborsClassifier(K_neighbors, weights='uniform')))\n",
    "    models.append(('NeuralNet', MLPClassifier(max_iter=200)))\n",
    "    models.append(('RandomForest', RandomForestClassifier()))\n",
    "    models.append(('RBF SVM', SVC(gamma=0.1, C=1)))\n",
    "    \n",
    "    # Evaluating each model using cross-validation\n",
    "    results = []\n",
    "    names = []\n",
    "    scoring = 'accuracy'\n",
    "    for name, model in models:\n",
    "        kfold = model_selection.KFold(n_splits=5, random_state=seed, shuffle=True)\n",
    "        cv_results = model_selection.cross_val_score(model, X, y, cv=kfold, scoring=scoring)\n",
    "        results.append(cv_results)\n",
    "        names.append(name)\n",
    "        msg = \"%s: %f (%f)\" % (name, cv_results.mean(), cv_results.std())\n",
    "        print(msg)\n",
    "        \n",
    "    # Plotting the classifier comparison\n",
    "    fig = plt.figure()\n",
    "    fig.suptitle('Sklearn Model Comparison')\n",
    "    ax = fig.add_subplot(111)\n",
    "    plt.boxplot(results)\n",
    "    ax.set_xticklabels(names)\n",
    "    plt.show()"
   ]
  },
  {
   "cell_type": "code",
   "execution_count": 5,
   "id": "oriented-suggestion",
   "metadata": {},
   "outputs": [],
   "source": [
    "# Selecting the final models to build\n",
    "def ridge_regression_classifier(X_train, X_test, y_train, y_test):\n",
    "    \"\"\"\n",
    "    Performs ridge regression classification on the given X and y values. Trains the model using X_train and y_train.\n",
    "    \n",
    "    Args:\n",
    "        X_train (Array-like): input parameters (including UniRep vectors) for the training the secretion analysis model\n",
    "        X_test (Array-like): input parameters (including UniRep vectors) for testing the secretion model\n",
    "        y_train (Array-like): secretion class / output associated with the trained secretion data (X_train)\n",
    "        y_test (Array-like): secretion class / output associated with the tested secretion data (X_test)\n",
    "    \n",
    "    Returns:\n",
    "        model: ridge regression classification model\n",
    "    \"\"\"\n",
    "    model = RidgeClassifierCV(alphas=[1e-3, 1e-2, 1e-1, 1],normalize=True)\n",
    "    model.fit(X_train, y_train)\n",
    "    return model\n",
    "\n",
    "\n",
    "def knn_classifier(X_train, X_test, y_train, y_test):\n",
    "    \"\"\"\n",
    "    Performs K-nearest neighbors classification on the given X and y values. Trains the model using X_train and y_train.\n",
    "    \n",
    "    Args:\n",
    "        X_train (Array-like): input parameters (including UniRep vectors) for the training the secretion analysis model\n",
    "        X_test (Array-like): input parameters (including UniRep vectors) for testing the secretion model\n",
    "        y_train (Array-like): secretion class / output associated with the trained secretion data (X_train)\n",
    "        y_test (Array-like): secretion class / output associated with the tested secretion data (X_test)\n",
    "    \n",
    "    Returns:\n",
    "        model: K-nearest neighbors classification model\n",
    "    \"\"\"\n",
    "    K_neighbors = int(np.sqrt(len(y_train))) # set number of neighbors to square root of number of inputs\n",
    "    model = KNeighborsClassifier(K_neighbors, weights='uniform')\n",
    "    model.fit(X_train, y_train)\n",
    "    return model\n",
    "\n",
    "\n",
    "def neural_net_classifier(X_train, X_test, y_train, y_test):\n",
    "    \"\"\"\n",
    "    Performs MLP classification on the given X and y values. Trains the model using X_train and y_train.\n",
    "    \n",
    "    Args:\n",
    "        X_train (Array-like): input parameters (including UniRep vectors) for the training the secretion analysis model\n",
    "        X_test (Array-like): input parameters (including UniRep vectors) for testing the secretion model\n",
    "        y_train (Array-like): secretion class / output associated with the trained secretion data (X_train)\n",
    "        y_test (Array-like): secretion class / output associated with the tested secretion data (X_test)\n",
    "    \n",
    "    Returns:\n",
    "        model: MLP classification model (sklearn neural network)\n",
    "    \"\"\"\n",
    "    model = MLPClassifier(max_iter=200)\n",
    "    model.fit(X_train, y_train)\n",
    "    return model\n",
    "\n",
    "\n",
    "def random_forest_classifier(X_train, X_test, y_train, y_test):\n",
    "    \"\"\"\n",
    "    Uses random forests to classify based on the given X and y values.\n",
    "    \n",
    "    Args:\n",
    "        X_train (Array-like): input parameters (including UniRep vectors) for the training the secretion analysis model\n",
    "        X_test (Array-like): input parameters (including UniRep vectors) for testing the secretion model\n",
    "        y_train (Array-like): secretion class / output associated with the trained secretion data (X_train)\n",
    "        y_test (Array-like): secretion class / output associated with the tested secretion data (X_test)\n",
    "    \n",
    "    Returns:\n",
    "        model: random forest classification model\n",
    "    \"\"\"\n",
    "    model = RandomForestClassifier()\n",
    "    model.fit(X_train, y_train)\n",
    "    return model\n",
    "\n",
    "\n",
    "def rbf_svm_classifier(X_train, X_test, y_train, y_test):\n",
    "    \"\"\"\n",
    "    Uses rbf support vector machines to classify based on the given X and y values.\n",
    "    \n",
    "    Args:\n",
    "        X_train (Array-like): input parameters (including UniRep vectors) for the training the secretion analysis model\n",
    "        X_test (Array-like): input parameters (including UniRep vectors) for testing the secretion model\n",
    "        y_train (Array-like): secretion class / output associated with the trained secretion data (X_train)\n",
    "        y_test (Array-like): secretion class / output associated with the tested secretion data (X_test)\n",
    "    \n",
    "    Returns:\n",
    "        model: rbf svm classficiation model\n",
    "    \"\"\"\n",
    "# Run the following in order to figure out the best C and gamma values!\n",
    "#     C_range = np.logspace(-2, 10, 13)\n",
    "#     gamma_range = np.logspace(-3, 3, 7)\n",
    "#     for i in range(len(C_range)):\n",
    "#     for j in range(len(gamma_range)):\n",
    "#         model=SVC(gamma=gamma_range[j], C=C_range[i]).fit(X_train, y_train)\n",
    "#         print(\"Gamma:\", gamma_range[j], \"C:\", C_range[i], \"Score:\", model.score(X_test, y_test))\n",
    "    model = SVC(gamma=0.1, C=1)\n",
    "    model.fit(X_train, y_train)\n",
    "    return model"
   ]
  },
  {
   "cell_type": "code",
   "execution_count": 8,
   "id": "divided-surge",
   "metadata": {},
   "outputs": [],
   "source": [
    "# These parameters are for the `use_additional_features` function\n",
    "# They are from the Hessa et al. paper cited in the function\n",
    "params = pd.read_csv('Params.csv', header=None)\n",
    "lst = params[0].values\n",
    "params.set_index(lst, inplace=True)\n",
    "del params[0]\n",
    "params_dict = defaultdict(list)\n",
    "for i, row in params.iterrows():\n",
    "    for position in range(1, len(row) + 1):\n",
    "        params_dict[i].append(float(row.loc[position]))"
   ]
  },
  {
   "cell_type": "code",
   "execution_count": 56,
   "id": "broke-debate",
   "metadata": {},
   "outputs": [],
   "source": [
    "def use_additional_features(df):\n",
    "    \"\"\"\n",
    "    Uses additional features to help improve the model. \n",
    "    Additional features include:\n",
    "        theoretical isoelectric point, amino acid length, amino acid weight,\n",
    "        free energy of transmembrane insertion\n",
    "        \n",
    "    Check https://biopython.org/docs/1.75/api/Bio.SeqUtils.html\n",
    "    Free energy of transmembrane insertion values from\n",
    "        Hessa, T., Meindl-Beinker, N., Bernsel, A. et al. Molecular code for transmembrane-helix recognition \n",
    "        by the Sec61 translocon. Nature 450, 1026–1030 (2007). https://doi.org/10.1038/nature06387\n",
    "    \n",
    "    Args:\n",
    "        df (DataFrame): data frame including all of the inputs (sequence, unirep vectors, and secretion class)\n",
    "    \n",
    "    Returns:\n",
    "        df_with_add_features (DataFrame): modified data frame with additional features listed above\n",
    "    \"\"\"\n",
    "    # First append new columns for the theoretical isoelectric point,\n",
    "    # amino acid length, and molecular weight\n",
    "    seq_key = 'seq'\n",
    "    df_with_add_features = df.copy(deep=True)\n",
    "    df_with_add_features['PI'] = 0\n",
    "    df_with_add_features['Molecular_Weight'] = 0\n",
    "    df_with_add_features['Sequence_Length'] = 0\n",
    "    for i, row in df_with_add_features.iterrows():\n",
    "        seq = row.loc[seq_key]\n",
    "        seq_obj = IP(seq)\n",
    "        df_with_add_features.loc[i, 'PI'] = seq_obj.pi()\n",
    "        df_with_add_features.loc[i, 'Molecular_Weight'] = round(molecular_weight(seq, seq_type='protein'))\n",
    "        df_with_add_features.loc[i, 'Sequence_Length'] = len(seq)\n",
    "\n",
    "    # Next, add the free energy of membrane insertion values\n",
    "    df_with_add_features['dG'] = 0\n",
    "    for i, row in df.iterrows():\n",
    "        if int(i) % 10 == 0:\n",
    "            print('row {} of {}'.format(i, len(df.index)), end=\"\\r\") # Set a progress check\n",
    "        seq = row.loc[seq_key]\n",
    "        # Skips sequence if the entire sequence length is less than 19\n",
    "        if len(seq) < 19:\n",
    "            continue\n",
    "        dg_values = []\n",
    "        # Scans sequence for every 19-residue frame\n",
    "        for j in range(len(seq)-18):\n",
    "            running_total = 0\n",
    "            new_segment = seq[j:j+19]\n",
    "            for k, aa in enumerate(new_segment):\n",
    "                if aa == 'U':\n",
    "                    pass\n",
    "                else:\n",
    "                    running_total += params_dict[aa][k]\n",
    "            dg_values.append(running_total) \n",
    "        # Finds the minimum dG value\n",
    "        df_with_add_features.loc[i, 'dG'] = min(dg_values)\n",
    "        \n",
    "    # Finally, return the updated data frame with additional features\n",
    "    return df_with_add_features"
   ]
  },
  {
   "cell_type": "code",
   "execution_count": 47,
   "id": "familiar-transportation",
   "metadata": {},
   "outputs": [],
   "source": [
    "def secretion_optimization_unirep(seq, pos, model):\n",
    "    \"\"\"\n",
    "    Based on the given model, this function mutates the input sequence at the position provided\n",
    "    Uses only the unirep vectors as input values\n",
    "    \n",
    "    Args:\n",
    "        seq (String): initial amino acid sequence provided with single-letter format\n",
    "        pos (int): position where the mutations can occur in the given sequence\n",
    "        model:\n",
    "    \n",
    "    Returns:\n",
    "        seq (String): final, mutated amino acid sequence with improved secretion score\n",
    "    \"\"\"\n",
    "    # First, obtain the unirep representation of given sequence\n",
    "    unirep_values = get_reps(seq)[0][0]\n",
    "    unirep_values = unirep_values.reshape(1, -1)\n",
    "    \n",
    "    # Next, predict the initial secretion score\n",
    "    print(\"The initial sequence is:\", seq)\n",
    "    initial_class = model.predict(unirep_values)\n",
    "    print(\"The initial class is:\", initial_class)\n",
    "    classes = list(model.classes_)\n",
    "    if type(model) is RidgeClassifierCV:\n",
    "        decision_function_values = model2.decision_function(unirep_values)[0]\n",
    "        probs = np.exp(decision_function_values) / np.sum(np.exp(decision_function_values))\n",
    "        initial_score = probs[classes.index('secreted')]\n",
    "    else:\n",
    "        prediction_probability = list(model.predict_proba(unirep_values)[0]) # Grabbing the probability of each class\n",
    "        initial_score = prediction_probability[classes.index('secreted')] # Grabbing the probability of being secreted class\n",
    "    print(\"The initial probability of being the secreted class is:\", initial_score)\n",
    "    \n",
    "    # Set up list of amino acids\n",
    "    amino_acids = ['G', 'A', 'L', 'M', 'F', 'W', 'K', 'Q', 'E', 'S', 'P', 'V', 'I', 'C', 'Y', 'H', 'R', 'N', 'D', 'T']\n",
    "    \n",
    "    # Set up point mutations\n",
    "    mutated_scores_for_all_AA = []\n",
    "    for i in range(len(amino_acids)):\n",
    "        seq_list = list(seq)\n",
    "        seq_list[pos] = amino_acids[i]\n",
    "        new_seq = \"\".join(seq_list) # Creating the point-mutated sequence\n",
    "        mutated_unirep_values = get_reps(new_seq)[0][0] # Grabbing the input parameters (unirep vectors)\n",
    "        mutated_unirep_values = mutated_unirep_values.reshape(1, -1)\n",
    "        mutated_class = model.predict(mutated_unirep_values) # The class of the mutated sequence\n",
    "        classes = list(model.classes_)\n",
    "        if type(model) is RidgeClassifierCV:\n",
    "            decision_function_values = model2.decision_function(mutated_unirep_values)[0]\n",
    "            probs = np.exp(decision_function_values) / np.sum(np.exp(decision_function_values))\n",
    "            mutated_score = probs[classes.index('secreted')]\n",
    "        else:\n",
    "            prediction_probability = list(model.predict_proba(mutated_unirep_values)[0]) # Grabbing the probability of each class\n",
    "            mutated_score = prediction_probability[classes.index('secreted')] # Grabbing the probability of being secreted class\n",
    "        mutated_scores_for_all_AA.append(mutated_score)\n",
    "        if mutated_score > initial_score:\n",
    "            seq = new_seq\n",
    "            initial_score = mutated_score\n",
    "            initial_class = mutated_class\n",
    "    print(\"The improved, mutated sequence is:\", seq)\n",
    "    print(\"The mutated class is:\", initial_class)\n",
    "    print(\"The mutated probability of being the secreted class is:\", initial_score)\n",
    "    \n",
    "    plt.plot(amino_acids, mutated_scores_for_all_AA)\n",
    "    plt.xlabel('Amino Acid Point Mutation')\n",
    "    plt.ylabel('Probability of Class: Secreted (%)')\n",
    "    plt.show()\n",
    "            \n",
    "    return seq"
   ]
  },
  {
   "cell_type": "markdown",
   "id": "chubby-industry",
   "metadata": {},
   "source": [
    "# Code and Analysis"
   ]
  },
  {
   "cell_type": "code",
   "execution_count": 11,
   "id": "official-criterion",
   "metadata": {},
   "outputs": [],
   "source": [
    "# human_unirep = data_to_unirep(human_data)"
   ]
  },
  {
   "cell_type": "code",
   "execution_count": 54,
   "id": "documentary-swedish",
   "metadata": {},
   "outputs": [],
   "source": [
    "df2 = human_unirep_part.copy(deep=True)\n",
    "df2.pop('Class') # Made a copy of the data set to drop the class in order for x-values to remain numerical\n",
    "df2.pop('ID')\n",
    "df2.pop('Sequence')\n",
    "X = df2.values\n",
    "y = np.array(human_unirep_part['Class'])\n",
    "X_train, X_test, y_train, y_test = train_test_split(X, y, test_size=0.2, random_state=42)"
   ]
  },
  {
   "cell_type": "code",
   "execution_count": 13,
   "id": "assisted-funeral",
   "metadata": {},
   "outputs": [
    {
     "name": "stdout",
     "output_type": "stream",
     "text": [
      "RidgeReg: 0.972203 (0.004641)\n",
      "KNN: 0.897933 (0.012692)\n",
      "NeuralNet: 0.976980 (0.005849)\n",
      "RandomForest: 0.969814 (0.006975)\n",
      "RBF SVM: 0.967861 (0.004836)\n"
     ]
    },
    {
     "data": {
      "image/png": "[encoded data removed]",
      "text/plain": [
       "<Figure size 432x288 with 1 Axes>"
      ]
     },
     "metadata": {
      "needs_background": "light"
     },
     "output_type": "display_data"
    }
   ],
   "source": [
    "classifier_comparison(X, y, 42)"
   ]
  },
  {
   "cell_type": "code",
   "execution_count": 14,
   "id": "environmental-difficulty",
   "metadata": {},
   "outputs": [],
   "source": [
    "# Using an example model to test out the secretion_optimization_unirep function\n",
    "model = neural_net_classifier(X_train, X_test, y_train, y_test)\n",
    "seq = 'ACCAMGGSGCGSGSGSACCAMGGS'\n",
    "secretion_optimization_unirep(seq, 10, model)"
   ]
  },
  {
   "cell_type": "code",
   "execution_count": 48,
   "id": "frank-planning",
   "metadata": {},
   "outputs": [
    {
     "name": "stdout",
     "output_type": "stream",
     "text": [
      "The initial sequence is: ACCAMGGSGCGSGSGSACCAMGGS\n",
      "The initial class is: ['cytoplasm']\n",
      "The initial probability of being the secreted class is: 0.28860773137586154\n",
      "The improved, mutated sequence is: ACCAMGGSGCPSGSGSACCAMGGS\n",
      "The mutated class is: ['cytoplasm']\n",
      "The mutated probability of being the secreted class is: 0.33378991200688723\n"
     ]
    },
    {
     "data": {
      "image/png": "[encoded data removed]",
      "text/plain": [
       "<Figure size 432x288 with 1 Axes>"
      ]
     },
     "metadata": {
      "needs_background": "light"
     },
     "output_type": "display_data"
    },
    {
     "data": {
      "text/plain": [
       "'ACCAMGGSGCPSGSGSACCAMGGS'"
      ]
     },
     "execution_count": 48,
     "metadata": {},
     "output_type": "execute_result"
    }
   ],
   "source": [
    "model2 = ridge_regression_classifier(X_train, X_test, y_train, y_test)\n",
    "seq = 'ACCAMGGSGCGSGSGSACCAMGGS'\n",
    "secretion_optimization_unirep(seq, 10, model2)"
   ]
  },
  {
   "cell_type": "code",
   "execution_count": 57,
   "id": "returning-michael",
   "metadata": {},
   "outputs": [
    {
     "name": "stdout",
     "output_type": "stream",
     "text": [
      "row 4600 of 4605\r"
     ]
    }
   ],
   "source": [
    "# Appending additional features to the data frame\n",
    "human_unirep_add = use_additional_features(human_unirep_part)"
   ]
  },
  {
   "cell_type": "code",
   "execution_count": 58,
   "id": "marine-spread",
   "metadata": {},
   "outputs": [
    {
     "data": {
      "text/html": [
       "<div>\n",
       "<style scoped>\n",
       "    .dataframe tbody tr th:only-of-type {\n",
       "        vertical-align: middle;\n",
       "    }\n",
       "\n",
       "    .dataframe tbody tr th {\n",
       "        vertical-align: top;\n",
       "    }\n",
       "\n",
       "    .dataframe thead th {\n",
       "        text-align: right;\n",
       "    }\n",
       "</style>\n",
       "<table border=\"1\" class=\"dataframe\">\n",
       "  <thead>\n",
       "    <tr style=\"text-align: right;\">\n",
       "      <th></th>\n",
       "      <th>ID</th>\n",
       "      <th>Class</th>\n",
       "      <th>Sequence</th>\n",
       "      <th>Vec_0</th>\n",
       "      <th>Vec_1</th>\n",
       "      <th>Vec_2</th>\n",
       "      <th>Vec_3</th>\n",
       "      <th>Vec_4</th>\n",
       "      <th>Vec_5</th>\n",
       "      <th>Vec_6</th>\n",
       "      <th>...</th>\n",
       "      <th>Vec_1894</th>\n",
       "      <th>Vec_1895</th>\n",
       "      <th>Vec_1896</th>\n",
       "      <th>Vec_1897</th>\n",
       "      <th>Vec_1898</th>\n",
       "      <th>Vec_1899</th>\n",
       "      <th>PI</th>\n",
       "      <th>Molecular_Weight</th>\n",
       "      <th>Sequence_Length</th>\n",
       "      <th>dG</th>\n",
       "    </tr>\n",
       "  </thead>\n",
       "  <tbody>\n",
       "    <tr>\n",
       "      <th>0</th>\n",
       "      <td>Q8IWL1</td>\n",
       "      <td>secreted</td>\n",
       "      <td>MWLCPLALNLILMAASGAACEVKDVCVGSPGIPGTPGSHGLPGRDG...</td>\n",
       "      <td>0.001589</td>\n",
       "      <td>-0.088675</td>\n",
       "      <td>0.072082</td>\n",
       "      <td>-0.007780</td>\n",
       "      <td>-0.405418</td>\n",
       "      <td>0.004649</td>\n",
       "      <td>-0.142137</td>\n",
       "      <td>...</td>\n",
       "      <td>-0.215200</td>\n",
       "      <td>0.076984</td>\n",
       "      <td>0.037502</td>\n",
       "      <td>0.033136</td>\n",
       "      <td>0.131220</td>\n",
       "      <td>0.164174</td>\n",
       "      <td>5.072107</td>\n",
       "      <td>26182</td>\n",
       "      <td>248</td>\n",
       "      <td>0.48</td>\n",
       "    </tr>\n",
       "    <tr>\n",
       "      <th>1</th>\n",
       "      <td>Q8IWL2</td>\n",
       "      <td>secreted</td>\n",
       "      <td>MWLCPLALNLILMAASGAVCEVKDVCVGSPGIPGTPGSHGLPGRDG...</td>\n",
       "      <td>0.001504</td>\n",
       "      <td>-0.091870</td>\n",
       "      <td>0.073000</td>\n",
       "      <td>-0.007296</td>\n",
       "      <td>-0.410786</td>\n",
       "      <td>0.007046</td>\n",
       "      <td>-0.139491</td>\n",
       "      <td>...</td>\n",
       "      <td>-0.211015</td>\n",
       "      <td>0.077411</td>\n",
       "      <td>0.037028</td>\n",
       "      <td>0.038521</td>\n",
       "      <td>0.115775</td>\n",
       "      <td>0.152708</td>\n",
       "      <td>4.893746</td>\n",
       "      <td>26242</td>\n",
       "      <td>248</td>\n",
       "      <td>0.46</td>\n",
       "    </tr>\n",
       "    <tr>\n",
       "      <th>2</th>\n",
       "      <td>P35247</td>\n",
       "      <td>secreted</td>\n",
       "      <td>MLLFLLSALVLLTQPLGYLEAEMKTYSHRTMPSACTLVMCSSVESG...</td>\n",
       "      <td>-0.005619</td>\n",
       "      <td>0.155841</td>\n",
       "      <td>0.061187</td>\n",
       "      <td>-0.011045</td>\n",
       "      <td>-0.292977</td>\n",
       "      <td>0.001631</td>\n",
       "      <td>-0.166412</td>\n",
       "      <td>...</td>\n",
       "      <td>-0.183375</td>\n",
       "      <td>0.066759</td>\n",
       "      <td>0.061715</td>\n",
       "      <td>0.017694</td>\n",
       "      <td>0.341299</td>\n",
       "      <td>0.159945</td>\n",
       "      <td>6.252312</td>\n",
       "      <td>37728</td>\n",
       "      <td>375</td>\n",
       "      <td>-0.78</td>\n",
       "    </tr>\n",
       "    <tr>\n",
       "      <th>3</th>\n",
       "      <td>Q9BQ16</td>\n",
       "      <td>secreted</td>\n",
       "      <td>MLKVSAVLCVCAAAWCSQSLAAAAAVAAAGGRSDGGNFLDDKQWLT...</td>\n",
       "      <td>0.003700</td>\n",
       "      <td>-0.170449</td>\n",
       "      <td>0.070491</td>\n",
       "      <td>-0.015611</td>\n",
       "      <td>-0.260699</td>\n",
       "      <td>-0.001906</td>\n",
       "      <td>-0.065601</td>\n",
       "      <td>...</td>\n",
       "      <td>-0.077984</td>\n",
       "      <td>0.026410</td>\n",
       "      <td>0.061212</td>\n",
       "      <td>-0.009403</td>\n",
       "      <td>-0.055176</td>\n",
       "      <td>-0.015667</td>\n",
       "      <td>4.794619</td>\n",
       "      <td>49428</td>\n",
       "      <td>436</td>\n",
       "      <td>1.50</td>\n",
       "    </tr>\n",
       "    <tr>\n",
       "      <th>4</th>\n",
       "      <td>Q9UBV4</td>\n",
       "      <td>secreted</td>\n",
       "      <td>MDRAALLGLARLCALWAALLVLFPYGAQGNWMWLGIASFGVPEKLG...</td>\n",
       "      <td>0.003951</td>\n",
       "      <td>-0.022483</td>\n",
       "      <td>0.093345</td>\n",
       "      <td>-0.027903</td>\n",
       "      <td>-0.014826</td>\n",
       "      <td>0.063857</td>\n",
       "      <td>-0.009284</td>\n",
       "      <td>...</td>\n",
       "      <td>-0.147530</td>\n",
       "      <td>0.080772</td>\n",
       "      <td>0.155460</td>\n",
       "      <td>-0.113068</td>\n",
       "      <td>-0.084242</td>\n",
       "      <td>0.020746</td>\n",
       "      <td>8.967246</td>\n",
       "      <td>40690</td>\n",
       "      <td>365</td>\n",
       "      <td>-1.42</td>\n",
       "    </tr>\n",
       "  </tbody>\n",
       "</table>\n",
       "<p>5 rows × 1907 columns</p>\n",
       "</div>"
      ],
      "text/plain": [
       "       ID     Class                                           Sequence  \\\n",
       "0  Q8IWL1  secreted  MWLCPLALNLILMAASGAACEVKDVCVGSPGIPGTPGSHGLPGRDG...   \n",
       "1  Q8IWL2  secreted  MWLCPLALNLILMAASGAVCEVKDVCVGSPGIPGTPGSHGLPGRDG...   \n",
       "2  P35247  secreted  MLLFLLSALVLLTQPLGYLEAEMKTYSHRTMPSACTLVMCSSVESG...   \n",
       "3  Q9BQ16  secreted  MLKVSAVLCVCAAAWCSQSLAAAAAVAAAGGRSDGGNFLDDKQWLT...   \n",
       "4  Q9UBV4  secreted  MDRAALLGLARLCALWAALLVLFPYGAQGNWMWLGIASFGVPEKLG...   \n",
       "\n",
       "      Vec_0     Vec_1     Vec_2     Vec_3     Vec_4     Vec_5     Vec_6  ...  \\\n",
       "0  0.001589 -0.088675  0.072082 -0.007780 -0.405418  0.004649 -0.142137  ...   \n",
       "1  0.001504 -0.091870  0.073000 -0.007296 -0.410786  0.007046 -0.139491  ...   \n",
       "2 -0.005619  0.155841  0.061187 -0.011045 -0.292977  0.001631 -0.166412  ...   \n",
       "3  0.003700 -0.170449  0.070491 -0.015611 -0.260699 -0.001906 -0.065601  ...   \n",
       "4  0.003951 -0.022483  0.093345 -0.027903 -0.014826  0.063857 -0.009284  ...   \n",
       "\n",
       "   Vec_1894  Vec_1895  Vec_1896  Vec_1897  Vec_1898  Vec_1899        PI  \\\n",
       "0 -0.215200  0.076984  0.037502  0.033136  0.131220  0.164174  5.072107   \n",
       "1 -0.211015  0.077411  0.037028  0.038521  0.115775  0.152708  4.893746   \n",
       "2 -0.183375  0.066759  0.061715  0.017694  0.341299  0.159945  6.252312   \n",
       "3 -0.077984  0.026410  0.061212 -0.009403 -0.055176 -0.015667  4.794619   \n",
       "4 -0.147530  0.080772  0.155460 -0.113068 -0.084242  0.020746  8.967246   \n",
       "\n",
       "   Molecular_Weight  Sequence_Length    dG  \n",
       "0             26182              248  0.48  \n",
       "1             26242              248  0.46  \n",
       "2             37728              375 -0.78  \n",
       "3             49428              436  1.50  \n",
       "4             40690              365 -1.42  \n",
       "\n",
       "[5 rows x 1907 columns]"
      ]
     },
     "execution_count": 58,
     "metadata": {},
     "output_type": "execute_result"
    }
   ],
   "source": [
    "human_unirep_add.head()"
   ]
  },
  {
   "cell_type": "code",
   "execution_count": 60,
   "id": "innovative-music",
   "metadata": {},
   "outputs": [],
   "source": [
    "df3 = human_unirep_add.copy(deep=True)\n",
    "df3.pop('Class') # Made a copy of the data set to drop the class in order for x-values to remain numerical\n",
    "df3.pop('ID')\n",
    "df3.pop('Sequence')\n",
    "X2 = df3.values\n",
    "y2 = np.array(human_unirep_add['Class'])\n",
    "X_train2, X_test2, y_train2, y_test2 = train_test_split(X2, y2, test_size=0.2, random_state=42)"
   ]
  },
  {
   "cell_type": "code",
   "execution_count": 62,
   "id": "electric-demand",
   "metadata": {},
   "outputs": [
    {
     "name": "stdout",
     "output_type": "stream",
     "text": [
      "Initial: 0.9717698154180239 With additional features: 0.9728555917480999\n"
     ]
    }
   ],
   "source": [
    "ridge1 = ridge_regression_classifier(X_train, X_test, y_train, y_test)\n",
    "ridge2 = ridge_regression_classifier(X_train2, X_test2, y_train2, y_test2)\n",
    "\n",
    "print(\"Initial:\", ridge1.score(X_test, y_test), \"With additional features:\", ridge2.score(X_test2, y_test2))"
   ]
  },
  {
   "cell_type": "code",
   "execution_count": 63,
   "id": "mineral-manitoba",
   "metadata": {},
   "outputs": [
    {
     "name": "stdout",
     "output_type": "stream",
     "text": [
      "RidgeReg: 0.974374 (0.004943)\n",
      "KNN: 0.592623 (0.021601)\n",
      "NeuralNet: 0.856484 (0.094752)\n",
      "RandomForest: 0.970031 (0.006720)\n",
      "RBF SVM: 0.574378 (0.017078)\n"
     ]
    },
    {
     "data": {
      "image/png": "[encoded data removed]",
      "text/plain": [
       "<Figure size 432x288 with 1 Axes>"
      ]
     },
     "metadata": {
      "needs_background": "light"
     },
     "output_type": "display_data"
    }
   ],
   "source": [
    "classifier_comparison(X2, y2, 42)"
   ]
  },
  {
   "cell_type": "markdown",
   "id": "unsigned-latest",
   "metadata": {},
   "source": [
    "## Refined Code and Analysis for Updated UniRep Datasets"
   ]
  },
  {
   "cell_type": "code",
   "execution_count": 38,
   "id": "connected-concentrate",
   "metadata": {},
   "outputs": [
    {
     "name": "stdout",
     "output_type": "stream",
     "text": [
      "[ 0.00457197 -0.03903784  0.06604059 ...  0.04583957 -0.07808507\n",
      "  0.02394071]\n"
     ]
    }
   ],
   "source": [
    "X = np.stack(human_unirep[\"UniRep\"].to_numpy())\n",
    "y = np.array(human_unirep['location'])"
   ]
  },
  {
   "cell_type": "code",
   "execution_count": 39,
   "id": "respective-broadcasting",
   "metadata": {},
   "outputs": [],
   "source": [
    "X_train, X_test, y_train, y_test = train_test_split(X, y, test_size=0.2, random_state=42)"
   ]
  },
  {
   "cell_type": "code",
   "execution_count": 41,
   "id": "wound-quality",
   "metadata": {},
   "outputs": [
    {
     "data": {
      "text/plain": [
       "0.9144905273937532"
      ]
     },
     "execution_count": 41,
     "metadata": {},
     "output_type": "execute_result"
    }
   ],
   "source": [
    "model = RidgeClassifierCV(alphas=[1e-3, 1e-2, 1e-1, 1],normalize=True)\n",
    "model.fit(X_train, y_train)\n",
    "model.score(X_test, y_test)"
   ]
  },
  {
   "cell_type": "code",
   "execution_count": 42,
   "id": "quarterly-fairy",
   "metadata": {},
   "outputs": [
    {
     "name": "stdout",
     "output_type": "stream",
     "text": [
      "RidgeReg: 0.912935 (0.007029)\n",
      "KNN: 0.856906 (0.007942)\n",
      "NeuralNet: 0.927275 (0.009100)\n",
      "RandomForest: 0.927787 (0.005670)\n",
      "RBF SVM: 0.921335 (0.006518)\n"
     ]
    },
    {
     "data": {
      "image/png": "[encoded data removed]",
      "text/plain": [
       "<Figure size 432x288 with 1 Axes>"
      ]
     },
     "metadata": {
      "needs_background": "light"
     },
     "output_type": "display_data"
    }
   ],
   "source": [
    "classifier_comparison(X, y, 42)"
   ]
  },
  {
   "cell_type": "code",
   "execution_count": null,
   "id": "efficient-boring",
   "metadata": {},
   "outputs": [],
   "source": []
  }
 ],
 "metadata": {
  "kernelspec": {
   "display_name": "Python 3",
   "language": "python",
   "name": "python3"
  },
  "language_info": {
   "codemirror_mode": {
    "name": "ipython",
    "version": 3
   },
   "file_extension": ".py",
   "mimetype": "text/x-python",
   "name": "python",
   "nbconvert_exporter": "python",
   "pygments_lexer": "ipython3",
   "version": "3.8.5"
  }
 },
 "nbformat": 4,
 "nbformat_minor": 5
}
